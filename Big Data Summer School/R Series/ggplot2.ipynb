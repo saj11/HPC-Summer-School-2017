{
 "cells": [
  {
   "cell_type": "markdown",
   "metadata": {},
   "source": [
    "# ggplot2"
   ]
  },
  {
   "cell_type": "markdown",
   "metadata": {},
   "source": [
    "R can produce high quality graphics using the ggplot2 package. The \"gg\" portion of the name comes from Leland Wilkinson's book *The Grammar of Graphics*, which is considered a classic in the field.\n",
    "\n",
    "We'll explore scatter plots in detail to give you a feel for how ggplot2 works and then touch briefly on some other graphing and plotting methods. The learning curve for ggplot2 can be a little steeper than for some other plotting packages, but once you've mastered the fundamentals you'll appreciate the power of ggplot2. Two key points to keep in mind:\n",
    "\n",
    "+ ggplot2 works on data frames\n",
    "+ plots can be built up by adding successive layers\n",
    "\n",
    "Let's revisit the mtcars data set and the relationship between horsepower (hp) and fuel efficiency (mpg) before illustrating how we can incorporate additional data into our scatter plots."
   ]
  },
  {
   "cell_type": "code",
   "execution_count": null,
   "metadata": {},
   "outputs": [],
   "source": [
    "require(\"ggplot2\")"
   ]
  },
  {
   "cell_type": "code",
   "execution_count": null,
   "metadata": {},
   "outputs": [],
   "source": [
    "head(mtcars,3)"
   ]
  },
  {
   "cell_type": "markdown",
   "metadata": {},
   "source": [
    "We'll start by making a simple scatter plot, but first we'll use the options function to set the graphs to a convenient size. "
   ]
  },
  {
   "cell_type": "code",
   "execution_count": null,
   "metadata": {},
   "outputs": [],
   "source": [
    "options(repr.plot.width=4, repr.plot.height=3)"
   ]
  },
  {
   "cell_type": "code",
   "execution_count": null,
   "metadata": {},
   "outputs": [],
   "source": [
    "g <- ggplot(mtcars, aes(x=hp, y=mpg)) + geom_point()\n",
    "plot(g)"
   ]
  },
  {
   "cell_type": "markdown",
   "metadata": {},
   "source": [
    "A few comments on the previous cell\n",
    "\n",
    "+ Note that we saved the plot as 'g' and then displayed using plot. We can go back later and add additional layers to g\n",
    "+ The dataframe is the first argument to ggplot and we used an aesthetic mapping (aes) so that the hp and mpg columns serve as the x and y data\n",
    "+ geom_point() adds the scatter plot layer to the graph"
   ]
  },
  {
   "cell_type": "markdown",
   "metadata": {},
   "source": [
    "Starting with our previously saved plot, we can add another layer that contains a title, subtitle, x-axis label and y-axis label"
   ]
  },
  {
   "cell_type": "code",
   "execution_count": null,
   "metadata": {},
   "outputs": [],
   "source": [
    "g <- g + labs(title=\"HP vs. MPG\", subtitle=\"Exploring relationship between power and efficiency\", \n",
    "              x=\"Horsepower\", y=\"Miles per gallon\")\n",
    "plot(g)"
   ]
  },
  {
   "cell_type": "markdown",
   "metadata": {},
   "source": [
    "## A brief digression - getting math formatting into figures"
   ]
  },
  {
   "cell_type": "markdown",
   "metadata": {},
   "source": [
    "Unlike Python's matplotlib, ggplot2 doesn't have a convenient way of formatting math equations and special characters using LaTeX syntax. Instead it provides some limited functionality using the expression function as demonstrated below for the x and y axis labels."
   ]
  },
  {
   "cell_type": "code",
   "execution_count": null,
   "metadata": {},
   "outputs": [],
   "source": [
    "g <- g + labs(title=\"HP vs. MPG\", subtitle=\"Exploring relationship between power and efficiency\", \n",
    "              x=expression(Omega + lambda^2), y=expression(alpha - beta))\n",
    "plot(g)"
   ]
  },
  {
   "cell_type": "markdown",
   "metadata": {},
   "source": [
    "## A second brief digression - writing R statements over multiple lines"
   ]
  },
  {
   "cell_type": "markdown",
   "metadata": {},
   "source": [
    "R has a clever way of handling code that runs over several lines. If no more arguments are required and all open parentheses are matched with closing parentheses, R will consider the expression complete. We can write multiline expressions by placing operators at the end of the line and/or making sure that closing parentheses are needed. We demonstrate this below, but note that we've already been taking advantage of this feature."
   ]
  },
  {
   "cell_type": "code",
   "execution_count": null,
   "metadata": {},
   "outputs": [],
   "source": [
    "g <- ggplot(mtcars, aes(x=hp, y=mpg)) + \n",
    "geom_point() + \n",
    "labs(title=\"HP vs. MPG\", \n",
    "    subtitle=\"Exploring relationship between power and efficiency\", \n",
    "    x=\"Horsepower\", \n",
    "    y=\"Miles per gallon\")\n",
    "\n",
    "plot(g)"
   ]
  },
  {
   "cell_type": "markdown",
   "metadata": {},
   "source": [
    "## Changing the marker colors, shapes, sizes and alphas"
   ]
  },
  {
   "cell_type": "markdown",
   "metadata": {},
   "source": [
    "The marker properties can be specified in the geom_point function. For reasons I don't fully understand, shapes are defined by numbers rather than meaningful names (see following for list of shapes http://www.cookbook-r.com/Graphs/Shapes_and_line_types/)"
   ]
  },
  {
   "cell_type": "code",
   "execution_count": null,
   "metadata": {},
   "outputs": [],
   "source": [
    "g <- ggplot(mtcars, aes(x=hp, y=mpg)) + \n",
    "geom_point(col=\"blue\", size=3, shape=17, alpha=0.5)\n",
    "\n",
    "plot(g)"
   ]
  },
  {
   "cell_type": "markdown",
   "metadata": {},
   "source": [
    "The geom_point function also lets you vary the symbols properties based on the value of another column. Below, we color the markers according to the value of the cylinder column and the shape using the weight (wt) column. We first convert the cylinder column from a numeric value to a factor so that it will be treated as categorical data."
   ]
  },
  {
   "cell_type": "code",
   "execution_count": null,
   "metadata": {},
   "outputs": [],
   "source": [
    "g <- ggplot(mtcars, aes(x=hp, y=mpg)) + \n",
    "geom_point(aes(size = wt, color = factor(cyl)), alpha=0.8)\n",
    "\n",
    "plot(g)"
   ]
  },
  {
   "cell_type": "markdown",
   "metadata": {},
   "source": [
    "We can introduce another variable into our plot by letting the marker shape depend on a column of the dataframe. In this case we'll use the \"am\" column, which specifies whether the car has an automatic transmission."
   ]
  },
  {
   "cell_type": "code",
   "execution_count": null,
   "metadata": {},
   "outputs": [],
   "source": [
    "g <- ggplot(mtcars, aes(x=hp, y=mpg)) + \n",
    "geom_point(aes(size = wt, color = factor(cyl), shape = factor(am)), alpha=0.8)\n",
    "\n",
    "options(repr.plot.width=4, repr.plot.height=4)\n",
    "plot(g)\n",
    "options(repr.plot.width=4, repr.plot.height=3)"
   ]
  },
  {
   "cell_type": "markdown",
   "metadata": {},
   "source": [
    "Our scatter plot is now simultaneously displaying five variables\n",
    "\n",
    "+ horsepower (hp) on x-axis\n",
    "+ fuel efficiency (mpg) on y-axis\n",
    "+ automatic transmission (am) using marker shape\n",
    "+ weight (wt) using marker size\n",
    "+ number of cylinders (cyl) using marker color\n",
    "\n",
    "Is this too much information? Has the plot become too complex? You'll need to be the judge of this based on your knowledge of the data and the intended audience."
   ]
  },
  {
   "cell_type": "markdown",
   "metadata": {},
   "source": [
    "## Changing the axis limits"
   ]
  },
  {
   "cell_type": "markdown",
   "metadata": {},
   "source": [
    "Axis limits are set using the coord_cartesion function"
   ]
  },
  {
   "cell_type": "code",
   "execution_count": null,
   "metadata": {},
   "outputs": [],
   "source": [
    "g <- ggplot(mtcars, aes(x=hp, y=mpg)) + \n",
    "geom_point(aes(size = wt, color = factor(cyl)), alpha=0.8) +\n",
    "coord_cartesian(xlim=c(0,400), ylim=c(0, 35))\n",
    "\n",
    "plot(g)"
   ]
  },
  {
   "cell_type": "markdown",
   "metadata": {},
   "source": [
    "## Changing the color palettes"
   ]
  },
  {
   "cell_type": "markdown",
   "metadata": {},
   "source": [
    "The RColorBrewer package contains a collecion of useful color palettes. More information on these palettes can be found here https://moderndata.plot.ly/create-colorful-graphs-in-r-with-rcolorbrewer-and-plotly/.\n",
    "\n",
    "To set the color palette, use the scale_colour_brewer function."
   ]
  },
  {
   "cell_type": "code",
   "execution_count": null,
   "metadata": {},
   "outputs": [],
   "source": [
    "library(RColorBrewer)\n",
    "\n",
    "g <- ggplot(mtcars, aes(x=hp, y=mpg)) + \n",
    "geom_point(aes(size = wt, color = factor(cyl)), alpha=0.8) +\n",
    "coord_cartesian(xlim=c(0,400), ylim=c(0, 35)) +\n",
    "scale_colour_brewer(palette = \"Dark2\")\n",
    "\n",
    "plot(g)"
   ]
  },
  {
   "cell_type": "markdown",
   "metadata": {},
   "source": [
    "## Adding a smoothing layer"
   ]
  },
  {
   "cell_type": "markdown",
   "metadata": {},
   "source": [
    "A fit of the data with a shaded band denoting the confidence interval can be added to the graph using the geom_smooth function. By default, the loess method with a confidence interval of 0.95 is used."
   ]
  },
  {
   "cell_type": "code",
   "execution_count": null,
   "metadata": {},
   "outputs": [],
   "source": [
    "g <- ggplot(mtcars, aes(x=hp, y=mpg)) + \n",
    "geom_point(aes(size = wt, color = factor(cyl)), alpha=0.8) +\n",
    "scale_colour_brewer(palette = \"Dark2\") +\n",
    "geom_smooth()\n",
    "\n",
    "plot(g)"
   ]
  },
  {
   "cell_type": "markdown",
   "metadata": {},
   "source": [
    "We can override the default by setting the method and level. In the example below, we use a linear model with a confidence interval of 0.8."
   ]
  },
  {
   "cell_type": "code",
   "execution_count": null,
   "metadata": {},
   "outputs": [],
   "source": [
    "g <- ggplot(mtcars, aes(x=hp, y=mpg)) + \n",
    "geom_point(aes(size = wt, color = factor(cyl)), alpha=0.8) +\n",
    "scale_colour_brewer(palette = \"Dark2\") +\n",
    "geom_smooth(method=\"lm\", level=0.8)\n",
    "\n",
    "plot(g)"
   ]
  },
  {
   "cell_type": "markdown",
   "metadata": {},
   "source": [
    "## Changing axis ticks and tick locations"
   ]
  },
  {
   "cell_type": "code",
   "execution_count": null,
   "metadata": {},
   "outputs": [],
   "source": [
    "g <- ggplot(mtcars, aes(x=hp, y=mpg)) + \n",
    "geom_point(aes(size = wt, color = factor(cyl)), alpha=0.8) +\n",
    "scale_colour_brewer(palette = \"Dark2\") +\n",
    "geom_smooth(method=\"loess\") +\n",
    "coord_cartesian(xlim=c(40,360), ylim=c(5,35)) +\n",
    "scale_x_continuous(breaks=seq(0, 350, 50)) + \n",
    "scale_y_continuous(breaks=seq(0, 40, 5))\n",
    "\n",
    "plot(g)"
   ]
  },
  {
   "cell_type": "markdown",
   "metadata": {},
   "source": [
    "## Just scratching the surface"
   ]
  },
  {
   "cell_type": "markdown",
   "metadata": {},
   "source": [
    "The ggplot2 package is incredibly powerful and gives you fine-grained control over all aspects of the appearance of your figure. Although it feels like we've gone into great depth with our scatter plot example, we've barely scratched the surface. My advice is that you master the fundamentals of ggplot2 and incrementally build your knowledge by experimenting with new plotting methods and customizing the appearance of plot elements.\n",
    "\n",
    "Remember that R and ggplot2 have many built-in data sets that you can use for your plotting experiments. A full listing of all built-in data sets and their associated packages is obtained with the data() command. Data sets that are part of the base R distribution will be listed as belonging to the datasets package."
   ]
  },
  {
   "cell_type": "code",
   "execution_count": null,
   "metadata": {},
   "outputs": [],
   "source": [
    "data()"
   ]
  },
  {
   "cell_type": "markdown",
   "metadata": {},
   "source": [
    "## A few more examples"
   ]
  },
  {
   "cell_type": "markdown",
   "metadata": {},
   "source": [
    "Without going into any details, we show a few simple examples of other plot types that can be created using R. Much of the functionality that we covered for scatter plots can also be applied to these plot types. \n",
    "\n",
    "A useful master list of ggplot2 visualizations and ggplot2 reference can be found at the following URLs\n",
    "\n",
    "http://r-statistics.co/Top50-Ggplot2-Visualizations-MasterList-R-Code.html  \n",
    "http://ggplot2.tidyverse.org/reference/"
   ]
  },
  {
   "cell_type": "markdown",
   "metadata": {},
   "source": [
    "### Box plots (with and without individual points displayed)"
   ]
  },
  {
   "cell_type": "code",
   "execution_count": null,
   "metadata": {},
   "outputs": [],
   "source": [
    "ToothGrowth$dose <- as.factor(ToothGrowth$dose) # converting to factor\n",
    "\n",
    "g_bp <- ggplot(ToothGrowth, aes(x=dose, y=len, fill=dose)) + \n",
    "geom_boxplot()\n",
    "\n",
    "plot(g_bp)"
   ]
  },
  {
   "cell_type": "code",
   "execution_count": null,
   "metadata": {},
   "outputs": [],
   "source": [
    "g_bp <- ggplot(ToothGrowth, aes(x=dose, y=len, fill=dose)) + \n",
    "geom_boxplot() + \n",
    "geom_point()\n",
    "\n",
    "plot(g_bp)"
   ]
  },
  {
   "cell_type": "markdown",
   "metadata": {},
   "source": [
    "### Bar chart"
   ]
  },
  {
   "cell_type": "code",
   "execution_count": null,
   "metadata": {},
   "outputs": [],
   "source": [
    "g_b <- ggplot(diamonds, aes(x=cut)) +\n",
    "geom_bar(col=\"black\", fill=\"blue\")\n",
    "\n",
    "plot(g_b)"
   ]
  },
  {
   "cell_type": "markdown",
   "metadata": {},
   "source": [
    "### Histogram"
   ]
  },
  {
   "cell_type": "code",
   "execution_count": null,
   "metadata": {},
   "outputs": [],
   "source": [
    "data(diamonds)\n",
    "g_h <- ggplot(diamonds, aes(x=carat)) +\n",
    "geom_histogram(col=\"black\", fill=\"red\", binwidth=0.05)\n",
    "\n",
    "plot(g_h)"
   ]
  },
  {
   "cell_type": "markdown",
   "metadata": {},
   "source": [
    "### Heat map"
   ]
  },
  {
   "cell_type": "code",
   "execution_count": null,
   "metadata": {},
   "outputs": [],
   "source": [
    "txhousing$year <- as.factor(txhousing$year) # converting to factor\n",
    "\n",
    "\n",
    "g_hm <- ggplot(txhousing, aes(x=year, y=city)) +\n",
    "geom_tile(aes(fill=median), color=\"white\") +\n",
    "scale_fill_gradient(high = \"red\", low = \"green\")\n",
    "\n",
    "options(repr.plot.width=8, repr.plot.height=7)\n",
    "plot(g_hm)\n",
    "options(repr.plot.width=4, repr.plot.height=4)\n"
   ]
  },
  {
   "cell_type": "markdown",
   "metadata": {},
   "source": [
    "## Creating multipanel figures"
   ]
  },
  {
   "cell_type": "markdown",
   "metadata": {},
   "source": [
    "It's surprisingly easy to create multi-panel figures with ggplot2. Just save the plots and arrange using grid.arrange"
   ]
  },
  {
   "cell_type": "code",
   "execution_count": null,
   "metadata": {},
   "outputs": [],
   "source": [
    "require(\"gridExtra\")"
   ]
  },
  {
   "cell_type": "code",
   "execution_count": null,
   "metadata": {},
   "outputs": [],
   "source": [
    "# Arranged side-by-side\n",
    "options(repr.plot.width=8, repr.plot.height=3)\n",
    "grid.arrange(g_h, g_b, ncol=2)\n",
    "options(repr.plot.width=4, repr.plot.height=3)"
   ]
  },
  {
   "cell_type": "code",
   "execution_count": null,
   "metadata": {},
   "outputs": [],
   "source": [
    "# Arranged vertically \n",
    "options(repr.plot.width=6, repr.plot.height=4)\n",
    "grid.arrange(g_h, g_b, nrow=2)\n",
    "options(repr.plot.width=4, repr.plot.height=3)"
   ]
  },
  {
   "cell_type": "code",
   "execution_count": null,
   "metadata": {},
   "outputs": [],
   "source": [
    "# 4x4 \n",
    "options(repr.plot.width=8, repr.plot.height=4)\n",
    "\n",
    "g_1 <- ggplot(diamonds, aes(x=cut)) + geom_bar(col=\"black\", fill=\"blue\")\n",
    "g_2 <- ggplot(diamonds, aes(x=cut)) + geom_bar(col=\"black\", fill=\"orange\")\n",
    "g_3 <- ggplot(diamonds, aes(x=cut)) + geom_bar(col=\"black\", fill=\"green\")\n",
    "g_4 <- ggplot(diamonds, aes(x=cut)) + geom_bar(col=\"black\", fill=\"red\")\n",
    "\n",
    "grid.arrange(g_1, g_2, g_3, g_4, nrow=2, ncol=2, top=\"Bar charts in four colors\")\n",
    "options(repr.plot.width=4, repr.plot.height=3)"
   ]
  },
  {
   "cell_type": "code",
   "execution_count": null,
   "metadata": {},
   "outputs": [],
   "source": []
  }
 ],
 "metadata": {
  "kernelspec": {
   "display_name": "R",
   "language": "R",
   "name": "ir"
  },
  "language_info": {
   "codemirror_mode": "r",
   "file_extension": ".r",
   "mimetype": "text/x-r-source",
   "name": "R",
   "pygments_lexer": "r",
   "version": "3.3.2"
  }
 },
 "nbformat": 4,
 "nbformat_minor": 2
}
