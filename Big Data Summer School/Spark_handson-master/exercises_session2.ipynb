{
 "cells": [
  {
   "cell_type": "markdown",
   "metadata": {},
   "source": [
    "Recall the read of mtcars database from session 1"
   ]
  },
  {
   "cell_type": "code",
   "execution_count": 1,
   "metadata": {},
   "outputs": [],
   "source": [
    "data_file = \"./mtcars.csv\""
   ]
  },
  {
   "cell_type": "code",
   "execution_count": 2,
   "metadata": {},
   "outputs": [],
   "source": [
    "data_from_file=sc.textFile(data_file)"
   ]
  },
  {
   "cell_type": "code",
   "execution_count": 3,
   "metadata": {},
   "outputs": [
    {
     "data": {
      "text/plain": [
       "./mtcars.csv MapPartitionsRDD[1] at textFile at NativeMethodAccessorImpl.java:0"
      ]
     },
     "execution_count": 3,
     "metadata": {},
     "output_type": "execute_result"
    }
   ],
   "source": [
    "data_from_file"
   ]
  },
  {
   "cell_type": "code",
   "execution_count": 4,
   "metadata": {},
   "outputs": [
    {
     "data": {
      "text/plain": [
       "['model,mpg,cyl,disp,hp,drat,wt,qsec,vs,am,gear,carb',\n",
       " 'Mazda RX4,21,6,160,110,3.9,2.62,16.46,0,1,4,4',\n",
       " 'Mazda RX4 Wag,21,6,160,110,3.9,2.875,17.02,0,1,4,4',\n",
       " 'Datsun 710,22.8,4,108,93,3.85,2.32,18.61,1,1,4,1',\n",
       " 'Hornet 4 Drive,21.4,6,258,110,3.08,3.215,19.44,1,0,3,1',\n",
       " 'Hornet Sportabout,18.7,8,360,175,3.15,3.44,17.02,0,0,3,2',\n",
       " 'Valiant,18.1,6,225,105,2.76,3.46,20.22,1,0,3,1',\n",
       " 'Duster 360,14.3,8,360,245,3.21,3.57,15.84,0,0,3,4',\n",
       " 'Merc 240D,24.4,4,146.7,62,3.69,3.19,20,1,0,4,2',\n",
       " 'Merc 230,22.8,4,140.8,95,3.92,3.15,22.9,1,0,4,2',\n",
       " 'Merc 280,19.2,6,167.6,123,3.92,3.44,18.3,1,0,4,4',\n",
       " 'Merc 280C,17.8,6,167.6,123,3.92,3.44,18.9,1,0,4,4',\n",
       " 'Merc 450SE,16.4,8,275.8,180,3.07,4.07,17.4,0,0,3,3',\n",
       " 'Merc 450SL,17.3,8,275.8,180,3.07,3.73,17.6,0,0,3,3',\n",
       " 'Merc 450SLC,15.2,8,275.8,180,3.07,3.78,18,0,0,3,3',\n",
       " 'Cadillac Fleetwood,10.4,8,472,205,2.93,5.25,17.98,0,0,3,4',\n",
       " 'Lincoln Continental,10.4,8,460,215,3,5.424,17.82,0,0,3,4',\n",
       " 'Chrysler Imperial,14.7,8,440,230,3.23,5.345,17.42,0,0,3,4',\n",
       " 'Fiat 128,32.4,4,78.7,66,4.08,2.2,19.47,1,1,4,1',\n",
       " 'Honda Civic,30.4,4,75.7,52,4.93,1.615,18.52,1,1,4,2',\n",
       " 'Toyota Corolla,33.9,4,71.1,65,4.22,1.835,19.9,1,1,4,1',\n",
       " 'Toyota Corona,21.5,4,120.1,97,3.7,2.465,20.01,1,0,3,1',\n",
       " 'Dodge Challenger,15.5,8,318,150,2.76,3.52,16.87,0,0,3,2',\n",
       " 'AMC Javelin,15.2,8,304,150,3.15,3.435,17.3,0,0,3,2',\n",
       " 'Camaro Z28,13.3,8,350,245,3.73,3.84,15.41,0,0,3,4',\n",
       " 'Pontiac Firebird,19.2,8,400,175,3.08,3.845,17.05,0,0,3,2',\n",
       " 'Fiat X1-9,27.3,4,79,66,4.08,1.935,18.9,1,1,4,1',\n",
       " 'Porsche 914-2,26,4,120.3,91,4.43,2.14,16.7,0,1,5,2',\n",
       " 'Lotus Europa,30.4,4,95.1,113,3.77,1.513,16.9,1,1,5,2',\n",
       " 'Ford Pantera L,15.8,8,351,264,4.22,3.17,14.5,0,1,5,4',\n",
       " 'Ferrari Dino,19.7,6,145,175,3.62,2.77,15.5,0,1,5,6',\n",
       " 'Maserati Bora,15,8,301,335,3.54,3.57,14.6,0,1,5,8',\n",
       " 'Volvo 142E,21.4,4,121,109,4.11,2.78,18.6,1,1,4,2']"
      ]
     },
     "execution_count": 4,
     "metadata": {},
     "output_type": "execute_result"
    }
   ],
   "source": [
    "data_from_file.collect()"
   ]
  },
  {
   "cell_type": "markdown",
   "metadata": {},
   "source": [
    "Example of filtering data. Here we choose all rows with Merc in the name."
   ]
  },
  {
   "cell_type": "code",
   "execution_count": 5,
   "metadata": {},
   "outputs": [],
   "source": [
    "mtcars_sub_data = data_from_file.filter(lambda x: 'Merc' in x)"
   ]
  },
  {
   "cell_type": "code",
   "execution_count": 6,
   "metadata": {},
   "outputs": [
    {
     "data": {
      "text/plain": [
       "['Merc 240D,24.4,4,146.7,62,3.69,3.19,20,1,0,4,2',\n",
       " 'Merc 230,22.8,4,140.8,95,3.92,3.15,22.9,1,0,4,2',\n",
       " 'Merc 280,19.2,6,167.6,123,3.92,3.44,18.3,1,0,4,4',\n",
       " 'Merc 280C,17.8,6,167.6,123,3.92,3.44,18.9,1,0,4,4',\n",
       " 'Merc 450SE,16.4,8,275.8,180,3.07,4.07,17.4,0,0,3,3',\n",
       " 'Merc 450SL,17.3,8,275.8,180,3.07,3.73,17.6,0,0,3,3',\n",
       " 'Merc 450SLC,15.2,8,275.8,180,3.07,3.78,18,0,0,3,3']"
      ]
     },
     "execution_count": 6,
     "metadata": {},
     "output_type": "execute_result"
    }
   ],
   "source": [
    "mtcars_sub_data.collect()"
   ]
  },
  {
   "cell_type": "code",
   "execution_count": 7,
   "metadata": {},
   "outputs": [],
   "source": [
    "mtcars_full_data = data_from_file.filter(lambda x: 'mpg' not in x)"
   ]
  },
  {
   "cell_type": "code",
   "execution_count": 8,
   "metadata": {},
   "outputs": [
    {
     "data": {
      "text/plain": [
       "['Mazda RX4,21,6,160,110,3.9,2.62,16.46,0,1,4,4',\n",
       " 'Mazda RX4 Wag,21,6,160,110,3.9,2.875,17.02,0,1,4,4',\n",
       " 'Datsun 710,22.8,4,108,93,3.85,2.32,18.61,1,1,4,1',\n",
       " 'Hornet 4 Drive,21.4,6,258,110,3.08,3.215,19.44,1,0,3,1',\n",
       " 'Hornet Sportabout,18.7,8,360,175,3.15,3.44,17.02,0,0,3,2',\n",
       " 'Valiant,18.1,6,225,105,2.76,3.46,20.22,1,0,3,1',\n",
       " 'Duster 360,14.3,8,360,245,3.21,3.57,15.84,0,0,3,4',\n",
       " 'Merc 240D,24.4,4,146.7,62,3.69,3.19,20,1,0,4,2',\n",
       " 'Merc 230,22.8,4,140.8,95,3.92,3.15,22.9,1,0,4,2',\n",
       " 'Merc 280,19.2,6,167.6,123,3.92,3.44,18.3,1,0,4,4',\n",
       " 'Merc 280C,17.8,6,167.6,123,3.92,3.44,18.9,1,0,4,4',\n",
       " 'Merc 450SE,16.4,8,275.8,180,3.07,4.07,17.4,0,0,3,3',\n",
       " 'Merc 450SL,17.3,8,275.8,180,3.07,3.73,17.6,0,0,3,3',\n",
       " 'Merc 450SLC,15.2,8,275.8,180,3.07,3.78,18,0,0,3,3',\n",
       " 'Cadillac Fleetwood,10.4,8,472,205,2.93,5.25,17.98,0,0,3,4',\n",
       " 'Lincoln Continental,10.4,8,460,215,3,5.424,17.82,0,0,3,4',\n",
       " 'Chrysler Imperial,14.7,8,440,230,3.23,5.345,17.42,0,0,3,4',\n",
       " 'Fiat 128,32.4,4,78.7,66,4.08,2.2,19.47,1,1,4,1',\n",
       " 'Honda Civic,30.4,4,75.7,52,4.93,1.615,18.52,1,1,4,2',\n",
       " 'Toyota Corolla,33.9,4,71.1,65,4.22,1.835,19.9,1,1,4,1',\n",
       " 'Toyota Corona,21.5,4,120.1,97,3.7,2.465,20.01,1,0,3,1',\n",
       " 'Dodge Challenger,15.5,8,318,150,2.76,3.52,16.87,0,0,3,2',\n",
       " 'AMC Javelin,15.2,8,304,150,3.15,3.435,17.3,0,0,3,2',\n",
       " 'Camaro Z28,13.3,8,350,245,3.73,3.84,15.41,0,0,3,4',\n",
       " 'Pontiac Firebird,19.2,8,400,175,3.08,3.845,17.05,0,0,3,2',\n",
       " 'Fiat X1-9,27.3,4,79,66,4.08,1.935,18.9,1,1,4,1',\n",
       " 'Porsche 914-2,26,4,120.3,91,4.43,2.14,16.7,0,1,5,2',\n",
       " 'Lotus Europa,30.4,4,95.1,113,3.77,1.513,16.9,1,1,5,2',\n",
       " 'Ford Pantera L,15.8,8,351,264,4.22,3.17,14.5,0,1,5,4',\n",
       " 'Ferrari Dino,19.7,6,145,175,3.62,2.77,15.5,0,1,5,6',\n",
       " 'Maserati Bora,15,8,301,335,3.54,3.57,14.6,0,1,5,8',\n",
       " 'Volvo 142E,21.4,4,121,109,4.11,2.78,18.6,1,1,4,2']"
      ]
     },
     "execution_count": 8,
     "metadata": {},
     "output_type": "execute_result"
    }
   ],
   "source": [
    "mtcars_full_data.collect()"
   ]
  },
  {
   "cell_type": "code",
   "execution_count": 9,
   "metadata": {},
   "outputs": [],
   "source": [
    "from pprint import pprint"
   ]
  },
  {
   "cell_type": "code",
   "execution_count": 10,
   "metadata": {},
   "outputs": [],
   "source": [
    "sub_csv_data = mtcars_sub_data.map(lambda x: x.split(\",\"))"
   ]
  },
  {
   "cell_type": "code",
   "execution_count": 11,
   "metadata": {},
   "outputs": [
    {
     "data": {
      "text/plain": [
       "[['Merc 240D',\n",
       "  '24.4',\n",
       "  '4',\n",
       "  '146.7',\n",
       "  '62',\n",
       "  '3.69',\n",
       "  '3.19',\n",
       "  '20',\n",
       "  '1',\n",
       "  '0',\n",
       "  '4',\n",
       "  '2'],\n",
       " ['Merc 230',\n",
       "  '22.8',\n",
       "  '4',\n",
       "  '140.8',\n",
       "  '95',\n",
       "  '3.92',\n",
       "  '3.15',\n",
       "  '22.9',\n",
       "  '1',\n",
       "  '0',\n",
       "  '4',\n",
       "  '2'],\n",
       " ['Merc 280',\n",
       "  '19.2',\n",
       "  '6',\n",
       "  '167.6',\n",
       "  '123',\n",
       "  '3.92',\n",
       "  '3.44',\n",
       "  '18.3',\n",
       "  '1',\n",
       "  '0',\n",
       "  '4',\n",
       "  '4'],\n",
       " ['Merc 280C',\n",
       "  '17.8',\n",
       "  '6',\n",
       "  '167.6',\n",
       "  '123',\n",
       "  '3.92',\n",
       "  '3.44',\n",
       "  '18.9',\n",
       "  '1',\n",
       "  '0',\n",
       "  '4',\n",
       "  '4'],\n",
       " ['Merc 450SE',\n",
       "  '16.4',\n",
       "  '8',\n",
       "  '275.8',\n",
       "  '180',\n",
       "  '3.07',\n",
       "  '4.07',\n",
       "  '17.4',\n",
       "  '0',\n",
       "  '0',\n",
       "  '3',\n",
       "  '3'],\n",
       " ['Merc 450SL',\n",
       "  '17.3',\n",
       "  '8',\n",
       "  '275.8',\n",
       "  '180',\n",
       "  '3.07',\n",
       "  '3.73',\n",
       "  '17.6',\n",
       "  '0',\n",
       "  '0',\n",
       "  '3',\n",
       "  '3'],\n",
       " ['Merc 450SLC',\n",
       "  '15.2',\n",
       "  '8',\n",
       "  '275.8',\n",
       "  '180',\n",
       "  '3.07',\n",
       "  '3.78',\n",
       "  '18',\n",
       "  '0',\n",
       "  '0',\n",
       "  '3',\n",
       "  '3']]"
      ]
     },
     "execution_count": 11,
     "metadata": {},
     "output_type": "execute_result"
    }
   ],
   "source": [
    "sub_csv_data.collect()"
   ]
  },
  {
   "cell_type": "code",
   "execution_count": 12,
   "metadata": {},
   "outputs": [],
   "source": [
    "csv_data=data_from_file.map(lambda x: x.split(\",\"))"
   ]
  },
  {
   "cell_type": "code",
   "execution_count": 13,
   "metadata": {},
   "outputs": [
    {
     "data": {
      "text/plain": [
       "[['model',\n",
       "  'mpg',\n",
       "  'cyl',\n",
       "  'disp',\n",
       "  'hp',\n",
       "  'drat',\n",
       "  'wt',\n",
       "  'qsec',\n",
       "  'vs',\n",
       "  'am',\n",
       "  'gear',\n",
       "  'carb'],\n",
       " ['Mazda RX4',\n",
       "  '21',\n",
       "  '6',\n",
       "  '160',\n",
       "  '110',\n",
       "  '3.9',\n",
       "  '2.62',\n",
       "  '16.46',\n",
       "  '0',\n",
       "  '1',\n",
       "  '4',\n",
       "  '4'],\n",
       " ['Mazda RX4 Wag',\n",
       "  '21',\n",
       "  '6',\n",
       "  '160',\n",
       "  '110',\n",
       "  '3.9',\n",
       "  '2.875',\n",
       "  '17.02',\n",
       "  '0',\n",
       "  '1',\n",
       "  '4',\n",
       "  '4'],\n",
       " ['Datsun 710',\n",
       "  '22.8',\n",
       "  '4',\n",
       "  '108',\n",
       "  '93',\n",
       "  '3.85',\n",
       "  '2.32',\n",
       "  '18.61',\n",
       "  '1',\n",
       "  '1',\n",
       "  '4',\n",
       "  '1'],\n",
       " ['Hornet 4 Drive',\n",
       "  '21.4',\n",
       "  '6',\n",
       "  '258',\n",
       "  '110',\n",
       "  '3.08',\n",
       "  '3.215',\n",
       "  '19.44',\n",
       "  '1',\n",
       "  '0',\n",
       "  '3',\n",
       "  '1'],\n",
       " ['Hornet Sportabout',\n",
       "  '18.7',\n",
       "  '8',\n",
       "  '360',\n",
       "  '175',\n",
       "  '3.15',\n",
       "  '3.44',\n",
       "  '17.02',\n",
       "  '0',\n",
       "  '0',\n",
       "  '3',\n",
       "  '2'],\n",
       " ['Valiant',\n",
       "  '18.1',\n",
       "  '6',\n",
       "  '225',\n",
       "  '105',\n",
       "  '2.76',\n",
       "  '3.46',\n",
       "  '20.22',\n",
       "  '1',\n",
       "  '0',\n",
       "  '3',\n",
       "  '1'],\n",
       " ['Duster 360',\n",
       "  '14.3',\n",
       "  '8',\n",
       "  '360',\n",
       "  '245',\n",
       "  '3.21',\n",
       "  '3.57',\n",
       "  '15.84',\n",
       "  '0',\n",
       "  '0',\n",
       "  '3',\n",
       "  '4'],\n",
       " ['Merc 240D',\n",
       "  '24.4',\n",
       "  '4',\n",
       "  '146.7',\n",
       "  '62',\n",
       "  '3.69',\n",
       "  '3.19',\n",
       "  '20',\n",
       "  '1',\n",
       "  '0',\n",
       "  '4',\n",
       "  '2'],\n",
       " ['Merc 230',\n",
       "  '22.8',\n",
       "  '4',\n",
       "  '140.8',\n",
       "  '95',\n",
       "  '3.92',\n",
       "  '3.15',\n",
       "  '22.9',\n",
       "  '1',\n",
       "  '0',\n",
       "  '4',\n",
       "  '2'],\n",
       " ['Merc 280',\n",
       "  '19.2',\n",
       "  '6',\n",
       "  '167.6',\n",
       "  '123',\n",
       "  '3.92',\n",
       "  '3.44',\n",
       "  '18.3',\n",
       "  '1',\n",
       "  '0',\n",
       "  '4',\n",
       "  '4'],\n",
       " ['Merc 280C',\n",
       "  '17.8',\n",
       "  '6',\n",
       "  '167.6',\n",
       "  '123',\n",
       "  '3.92',\n",
       "  '3.44',\n",
       "  '18.9',\n",
       "  '1',\n",
       "  '0',\n",
       "  '4',\n",
       "  '4'],\n",
       " ['Merc 450SE',\n",
       "  '16.4',\n",
       "  '8',\n",
       "  '275.8',\n",
       "  '180',\n",
       "  '3.07',\n",
       "  '4.07',\n",
       "  '17.4',\n",
       "  '0',\n",
       "  '0',\n",
       "  '3',\n",
       "  '3'],\n",
       " ['Merc 450SL',\n",
       "  '17.3',\n",
       "  '8',\n",
       "  '275.8',\n",
       "  '180',\n",
       "  '3.07',\n",
       "  '3.73',\n",
       "  '17.6',\n",
       "  '0',\n",
       "  '0',\n",
       "  '3',\n",
       "  '3'],\n",
       " ['Merc 450SLC',\n",
       "  '15.2',\n",
       "  '8',\n",
       "  '275.8',\n",
       "  '180',\n",
       "  '3.07',\n",
       "  '3.78',\n",
       "  '18',\n",
       "  '0',\n",
       "  '0',\n",
       "  '3',\n",
       "  '3'],\n",
       " ['Cadillac Fleetwood',\n",
       "  '10.4',\n",
       "  '8',\n",
       "  '472',\n",
       "  '205',\n",
       "  '2.93',\n",
       "  '5.25',\n",
       "  '17.98',\n",
       "  '0',\n",
       "  '0',\n",
       "  '3',\n",
       "  '4'],\n",
       " ['Lincoln Continental',\n",
       "  '10.4',\n",
       "  '8',\n",
       "  '460',\n",
       "  '215',\n",
       "  '3',\n",
       "  '5.424',\n",
       "  '17.82',\n",
       "  '0',\n",
       "  '0',\n",
       "  '3',\n",
       "  '4'],\n",
       " ['Chrysler Imperial',\n",
       "  '14.7',\n",
       "  '8',\n",
       "  '440',\n",
       "  '230',\n",
       "  '3.23',\n",
       "  '5.345',\n",
       "  '17.42',\n",
       "  '0',\n",
       "  '0',\n",
       "  '3',\n",
       "  '4'],\n",
       " ['Fiat 128',\n",
       "  '32.4',\n",
       "  '4',\n",
       "  '78.7',\n",
       "  '66',\n",
       "  '4.08',\n",
       "  '2.2',\n",
       "  '19.47',\n",
       "  '1',\n",
       "  '1',\n",
       "  '4',\n",
       "  '1'],\n",
       " ['Honda Civic',\n",
       "  '30.4',\n",
       "  '4',\n",
       "  '75.7',\n",
       "  '52',\n",
       "  '4.93',\n",
       "  '1.615',\n",
       "  '18.52',\n",
       "  '1',\n",
       "  '1',\n",
       "  '4',\n",
       "  '2'],\n",
       " ['Toyota Corolla',\n",
       "  '33.9',\n",
       "  '4',\n",
       "  '71.1',\n",
       "  '65',\n",
       "  '4.22',\n",
       "  '1.835',\n",
       "  '19.9',\n",
       "  '1',\n",
       "  '1',\n",
       "  '4',\n",
       "  '1'],\n",
       " ['Toyota Corona',\n",
       "  '21.5',\n",
       "  '4',\n",
       "  '120.1',\n",
       "  '97',\n",
       "  '3.7',\n",
       "  '2.465',\n",
       "  '20.01',\n",
       "  '1',\n",
       "  '0',\n",
       "  '3',\n",
       "  '1'],\n",
       " ['Dodge Challenger',\n",
       "  '15.5',\n",
       "  '8',\n",
       "  '318',\n",
       "  '150',\n",
       "  '2.76',\n",
       "  '3.52',\n",
       "  '16.87',\n",
       "  '0',\n",
       "  '0',\n",
       "  '3',\n",
       "  '2'],\n",
       " ['AMC Javelin',\n",
       "  '15.2',\n",
       "  '8',\n",
       "  '304',\n",
       "  '150',\n",
       "  '3.15',\n",
       "  '3.435',\n",
       "  '17.3',\n",
       "  '0',\n",
       "  '0',\n",
       "  '3',\n",
       "  '2'],\n",
       " ['Camaro Z28',\n",
       "  '13.3',\n",
       "  '8',\n",
       "  '350',\n",
       "  '245',\n",
       "  '3.73',\n",
       "  '3.84',\n",
       "  '15.41',\n",
       "  '0',\n",
       "  '0',\n",
       "  '3',\n",
       "  '4'],\n",
       " ['Pontiac Firebird',\n",
       "  '19.2',\n",
       "  '8',\n",
       "  '400',\n",
       "  '175',\n",
       "  '3.08',\n",
       "  '3.845',\n",
       "  '17.05',\n",
       "  '0',\n",
       "  '0',\n",
       "  '3',\n",
       "  '2'],\n",
       " ['Fiat X1-9',\n",
       "  '27.3',\n",
       "  '4',\n",
       "  '79',\n",
       "  '66',\n",
       "  '4.08',\n",
       "  '1.935',\n",
       "  '18.9',\n",
       "  '1',\n",
       "  '1',\n",
       "  '4',\n",
       "  '1'],\n",
       " ['Porsche 914-2',\n",
       "  '26',\n",
       "  '4',\n",
       "  '120.3',\n",
       "  '91',\n",
       "  '4.43',\n",
       "  '2.14',\n",
       "  '16.7',\n",
       "  '0',\n",
       "  '1',\n",
       "  '5',\n",
       "  '2'],\n",
       " ['Lotus Europa',\n",
       "  '30.4',\n",
       "  '4',\n",
       "  '95.1',\n",
       "  '113',\n",
       "  '3.77',\n",
       "  '1.513',\n",
       "  '16.9',\n",
       "  '1',\n",
       "  '1',\n",
       "  '5',\n",
       "  '2'],\n",
       " ['Ford Pantera L',\n",
       "  '15.8',\n",
       "  '8',\n",
       "  '351',\n",
       "  '264',\n",
       "  '4.22',\n",
       "  '3.17',\n",
       "  '14.5',\n",
       "  '0',\n",
       "  '1',\n",
       "  '5',\n",
       "  '4'],\n",
       " ['Ferrari Dino',\n",
       "  '19.7',\n",
       "  '6',\n",
       "  '145',\n",
       "  '175',\n",
       "  '3.62',\n",
       "  '2.77',\n",
       "  '15.5',\n",
       "  '0',\n",
       "  '1',\n",
       "  '5',\n",
       "  '6'],\n",
       " ['Maserati Bora',\n",
       "  '15',\n",
       "  '8',\n",
       "  '301',\n",
       "  '335',\n",
       "  '3.54',\n",
       "  '3.57',\n",
       "  '14.6',\n",
       "  '0',\n",
       "  '1',\n",
       "  '5',\n",
       "  '8'],\n",
       " ['Volvo 142E',\n",
       "  '21.4',\n",
       "  '4',\n",
       "  '121',\n",
       "  '109',\n",
       "  '4.11',\n",
       "  '2.78',\n",
       "  '18.6',\n",
       "  '1',\n",
       "  '1',\n",
       "  '4',\n",
       "  '2']]"
      ]
     },
     "execution_count": 13,
     "metadata": {},
     "output_type": "execute_result"
    }
   ],
   "source": [
    "csv_data.collect()"
   ]
  },
  {
   "cell_type": "code",
   "execution_count": 14,
   "metadata": {},
   "outputs": [],
   "source": [
    "mtcars_merc = csv_data.filter(lambda x: \"Merc\" in x[0])"
   ]
  },
  {
   "cell_type": "code",
   "execution_count": 15,
   "metadata": {},
   "outputs": [
    {
     "data": {
      "text/plain": [
       "[['Merc 240D',\n",
       "  '24.4',\n",
       "  '4',\n",
       "  '146.7',\n",
       "  '62',\n",
       "  '3.69',\n",
       "  '3.19',\n",
       "  '20',\n",
       "  '1',\n",
       "  '0',\n",
       "  '4',\n",
       "  '2'],\n",
       " ['Merc 230',\n",
       "  '22.8',\n",
       "  '4',\n",
       "  '140.8',\n",
       "  '95',\n",
       "  '3.92',\n",
       "  '3.15',\n",
       "  '22.9',\n",
       "  '1',\n",
       "  '0',\n",
       "  '4',\n",
       "  '2'],\n",
       " ['Merc 280',\n",
       "  '19.2',\n",
       "  '6',\n",
       "  '167.6',\n",
       "  '123',\n",
       "  '3.92',\n",
       "  '3.44',\n",
       "  '18.3',\n",
       "  '1',\n",
       "  '0',\n",
       "  '4',\n",
       "  '4'],\n",
       " ['Merc 280C',\n",
       "  '17.8',\n",
       "  '6',\n",
       "  '167.6',\n",
       "  '123',\n",
       "  '3.92',\n",
       "  '3.44',\n",
       "  '18.9',\n",
       "  '1',\n",
       "  '0',\n",
       "  '4',\n",
       "  '4'],\n",
       " ['Merc 450SE',\n",
       "  '16.4',\n",
       "  '8',\n",
       "  '275.8',\n",
       "  '180',\n",
       "  '3.07',\n",
       "  '4.07',\n",
       "  '17.4',\n",
       "  '0',\n",
       "  '0',\n",
       "  '3',\n",
       "  '3'],\n",
       " ['Merc 450SL',\n",
       "  '17.3',\n",
       "  '8',\n",
       "  '275.8',\n",
       "  '180',\n",
       "  '3.07',\n",
       "  '3.73',\n",
       "  '17.6',\n",
       "  '0',\n",
       "  '0',\n",
       "  '3',\n",
       "  '3'],\n",
       " ['Merc 450SLC',\n",
       "  '15.2',\n",
       "  '8',\n",
       "  '275.8',\n",
       "  '180',\n",
       "  '3.07',\n",
       "  '3.78',\n",
       "  '18',\n",
       "  '0',\n",
       "  '0',\n",
       "  '3',\n",
       "  '3']]"
      ]
     },
     "execution_count": 15,
     "metadata": {},
     "output_type": "execute_result"
    }
   ],
   "source": [
    "mtcars_merc.collect()"
   ]
  },
  {
   "cell_type": "markdown",
   "metadata": {},
   "source": [
    "### Sampling Operations\n",
    "- sample (transformation) : Spark to apply successive transformation on a sample of a given RDD\n",
    "- takeSample (action) : retrieves the sample and stores in local memory"
   ]
  },
  {
   "cell_type": "markdown",
   "metadata": {},
   "source": [
    "#### sample\n",
    "Parameters\n",
    "   - replacement or not\n",
    "   - sample size as fraction of original\n",
    "   - random seed"
   ]
  },
  {
   "cell_type": "code",
   "execution_count": 16,
   "metadata": {},
   "outputs": [],
   "source": [
    "csv_data_sample = data_from_file.sample(False, 0.2, 1896)"
   ]
  },
  {
   "cell_type": "code",
   "execution_count": 17,
   "metadata": {},
   "outputs": [
    {
     "data": {
      "text/plain": [
       "PythonRDD[7] at RDD at PythonRDD.scala:48"
      ]
     },
     "execution_count": 17,
     "metadata": {},
     "output_type": "execute_result"
    }
   ],
   "source": [
    "csv_data_sample"
   ]
  },
  {
   "cell_type": "code",
   "execution_count": 18,
   "metadata": {},
   "outputs": [
    {
     "data": {
      "text/plain": [
       "['Lincoln Continental,10.4,8,460,215,3,5.424,17.82,0,0,3,4',\n",
       " 'Pontiac Firebird,19.2,8,400,175,3.08,3.845,17.05,0,0,3,2',\n",
       " 'Fiat X1-9,27.3,4,79,66,4.08,1.935,18.9,1,1,4,1']"
      ]
     },
     "execution_count": 18,
     "metadata": {},
     "output_type": "execute_result"
    }
   ],
   "source": [
    "csv_data_sample.collect()"
   ]
  },
  {
   "cell_type": "markdown",
   "metadata": {},
   "source": [
    "#### takeSample\n",
    "Parameters\n",
    "   - replacement or not\n",
    "   - number of samples\n",
    "   - random seed"
   ]
  },
  {
   "cell_type": "code",
   "execution_count": 19,
   "metadata": {},
   "outputs": [],
   "source": [
    "csv_take_sample=data_from_file.takeSample(False,10,1400)"
   ]
  },
  {
   "cell_type": "code",
   "execution_count": 20,
   "metadata": {},
   "outputs": [
    {
     "data": {
      "text/plain": [
       "['Hornet 4 Drive,21.4,6,258,110,3.08,3.215,19.44,1,0,3,1',\n",
       " 'Pontiac Firebird,19.2,8,400,175,3.08,3.845,17.05,0,0,3,2',\n",
       " 'Ford Pantera L,15.8,8,351,264,4.22,3.17,14.5,0,1,5,4',\n",
       " 'Mazda RX4,21,6,160,110,3.9,2.62,16.46,0,1,4,4',\n",
       " 'Volvo 142E,21.4,4,121,109,4.11,2.78,18.6,1,1,4,2',\n",
       " 'Cadillac Fleetwood,10.4,8,472,205,2.93,5.25,17.98,0,0,3,4',\n",
       " 'Merc 450SLC,15.2,8,275.8,180,3.07,3.78,18,0,0,3,3',\n",
       " 'Dodge Challenger,15.5,8,318,150,2.76,3.52,16.87,0,0,3,2',\n",
       " 'Lincoln Continental,10.4,8,460,215,3,5.424,17.82,0,0,3,4',\n",
       " 'Datsun 710,22.8,4,108,93,3.85,2.32,18.61,1,1,4,1']"
      ]
     },
     "execution_count": 20,
     "metadata": {},
     "output_type": "execute_result"
    }
   ],
   "source": [
    "csv_take_sample"
   ]
  },
  {
   "cell_type": "markdown",
   "metadata": {},
   "source": [
    "### Set Operations\n",
    "Several mathematical set \"like\" operations - union, intersection, subtract, distinct, and cartesian."
   ]
  },
  {
   "cell_type": "code",
   "execution_count": 21,
   "metadata": {},
   "outputs": [],
   "source": [
    "mtcars_notmerc_data = mtcars_full_data.subtract(mtcars_sub_data)"
   ]
  },
  {
   "cell_type": "code",
   "execution_count": 22,
   "metadata": {},
   "outputs": [
    {
     "data": {
      "text/plain": [
       "PythonRDD[17] at RDD at PythonRDD.scala:48"
      ]
     },
     "execution_count": 22,
     "metadata": {},
     "output_type": "execute_result"
    }
   ],
   "source": [
    "mtcars_notmerc_data"
   ]
  },
  {
   "cell_type": "code",
   "execution_count": 23,
   "metadata": {},
   "outputs": [
    {
     "data": {
      "text/plain": [
       "['Valiant,18.1,6,225,105,2.76,3.46,20.22,1,0,3,1',\n",
       " 'Duster 360,14.3,8,360,245,3.21,3.57,15.84,0,0,3,4',\n",
       " 'Fiat 128,32.4,4,78.7,66,4.08,2.2,19.47,1,1,4,1',\n",
       " 'Camaro Z28,13.3,8,350,245,3.73,3.84,15.41,0,0,3,4',\n",
       " 'Fiat X1-9,27.3,4,79,66,4.08,1.935,18.9,1,1,4,1',\n",
       " 'Hornet 4 Drive,21.4,6,258,110,3.08,3.215,19.44,1,0,3,1',\n",
       " 'Hornet Sportabout,18.7,8,360,175,3.15,3.44,17.02,0,0,3,2',\n",
       " 'Dodge Challenger,15.5,8,318,150,2.76,3.52,16.87,0,0,3,2',\n",
       " 'AMC Javelin,15.2,8,304,150,3.15,3.435,17.3,0,0,3,2',\n",
       " 'Porsche 914-2,26,4,120.3,91,4.43,2.14,16.7,0,1,5,2',\n",
       " 'Ford Pantera L,15.8,8,351,264,4.22,3.17,14.5,0,1,5,4',\n",
       " 'Ferrari Dino,19.7,6,145,175,3.62,2.77,15.5,0,1,5,6',\n",
       " 'Maserati Bora,15,8,301,335,3.54,3.57,14.6,0,1,5,8',\n",
       " 'Volvo 142E,21.4,4,121,109,4.11,2.78,18.6,1,1,4,2',\n",
       " 'Mazda RX4,21,6,160,110,3.9,2.62,16.46,0,1,4,4',\n",
       " 'Cadillac Fleetwood,10.4,8,472,205,2.93,5.25,17.98,0,0,3,4',\n",
       " 'Lincoln Continental,10.4,8,460,215,3,5.424,17.82,0,0,3,4',\n",
       " 'Chrysler Imperial,14.7,8,440,230,3.23,5.345,17.42,0,0,3,4',\n",
       " 'Toyota Corolla,33.9,4,71.1,65,4.22,1.835,19.9,1,1,4,1',\n",
       " 'Pontiac Firebird,19.2,8,400,175,3.08,3.845,17.05,0,0,3,2',\n",
       " 'Lotus Europa,30.4,4,95.1,113,3.77,1.513,16.9,1,1,5,2',\n",
       " 'Mazda RX4 Wag,21,6,160,110,3.9,2.875,17.02,0,1,4,4',\n",
       " 'Datsun 710,22.8,4,108,93,3.85,2.32,18.61,1,1,4,1',\n",
       " 'Honda Civic,30.4,4,75.7,52,4.93,1.615,18.52,1,1,4,2',\n",
       " 'Toyota Corona,21.5,4,120.1,97,3.7,2.465,20.01,1,0,3,1']"
      ]
     },
     "execution_count": 23,
     "metadata": {},
     "output_type": "execute_result"
    }
   ],
   "source": [
    "mtcars_notmerc_data.collect()"
   ]
  },
  {
   "cell_type": "code",
   "execution_count": 24,
   "metadata": {},
   "outputs": [],
   "source": [
    "csv_notmerc_data = mtcars_notmerc_data.map(lambda x: x.split(\",\"))"
   ]
  },
  {
   "cell_type": "code",
   "execution_count": 25,
   "metadata": {},
   "outputs": [],
   "source": [
    "notmerc_mpg_value = csv_notmerc_data.map(lambda x: float(x[1]))"
   ]
  },
  {
   "cell_type": "code",
   "execution_count": 26,
   "metadata": {},
   "outputs": [
    {
     "data": {
      "text/plain": [
       "[18.1,\n",
       " 14.3,\n",
       " 32.4,\n",
       " 13.3,\n",
       " 27.3,\n",
       " 21.4,\n",
       " 18.7,\n",
       " 15.5,\n",
       " 15.2,\n",
       " 26.0,\n",
       " 15.8,\n",
       " 19.7,\n",
       " 15.0,\n",
       " 21.4,\n",
       " 21.0,\n",
       " 10.4,\n",
       " 10.4,\n",
       " 14.7,\n",
       " 33.9,\n",
       " 19.2,\n",
       " 30.4,\n",
       " 21.0,\n",
       " 22.8,\n",
       " 30.4,\n",
       " 21.5]"
      ]
     },
     "execution_count": 26,
     "metadata": {},
     "output_type": "execute_result"
    }
   ],
   "source": [
    "notmerc_mpg_value.collect()"
   ]
  },
  {
   "cell_type": "code",
   "execution_count": 27,
   "metadata": {},
   "outputs": [],
   "source": [
    "csv_merc_data = mtcars_sub_data.map(lambda x: x.split(\",\"))"
   ]
  },
  {
   "cell_type": "code",
   "execution_count": 28,
   "metadata": {},
   "outputs": [],
   "source": [
    "merc_mpg_value = csv_merc_data.map(lambda x: float(x[1]))"
   ]
  },
  {
   "cell_type": "code",
   "execution_count": 29,
   "metadata": {},
   "outputs": [
    {
     "data": {
      "text/plain": [
       "[24.4, 22.8, 19.2, 17.8, 16.4, 17.3, 15.2]"
      ]
     },
     "execution_count": 29,
     "metadata": {},
     "output_type": "execute_result"
    }
   ],
   "source": [
    "merc_mpg_value.collect()"
   ]
  },
  {
   "cell_type": "markdown",
   "metadata": {},
   "source": [
    "### Data Aggregation in RDDs"
   ]
  },
  {
   "cell_type": "code",
   "execution_count": 30,
   "metadata": {},
   "outputs": [],
   "source": [
    "total_mpg_notmerc = notmerc_mpg_value.reduce(lambda x, y: x + y)"
   ]
  },
  {
   "cell_type": "code",
   "execution_count": 31,
   "metadata": {},
   "outputs": [],
   "source": [
    "total_mpg_merc=merc_mpg_value.reduce(lambda x, y: x + y)"
   ]
  },
  {
   "cell_type": "code",
   "execution_count": 32,
   "metadata": {},
   "outputs": [
    {
     "data": {
      "text/plain": [
       "509.8"
      ]
     },
     "execution_count": 32,
     "metadata": {},
     "output_type": "execute_result"
    }
   ],
   "source": [
    "total_mpg_notmerc"
   ]
  },
  {
   "cell_type": "code",
   "execution_count": 33,
   "metadata": {},
   "outputs": [
    {
     "data": {
      "text/plain": [
       "133.1"
      ]
     },
     "execution_count": 33,
     "metadata": {},
     "output_type": "execute_result"
    }
   ],
   "source": [
    "total_mpg_merc"
   ]
  },
  {
   "cell_type": "code",
   "execution_count": 34,
   "metadata": {},
   "outputs": [],
   "source": [
    "notmerc_count=notmerc_mpg_value.count()"
   ]
  },
  {
   "cell_type": "code",
   "execution_count": 35,
   "metadata": {},
   "outputs": [],
   "source": [
    "mpg_avg_notmerc=round(total_mpg_notmerc/float(notmerc_count),3)"
   ]
  },
  {
   "cell_type": "code",
   "execution_count": 36,
   "metadata": {},
   "outputs": [
    {
     "data": {
      "text/plain": [
       "20.392"
      ]
     },
     "execution_count": 36,
     "metadata": {},
     "output_type": "execute_result"
    }
   ],
   "source": [
    "mpg_avg_notmerc"
   ]
  },
  {
   "cell_type": "code",
   "execution_count": 37,
   "metadata": {},
   "outputs": [],
   "source": [
    "merc_count=merc_mpg_value.count"
   ]
  },
  {
   "cell_type": "code",
   "execution_count": 38,
   "metadata": {},
   "outputs": [],
   "source": [
    "total_mpg_merc = merc_mpg_value.aggregate(\n",
    "    (0,0), # the initial value\n",
    "    (lambda acc, value: (acc[0] + value, acc[1] + 1)), # combine value with acc\n",
    "    (lambda acc1, acc2: (acc1[0] + acc2[0], acc1[1] + acc2[1])) # combine accumulators\n",
    ")"
   ]
  },
  {
   "cell_type": "code",
   "execution_count": 39,
   "metadata": {},
   "outputs": [
    {
     "data": {
      "text/plain": [
       "(133.1, 7)"
      ]
     },
     "execution_count": 39,
     "metadata": {},
     "output_type": "execute_result"
    }
   ],
   "source": [
    "total_mpg_merc"
   ]
  },
  {
   "cell_type": "code",
   "execution_count": 40,
   "metadata": {},
   "outputs": [],
   "source": [
    "mpg_merc=round(total_mpg_merc[0]/float(total_mpg_merc[1]),3)"
   ]
  },
  {
   "cell_type": "code",
   "execution_count": 41,
   "metadata": {},
   "outputs": [
    {
     "data": {
      "text/plain": [
       "19.014"
      ]
     },
     "execution_count": 41,
     "metadata": {},
     "output_type": "execute_result"
    }
   ],
   "source": [
    "mpg_merc"
   ]
  },
  {
   "cell_type": "markdown",
   "metadata": {},
   "source": [
    "### Back to the Housing Example"
   ]
  },
  {
   "cell_type": "markdown",
   "metadata": {},
   "source": [
    "Create a file with inputs"
   ]
  },
  {
   "cell_type": "code",
   "execution_count": 42,
   "metadata": {},
   "outputs": [
    {
     "name": "stdout",
     "output_type": "stream",
     "text": [
      "Overwriting houses.txt\n"
     ]
    }
   ],
   "source": [
    "%%file houses.txt\n",
    "3 Downtown 400000\n",
    "2 Downtown 240000\n",
    "3 Hilltop 650000"
   ]
  },
  {
   "cell_type": "code",
   "execution_count": 43,
   "metadata": {},
   "outputs": [],
   "source": [
    "text_RDD = sc.textFile(\"houses.txt\")"
   ]
  },
  {
   "cell_type": "code",
   "execution_count": 44,
   "metadata": {},
   "outputs": [
    {
     "data": {
      "text/plain": [
       "['3 Downtown 400000', '2 Downtown 240000', '3 Hilltop 650000']"
      ]
     },
     "execution_count": 44,
     "metadata": {},
     "output_type": "execute_result"
    }
   ],
   "source": [
    "text_RDD.collect()"
   ]
  },
  {
   "cell_type": "code",
   "execution_count": 45,
   "metadata": {},
   "outputs": [
    {
     "name": "stdout",
     "output_type": "stream",
     "text": [
      "Overwriting inflation.txt\n"
     ]
    }
   ],
   "source": [
    "%%file inflation.txt\n",
    "Downtown 2.1\n",
    "Hilltop 4.5"
   ]
  },
  {
   "cell_type": "markdown",
   "metadata": {},
   "source": [
    "Load House Prices"
   ]
  },
  {
   "cell_type": "code",
   "execution_count": 46,
   "metadata": {},
   "outputs": [],
   "source": [
    "def mapper_parse_lines(line):\n",
    "    \"\"\"Parse line into (neighborhoood, price) pair\"\"\"\n",
    "    words = line.split()\n",
    "    return (words[1], float(words[2]))"
   ]
  },
  {
   "cell_type": "code",
   "execution_count": 47,
   "metadata": {},
   "outputs": [],
   "source": [
    "house_prices_RDD = text_RDD.map(mapper_parse_lines)"
   ]
  },
  {
   "cell_type": "code",
   "execution_count": 48,
   "metadata": {},
   "outputs": [
    {
     "data": {
      "text/plain": [
       "[('Downtown', 400000.0), ('Downtown', 240000.0), ('Hilltop', 650000.0)]"
      ]
     },
     "execution_count": 48,
     "metadata": {},
     "output_type": "execute_result"
    }
   ],
   "source": [
    "house_prices_RDD.collect()"
   ]
  },
  {
   "cell_type": "markdown",
   "metadata": {},
   "source": [
    "Load Inflation"
   ]
  },
  {
   "cell_type": "code",
   "execution_count": 49,
   "metadata": {},
   "outputs": [],
   "source": [
    "inflation_text_RDD = sc.textFile(\"inflation.txt\")"
   ]
  },
  {
   "cell_type": "code",
   "execution_count": 50,
   "metadata": {},
   "outputs": [],
   "source": [
    "def mapper_parse__inflation_lines(line):\n",
    "    \"\"\"Parse line into (neighborhoood, inflation) pair\"\"\"\n",
    "    words = line.split()\n",
    "    return (words[0], float(words[1]))"
   ]
  },
  {
   "cell_type": "code",
   "execution_count": 51,
   "metadata": {},
   "outputs": [],
   "source": [
    "inflation_RDD = inflation_text_RDD.map(mapper_parse__inflation_lines)"
   ]
  },
  {
   "cell_type": "code",
   "execution_count": 52,
   "metadata": {},
   "outputs": [
    {
     "data": {
      "text/plain": [
       "[('Downtown', 2.1), ('Hilltop', 4.5)]"
      ]
     },
     "execution_count": 52,
     "metadata": {},
     "output_type": "execute_result"
    }
   ],
   "source": [
    "inflation_RDD.collect()"
   ]
  },
  {
   "cell_type": "markdown",
   "metadata": {},
   "source": [
    "Join"
   ]
  },
  {
   "cell_type": "code",
   "execution_count": 53,
   "metadata": {},
   "outputs": [
    {
     "data": {
      "text/plain": [
       "[('Downtown', (400000.0, 2.1)),\n",
       " ('Downtown', (240000.0, 2.1)),\n",
       " ('Hilltop', (650000.0, 4.5))]"
      ]
     },
     "execution_count": 53,
     "metadata": {},
     "output_type": "execute_result"
    }
   ],
   "source": [
    "house_prices_RDD.join(inflation_RDD).collect()"
   ]
  },
  {
   "cell_type": "code",
   "execution_count": 54,
   "metadata": {},
   "outputs": [],
   "source": [
    "def mapper_multiply_price_inflation(pair):\n",
    "    inflation_ratio = 1 + pair[1][1]/100.\n",
    "    return (pair[0], pair[1][0]*inflation_ratio)"
   ]
  },
  {
   "cell_type": "code",
   "execution_count": 55,
   "metadata": {},
   "outputs": [],
   "source": [
    "house_prices_nextyear_RDD = house_prices_RDD.join(\n",
    "    inflation_RDD).map(mapper_multiply_price_inflation)"
   ]
  },
  {
   "cell_type": "code",
   "execution_count": 56,
   "metadata": {},
   "outputs": [
    {
     "data": {
      "text/plain": [
       "[('Downtown', 408399.99999999994),\n",
       " ('Downtown', 245039.99999999997),\n",
       " ('Hilltop', 679250.0)]"
      ]
     },
     "execution_count": 56,
     "metadata": {},
     "output_type": "execute_result"
    }
   ],
   "source": [
    "house_prices_nextyear_RDD.collect()"
   ]
  },
  {
   "cell_type": "markdown",
   "metadata": {},
   "source": [
    "Reduce"
   ]
  },
  {
   "cell_type": "code",
   "execution_count": 57,
   "metadata": {},
   "outputs": [],
   "source": [
    "def reducer_sum(a,b):\n",
    "    return a+b"
   ]
  },
  {
   "cell_type": "code",
   "execution_count": 58,
   "metadata": {},
   "outputs": [],
   "source": [
    "total_nextyear = house_prices_nextyear_RDD.reduceByKey(reducer_sum)"
   ]
  },
  {
   "cell_type": "code",
   "execution_count": 59,
   "metadata": {},
   "outputs": [
    {
     "data": {
      "text/plain": [
       "[('Downtown', 653439.9999999999), ('Hilltop', 679250.0)]"
      ]
     },
     "execution_count": 59,
     "metadata": {},
     "output_type": "execute_result"
    }
   ],
   "source": [
    "total_nextyear.collect()"
   ]
  },
  {
   "cell_type": "markdown",
   "metadata": {},
   "source": [
    "DataFrames"
   ]
  },
  {
   "cell_type": "code",
   "execution_count": 60,
   "metadata": {},
   "outputs": [],
   "source": [
    "def mapper_parse_lines2(line):\n",
    "    \"\"\"Parse line into (neighborhoood, price) pair\"\"\"\n",
    "    words = line.split()\n",
    "    return (words[1], float(words[2]), int(words[0]))"
   ]
  },
  {
   "cell_type": "code",
   "execution_count": 61,
   "metadata": {},
   "outputs": [],
   "source": [
    "house_prices_RDD2 = text_RDD.map(mapper_parse_lines2)"
   ]
  },
  {
   "cell_type": "code",
   "execution_count": 62,
   "metadata": {},
   "outputs": [
    {
     "data": {
      "text/plain": [
       "[('Downtown', 400000.0, 3),\n",
       " ('Downtown', 240000.0, 2),\n",
       " ('Hilltop', 650000.0, 3)]"
      ]
     },
     "execution_count": 62,
     "metadata": {},
     "output_type": "execute_result"
    }
   ],
   "source": [
    "house_prices_RDD2.collect()"
   ]
  },
  {
   "cell_type": "code",
   "execution_count": 64,
   "metadata": {},
   "outputs": [],
   "source": [
    "house_prices_df = sqlContext.createDataFrame(house_prices_RDD2,\n",
    "                [\"neighborhood\", \"price\", \"bedrooms\"])"
   ]
  },
  {
   "cell_type": "code",
   "execution_count": 65,
   "metadata": {},
   "outputs": [
    {
     "name": "stdout",
     "output_type": "stream",
     "text": [
      "+------------+--------+--------+\n",
      "|neighborhood|   price|bedrooms|\n",
      "+------------+--------+--------+\n",
      "|    Downtown|400000.0|       3|\n",
      "|    Downtown|240000.0|       2|\n",
      "|     Hilltop|650000.0|       3|\n",
      "+------------+--------+--------+\n",
      "\n"
     ]
    }
   ],
   "source": [
    "house_prices_df.show()"
   ]
  },
  {
   "cell_type": "code",
   "execution_count": 66,
   "metadata": {},
   "outputs": [
    {
     "name": "stdout",
     "output_type": "stream",
     "text": [
      "root\n",
      " |-- neighborhood: string (nullable = true)\n",
      " |-- price: double (nullable = true)\n",
      " |-- bedrooms: long (nullable = true)\n",
      "\n"
     ]
    }
   ],
   "source": [
    "house_prices_df.printSchema()"
   ]
  },
  {
   "cell_type": "code",
   "execution_count": 67,
   "metadata": {},
   "outputs": [],
   "source": [
    "def mapper_parse__inflation_lines2(line):\n",
    "    \"\"\"Parse line into (neighborhoood, inflation) pair\"\"\"\n",
    "    words = line.split()\n",
    "    return (words[0], float(words[1]))"
   ]
  },
  {
   "cell_type": "code",
   "execution_count": 68,
   "metadata": {},
   "outputs": [],
   "source": [
    "inflation_RDD2 = inflation_text_RDD.map(mapper_parse__inflation_lines)"
   ]
  },
  {
   "cell_type": "code",
   "execution_count": 69,
   "metadata": {},
   "outputs": [
    {
     "data": {
      "text/plain": [
       "[('Downtown', 2.1), ('Hilltop', 4.5)]"
      ]
     },
     "execution_count": 69,
     "metadata": {},
     "output_type": "execute_result"
    }
   ],
   "source": [
    "inflation_RDD.collect()"
   ]
  },
  {
   "cell_type": "code",
   "execution_count": 70,
   "metadata": {},
   "outputs": [],
   "source": [
    "inflation_df = sqlContext.createDataFrame(inflation_RDD,\n",
    "                        [\"neighborhood\", \"inflation\"])"
   ]
  },
  {
   "cell_type": "code",
   "execution_count": 71,
   "metadata": {},
   "outputs": [
    {
     "name": "stdout",
     "output_type": "stream",
     "text": [
      "root\n",
      " |-- neighborhood: string (nullable = true)\n",
      " |-- inflation: double (nullable = true)\n",
      "\n"
     ]
    }
   ],
   "source": [
    "inflation_df.printSchema()"
   ]
  },
  {
   "cell_type": "markdown",
   "metadata": {},
   "source": [
    "Join"
   ]
  },
  {
   "cell_type": "code",
   "execution_count": 72,
   "metadata": {},
   "outputs": [
    {
     "name": "stdout",
     "output_type": "stream",
     "text": [
      "+------------+--------+--------+---------+\n",
      "|neighborhood|   price|bedrooms|inflation|\n",
      "+------------+--------+--------+---------+\n",
      "|    Downtown|400000.0|       3|      2.1|\n",
      "|    Downtown|240000.0|       2|      2.1|\n",
      "|     Hilltop|650000.0|       3|      4.5|\n",
      "+------------+--------+--------+---------+\n",
      "\n"
     ]
    }
   ],
   "source": [
    "house_prices_df.join(inflation_df, \"neighborhood\").show()"
   ]
  },
  {
   "cell_type": "code",
   "execution_count": 73,
   "metadata": {},
   "outputs": [],
   "source": [
    "house_prices_with_inflation_df = house_prices_df.join(inflation_df, \"neighborhood\")"
   ]
  },
  {
   "cell_type": "code",
   "execution_count": 74,
   "metadata": {},
   "outputs": [],
   "source": [
    "house_prices_nextyear_df = \\\n",
    "house_prices_with_inflation_df.withColumn(\"new_price\",                                      \n",
    "(house_prices_with_inflation_df.price * (1 +\n",
    "        house_prices_with_inflation_df.inflation/100.)))"
   ]
  },
  {
   "cell_type": "code",
   "execution_count": 75,
   "metadata": {},
   "outputs": [
    {
     "name": "stdout",
     "output_type": "stream",
     "text": [
      "+------------+--------+--------+---------+------------------+\n",
      "|neighborhood|   price|bedrooms|inflation|         new_price|\n",
      "+------------+--------+--------+---------+------------------+\n",
      "|    Downtown|400000.0|       3|      2.1|408399.99999999994|\n",
      "|    Downtown|240000.0|       2|      2.1|245039.99999999997|\n",
      "|     Hilltop|650000.0|       3|      4.5|          679250.0|\n",
      "+------------+--------+--------+---------+------------------+\n",
      "\n"
     ]
    }
   ],
   "source": [
    "house_prices_nextyear_df.show()"
   ]
  },
  {
   "cell_type": "code",
   "execution_count": 76,
   "metadata": {},
   "outputs": [],
   "source": [
    "house_prices_nextyear_df = house_prices_with_inflation_df.withColumn(\"new_price\",                                      \n",
    "    (house_prices_with_inflation_df.price * (1 + house_prices_with_inflation_df.inflation/100.)).cast(\"int\"))"
   ]
  },
  {
   "cell_type": "code",
   "execution_count": 77,
   "metadata": {},
   "outputs": [
    {
     "name": "stdout",
     "output_type": "stream",
     "text": [
      "+------------+--------+--------+---------+---------+\n",
      "|neighborhood|   price|bedrooms|inflation|new_price|\n",
      "+------------+--------+--------+---------+---------+\n",
      "|    Downtown|400000.0|       3|      2.1|   408399|\n",
      "|    Downtown|240000.0|       2|      2.1|   245039|\n",
      "|     Hilltop|650000.0|       3|      4.5|   679250|\n",
      "+------------+--------+--------+---------+---------+\n",
      "\n"
     ]
    }
   ],
   "source": [
    "house_prices_nextyear_df.show()"
   ]
  },
  {
   "cell_type": "code",
   "execution_count": 78,
   "metadata": {},
   "outputs": [
    {
     "name": "stdout",
     "output_type": "stream",
     "text": [
      "+------------+--------------+\n",
      "|neighborhood|sum(new_price)|\n",
      "+------------+--------------+\n",
      "|    Downtown|        653438|\n",
      "|     Hilltop|        679250|\n",
      "+------------+--------------+\n",
      "\n"
     ]
    }
   ],
   "source": [
    "house_prices_nextyear_df.groupBy(\"neighborhood\").sum(\"new_price\").show()"
   ]
  },
  {
   "cell_type": "code",
   "execution_count": null,
   "metadata": {},
   "outputs": [],
   "source": []
  }
 ],
 "metadata": {
  "kernelspec": {
   "display_name": "PySpark (Spark 2.2.0)",
   "language": "python",
   "name": "pyspark"
  },
  "language_info": {
   "codemirror_mode": {
    "name": "ipython",
    "version": 3
   },
   "file_extension": ".py",
   "mimetype": "text/x-python",
   "name": "python",
   "nbconvert_exporter": "python",
   "pygments_lexer": "ipython3",
   "version": "3.6.0"
  }
 },
 "nbformat": 4,
 "nbformat_minor": 2
}
