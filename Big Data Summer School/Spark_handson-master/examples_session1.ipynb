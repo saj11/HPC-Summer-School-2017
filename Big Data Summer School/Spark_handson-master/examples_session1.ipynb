{
 "cells": [
  {
   "cell_type": "markdown",
   "metadata": {},
   "source": [
    "### There are multiple ways to create RDDs in Spark:\n",
    "-Parallelizing already existing collection in driver program.\n",
    "\n",
    "-From a dataset in an external storage system (e.g. HDFS, Hbase, shared file system).\n",
    "\n",
    "-From already existing RDDs."
   ]
  },
  {
   "cell_type": "markdown",
   "metadata": {},
   "source": [
    "#### Example parallelize statement"
   ]
  },
  {
   "cell_type": "code",
   "execution_count": 1,
   "metadata": {},
   "outputs": [],
   "source": [
    "import string"
   ]
  },
  {
   "cell_type": "code",
   "execution_count": 2,
   "metadata": {},
   "outputs": [],
   "source": [
    "import random"
   ]
  },
  {
   "cell_type": "code",
   "execution_count": 3,
   "metadata": {},
   "outputs": [],
   "source": [
    "def id_generator(size=6, chars=string.ascii_uppercase + string.digits):\n",
    "...    return ''.join(random.choice(chars) for _ in range(size))\n",
    "..."
   ]
  },
  {
   "cell_type": "code",
   "execution_count": 4,
   "metadata": {},
   "outputs": [],
   "source": [
    "my_list = list()"
   ]
  },
  {
   "cell_type": "code",
   "execution_count": 5,
   "metadata": {},
   "outputs": [],
   "source": [
    "for i in range(1, 10):\n",
    "...   my_list.append(id_generator())\n",
    "... "
   ]
  },
  {
   "cell_type": "code",
   "execution_count": 6,
   "metadata": {},
   "outputs": [
    {
     "data": {
      "text/plain": [
       "['V88GTW',\n",
       " 'HTMZOE',\n",
       " 'UEMZB0',\n",
       " '1JOUNE',\n",
       " '9W9EXV',\n",
       " 'WUBRAZ',\n",
       " 'TUIF3E',\n",
       " '7LXFRM',\n",
       " 'A7551C']"
      ]
     },
     "execution_count": 6,
     "metadata": {},
     "output_type": "execute_result"
    }
   ],
   "source": [
    "my_list"
   ]
  },
  {
   "cell_type": "code",
   "execution_count": 7,
   "metadata": {},
   "outputs": [],
   "source": [
    "test1_RDD = sc.parallelize(my_list)"
   ]
  },
  {
   "cell_type": "code",
   "execution_count": 8,
   "metadata": {},
   "outputs": [
    {
     "data": {
      "text/plain": [
       "['V88GTW',\n",
       " 'HTMZOE',\n",
       " 'UEMZB0',\n",
       " '1JOUNE',\n",
       " '9W9EXV',\n",
       " 'WUBRAZ',\n",
       " 'TUIF3E',\n",
       " '7LXFRM',\n",
       " 'A7551C']"
      ]
     },
     "execution_count": 8,
     "metadata": {},
     "output_type": "execute_result"
    }
   ],
   "source": [
    "test1_RDD.collect()"
   ]
  },
  {
   "cell_type": "markdown",
   "metadata": {},
   "source": [
    "#### From a dataset on filesystem. Here we read a csv file"
   ]
  },
  {
   "cell_type": "code",
   "execution_count": 9,
   "metadata": {},
   "outputs": [],
   "source": [
    "data_file = \"./mtcars.csv\""
   ]
  },
  {
   "cell_type": "code",
   "execution_count": 10,
   "metadata": {},
   "outputs": [],
   "source": [
    "data_from_file=sc.textFile(data_file)"
   ]
  },
  {
   "cell_type": "code",
   "execution_count": 11,
   "metadata": {},
   "outputs": [
    {
     "data": {
      "text/plain": [
       "./mtcars.csv MapPartitionsRDD[2] at textFile at NativeMethodAccessorImpl.java:0"
      ]
     },
     "execution_count": 11,
     "metadata": {},
     "output_type": "execute_result"
    }
   ],
   "source": [
    "data_from_file"
   ]
  },
  {
   "cell_type": "code",
   "execution_count": 12,
   "metadata": {},
   "outputs": [
    {
     "data": {
      "text/plain": [
       "['model,mpg,cyl,disp,hp,drat,wt,qsec,vs,am,gear,carb',\n",
       " 'Mazda RX4,21,6,160,110,3.9,2.62,16.46,0,1,4,4',\n",
       " 'Mazda RX4 Wag,21,6,160,110,3.9,2.875,17.02,0,1,4,4',\n",
       " 'Datsun 710,22.8,4,108,93,3.85,2.32,18.61,1,1,4,1',\n",
       " 'Hornet 4 Drive,21.4,6,258,110,3.08,3.215,19.44,1,0,3,1',\n",
       " 'Hornet Sportabout,18.7,8,360,175,3.15,3.44,17.02,0,0,3,2',\n",
       " 'Valiant,18.1,6,225,105,2.76,3.46,20.22,1,0,3,1',\n",
       " 'Duster 360,14.3,8,360,245,3.21,3.57,15.84,0,0,3,4',\n",
       " 'Merc 240D,24.4,4,146.7,62,3.69,3.19,20,1,0,4,2',\n",
       " 'Merc 230,22.8,4,140.8,95,3.92,3.15,22.9,1,0,4,2',\n",
       " 'Merc 280,19.2,6,167.6,123,3.92,3.44,18.3,1,0,4,4',\n",
       " 'Merc 280C,17.8,6,167.6,123,3.92,3.44,18.9,1,0,4,4',\n",
       " 'Merc 450SE,16.4,8,275.8,180,3.07,4.07,17.4,0,0,3,3',\n",
       " 'Merc 450SL,17.3,8,275.8,180,3.07,3.73,17.6,0,0,3,3',\n",
       " 'Merc 450SLC,15.2,8,275.8,180,3.07,3.78,18,0,0,3,3',\n",
       " 'Cadillac Fleetwood,10.4,8,472,205,2.93,5.25,17.98,0,0,3,4',\n",
       " 'Lincoln Continental,10.4,8,460,215,3,5.424,17.82,0,0,3,4',\n",
       " 'Chrysler Imperial,14.7,8,440,230,3.23,5.345,17.42,0,0,3,4',\n",
       " 'Fiat 128,32.4,4,78.7,66,4.08,2.2,19.47,1,1,4,1',\n",
       " 'Honda Civic,30.4,4,75.7,52,4.93,1.615,18.52,1,1,4,2',\n",
       " 'Toyota Corolla,33.9,4,71.1,65,4.22,1.835,19.9,1,1,4,1',\n",
       " 'Toyota Corona,21.5,4,120.1,97,3.7,2.465,20.01,1,0,3,1',\n",
       " 'Dodge Challenger,15.5,8,318,150,2.76,3.52,16.87,0,0,3,2',\n",
       " 'AMC Javelin,15.2,8,304,150,3.15,3.435,17.3,0,0,3,2',\n",
       " 'Camaro Z28,13.3,8,350,245,3.73,3.84,15.41,0,0,3,4',\n",
       " 'Pontiac Firebird,19.2,8,400,175,3.08,3.845,17.05,0,0,3,2',\n",
       " 'Fiat X1-9,27.3,4,79,66,4.08,1.935,18.9,1,1,4,1',\n",
       " 'Porsche 914-2,26,4,120.3,91,4.43,2.14,16.7,0,1,5,2',\n",
       " 'Lotus Europa,30.4,4,95.1,113,3.77,1.513,16.9,1,1,5,2',\n",
       " 'Ford Pantera L,15.8,8,351,264,4.22,3.17,14.5,0,1,5,4',\n",
       " 'Ferrari Dino,19.7,6,145,175,3.62,2.77,15.5,0,1,5,6',\n",
       " 'Maserati Bora,15,8,301,335,3.54,3.57,14.6,0,1,5,8',\n",
       " 'Volvo 142E,21.4,4,121,109,4.11,2.78,18.6,1,1,4,2']"
      ]
     },
     "execution_count": 12,
     "metadata": {},
     "output_type": "execute_result"
    }
   ],
   "source": [
    "data_from_file.collect()"
   ]
  },
  {
   "cell_type": "markdown",
   "metadata": {},
   "source": [
    "This still needs some processing to make it usable. Can do something different:"
   ]
  },
  {
   "cell_type": "code",
   "execution_count": 13,
   "metadata": {},
   "outputs": [],
   "source": [
    "mtcars=sqlContext.read.format('csv').options(header='true', inferSchema='true').load('./mtcars.csv')"
   ]
  },
  {
   "cell_type": "code",
   "execution_count": 14,
   "metadata": {},
   "outputs": [
    {
     "data": {
      "text/plain": [
       "[Row(model='Mazda RX4', mpg=21.0, cyl=6, disp=160.0, hp=110, drat=3.9, wt=2.62, qsec=16.46, vs=0, am=1, gear=4, carb=4),\n",
       " Row(model='Mazda RX4 Wag', mpg=21.0, cyl=6, disp=160.0, hp=110, drat=3.9, wt=2.875, qsec=17.02, vs=0, am=1, gear=4, carb=4),\n",
       " Row(model='Datsun 710', mpg=22.8, cyl=4, disp=108.0, hp=93, drat=3.85, wt=2.32, qsec=18.61, vs=1, am=1, gear=4, carb=1),\n",
       " Row(model='Hornet 4 Drive', mpg=21.4, cyl=6, disp=258.0, hp=110, drat=3.08, wt=3.215, qsec=19.44, vs=1, am=0, gear=3, carb=1),\n",
       " Row(model='Hornet Sportabout', mpg=18.7, cyl=8, disp=360.0, hp=175, drat=3.15, wt=3.44, qsec=17.02, vs=0, am=0, gear=3, carb=2),\n",
       " Row(model='Valiant', mpg=18.1, cyl=6, disp=225.0, hp=105, drat=2.76, wt=3.46, qsec=20.22, vs=1, am=0, gear=3, carb=1),\n",
       " Row(model='Duster 360', mpg=14.3, cyl=8, disp=360.0, hp=245, drat=3.21, wt=3.57, qsec=15.84, vs=0, am=0, gear=3, carb=4),\n",
       " Row(model='Merc 240D', mpg=24.4, cyl=4, disp=146.7, hp=62, drat=3.69, wt=3.19, qsec=20.0, vs=1, am=0, gear=4, carb=2),\n",
       " Row(model='Merc 230', mpg=22.8, cyl=4, disp=140.8, hp=95, drat=3.92, wt=3.15, qsec=22.9, vs=1, am=0, gear=4, carb=2),\n",
       " Row(model='Merc 280', mpg=19.2, cyl=6, disp=167.6, hp=123, drat=3.92, wt=3.44, qsec=18.3, vs=1, am=0, gear=4, carb=4),\n",
       " Row(model='Merc 280C', mpg=17.8, cyl=6, disp=167.6, hp=123, drat=3.92, wt=3.44, qsec=18.9, vs=1, am=0, gear=4, carb=4),\n",
       " Row(model='Merc 450SE', mpg=16.4, cyl=8, disp=275.8, hp=180, drat=3.07, wt=4.07, qsec=17.4, vs=0, am=0, gear=3, carb=3),\n",
       " Row(model='Merc 450SL', mpg=17.3, cyl=8, disp=275.8, hp=180, drat=3.07, wt=3.73, qsec=17.6, vs=0, am=0, gear=3, carb=3),\n",
       " Row(model='Merc 450SLC', mpg=15.2, cyl=8, disp=275.8, hp=180, drat=3.07, wt=3.78, qsec=18.0, vs=0, am=0, gear=3, carb=3),\n",
       " Row(model='Cadillac Fleetwood', mpg=10.4, cyl=8, disp=472.0, hp=205, drat=2.93, wt=5.25, qsec=17.98, vs=0, am=0, gear=3, carb=4),\n",
       " Row(model='Lincoln Continental', mpg=10.4, cyl=8, disp=460.0, hp=215, drat=3.0, wt=5.424, qsec=17.82, vs=0, am=0, gear=3, carb=4),\n",
       " Row(model='Chrysler Imperial', mpg=14.7, cyl=8, disp=440.0, hp=230, drat=3.23, wt=5.345, qsec=17.42, vs=0, am=0, gear=3, carb=4),\n",
       " Row(model='Fiat 128', mpg=32.4, cyl=4, disp=78.7, hp=66, drat=4.08, wt=2.2, qsec=19.47, vs=1, am=1, gear=4, carb=1),\n",
       " Row(model='Honda Civic', mpg=30.4, cyl=4, disp=75.7, hp=52, drat=4.93, wt=1.615, qsec=18.52, vs=1, am=1, gear=4, carb=2),\n",
       " Row(model='Toyota Corolla', mpg=33.9, cyl=4, disp=71.1, hp=65, drat=4.22, wt=1.835, qsec=19.9, vs=1, am=1, gear=4, carb=1),\n",
       " Row(model='Toyota Corona', mpg=21.5, cyl=4, disp=120.1, hp=97, drat=3.7, wt=2.465, qsec=20.01, vs=1, am=0, gear=3, carb=1),\n",
       " Row(model='Dodge Challenger', mpg=15.5, cyl=8, disp=318.0, hp=150, drat=2.76, wt=3.52, qsec=16.87, vs=0, am=0, gear=3, carb=2),\n",
       " Row(model='AMC Javelin', mpg=15.2, cyl=8, disp=304.0, hp=150, drat=3.15, wt=3.435, qsec=17.3, vs=0, am=0, gear=3, carb=2),\n",
       " Row(model='Camaro Z28', mpg=13.3, cyl=8, disp=350.0, hp=245, drat=3.73, wt=3.84, qsec=15.41, vs=0, am=0, gear=3, carb=4),\n",
       " Row(model='Pontiac Firebird', mpg=19.2, cyl=8, disp=400.0, hp=175, drat=3.08, wt=3.845, qsec=17.05, vs=0, am=0, gear=3, carb=2),\n",
       " Row(model='Fiat X1-9', mpg=27.3, cyl=4, disp=79.0, hp=66, drat=4.08, wt=1.935, qsec=18.9, vs=1, am=1, gear=4, carb=1),\n",
       " Row(model='Porsche 914-2', mpg=26.0, cyl=4, disp=120.3, hp=91, drat=4.43, wt=2.14, qsec=16.7, vs=0, am=1, gear=5, carb=2),\n",
       " Row(model='Lotus Europa', mpg=30.4, cyl=4, disp=95.1, hp=113, drat=3.77, wt=1.513, qsec=16.9, vs=1, am=1, gear=5, carb=2),\n",
       " Row(model='Ford Pantera L', mpg=15.8, cyl=8, disp=351.0, hp=264, drat=4.22, wt=3.17, qsec=14.5, vs=0, am=1, gear=5, carb=4),\n",
       " Row(model='Ferrari Dino', mpg=19.7, cyl=6, disp=145.0, hp=175, drat=3.62, wt=2.77, qsec=15.5, vs=0, am=1, gear=5, carb=6),\n",
       " Row(model='Maserati Bora', mpg=15.0, cyl=8, disp=301.0, hp=335, drat=3.54, wt=3.57, qsec=14.6, vs=0, am=1, gear=5, carb=8),\n",
       " Row(model='Volvo 142E', mpg=21.4, cyl=4, disp=121.0, hp=109, drat=4.11, wt=2.78, qsec=18.6, vs=1, am=1, gear=4, carb=2)]"
      ]
     },
     "execution_count": 14,
     "metadata": {},
     "output_type": "execute_result"
    }
   ],
   "source": [
    "mtcars.collect()"
   ]
  },
  {
   "cell_type": "code",
   "execution_count": 15,
   "metadata": {},
   "outputs": [
    {
     "name": "stdout",
     "output_type": "stream",
     "text": [
      "+--------------+----+---+-----+---+----+-----+-----+---+---+----+----+\n",
      "|         model| mpg|cyl| disp| hp|drat|   wt| qsec| vs| am|gear|carb|\n",
      "+--------------+----+---+-----+---+----+-----+-----+---+---+----+----+\n",
      "|     Mazda RX4|21.0|  6|160.0|110| 3.9| 2.62|16.46|  0|  1|   4|   4|\n",
      "| Mazda RX4 Wag|21.0|  6|160.0|110| 3.9|2.875|17.02|  0|  1|   4|   4|\n",
      "|    Datsun 710|22.8|  4|108.0| 93|3.85| 2.32|18.61|  1|  1|   4|   1|\n",
      "|Hornet 4 Drive|21.4|  6|258.0|110|3.08|3.215|19.44|  1|  0|   3|   1|\n",
      "+--------------+----+---+-----+---+----+-----+-----+---+---+----+----+\n",
      "only showing top 4 rows\n",
      "\n"
     ]
    }
   ],
   "source": [
    "mtcars.show(4)"
   ]
  },
  {
   "cell_type": "markdown",
   "metadata": {},
   "source": [
    "#### From an existing RDD"
   ]
  },
  {
   "cell_type": "markdown",
   "metadata": {},
   "source": [
    "Transformation function - take an input RDD and produce a new one. Some of the operations applied on RDD are: filter, count, sample, distinct, Map, FlatMap etc. Reminder: RDDs are immutable => The input RDD does change and just a new RDD is created."
   ]
  },
  {
   "cell_type": "code",
   "execution_count": 16,
   "metadata": {},
   "outputs": [],
   "source": [
    "mtcars_sub1=mtcars.select(mtcars['model'], mtcars['mpg'], mtcars['hp'])"
   ]
  },
  {
   "cell_type": "code",
   "execution_count": 17,
   "metadata": {},
   "outputs": [
    {
     "name": "stdout",
     "output_type": "stream",
     "text": [
      "+-------------------+----+---+\n",
      "|              model| mpg| hp|\n",
      "+-------------------+----+---+\n",
      "|          Mazda RX4|21.0|110|\n",
      "|      Mazda RX4 Wag|21.0|110|\n",
      "|         Datsun 710|22.8| 93|\n",
      "|     Hornet 4 Drive|21.4|110|\n",
      "|  Hornet Sportabout|18.7|175|\n",
      "|            Valiant|18.1|105|\n",
      "|         Duster 360|14.3|245|\n",
      "|          Merc 240D|24.4| 62|\n",
      "|           Merc 230|22.8| 95|\n",
      "|           Merc 280|19.2|123|\n",
      "|          Merc 280C|17.8|123|\n",
      "|         Merc 450SE|16.4|180|\n",
      "|         Merc 450SL|17.3|180|\n",
      "|        Merc 450SLC|15.2|180|\n",
      "| Cadillac Fleetwood|10.4|205|\n",
      "|Lincoln Continental|10.4|215|\n",
      "|  Chrysler Imperial|14.7|230|\n",
      "|           Fiat 128|32.4| 66|\n",
      "|        Honda Civic|30.4| 52|\n",
      "|     Toyota Corolla|33.9| 65|\n",
      "+-------------------+----+---+\n",
      "only showing top 20 rows\n",
      "\n"
     ]
    }
   ],
   "source": [
    "mtcars_sub1.show()"
   ]
  },
  {
   "cell_type": "markdown",
   "metadata": {},
   "source": [
    "### Examples of Transformations"
   ]
  },
  {
   "cell_type": "code",
   "execution_count": 18,
   "metadata": {},
   "outputs": [],
   "source": [
    "x = sc.parallelize(range(0,20), 2)"
   ]
  },
  {
   "cell_type": "code",
   "execution_count": 19,
   "metadata": {},
   "outputs": [
    {
     "data": {
      "text/plain": [
       "[0, 1, 2, 3, 4, 5, 6, 7, 8, 9, 10, 11, 12, 13, 14, 15, 16, 17, 18, 19]"
      ]
     },
     "execution_count": 19,
     "metadata": {},
     "output_type": "execute_result"
    }
   ],
   "source": [
    "x.collect()"
   ]
  },
  {
   "cell_type": "code",
   "execution_count": 20,
   "metadata": {},
   "outputs": [],
   "source": [
    "y = x.filter(lambda x: x % 2 == 0)"
   ]
  },
  {
   "cell_type": "code",
   "execution_count": 21,
   "metadata": {},
   "outputs": [
    {
     "data": {
      "text/plain": [
       "[0, 2, 4, 6, 8, 10, 12, 14, 16, 18]"
      ]
     },
     "execution_count": 21,
     "metadata": {},
     "output_type": "execute_result"
    }
   ],
   "source": [
    "y.collect()"
   ]
  },
  {
   "cell_type": "code",
   "execution_count": 22,
   "metadata": {},
   "outputs": [
    {
     "data": {
      "text/plain": [
       "[1, 2, 3, 4, 5, 6, 7, 8, 9]"
      ]
     },
     "execution_count": 22,
     "metadata": {},
     "output_type": "execute_result"
    }
   ],
   "source": [
    "rdd1 = sc.parallelize([1, 2, 3])\n",
    "rdd2 = sc.parallelize([4, 5, 6])\n",
    "rdd3 = sc.parallelize([7, 8, 9])\n",
    "\n",
    "rdd = sc.union([rdd1, rdd2, rdd3])\n",
    "rdd.collect()"
   ]
  },
  {
   "cell_type": "markdown",
   "metadata": {},
   "source": [
    "### Examples of Actions"
   ]
  },
  {
   "cell_type": "markdown",
   "metadata": {},
   "source": [
    "We already saw the \"collect\" action above. Lets check some more:"
   ]
  },
  {
   "cell_type": "code",
   "execution_count": 23,
   "metadata": {},
   "outputs": [
    {
     "data": {
      "text/plain": [
       "10"
      ]
     },
     "execution_count": 23,
     "metadata": {},
     "output_type": "execute_result"
    }
   ],
   "source": [
    "y.count()"
   ]
  },
  {
   "cell_type": "code",
   "execution_count": 24,
   "metadata": {},
   "outputs": [
    {
     "data": {
      "text/plain": [
       "[0, 2, 4, 6, 8]"
      ]
     },
     "execution_count": 24,
     "metadata": {},
     "output_type": "execute_result"
    }
   ],
   "source": [
    "y.take(5)"
   ]
  },
  {
   "cell_type": "code",
   "execution_count": 25,
   "metadata": {},
   "outputs": [
    {
     "data": {
      "text/plain": [
       "0"
      ]
     },
     "execution_count": 25,
     "metadata": {},
     "output_type": "execute_result"
    }
   ],
   "source": [
    "y.first()"
   ]
  },
  {
   "cell_type": "code",
   "execution_count": 26,
   "metadata": {},
   "outputs": [],
   "source": [
    "z=x.reduce(lambda accum, n: accum + n)"
   ]
  },
  {
   "cell_type": "code",
   "execution_count": 27,
   "metadata": {},
   "outputs": [
    {
     "data": {
      "text/plain": [
       "190"
      ]
     },
     "execution_count": 27,
     "metadata": {},
     "output_type": "execute_result"
    }
   ],
   "source": [
    "z"
   ]
  },
  {
   "cell_type": "code",
   "execution_count": 28,
   "metadata": {},
   "outputs": [],
   "source": [
    "x1 = sc.parallelize(range(1,5), 2)"
   ]
  },
  {
   "cell_type": "code",
   "execution_count": 29,
   "metadata": {},
   "outputs": [],
   "source": [
    "w=x1.reduce(lambda accum, n: accum * n)"
   ]
  },
  {
   "cell_type": "code",
   "execution_count": 30,
   "metadata": {},
   "outputs": [
    {
     "data": {
      "text/plain": [
       "24"
      ]
     },
     "execution_count": 30,
     "metadata": {},
     "output_type": "execute_result"
    }
   ],
   "source": [
    "w"
   ]
  },
  {
   "cell_type": "markdown",
   "metadata": {},
   "source": [
    "## Full Examples"
   ]
  },
  {
   "cell_type": "markdown",
   "metadata": {},
   "source": [
    "### Calculate the value of PI (from Spark examples)"
   ]
  },
  {
   "cell_type": "code",
   "execution_count": 31,
   "metadata": {},
   "outputs": [
    {
     "name": "stdout",
     "output_type": "stream",
     "text": [
      "Pi is roughly 3.134480\n"
     ]
    }
   ],
   "source": [
    "from random import random\n",
    "from operator import add\n",
    "\n",
    "partitions = 4\n",
    "n = 100000 * partitions\n",
    "\n",
    "def f(_):\n",
    "    x = random() * 2 - 1\n",
    "    y = random() * 2 - 1\n",
    "    return 1 if x ** 2 + y ** 2 <= 1 else 0\n",
    "\n",
    "count = sc.parallelize(range(1, n + 1), partitions).map(f).reduce(add)\n",
    "print(\"Pi is roughly %f\" % (4.0 * count / n))"
   ]
  },
  {
   "cell_type": "markdown",
   "metadata": {},
   "source": [
    "### Housing data example "
   ]
  },
  {
   "cell_type": "markdown",
   "metadata": {},
   "source": [
    "#### Data: houses number of bedrooms, neighborhood, price\n",
    "\n",
    "Find the total dollar amount of properties on sale for each neighborhood"
   ]
  },
  {
   "cell_type": "code",
   "execution_count": 32,
   "metadata": {},
   "outputs": [],
   "source": [
    "text_RDD = sc.parallelize([\n",
    "                            \"3 Downtown 400000\",\n",
    "                            \"2 Downtown 240000\",\n",
    "                            \"3 Hilltop 650000\"\n",
    "                          ], 2)"
   ]
  },
  {
   "cell_type": "markdown",
   "metadata": {},
   "source": [
    "#### Mapper: parse each line into a (key, value) pair"
   ]
  },
  {
   "cell_type": "code",
   "execution_count": 33,
   "metadata": {},
   "outputs": [
    {
     "data": {
      "text/plain": [
       "['3 Downtown 400000', '2 Downtown 240000', '3 Hilltop 650000']"
      ]
     },
     "execution_count": 33,
     "metadata": {},
     "output_type": "execute_result"
    }
   ],
   "source": [
    "text_RDD.collect()"
   ]
  },
  {
   "cell_type": "code",
   "execution_count": 34,
   "metadata": {},
   "outputs": [],
   "source": [
    "def mapper_parse_lines(line):\n",
    "    \"\"\"Parse line into (neighborhoood, price) pair\"\"\"\n",
    "    words = line.split()\n",
    "    return (words[1], float(words[2]))"
   ]
  },
  {
   "cell_type": "code",
   "execution_count": 35,
   "metadata": {},
   "outputs": [
    {
     "data": {
      "text/plain": [
       "('Downtown', 120000.0)"
      ]
     },
     "execution_count": 35,
     "metadata": {},
     "output_type": "execute_result"
    }
   ],
   "source": [
    "mapper_parse_lines(\"1 Downtown 120000\")"
   ]
  },
  {
   "cell_type": "code",
   "execution_count": 36,
   "metadata": {},
   "outputs": [],
   "source": [
    "house_prices_RDD = text_RDD.map(mapper_parse_lines)"
   ]
  },
  {
   "cell_type": "code",
   "execution_count": 37,
   "metadata": {},
   "outputs": [
    {
     "data": {
      "text/plain": [
       "[('Downtown', 400000.0), ('Downtown', 240000.0), ('Hilltop', 650000.0)]"
      ]
     },
     "execution_count": 37,
     "metadata": {},
     "output_type": "execute_result"
    }
   ],
   "source": [
    "house_prices_RDD.collect()"
   ]
  },
  {
   "cell_type": "code",
   "execution_count": 38,
   "metadata": {},
   "outputs": [
    {
     "data": {
      "text/plain": [
       "pyspark.rdd.PipelinedRDD"
      ]
     },
     "execution_count": 38,
     "metadata": {},
     "output_type": "execute_result"
    }
   ],
   "source": [
    "type(house_prices_RDD)"
   ]
  },
  {
   "cell_type": "markdown",
   "metadata": {},
   "source": [
    "#### Reducer: sum values across all pairs with the same key"
   ]
  },
  {
   "cell_type": "code",
   "execution_count": 39,
   "metadata": {},
   "outputs": [],
   "source": [
    "def reducer_sum(a,b):\n",
    "    return a+b"
   ]
  },
  {
   "cell_type": "code",
   "execution_count": 40,
   "metadata": {},
   "outputs": [
    {
     "data": {
      "text/plain": [
       "PythonRDD[41] at RDD at PythonRDD.scala:48"
      ]
     },
     "execution_count": 40,
     "metadata": {},
     "output_type": "execute_result"
    }
   ],
   "source": [
    "house_prices_RDD.reduceByKey(reducer_sum)"
   ]
  },
  {
   "cell_type": "code",
   "execution_count": 41,
   "metadata": {},
   "outputs": [
    {
     "data": {
      "text/plain": [
       "[('Downtown', 640000.0), ('Hilltop', 650000.0)]"
      ]
     },
     "execution_count": 41,
     "metadata": {},
     "output_type": "execute_result"
    }
   ],
   "source": [
    "house_prices_RDD.reduceByKey(reducer_sum).collect()"
   ]
  },
  {
   "cell_type": "code",
   "execution_count": null,
   "metadata": {},
   "outputs": [],
   "source": []
  },
  {
   "cell_type": "markdown",
   "metadata": {
    "collapsed": true
   },
   "source": [
    "### Exercise\n",
    "Copy-pasting, modifying and rerunning the code above, count the **total** number of bedrooms available in each neighborhood"
   ]
  },
  {
   "cell_type": "code",
   "execution_count": null,
   "metadata": {
    "collapsed": true
   },
   "outputs": [],
   "source": []
  }
 ],
 "metadata": {
  "anaconda-cloud": {},
  "kernelspec": {
   "display_name": "PySpark (Spark 2.2.0)",
   "language": "python",
   "name": "pyspark"
  },
  "language_info": {
   "codemirror_mode": {
    "name": "ipython",
    "version": 3
   },
   "file_extension": ".py",
   "mimetype": "text/x-python",
   "name": "python",
   "nbconvert_exporter": "python",
   "pygments_lexer": "ipython3",
   "version": "3.6.0"
  }
 },
 "nbformat": 4,
 "nbformat_minor": 1
}
