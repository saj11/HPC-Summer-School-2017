{
 "cells": [
  {
   "cell_type": "markdown",
   "metadata": {},
   "source": [
    "# LaTeX math formatting in ipython notebooks"
   ]
  },
  {
   "cell_type": "markdown",
   "metadata": {},
   "source": [
    "## Greek letters"
   ]
  },
  {
   "cell_type": "markdown",
   "metadata": {},
   "source": [
    "All lower case Greek letters are available - preface lower case name with backslash\n",
    "\n",
    "$\\alpha \\beta \\gamma \\delta \\epsilon \\zeta \\eta \\theta$  \n",
    "$\\iota \\kappa \\lambda \\mu \\nu \\xi \\omicron \\pi$  \n",
    "$\\rho \\sigma \\tau \\upsilon \\phi \\chi \\psi \\omega$\n",
    "\n",
    "Only upper case letters that do not have Latin equivalents are provided - preface upper case name with backslash\n",
    "\n",
    "$\\Gamma \\Delta \\Theta$  \n",
    "$\\Lambda \\Xi \\Pi$  \n",
    "$\\Sigma \\Upsilon \\Phi \\Psi \\Omega$"
   ]
  },
  {
   "cell_type": "markdown",
   "metadata": {},
   "source": [
    "## Subscripts, superscripts, fractions and square roots"
   ]
  },
  {
   "cell_type": "markdown",
   "metadata": {},
   "source": [
    "$x^2$\n",
    "$x^{2.5}$\n",
    "$y_1$\n",
    "$y_{ij}$\n",
    "$z^a_b$\n",
    "\n",
    "$\\frac{a}{b}$\n",
    "$\\frac{x^2}{y^2}$\n",
    "\n",
    "$\\sqrt{x}$"
   ]
  },
  {
   "cell_type": "markdown",
   "metadata": {},
   "source": [
    "## Integrals and sums"
   ]
  },
  {
   "cell_type": "markdown",
   "metadata": {},
   "source": [
    "$\\int_a^b f(x)$\n",
    "\n",
    "$\\sum_{i=1}^{n} \\frac{x_i}{y_i}$"
   ]
  },
  {
   "cell_type": "markdown",
   "metadata": {},
   "source": [
    "## Matrices and brackets"
   ]
  },
  {
   "cell_type": "markdown",
   "metadata": {},
   "source": [
    "$\\begin{matrix}\n",
    "a & b \\\\ \n",
    "c & d\n",
    "\\end{matrix}$\n",
    "\n",
    "$\\left[\n",
    "\\begin{matrix}\n",
    "a & b \\\\ \n",
    "c & d\n",
    "\\end{matrix}\n",
    "\\right]$\n",
    "\n",
    "$\\left(\n",
    "\\begin{matrix}\n",
    "a & b \\\\ \n",
    "c & d\n",
    "\\end{matrix}\n",
    "\\right)$"
   ]
  },
  {
   "cell_type": "markdown",
   "metadata": {},
   "source": [
    "## Other math symbols"
   ]
  },
  {
   "cell_type": "markdown",
   "metadata": {},
   "source": [
    "Some examples shown below. Full list available here https://oeis.org/wiki/List_of_LaTeX_mathematical_symbols"
   ]
  },
  {
   "cell_type": "markdown",
   "metadata": {},
   "source": [
    "$\\pm$\n",
    "$\\nabla$\n",
    "$\\leq$\n",
    "$\\geq$\n",
    "$\\leftarrow$\n",
    "$\\rightarrow$"
   ]
  },
  {
   "cell_type": "code",
   "execution_count": null,
   "metadata": {
    "collapsed": true
   },
   "outputs": [],
   "source": []
  }
 ],
 "metadata": {
  "kernelspec": {
   "display_name": "Python 3",
   "language": "python",
   "name": "python3"
  },
  "language_info": {
   "codemirror_mode": {
    "name": "ipython",
    "version": 3
   },
   "file_extension": ".py",
   "mimetype": "text/x-python",
   "name": "python",
   "nbconvert_exporter": "python",
   "pygments_lexer": "ipython3",
   "version": "3.6.3"
  }
 },
 "nbformat": 4,
 "nbformat_minor": 2
}
