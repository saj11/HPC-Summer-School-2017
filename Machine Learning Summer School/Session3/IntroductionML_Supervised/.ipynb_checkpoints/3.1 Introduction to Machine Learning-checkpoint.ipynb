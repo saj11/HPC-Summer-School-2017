{
 "cells": [
  {
   "cell_type": "markdown",
   "metadata": {},
   "source": [
    "# EVeMa 2018\n",
    "\n",
    "![logo](assets/logo.jpg \"Logo\")\n",
    "\n",
    "- Instructor: Žiga Emeršič.\n",
    "\n",
    "- Authors: \n",
    "    - Saúl Calderón, Martín Solís, Ángel García, Blaž Meden, Felipe Meza, Juan Esquivel\n",
    "    - Mauro Méndez, Manuel Zumbado. "
   ]
  },
  {
   "cell_type": "markdown",
   "metadata": {},
   "source": [
    "# Introduction to Machine Learning\n",
    "\n",
    "Machine learning is branch of artificial intelligence. It is defined as the ability for computers to assamble rules based on input data without anyone programming them manually. These automatic describing of relations in data is also called modelling.\n",
    "\n",
    "This description of rules that are found in data is also the result of machine learning. And this can be: simple rule sets, functions, relations, systems of equations, probability distributions, decision trees, regression trees, neural networks, convolutional neural networks etc.\n",
    "\n",
    "What is common to all of them is that they contain some sorts of parameters that need to be set in order to describe relations in data. And the process of setting them is called training - machine learning. The end results is a trained model with these parameters/weights set. Such model can then serve to predict rules on new data, that it has never seen before (if modelled/trained well).\n",
    "\n",
    "The data and therefore predictions can be almost anything. For example, machine learning principles can be applied to:\n",
    "* Predict when a battery will run out, input data: timeline of voltage values.\n",
    "* Predict if a patient's cancer will repeat, input data: a table of patient's health document (height, age, doctors' prognoses etc.).\n",
    "* Tell what the current speed limit is, input data: photo of a street.\n",
    "* Grade the skijumper's performance, input data: video stream.\n",
    "* Estimate health of a plant, input data: soil parameters, temperature and a photo of a plant.\n",
    "* Group online shoppers in groups and based on that customize ads, input data: previous purchases, age, location, gender.\n",
    "\n",
    "http://scikit-learn.org/stable/_static/ml_map.png\n"
   ]
  },
  {
   "cell_type": "markdown",
   "metadata": {},
   "source": [
    "What values (types of data) are we predicting in the previous examples? Do we always now, what we will predict?\n",
    "\n",
    "# Types of Machine Learning Approaches\n",
    "\n",
    "In general we know three main approaches to machine learning: supervised learning, unsupervised learning and reinforcement learning. To answer previous questions, let us dive a little deeper.\n",
    "\n",
    "## Classification\n",
    "This is arguably the most common use of machine learning. Our goal here is to classify a sample based on its data (set of attributes). Attributes can be idependent continuous or discrete values used to describe each sample. Class is a dependent discrete value which is set according to attributes. In previous examples, predicting patients outcome would be a binary classification, whereas each patient consists of continuous and discrete attributes: gender, location of pain, blood pressure etc.\n",
    "\n",
    "The use of methods for classification is wide - from simple decision trees up to deep neural networks.\n",
    "\n",
    "Some of the possible approaches:\n",
    "* Decision Trees and rules\n",
    "* Bayes classifier\n",
    "* Nearest neighbor classfier\n",
    "* Discriminant functions\n",
    "* Artificial neural networks\n",
    "* Support vector machines\n",
    "* Hybrids\n",
    "\n",
    "## Regression\n",
    "The goal of regression is to define a value of the dependant attribute based on independent continous or discrete values. Sounds exactly like classification? Yes, the difference is that the dependent value we are predicting is continuous instead of discrete (still numeric, though). Often we can use the same approaches for both, discrete and continous problems. Furthermore, sometimes it is not clear whether we want to treat certain problem as classification or as regression - remember the task of reading road signs and trying to predict speed limits. Are these values classes of 30, 40, 50, 60, 90, 130, or do we wish to have integer values from 0 to 150?\n",
    "\n",
    "* Regression trees\n",
    "* Linear regression\n",
    "* Locally-weighted regression\n",
    "* Support vector machines in regression\n",
    "* Artificial neural networks\n",
    "* Hybrids\n",
    "\n",
    "## Associations and logical relations\n",
    "In classification we try to derive some discrete function. Learning of logical relations and the derivation of logical relation can be seen as a generalization of discrete function. While functions are one-directional, relations are multi-directional. This means that that the attributes are equivalent to each other.\n",
    "\n",
    "Sometimes some attributes are given, some are missing and we wish to predict the missing attributes. Or all values are present and we want to check if relation is valid or not.\n",
    "\n",
    "\n",
    "## Discovering relations through the systems of equations\n",
    "Discovering relations through systems of equations with mostly continuous numeric data (whereas with ILP we also deal with discrete values and we are mostly interested in logical relations). When describing or modeling some real life events we end up with descriptions of proceses and events that connected and correlated. If we describe them with equations we can use them for predictions also.\n",
    "\n",
    "Equations can be given or we need to also set them. The goal during learning stage is to find the simplest system of equations that describe our problem.\n",
    "\n",
    "This type of modelling is used in meteorology to model weather systems, ecology to model some natural systems etc.\n",
    "\n",
    "## Unsupervised learning\n",
    "\n",
    "The goal of unsupervised learning is to not only to classify, but also to find out what classes are. We start with data that has no definitions of dependent variables on which we rely during classification tasks. We need to defined classes, or the so-called groups, swarms etc.\n",
    "\n",
    "The number of classes can be known, but not necessarily. Generally we have three approaches towards clustering:\n",
    "* Bottom up: each sample is each own class, we then iteratively join the most similar samples.\n",
    "* Top down: all samples one class, iteratively separate into classes until wanted number of classes is achieved.\n",
    "* Random $n$ samples are chosen for cluster centers and then all samples are classified into these clusters.\n",
    "\n",
    "## Reinforcement learning\n",
    "Reinforcement learning deals with the problem of how to learn an autonomous agent in a given evironment to act in a way to achieve all the goals. This type of learning is used for playing games, moving robot though environments etc.\n",
    "\n",
    "<img src=\"files/ReinforcementLearning.png\">\n",
    "\n",
    "\n",
    "# What about Deep Learning?\n",
    "Why did we just go through all that? Are not deep neural networks taking over the world?\n",
    "\n",
    "Although deep-learning based approaches prevail, simpler models are useful not only to better understand machine learning principles, but also to predict data, where only small amounts are available or as a support to larger, more heavy prediction models."
   ]
  },
  {
   "cell_type": "markdown",
   "metadata": {},
   "source": [
    "Authors: *Saul Calderon, Angel García, Blaz Meden, Ziga Emersic, Felipe Meza, Juan Esquivel, Martín Solís, Mauro Mendez, Manuel Zumbado*"
   ]
  },
  {
   "cell_type": "code",
   "execution_count": null,
   "metadata": {},
   "outputs": [],
   "source": []
  }
 ],
 "metadata": {
  "kernelspec": {
   "display_name": "Python 3",
   "language": "python",
   "name": "python3"
  },
  "language_info": {
   "codemirror_mode": {
    "name": "ipython",
    "version": 3
   },
   "file_extension": ".py",
   "mimetype": "text/x-python",
   "name": "python",
   "nbconvert_exporter": "python",
   "pygments_lexer": "ipython3",
   "version": "3.6.5"
  }
 },
 "nbformat": 4,
 "nbformat_minor": 2
}
