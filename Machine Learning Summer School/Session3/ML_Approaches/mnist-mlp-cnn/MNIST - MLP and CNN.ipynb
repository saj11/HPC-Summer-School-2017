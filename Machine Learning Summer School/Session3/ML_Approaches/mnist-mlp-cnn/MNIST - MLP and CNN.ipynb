{
 "cells": [
  {
   "cell_type": "markdown",
   "metadata": {},
   "source": [
    "# EVeMa 2018\n",
    "![title](evema-logo.jpeg)\n",
    "- Instructor: M.Sc. Blaž Meden, M.Sc. Žiga Emeršič\n",
    "\n",
    "- Authors: \n",
    "    - Saúl Calderón, Žiga Emeršič, Ángel García, Blaž Meden, Felipe Meza, Juan Esquivel, Martín Solís\n",
    "    - Mauro Méndez, Manuel Zumbado. \n",
    "    \n",
    "# MNIST Classification with MLP and CNN"
   ]
  },
  {
   "cell_type": "markdown",
   "metadata": {},
   "source": [
    "## Dataset"
   ]
  },
  {
   "cell_type": "code",
   "execution_count": 1,
   "metadata": {},
   "outputs": [
    {
     "name": "stderr",
     "output_type": "stream",
     "text": [
      "/usr/local/lib/python3.6/site-packages/h5py/__init__.py:36: FutureWarning: Conversion of the second argument of issubdtype from `float` to `np.floating` is deprecated. In future, it will be treated as `np.float64 == np.dtype(float).type`.\n",
      "  from ._conv import register_converters as _register_converters\n",
      "Using TensorFlow backend.\n"
     ]
    },
    {
     "name": "stdout",
     "output_type": "stream",
     "text": [
      "Downloading data from https://s3.amazonaws.com/img-datasets/mnist.npz\n",
      "11493376/11490434 [==============================] - 5s 0us/step\n"
     ]
    }
   ],
   "source": [
    "from __future__ import print_function\n",
    "\n",
    "import keras\n",
    "from keras.datasets import mnist\n",
    "from keras.models import Sequential\n",
    "from keras.layers import Dense, Dropout, Conv2D, MaxPooling2D, Flatten\n",
    "from keras.optimizers import RMSprop\n",
    "\n",
    "batch_size = 128\n",
    "num_classes = 10\n",
    "epochs = 10\n",
    "\n",
    "# the data, split between train and test sets\n",
    "(x_train, y_train), (x_test, y_test) = mnist.load_data()\n",
    "\n"
   ]
  },
  {
   "cell_type": "code",
   "execution_count": 3,
   "metadata": {},
   "outputs": [
    {
     "data": {
      "image/png": "[encoded data removed]",
      "text/plain": [
       "<matplotlib.figure.Figure at 0x7f9a9a696fd0>"
      ]
     },
     "metadata": {},
     "output_type": "display_data"
    }
   ],
   "source": [
    "import matplotlib.pyplot as plt\n",
    "\n",
    "fig = plt.figure(figsize=(15, 15))\n",
    "\n",
    "plt.title('MNIST Dataset Samples')\n",
    "\n",
    "for i in range(9):\n",
    "    plt.subplot('19'+str(i+1))\n",
    "    plt.imshow(x_train[i], cmap='gray')\n",
    "\n",
    "plt.show()"
   ]
  },
  {
   "cell_type": "markdown",
   "metadata": {},
   "source": [
    "## Data Preparation and Normalization"
   ]
  },
  {
   "cell_type": "code",
   "execution_count": 4,
   "metadata": {},
   "outputs": [
    {
     "name": "stdout",
     "output_type": "stream",
     "text": [
      "60000 train samples\n",
      "10000 test samples\n"
     ]
    }
   ],
   "source": [
    "\n",
    "# For training MLP model we need 1D flattened images\n",
    "x_train = x_train.reshape(60000, 784)\n",
    "x_test = x_test.reshape(10000, 784)\n",
    "\n",
    "x_train = x_train.astype('float32')\n",
    "x_test = x_test.astype('float32')\n",
    "x_train /= 255\n",
    "x_test /= 255\n",
    "print(x_train.shape[0], 'train samples')\n",
    "print(x_test.shape[0], 'test samples')\n",
    "\n",
    "# For training CNN model we need 2D image tensors\n",
    "img_rows = img_cols = 28\n",
    "x_train_cnn = x_train.reshape(x_train.shape[0], img_rows, img_cols, 1)\n",
    "x_test_cnn = x_test.reshape(x_test.shape[0], img_rows, img_cols, 1)\n",
    "input_shape = (img_rows, img_cols, 1)\n",
    "\n",
    "\n",
    "# convert class vectors to binary class matrices\n",
    "y_train = keras.utils.to_categorical(y_train, num_classes)\n",
    "y_test = keras.utils.to_categorical(y_test, num_classes)"
   ]
  },
  {
   "cell_type": "markdown",
   "metadata": {},
   "source": [
    "## Preparing Model"
   ]
  },
  {
   "cell_type": "code",
   "execution_count": 5,
   "metadata": {},
   "outputs": [
    {
     "name": "stdout",
     "output_type": "stream",
     "text": [
      "MLP model:\n",
      "_________________________________________________________________\n",
      "Layer (type)                 Output Shape              Param #   \n",
      "=================================================================\n",
      "dense_1 (Dense)              (None, 512)               401920    \n",
      "_________________________________________________________________\n",
      "dropout_1 (Dropout)          (None, 512)               0         \n",
      "_________________________________________________________________\n",
      "dense_2 (Dense)              (None, 512)               262656    \n",
      "_________________________________________________________________\n",
      "dropout_2 (Dropout)          (None, 512)               0         \n",
      "_________________________________________________________________\n",
      "dense_3 (Dense)              (None, 10)                5130      \n",
      "=================================================================\n",
      "Total params: 669,706\n",
      "Trainable params: 669,706\n",
      "Non-trainable params: 0\n",
      "_________________________________________________________________\n",
      "\n",
      "-----------------------------------------------------------------------\n",
      "\n",
      "CNN model:\n",
      "_________________________________________________________________\n",
      "Layer (type)                 Output Shape              Param #   \n",
      "=================================================================\n",
      "conv2d_1 (Conv2D)            (None, 26, 26, 32)        320       \n",
      "_________________________________________________________________\n",
      "conv2d_2 (Conv2D)            (None, 24, 24, 64)        18496     \n",
      "_________________________________________________________________\n",
      "max_pooling2d_1 (MaxPooling2 (None, 12, 12, 64)        0         \n",
      "_________________________________________________________________\n",
      "dropout_3 (Dropout)          (None, 12, 12, 64)        0         \n",
      "_________________________________________________________________\n",
      "flatten_1 (Flatten)          (None, 9216)              0         \n",
      "_________________________________________________________________\n",
      "dense_4 (Dense)              (None, 128)               1179776   \n",
      "_________________________________________________________________\n",
      "dropout_4 (Dropout)          (None, 128)               0         \n",
      "_________________________________________________________________\n",
      "dense_5 (Dense)              (None, 10)                1290      \n",
      "=================================================================\n",
      "Total params: 1,199,882\n",
      "Trainable params: 1,199,882\n",
      "Non-trainable params: 0\n",
      "_________________________________________________________________\n"
     ]
    }
   ],
   "source": [
    "model_mlp = Sequential()\n",
    "model_mlp.add(Dense(512, activation='relu', input_shape=(784,)))\n",
    "model_mlp.add(Dropout(0.2))\n",
    "model_mlp.add(Dense(512, activation='relu'))\n",
    "model_mlp.add(Dropout(0.2))\n",
    "model_mlp.add(Dense(num_classes, activation='softmax'))\n",
    "print(\"MLP model:\")\n",
    "model_mlp.summary()\n",
    "\n",
    "model_mlp.compile(loss='categorical_crossentropy',\n",
    "              optimizer=RMSprop(),\n",
    "              metrics=['accuracy'])\n",
    "print(\"\\n-----------------------------------------------------------------------\\n\")\n",
    "\n",
    "model = Sequential()\n",
    "model.add(Conv2D(32, kernel_size=(3, 3),\n",
    "                 activation='relu',\n",
    "                 input_shape=input_shape))\n",
    "model.add(Conv2D(64, (3, 3), activation='relu'))\n",
    "model.add(MaxPooling2D(pool_size=(2, 2)))\n",
    "model.add(Dropout(0.25))\n",
    "model.add(Flatten())\n",
    "model.add(Dense(128, activation='relu'))\n",
    "model.add(Dropout(0.5))\n",
    "model.add(Dense(num_classes, activation='softmax'))\n",
    "\n",
    "\n",
    "print(\"CNN model:\")\n",
    "model.summary()\n",
    "\n",
    "model.compile(loss=keras.losses.categorical_crossentropy,\n",
    "              optimizer=keras.optimizers.Adadelta(),\n",
    "              metrics=['accuracy'])\n"
   ]
  },
  {
   "cell_type": "markdown",
   "metadata": {},
   "source": [
    "## Training MLP"
   ]
  },
  {
   "cell_type": "code",
   "execution_count": null,
   "metadata": {},
   "outputs": [
    {
     "name": "stdout",
     "output_type": "stream",
     "text": [
      "Train on 60000 samples, validate on 10000 samples\n",
      "Epoch 1/10\n",
      "60000/60000 [==============================] - 168s 3ms/step - loss: 0.2472 - acc: 0.9239 - val_loss: 0.1042 - val_acc: 0.9679\n",
      "Epoch 2/10\n",
      "60000/60000 [==============================] - 143s 2ms/step - loss: 0.1042 - acc: 0.9684 - val_loss: 0.0739 - val_acc: 0.9772\n",
      "Epoch 3/10\n",
      "60000/60000 [==============================] - 139s 2ms/step - loss: 0.0755 - acc: 0.9776 - val_loss: 0.0780 - val_acc: 0.9776\n",
      "Epoch 4/10\n",
      "60000/60000 [==============================] - 141s 2ms/step - loss: 0.0606 - acc: 0.9817 - val_loss: 0.0728 - val_acc: 0.9791\n",
      "Epoch 5/10\n",
      "60000/60000 [==============================] - 144s 2ms/step - loss: 0.0518 - acc: 0.9847 - val_loss: 0.0782 - val_acc: 0.9787\n",
      "Epoch 6/10\n",
      "10752/60000 [====>.........................] - ETA: 1:48 - loss: 0.0428 - acc: 0.9872- ETA: 1:53 - loss: 0.0447 - acc:  - ETA: 1:52 - loss: 0.0430 - acc"
     ]
    }
   ],
   "source": [
    "'''Trains a simple deep NN on the MNIST dataset.\n",
    "Gets to 98.40% test accuracy after 20 epochs\n",
    "(there is *a lot* of margin for parameter tuning).\n",
    "2 seconds per epoch on a K520 GPU.\n",
    "'''\n",
    "\n",
    "history_mlp = model_mlp.fit(x_train, y_train,\n",
    "                    batch_size=batch_size,\n",
    "                    epochs=epochs,\n",
    "                    verbose=1,\n",
    "                    validation_data=(x_test, y_test))\n",
    "print(history_mlp.history)\n",
    "print('Train loss:', history_mlp.history['loss'])\n",
    "loss = history_mlp.history['loss']\n",
    "val_loss = history_mlp.history['val_loss']\n",
    "print('Train accuracy:', history_mlp.history['acc'])\n",
    "print('Test loss:', history_mlp.history['val_loss'])\n",
    "print('Test accuracy:', history_mlp.history['val_acc'])\n",
    "\n",
    "acc = history_mlp.history['acc']\n",
    "val_acc = history_mlp.history['val_acc']\n",
    "x = range(len(acc))\n",
    "\n",
    "plt.figure()\n",
    "plt.title(\"Loss\")\n",
    "plt.plot(x, loss, 'r')\n",
    "plt.plot(x, val_loss, 'r')\n",
    "plt.show()\n",
    "\n",
    "plt.figure()\n",
    "plt.title(\"Accuracy\")\n",
    "plt.plot(x, acc, 'b')\n",
    "plt.plot(x, val_acc, 'r')\n",
    "plt.show()\n",
    "\n",
    "model_mlp.save_weights('mlp_weights.h5')\n",
    "\n",
    "score = model_mlp.evaluate(x_test, y_test, verbose=0)\n",
    "print(score)\n",
    "print('Test loss:', score[0])\n",
    "print('Test accuracy:', score[1])"
   ]
  },
  {
   "cell_type": "markdown",
   "metadata": {},
   "source": [
    "## Training CNN"
   ]
  },
  {
   "cell_type": "code",
   "execution_count": null,
   "metadata": {},
   "outputs": [
    {
     "name": "stdout",
     "output_type": "stream",
     "text": [
      "Train on 60000 samples, validate on 10000 samples\n",
      "Epoch 1/1\n",
      "41728/60000 [===================>..........] - ETA: 16:41 - loss: 0.2979 - acc: 0.9084"
     ]
    }
   ],
   "source": [
    "\n",
    "history = model.fit(x_train_cnn, y_train,\n",
    "          batch_size=batch_size,\n",
    "          epochs=epochs,\n",
    "          verbose=1,\n",
    "          validation_data=(x_test_cnn, y_test))\n",
    "\n",
    "#print(history.history)\n",
    "print('Train loss:', history.history['loss'])\n",
    "loss = history.history['loss']\n",
    "val_loss = history.history['val_loss']\n",
    "print('Train accuracy:', history.history['acc'])\n",
    "print('Test loss:', history.history['val_loss'])\n",
    "print('Test accuracy:', history.history['val_acc'])\n",
    "\n",
    "acc = history.history['acc']\n",
    "val_acc = history.history['val_acc']\n",
    "x = range(len(acc))\n",
    "\n",
    "plt.figure()\n",
    "plt.title(\"Loss\")\n",
    "plt.plot(x, loss, 'r')\n",
    "plt.plot(x, val_loss, 'r')\n",
    "plt.show()\n",
    "\n",
    "plt.figure()\n",
    "plt.title(\"Accuracy\")\n",
    "plt.plot(x, acc, 'b')\n",
    "plt.plot(x, val_acc, 'r')\n",
    "plt.show()\n",
    "\n",
    "model.save_weights('cnn_weights.h5')\n",
    "\n",
    "score = model.evaluate(x_test_cnn, y_test, verbose=0)\n",
    "print('Test loss:', score[0])\n",
    "print('Test accuracy:', score[1])"
   ]
  },
  {
   "cell_type": "markdown",
   "metadata": {},
   "source": [
    "## Prediction"
   ]
  },
  {
   "cell_type": "code",
   "execution_count": null,
   "metadata": {},
   "outputs": [],
   "source": [
    "#model.load_weights(\"saved_weights.h5\")\n",
    "\n",
    "#print(model.predict(training_data).round())\n",
    "#plt.imshow(x_test[i], cmap='gray')\n",
    "#plt.show()\n",
    "\n",
    "prediction_mlp = model_mlp.predict(x_test[0])\n",
    "print(\"MLP prediction: \", prediction_mlp)\n",
    "prediction_cnn = model.predict(x_test_cnn[0])\n",
    "print(\"Cnnediction: \", prediction_cnn"
   ]
  },
  {
   "cell_type": "markdown",
   "metadata": {},
   "source": [
    "Possible applications:\n",
    "    - Recognizing handwritten numbers in browser application: http://myselph.de/neuralNet.html"
   ]
  },
  {
   "cell_type": "markdown",
   "metadata": {},
   "source": [
    "Authors: *Saul Calderon, Angel García, Blaz Meden, Felipe Meza, Juan Esquivel, Martín Solís, Ziga Emersic, Mauro Mendez, Manuel Zumbado*\n",
    "\n",
    "References:\n",
    "    - https://machinelearningmastery.com/handwritten-digit-recognition-using-convolutional-neural-networks-python-keras/\n",
    "    - https://github.com/keras-team/keras/blob/master/examples/mnist_mlp.py\n",
    "    - https://github.com/keras-team/keras/blob/master/examples/mnist_cnn.py"
   ]
  }
 ],
 "metadata": {
  "kernelspec": {
   "display_name": "Python 3",
   "language": "python",
   "name": "python3"
  },
  "language_info": {
   "codemirror_mode": {
    "name": "ipython",
    "version": 3
   },
   "file_extension": ".py",
   "mimetype": "text/x-python",
   "name": "python",
   "nbconvert_exporter": "python",
   "pygments_lexer": "ipython3",
   "version": "3.6.0"
  }
 },
 "nbformat": 4,
 "nbformat_minor": 2
}
