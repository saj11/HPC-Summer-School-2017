{
 "cells": [
  {
   "cell_type": "markdown",
   "metadata": {},
   "source": [
    "# EVeMa 2018\n",
    "\n",
    "![title](evema-logo.jpeg)\n",
    "\n",
    "- Instructor: M.Sc. Blaž Meden.\n",
    "\n",
    "- Authors: \n",
    "    - Saúl Calderón, Žiga Emeršič, Ángel García, Blaž Meden, Felipe Meza, Martín Solís, Juan Esquivel\n",
    "    - Mauro Méndez, Manuel Zumbado. "
   ]
  },
  {
   "cell_type": "markdown",
   "metadata": {},
   "source": [
    "# Vectors: magnitude, direction, norms, dot product, linearity"
   ]
  },
  {
   "cell_type": "markdown",
   "metadata": {},
   "source": [
    "\n",
    "$\\mathbf{Definition:}$ A vector is the ordered $n$-number of numbers (list of numbers) that are usually written as a column:\n",
    "$$$$\n",
    "\n",
    "$$\n",
    "x = \\begin{bmatrix}x_1 \\\\ x_2 \\\\ ... \\\\ x_n\\end{bmatrix}\n",
    "$$\n",
    "\n",
    "$$$$\n",
    "Numbers $x_1, ... , x_n$ are coordinates or components of vector $x$. \n",
    "$$$$\n",
    "Components of a vector are usually real or complex numbers. \n",
    "In the first case there are vectors elements of the $\\mathbb{R}^n$, in the second $\\mathbb{C}^n$."
   ]
  },
  {
   "cell_type": "markdown",
   "metadata": {},
   "source": [
    "\n",
    "We can also represent vectors as directed lines in the $n$-dimensional\n",
    "space.\n",
    "$$$$\n",
    "The two pointed lines are the same when they have the same direction and the same\n",
    "length, and their starting points may be different. Thus, vectors from the set\n",
    "$\\mathbb{R}^2$ is plotted in the coordinate plane so that the directed line runs from the coordinate plane\n",
    "starting point from point A, the coordinates of which are the components of the vector.\n",
    "\n"
   ]
  },
  {
   "cell_type": "markdown",
   "metadata": {},
   "source": [
    "## Operations with vectors\n",
    "### Product of scalar and vector"
   ]
  },
  {
   "cell_type": "markdown",
   "metadata": {},
   "source": [
    "\n",
    "$\\mathbf{Definition:}$ The product of vector $x$ with scalar $\\alpha$ is a vector\n",
    "$$$$\n",
    "$$\n",
    "\\alpha x = \\alpha \\begin{bmatrix}x_1 \\\\ x_2 \\\\ ... \\\\ x_n\\end{bmatrix} = \n",
    "            \\begin{bmatrix} \\alpha x_1 \\\\ \\alpha x_2 \\\\ ... \\\\ \\alpha x_n\\end{bmatrix}\n",
    "$$\n",
    "\n",
    "$$$$\n",
    "\n",
    "Vectors $a$ and $b$ for which there is such a scalar $\\alpha$ that $a = \\alpha b$ or $b = \\alpha a$, are\n",
    "called $\\mathbf{collinear~vectors}$. Collinear vectors (as the name suggests) lie on parallel lines."
   ]
  },
  {
   "cell_type": "markdown",
   "metadata": {},
   "source": [
    "### Sum of vectors"
   ]
  },
  {
   "cell_type": "markdown",
   "metadata": {},
   "source": [
    "\n",
    "$\\mathbf{Definition:}$ The sum of the vectors $x$ and $y$ is a vector\n",
    "$$$$\n",
    "$$\n",
    " x + y = \\begin{bmatrix}x_1 \\\\ x_2 \\\\ ... \\\\ x_n\\end{bmatrix} + \n",
    "         \\begin{bmatrix}y_1 \\\\ y_2 \\\\ ... \\\\ y_n\\end{bmatrix} = \n",
    "         \\begin{bmatrix} x_1 + y_1 \\\\ x_2 + y_2 \\\\ ... \\\\ x_n + y_n \\end{bmatrix}\n",
    "$$\n",
    "$$$$\n",
    "$\\mathbf{Attention!}$ The vectors that we add together must have the same number of components!"
   ]
  },
  {
   "cell_type": "markdown",
   "metadata": {},
   "source": [
    "### Null vector"
   ]
  },
  {
   "cell_type": "markdown",
   "metadata": {},
   "source": [
    "\n",
    "$\\mathbf{Definition:}$ The zero vector $0$ is the vector for which $a + 0 = 0 + a = a$\n",
    "for each vector $a$. All components of the zero vector are equal to $0$. Each\n",
    "the vector a belongs to the opposite vector $-a$, so $a + (-a) = 0$. The difference\n",
    "the vectors $a$ and $b$ are the sum of $a + (-b)$ and are usually written as $a - b$.\n",
    "$$$$\n",
    "$$\n",
    " a + 0 = \\begin{bmatrix}a_1 \\\\ a_2 \\\\ ... \\\\ a_n\\end{bmatrix} + \n",
    "         \\begin{bmatrix} 0 \\\\ 0 \\\\ ... \\\\ 0\\end{bmatrix} = \n",
    "         \\begin{bmatrix} a_1 \\\\ a_2 \\\\ ... \\\\ a_n\\end{bmatrix} = 0 + a = a\n",
    "$$"
   ]
  },
  {
   "cell_type": "markdown",
   "metadata": {},
   "source": [
    "### Properties of vector sum and product with scalar"
   ]
  },
  {
   "cell_type": "markdown",
   "metadata": {},
   "source": [
    "\n",
    "The vector sum and product of a vector with a scalar have some similar properties\n",
    "as the sum and product of the numbers.\n",
    "$$$$\n",
    "$\\mathbf{Property~1:}$ The sum of the vectors is commutative: $a + b = b + a$.\n",
    "$$$$\n",
    "$\\mathbf{Property~2:}$ The sum of the vectors is associative: $a + (b + c) = (a + b) + c $.\n",
    "$$$$\n",
    "$\\mathbf{Property~3:}$ Multiplication of a vector with a scalar is distributive with respect to the sum of\n",
    "vectors: $\\alpha(a + b) = \\alpha a + \\alpha b$ and according to the sum of scalars: $(\\alpha + \\beta)a = \\alpha a + \\beta a$\n",
    "$$$$\n",
    "$\\mathbf{Proof:}$ All three properties are a simple consequence of the corresponding properties of real or complex numbers.\n"
   ]
  },
  {
   "cell_type": "markdown",
   "metadata": {},
   "source": [
    "### Linear combination"
   ]
  },
  {
   "cell_type": "markdown",
   "metadata": {},
   "source": [
    "\n",
    "When a product with a scalar is combined with the assembly of vectors, we get to linear combinations of vectors.\n",
    "\n",
    "$$$$\n",
    "$\\mathbf{Definition:}$ The linear combination of the vectors $x$ and $y$ is the sum $\\alpha x + \\beta y$.\n",
    "$$$$\n",
    "$$\n",
    " \\alpha x + \\beta y = \\alpha \\begin{bmatrix}x_1 \\\\ x_2 \\\\ ... \\\\ x_n\\end{bmatrix} + \n",
    "       \\beta \\begin{bmatrix}y_1 \\\\ y_2 \\\\ ... \\\\ y_n\\end{bmatrix}\n",
    "$$\n",
    "$$$$\n",
    "Similarly, a linear combination of several vectors can be assembled, e.g.\n",
    "$\\alpha a + \\beta b + · · · + \\zeta z$ is a linear combination of vectors $a, b, ... , z$.\n",
    "\n",
    "$$$$\n",
    "$\\mathbf{Attention!}$ All vectors in the liner combination must have the same number of components!\n",
    "$$$$\n",
    "$\\mathbf{Note:}$ A set of all linear combinations of two vectors $a$ and $b$ is a plane, except\n",
    "when the vectors are collinear. In this case, there is a set of all linear combinations\n",
    "which is the line on which both vectors lie."
   ]
  },
  {
   "cell_type": "markdown",
   "metadata": {},
   "source": [
    "### Scalar product"
   ]
  },
  {
   "cell_type": "markdown",
   "metadata": {
    "scrolled": false
   },
   "source": [
    "\n",
    "An important operation over two vectors is a scalar product.\n",
    "\n",
    "$$$$\n",
    "$\\mathbf{Definition:}$ The scalar product of the vectors\n",
    "$x = \\begin{bmatrix}x_1 \\\\ x_2 \\\\ ... \\\\ x_n\\end{bmatrix}$ and \n",
    "$y = \\begin{bmatrix}y_1 \\\\ y_2 \\\\ ... \\\\ y_n\\end{bmatrix}$ is the number $x \\cdot y = x_1y_1 + x_2y_2 + · · · + x_ny_n$.\n",
    "$$$$\n",
    "\n",
    "$\\mathbf{Attention!}$  Vectors used in scalar product multiplication must have the same number of components!\n",
    "\n",
    "$$$$\n",
    "\n",
    "It can be easily verified that the scalar product has the following properties:\n",
    "    \n",
    "$$$$\n",
    "$\\mathbf{Property~1:}$ Commutativity: $x · y = y · x$.\n",
    "$$$$\n",
    "$\\mathbf{Property~2:}$ Aditivity: $x · (y + z) = x · y + x · z$.\n",
    "$$$$\n",
    "$\\mathbf{Property~3:}$ Homogeneity: $x · (\\alpha y) = \\alpha(x · y) = (\\alpha x) · y$.\n",
    "$$$$\n",
    "$\\mathbf{Property~4:}$ Positive definiteness: for each vector $x$, $x \\cdot x \\ge 0$. If $x \\cdot x = 0$, then $x = 0$.\n",
    "$$$$"
   ]
  },
  {
   "cell_type": "markdown",
   "metadata": {},
   "source": [
    "### Vector length (magnitude)"
   ]
  },
  {
   "cell_type": "markdown",
   "metadata": {
    "scrolled": false
   },
   "source": [
    "\n",
    "In the set $\\mathbb{R}^2$ we can easily follow Pitagoras rule to calculate the length of a vector. \n",
    "The vector is formed together with the $x$-axis and the parallel to the $y$-axis and determines\n",
    "a rectangular triangle whose cathets are its $x$ and $y$ coordinates. \n",
    "Length of the vector (hypotenuse of a rectangular triangle) is therefore $\\sqrt{x^2 + y^2}$.\n",
    "\n",
    "$$$$\n",
    "For vectors from $\\mathbb{R}^N$ the length of the vector can be similarly calculated as\n",
    "$x_1^2 + x_2^2 + ... + x_n^2$, which can be written in a vector form as $\\sqrt{x^2 + x^2}$.\n",
    "    \n",
    "\n",
    "\n",
    "$$$$\n",
    "$\\mathbf{Definition:}$ The length of the vector x is\n",
    "$ \\|x\\| = \\sqrt{x^2 + x^2}$.\n",
    "$$$$\n",
    "\n",
    "$\\mathbf{Example:}$  \n",
    "\n",
    "Vectors with a length one have a special role among the vectors.\n",
    "\n",
    "$$$$\n",
    "$\\mathbf{Definition:}$ The unit vector is a vector with a length of $1$.\n",
    "$$$$\n"
   ]
  },
  {
   "cell_type": "markdown",
   "metadata": {},
   "source": [
    "### Angle between two vectors"
   ]
  },
  {
   "cell_type": "markdown",
   "metadata": {},
   "source": [
    "$$$$\n",
    "$\\mathbf{Theorem:}$ The vectors $x$ and $y$ vectors are orthogonal (or rectangular) exactly when  $x · y = 0$.\n",
    "$$$$\n",
    "$\\mathbf{Theorem:}$ If we denote the angle between two vectors $x$ and $y$ as $\\varphi$ then\n",
    "$$$$\n",
    "$$\\frac{x \\cdot y}{\\|x\\| \\cdot \\|y\\|} = \\cos \\varphi$$"
   ]
  },
  {
   "cell_type": "markdown",
   "metadata": {},
   "source": [
    "### Vector direction"
   ]
  },
  {
   "cell_type": "markdown",
   "metadata": {},
   "source": [
    "$$$$\n",
    "$\\mathbf{Theorem:}$ We can normalize each vector $x$ by dividing it with its length $\\|x\\|$: $x_{norm} = \\frac{x}{\\|x\\|}$. \n",
    "Vector $x_{norm}$ is also called a unit vector and represents the direction of the initial vector.\n",
    "    \n",
    "$$$$\n",
    "We can then write the components of the normalized vector as directional cosines: \n",
    "        \n",
    "$$x_{norm} = \\begin{bmatrix} \\frac{x_1}{\\|x\\|} \\\\ \\frac{x_2}{\\|x\\|} \\\\ \\frac{x_3}{\\|x\\|} \\end{bmatrix}\n",
    "= \\begin{bmatrix} \\cos \\alpha \\\\ \\cos \\beta \\\\ \\cos \\gamma \\end{bmatrix}, $$\n",
    "\n",
    "where $\\alpha, \\beta, \\gamma$ are directional angles defined with regards to the basis axes."
   ]
  },
  {
   "cell_type": "markdown",
   "metadata": {},
   "source": [
    "### Vector product"
   ]
  },
  {
   "cell_type": "markdown",
   "metadata": {},
   "source": [
    "$\\mathbf{Definition:}$ The vector product of the vectors $a$ and $b$ is a vector: \n",
    "\n",
    "$$ a \\times b = \\begin{bmatrix}a_1 \\\\ a_2 \\\\ a_3\\end{bmatrix} \\times \n",
    "              \\begin{bmatrix} b_1 \\\\ b_2 \\\\ b_3\\end{bmatrix} = \n",
    "              \\begin{bmatrix}a_2 b_3 - a_3 b_2 \\\\ a_3 b_1 - a_1 b_3 \\\\ a_1 b_2 - a_2 b_1\\end{bmatrix} $$\n",
    "\n",
    "\n",
    "The vector product $a \\times b$ is a vector that is perpendicular to the plane in which \n",
    "vectors $a$ and $b$ lie.\n",
    "\n",
    "\n",
    "\n",
    "Its length being equal to the area of the parallelogram that vectors $a$ and $b$ are enclosing."
   ]
  },
  {
   "cell_type": "markdown",
   "metadata": {},
   "source": [
    "# Exercises"
   ]
  },
  {
   "cell_type": "markdown",
   "metadata": {},
   "source": [
    "Operations: sum, sub, mul, div, norm"
   ]
  },
  {
   "cell_type": "code",
   "execution_count": 8,
   "metadata": {},
   "outputs": [],
   "source": [
    "%matplotlib inline\n",
    "\n",
    "import numpy as np\n",
    "\n",
    "from matplotlib import pyplot as plt\n",
    "from drawing import draw_vectors_2d, draw_vectors_3d, toXYZ"
   ]
  },
  {
   "cell_type": "code",
   "execution_count": 9,
   "metadata": {},
   "outputs": [
    {
     "name": "stderr",
     "output_type": "stream",
     "text": [
      "/usr/local/lib/python3.6/site-packages/matplotlib/animation.py:1218: UserWarning: MovieWriter ffmpeg unavailable\n",
      "  warnings.warn(\"MovieWriter %s unavailable\" % writer)\n"
     ]
    },
    {
     "ename": "KeyError",
     "evalue": "'ffmpeg'",
     "output_type": "error",
     "traceback": [
      "\u001b[0;31m---------------------------------------------------------------------------\u001b[0m",
      "\u001b[0;31mKeyError\u001b[0m                                  Traceback (most recent call last)",
      "\u001b[0;32m<ipython-input-9-04082b3a8817>\u001b[0m in \u001b[0;36m<module>\u001b[0;34m()\u001b[0m\n\u001b[1;32m      5\u001b[0m \u001b[0;34m\u001b[0m\u001b[0m\n\u001b[1;32m      6\u001b[0m \u001b[0mfig\u001b[0m \u001b[0;34m=\u001b[0m \u001b[0mplt\u001b[0m\u001b[0;34m.\u001b[0m\u001b[0mfigure\u001b[0m\u001b[0;34m(\u001b[0m\u001b[0;34m)\u001b[0m\u001b[0;34m\u001b[0m\u001b[0m\n\u001b[0;32m----> 7\u001b[0;31m \u001b[0mdraw_vectors_3d\u001b[0m\u001b[0;34m(\u001b[0m\u001b[0mvectors\u001b[0m\u001b[0;34m,\u001b[0m \u001b[0morigins\u001b[0m\u001b[0;34m,\u001b[0m \u001b[0mfig\u001b[0m\u001b[0;34m)\u001b[0m\u001b[0;34m\u001b[0m\u001b[0m\n\u001b[0m",
      "\u001b[0;32m~/Session1/LinealAlgebra/Linearity and vectors/drawing.py\u001b[0m in \u001b[0;36mdraw_vectors_3d\u001b[0;34m(vectors, origins, fig)\u001b[0m\n\u001b[1;32m    108\u001b[0m \u001b[0;34m\u001b[0m\u001b[0m\n\u001b[1;32m    109\u001b[0m     \u001b[0mplt\u001b[0m\u001b[0;34m.\u001b[0m\u001b[0mclose\u001b[0m\u001b[0;34m(\u001b[0m\u001b[0;34m)\u001b[0m\u001b[0;34m\u001b[0m\u001b[0m\n\u001b[0;32m--> 110\u001b[0;31m     \u001b[0;32mreturn\u001b[0m \u001b[0mHTML\u001b[0m\u001b[0;34m(\u001b[0m\u001b[0manim\u001b[0m\u001b[0;34m.\u001b[0m\u001b[0mto_html5_video\u001b[0m\u001b[0;34m(\u001b[0m\u001b[0;34m)\u001b[0m\u001b[0;34m)\u001b[0m\u001b[0;34m\u001b[0m\u001b[0m\n\u001b[0m",
      "\u001b[0;32m/usr/local/lib/python3.6/site-packages/matplotlib/animation.py\u001b[0m in \u001b[0;36mto_html5_video\u001b[0;34m(self, embed_limit)\u001b[0m\n\u001b[1;32m   1407\u001b[0m                 \u001b[0;31m# We create a writer manually so that we can get the\u001b[0m\u001b[0;34m\u001b[0m\u001b[0;34m\u001b[0m\u001b[0m\n\u001b[1;32m   1408\u001b[0m                 \u001b[0;31m# appropriate size for the tag\u001b[0m\u001b[0;34m\u001b[0m\u001b[0;34m\u001b[0m\u001b[0m\n\u001b[0;32m-> 1409\u001b[0;31m                 \u001b[0mWriter\u001b[0m \u001b[0;34m=\u001b[0m \u001b[0mwriters\u001b[0m\u001b[0;34m[\u001b[0m\u001b[0mrcParams\u001b[0m\u001b[0;34m[\u001b[0m\u001b[0;34m'animation.writer'\u001b[0m\u001b[0;34m]\u001b[0m\u001b[0;34m]\u001b[0m\u001b[0;34m\u001b[0m\u001b[0m\n\u001b[0m\u001b[1;32m   1410\u001b[0m                 writer = Writer(codec='h264',\n\u001b[1;32m   1411\u001b[0m                                 \u001b[0mbitrate\u001b[0m\u001b[0;34m=\u001b[0m\u001b[0mrcParams\u001b[0m\u001b[0;34m[\u001b[0m\u001b[0;34m'animation.bitrate'\u001b[0m\u001b[0;34m]\u001b[0m\u001b[0;34m,\u001b[0m\u001b[0;34m\u001b[0m\u001b[0m\n",
      "\u001b[0;32m/usr/local/lib/python3.6/site-packages/matplotlib/animation.py\u001b[0m in \u001b[0;36m__getitem__\u001b[0;34m(self, name)\u001b[0m\n\u001b[1;32m    168\u001b[0m         \u001b[0;32mif\u001b[0m \u001b[0;32mnot\u001b[0m \u001b[0mself\u001b[0m\u001b[0;34m.\u001b[0m\u001b[0mavail\u001b[0m\u001b[0;34m:\u001b[0m\u001b[0;34m\u001b[0m\u001b[0m\n\u001b[1;32m    169\u001b[0m             \u001b[0;32mraise\u001b[0m \u001b[0mRuntimeError\u001b[0m\u001b[0;34m(\u001b[0m\u001b[0;34m\"No MovieWriters available!\"\u001b[0m\u001b[0;34m)\u001b[0m\u001b[0;34m\u001b[0m\u001b[0m\n\u001b[0;32m--> 170\u001b[0;31m         \u001b[0;32mreturn\u001b[0m \u001b[0mself\u001b[0m\u001b[0;34m.\u001b[0m\u001b[0mavail\u001b[0m\u001b[0;34m[\u001b[0m\u001b[0mname\u001b[0m\u001b[0;34m]\u001b[0m\u001b[0;34m\u001b[0m\u001b[0m\n\u001b[0m\u001b[1;32m    171\u001b[0m \u001b[0;34m\u001b[0m\u001b[0m\n\u001b[1;32m    172\u001b[0m \u001b[0mwriters\u001b[0m \u001b[0;34m=\u001b[0m \u001b[0mMovieWriterRegistry\u001b[0m\u001b[0;34m(\u001b[0m\u001b[0;34m)\u001b[0m\u001b[0;34m\u001b[0m\u001b[0m\n",
      "\u001b[0;31mKeyError\u001b[0m: 'ffmpeg'"
     ]
    }
   ],
   "source": [
    "a = np.array([0, 1, 2])\n",
    "b = np.array([-1,-2,-1])\n",
    "\n",
    "vectors, origins = toXYZ([a, b])\n",
    "\n",
    "fig = plt.figure()\n",
    "draw_vectors_3d(vectors, origins, fig)"
   ]
  },
  {
   "cell_type": "code",
   "execution_count": null,
   "metadata": {},
   "outputs": [],
   "source": [
    "import math\n",
    "# manually defining magnitude function\n",
    "def mag(x): \n",
    "    return math.sqrt(sum(i**2 for i in x))\n",
    "\n",
    "mag(a)"
   ]
  },
  {
   "cell_type": "code",
   "execution_count": null,
   "metadata": {},
   "outputs": [],
   "source": [
    "# import from numpy\n",
    "np.linalg.norm(a,ord=2)"
   ]
  },
  {
   "cell_type": "code",
   "execution_count": null,
   "metadata": {},
   "outputs": [],
   "source": [
    "%matplotlib inline\n",
    "import numpy as np\n",
    "from matplotlib import pyplot as plt\n",
    "from drawing import draw_vectors_2d, toXYZ\n",
    "\n",
    "\n",
    "a1 = [1, 0]\n",
    "b1 = [0, 1]\n",
    "\n",
    "a1 = np.array(a1)\n",
    "b1 = np.array(b1)\n",
    "z0 = np.zeros(a1.shape)\n",
    "\n",
    "d1 = np.sum([a1, b1], axis=1)\n",
    "\n",
    "# transform vectors to X, Y, Z form\n",
    "vectors, origins = toXYZ([a1, b1, d1])\n",
    "\n",
    "fig = plt.figure()\n",
    "draw_vectors_2d(vectors, origins, fig)"
   ]
  },
  {
   "cell_type": "code",
   "execution_count": null,
   "metadata": {},
   "outputs": [],
   "source": [
    "%matplotlib inline\n",
    "import numpy as np\n",
    "from matplotlib import pyplot as plt\n",
    "from drawing import draw_vectors_3d, toXYZ\n",
    "\n",
    "a1 = [1, 0, 0]\n",
    "b1 = [0, 1, 0]\n",
    "c1 = [0, 0, 1]\n",
    "\n",
    "a1 = np.array(a1)\n",
    "b1 = np.array(b1)\n",
    "c1 = np.array(c1)\n",
    "\n",
    "d1 = np.sum([a1, b1, c1], axis=1)\n",
    "\n",
    "# transform vectors to X, Y, Z form\n",
    "vectors, origins = toXYZ([a1, b1, c1, c1+d1, d1])\n",
    "\n",
    "fig = plt.figure()\n",
    "draw_vectors_3d(vectors, origins, fig)"
   ]
  },
  {
   "cell_type": "markdown",
   "metadata": {},
   "source": [
    "Authors: *Saul Calderon, Žiga Emeršič, Angel García, Blaž Meden, Felipe Meza, Martín Solís, Juan Esquivel, Mauro Mendez, Manuel Zumbado*"
   ]
  }
 ],
 "metadata": {
  "kernelspec": {
   "display_name": "Python 3",
   "language": "python",
   "name": "python3"
  },
  "language_info": {
   "codemirror_mode": {
    "name": "ipython",
    "version": 3
   },
   "file_extension": ".py",
   "mimetype": "text/x-python",
   "name": "python",
   "nbconvert_exporter": "python",
   "pygments_lexer": "ipython3",
   "version": "3.6.0"
  }
 },
 "nbformat": 4,
 "nbformat_minor": 2
}
