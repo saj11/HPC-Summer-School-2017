{
 "cells": [
  {
   "cell_type": "markdown",
   "metadata": {},
   "source": [
    "#  EVeMa 2018"
   ]
  },
  {
   "cell_type": "markdown",
   "metadata": {},
   "source": [
    "# Tema: MATRICES"
   ]
  },
  {
   "cell_type": "markdown",
   "metadata": {},
   "source": [
    "La álgebra lineal facilita la expresión de múltiples operaciones,\n",
    "como por ejemplo las operaciones en ecuaciones lineales, como el siguiente\n",
    "sistema: \n",
    "\n",
    "\\begin{array}{c}\n",
    "4x_{1}-5x_{2}=-13\\\\\n",
    "-2x_{1}+3x_{2}=9\n",
    "\\end{array}\n",
    "\n",
    "\n",
    "el sistema de ecuaciones anterior tiene igual número de ecuaciones y variables, por lo que presenta una solución única si las ecuaciones son linealmente independientes (ninguna de las ecuaciones es combinación lineal de otra). En notación matricial, el sistema de ecuaciones anterior se expresa de la siguiente forma: \n",
    "\n",
    "\\begin{equation}\n",
    "A\\,\\vec{x}=b\n",
    "\\end{equation}\n",
    "\n",
    "con \n",
    "\n",
    "\\begin{equation}\n",
    "A=\\begin{bmatrix}4 & -5\\\\\n",
    "-2 & 3\n",
    "\\end{bmatrix},\\qquad b=\\begin{bmatrix}-13\\\\\n",
    "9\n",
    "\\end{bmatrix}\n",
    "\\end{equation}\n",
    "\n",
    "En el material del curso se utilizará la siguiente notación:\n",
    "\n",
    "\n",
    "- Con $A\\in\\mathbb{R}^{m\\times n}$ se define una matriz con $m$ filas\n",
    "y $n$ columnas, donde en este caso todas las entradas de $A$ son\n",
    "números reales.\n",
    "\n",
    "- Con $\\vec{x}\\in\\mathbb{R}^{n\\times1}=\\mathbb{R}^{n}$ se denota un\n",
    "vector con $n$ entradas. Por convención, un vector $n$ dimensional\n",
    "se define como una matriz de $n$ filas y $1$ columna, conocido como\n",
    "el **vector columna**: \n",
    "\n",
    "\\begin{equation}\n",
    "\\overrightarrow{x}=\\begin{bmatrix}x_{1}\\\\\n",
    "x_{2}\\\\\n",
    "\\vdots\\\\\n",
    "x_{n}\n",
    "\\end{bmatrix}\n",
    "\\end{equation}\n",
    "\n",
    "y el elemento $i$ del vector se denota como $x_{i}$. Un vector fila se define entonces de la siguiente forma (usando la definición de la transpuesta): \n",
    "\n",
    "\\begin{equation}\n",
    "\\overrightarrow{x}^{T}=\\begin{bmatrix}x_{1} & x_{2} & \\ldots & x_{n}\\end{bmatrix}\n",
    "\\end{equation}\n",
    "\n",
    "- Para denotar los elementos de una matriz se usa la notación $a_{i,j}$\n",
    "($A_{ij}$, $A_{i,j}$,$A\\left(i,j\\right)$, etc) para denotar una\n",
    "entrada de la matriz $A$ en la fila $i$ y la columna $j$:\n",
    "\n",
    "\n",
    "\\begin{equation}\n",
    "A=\\begin{bmatrix}a_{1,1} & a_{1,2} & \\ldots & a_{1,n}\\\\\n",
    "a_{2,1} & a_{2,2} & \\ldots & a_{2,n}\\\\\n",
    "\\vdots & \\vdots & \\ddots & \\vdots\\\\\n",
    "a_{m,1} & a_{m,2} &  & a_{m,n}\n",
    "\\end{bmatrix}\n",
    "\\end{equation}\n",
    "\n",
    "y se define la columna $j$ de la matriz $A$ con $a_{j}$ o $A_{:,j}$,\n",
    "de modo que la matriz $A$ está definida en términos de vectores columna\n",
    "por:\n",
    "\n",
    "\\begin{equation}\n",
    "A=\\begin{bmatrix}| & | & \\ldots & |\\\\\n",
    "\\overrightarrow{a}_{:,1} & \\overrightarrow{a}_{:,2} & \\ldots & \\overrightarrow{a}_{:,n}\\\\\n",
    "| & | & \\ldots & |\n",
    "\\end{bmatrix}\n",
    "\\end{equation}\n",
    "\n",
    "y se define la fila $i$ de tal matriz como $\\vec{a}_{i,:}^{T}$ o $A_{i,:}$, por lo que en términos de tales vectores fila la matriz $A$ se expresa como:\n",
    "\n",
    "\\begin{equation}\n",
    "A=\\begin{bmatrix}- & \\vec{a}_{1,:}^{T} & -\\\\\n",
    "- & \\vec{a}_{2,:}^{T} & -\\\\\n",
    " & \\vdots\\\\\n",
    "- & \\vec{a}_{m,:}^{T} & -\n",
    "\\end{bmatrix}\n",
    "\\end{equation}\n"
   ]
  },
  {
   "cell_type": "code",
   "execution_count": 4,
   "metadata": {},
   "outputs": [
    {
     "name": "stdout",
     "output_type": "stream",
     "text": [
      "Solutions:\n",
      " [ 3.  5.]\n"
     ]
    }
   ],
   "source": [
    "# uso del modulo lineal algebra (linalg) para resolver un sistema de ecuaciones como el anterior.\n",
    "\n",
    "import numpy as np\n",
    "\n",
    "# Se crea la matriz A 2x2 como arreglo\n",
    "A = np.array([[4, -5],[-2, 3]])\n",
    "\n",
    "# De igual forma se procede con B\n",
    "B = np.array([-13, 9]) \n",
    "\n",
    "# En numpy linalg resuelve el sistema\n",
    "print ('Solutions:\\n',np.linalg.solve(A, B))"
   ]
  },
  {
   "cell_type": "code",
   "execution_count": 5,
   "metadata": {},
   "outputs": [
    {
     "name": "stdout",
     "output_type": "stream",
     "text": [
      "[[10, 80, 75, 85], [20, 90, 85, 95], [5, 40, 30, 15]]\n"
     ]
    }
   ],
   "source": [
    "# Las matrices se crean con los corchetes cuadrados [[]] como listas anidadas\n",
    "\n",
    "# matriz 3*4 matrix where 3 is number of rows and 4 is number of columns.\n",
    "A = [[10,80,75,85],[20,90,85,95],[5,40,30,15]]\n",
    "\n",
    "print(A)"
   ]
  },
  {
   "cell_type": "code",
   "execution_count": 6,
   "metadata": {},
   "outputs": [
    {
     "name": "stdout",
     "output_type": "stream",
     "text": [
      "[[ 0  1  2  3]\n",
      " [ 4  5  6  7]\n",
      " [ 8  9 10 11]\n",
      " [12 13 14 15]]\n"
     ]
    }
   ],
   "source": [
    "# podemos crear tambien matrices con valores de un rango con numpy\n",
    "\n",
    "from numpy import * \n",
    "\n",
    "B = range(16)\n",
    "\n",
    "B = reshape(B,(4,4)) \n",
    "\n",
    "print(B) "
   ]
  },
  {
   "cell_type": "code",
   "execution_count": 7,
   "metadata": {},
   "outputs": [
    {
     "name": "stdout",
     "output_type": "stream",
     "text": [
      "[0 1 2 3]\n",
      "\n",
      "\n",
      "[12 13 14 15]\n",
      "\n",
      "\n",
      "1\n",
      "\n",
      "\n",
      "10\n"
     ]
    }
   ],
   "source": [
    "# para acceder a datos especificos de una matriz, lo hacemos al igual que las listas por valores de subindices\n",
    "# en corchetes cuadrados, por ejemplo para una matrix Z de la forma Z[row][col]\n",
    "\n",
    "# Nos interesa la primera fila (0)\n",
    "print(B[0])\n",
    "print(\"\\n\")\n",
    "\n",
    "# Nos interesa la ultima fila (3)\n",
    "print(B[3])\n",
    "print(\"\\n\")\n",
    "\n",
    "# Nos interesa el \"1\" que pertenece a la fila (0) y columna (1)\n",
    "print(B[0][1])\n",
    "print(\"\\n\")\n",
    "\n",
    "# Nos interesa el \"10\" que pertenece a la fila (2) y columna (2)\n",
    "print(B[2][2])\n"
   ]
  },
  {
   "cell_type": "code",
   "execution_count": 29,
   "metadata": {},
   "outputs": [
    {
     "name": "stdout",
     "output_type": "stream",
     "text": [
      "0\n"
     ]
    }
   ],
   "source": [
    "# Nos interesa el \"14\" que pertenece a la fila (?) y columna (?)\n",
    "print(B[][])"
   ]
  },
  {
   "cell_type": "code",
   "execution_count": 9,
   "metadata": {},
   "outputs": [
    {
     "name": "stdout",
     "output_type": "stream",
     "text": [
      "[12 13 14 15]\n",
      "\n",
      "\n",
      "14\n",
      "\n",
      "\n",
      "9\n"
     ]
    }
   ],
   "source": [
    "# otra forma de acceder a los valores de una matriz es con el uso de indices negativos, donde el -1 se refiere al\n",
    "# ultimo dato, el -2 al penultimo etc\n",
    "\n",
    "# nos interesa la ultima fila \n",
    "print(B[-1]) \n",
    "print(\"\\n\")\n",
    "\n",
    "# nos interesa de la ultima fila, el penultimo valor\n",
    "print(B[-1][-2]) \n",
    "print(\"\\n\")\n",
    "\n",
    "# nos interesa de la penultima fila, el antepenultimo valor\n",
    "print(B[-2][-3]) \n"
   ]
  },
  {
   "cell_type": "code",
   "execution_count": 10,
   "metadata": {},
   "outputs": [
    {
     "name": "stdout",
     "output_type": "stream",
     "text": [
      "[[ 0  1  2  3]\n",
      " [ 4  5  6  7]\n",
      " [ 8  9 10 11]\n",
      " [12 13 14 15]]\n"
     ]
    }
   ],
   "source": [
    "# recordamos de nuevo la matriz B\n",
    "\n",
    "print (B)"
   ]
  },
  {
   "cell_type": "code",
   "execution_count": 11,
   "metadata": {},
   "outputs": [
    {
     "name": "stdout",
     "output_type": "stream",
     "text": [
      "[[0 1]\n",
      " [4 5]\n",
      " [8 9]]\n"
     ]
    }
   ],
   "source": [
    "# es posible tambien partir una matriz, usando el formato (start:end:increment) con numpy\n",
    "\n",
    "# nos interesa partir la matriz B y dejar solo las 3 primeras filas :3 con dos columnas [0,1]\n",
    "print(B[:3,[0,1]])"
   ]
  },
  {
   "cell_type": "code",
   "execution_count": 12,
   "metadata": {},
   "outputs": [
    {
     "name": "stdout",
     "output_type": "stream",
     "text": [
      "[[ 9 10]\n",
      " [13 14]]\n"
     ]
    }
   ],
   "source": [
    "# nos interesa partir la matriz B y dejar solo las dos ultimas filas con dos las columnas centrales\n",
    "print(B[2:4,[1,2]])"
   ]
  },
  {
   "cell_type": "code",
   "execution_count": 13,
   "metadata": {},
   "outputs": [
    {
     "name": "stdout",
     "output_type": "stream",
     "text": [
      "[[ 0  1  2  3]\n",
      " [ 4  5  6  7]\n",
      " [ 8  9 10 11]\n",
      " [12 13 14 15]]\n",
      "\n",
      "\n",
      "[[ 0  1  2  3]\n",
      " [ 4  5  6  7]\n",
      " [ 8  9 10 11]\n",
      " [12 13 14 15]\n",
      " [16 17 18 19]]\n"
     ]
    }
   ],
   "source": [
    "# es posible tambien agregar elementos a una matrix\n",
    "\n",
    "# por ejemplo, podemos agregar una fila completa, para eso se recurre a append\n",
    "\n",
    "B1 = append(B,[[16, 17, 18, 19]],0)\n",
    "\n",
    "# here 0 is axis that represents the dimensions where 0 stands for row and 1 stands for column\n",
    "\n",
    "print (B)\n",
    "print(\"\\n\")\n",
    "print (B1)"
   ]
  },
  {
   "cell_type": "code",
   "execution_count": 14,
   "metadata": {},
   "outputs": [
    {
     "name": "stdout",
     "output_type": "stream",
     "text": [
      "[[  0   1   2   3 100]\n",
      " [  4   5   6   7 200]\n",
      " [  8   9  10  11 300]\n",
      " [ 12  13  14  15 400]]\n"
     ]
    }
   ],
   "source": [
    "# es posible tambien insertar una columna, en este caso recurrimos a insert\n",
    "\n",
    "B2 = insert(B,[4],[[100],[200],[300],[400]],axis=1) \n",
    "\n",
    "# here axis represents the dimensions where 0 stands for row and 1 stands for column \n",
    "\n",
    "print (B2)"
   ]
  },
  {
   "cell_type": "code",
   "execution_count": 15,
   "metadata": {},
   "outputs": [
    {
     "name": "stdout",
     "output_type": "stream",
     "text": [
      "[[  0   1   2   3 100]\n",
      " [  4   5   6   7 200]\n",
      " [  8   9  10  11 300]\n",
      " [ 12  13  14  15 400]]\n",
      "\n",
      "\n",
      "[[  0   1   2   3 100]\n",
      " [  4   5   6   7 200]\n",
      " [ 12  13  14  15 400]]\n"
     ]
    }
   ],
   "source": [
    "# otra tarea comun es borrar o remover elementos de una matriz\n",
    "\n",
    "# por ejemplo, para borrar una fila se usa delete, en este caso para la fila i=2\n",
    "\n",
    "B3 = delete(B2,[2],0)\n",
    "\n",
    "# here 0 is axis that represents the dimensions where 0 stands for row and 1 stands for column\n",
    "\n",
    "print (B2)\n",
    "print(\"\\n\")\n",
    "print (B3)"
   ]
  },
  {
   "cell_type": "code",
   "execution_count": 16,
   "metadata": {},
   "outputs": [
    {
     "name": "stdout",
     "output_type": "stream",
     "text": [
      "[[  0   1   2   3 100]\n",
      " [  4   5   6   7 200]\n",
      " [  8   9  10  11 300]\n",
      " [ 12  13  14  15 400]]\n",
      "\n",
      "\n",
      "[[ 0  1  2  3]\n",
      " [ 4  5  6  7]\n",
      " [ 8  9 10 11]\n",
      " [12 13 14 15]]\n"
     ]
    }
   ],
   "source": [
    "# para borrar una columna se usa delete, en este caso para la columna i=4\n",
    "\n",
    "B4 = delete(B2, [4], 1)\n",
    "\n",
    "# here 0 is axis that represents the dimensions where 0 stands for row and 1 stands for column\n",
    "\n",
    "print (B2)\n",
    "print(\"\\n\")\n",
    "print (B4)"
   ]
  },
  {
   "cell_type": "code",
   "execution_count": 17,
   "metadata": {},
   "outputs": [
    {
     "name": "stdout",
     "output_type": "stream",
     "text": [
      "[[  0   1   2   3 100]\n",
      " [  4   5   6   7 200]\n",
      " [  8   9  10  11 300]\n",
      " [ 12  13  14  15 400]]\n",
      "\n",
      "\n",
      "[[ 0  2  3]\n",
      " [ 4  6  7]\n",
      " [ 8 10 11]\n",
      " [12 14 15]]\n"
     ]
    }
   ],
   "source": [
    "# para borrar varias columnas podemos usar slicing\n",
    "\n",
    "B5 = delete(B2, s_[1::3], 1)\n",
    "\n",
    "# here 0 is axis that represents the dimensions where 0 stands for row and 1 stands for column\n",
    "\n",
    "print (B2)\n",
    "print(\"\\n\")\n",
    "print (B5)\n",
    "\n",
    "\n",
    "# s_[x::y] x primera columna en borrar, y siguientes en orden y. "
   ]
  },
  {
   "cell_type": "markdown",
   "metadata": {},
   "source": [
    "**La matriz identidad y diagonal**\n",
    "\n",
    "La matriz identidad, definida como una matriz cuadrada $I\\in\\mathbb{R}^{n\\times n}$ y está formada por una diagonal de unos, y el resto de entradas de la matriz está en cero: \n",
    "\n",
    "\n",
    "\\begin{equation}\n",
    "I_{i,j}=\\begin{cases}\n",
    "1 & i=j\\\\\n",
    "0 & i\\neq j\n",
    "\\end{cases}\n",
    "\\end{equation}\n",
    "\n",
    "y es el neutro de la multiplicación matricial, por lo que para toda $A\\in\\mathbb{R}^{m\\times n}$ se tiene que: \n",
    "\n",
    "\\begin{equation}\n",
    "A\\,I=A\n",
    "\\end{equation}\n",
    "\n",
    "la matriz identidad es un caso particular de una matriz diagonal, donde todos los elementos no diagonales son 0, lo que se denota como: $D=\\textrm{diag}\\left(d_{1},d_{2},\\ldots,d_{n}\\right)$ con: \n",
    "\n",
    "\\begin{equation}\n",
    "D_{i,j}=\\begin{cases}\n",
    "d_{i} & i=j\\\\\n",
    "0 & i\\neq j\n",
    "\\end{cases}\n",
    "\\end{equation}\n",
    "\n",
    "por lo que entonces $I=\\textrm{diag}\\left(1,1,\\ldots,1\\right)$.\n"
   ]
  },
  {
   "cell_type": "code",
   "execution_count": 30,
   "metadata": {},
   "outputs": [
    {
     "data": {
      "text/plain": [
       "array([[ 1.,  0.,  0.,  0.,  0.],\n",
       "       [ 0.,  1.,  0.,  0.,  0.],\n",
       "       [ 0.,  0.,  1.,  0.,  0.],\n",
       "       [ 0.,  0.,  0.,  1.,  0.],\n",
       "       [ 0.,  0.,  0.,  0.,  1.]])"
      ]
     },
     "execution_count": 30,
     "metadata": {},
     "output_type": "execute_result"
    }
   ],
   "source": [
    "# en numpy podemos crear una matrix identidad especificando el # de 1's i.e el # de filas\n",
    "\n",
    "np.identity(5)"
   ]
  },
  {
   "cell_type": "markdown",
   "metadata": {},
   "source": [
    "**La matriz transpuesta**\n",
    "\n",
    "La transpuesta de una matriz es el resultado de cambiar las filas a columnas. Sea una matriz $A\\in\\mathbb{R}^{m\\times n}$, su transpuesta se escribe como $A^{T}\\in\\mathbb{R}^{n\\times m}$ y sus entradas están dadas por: \n",
    "\n",
    "\\begin{equation}\n",
    "\\left(A^{T}\\right)_{i,j}=A_{j,i}.\n",
    "\\end{equation}\n",
    "\n",
    "Las siguientes son propiedades de la transpuesta: \n",
    "\n",
    "- $\\left(A^{T}\\right)^{T}=A$\n",
    "- $\\left(AB\\right)^{T}=B^{T}A^{T}$\n",
    "- $\\left(A+B\\right)^{T}=A^{T}+B^{T}$.\n"
   ]
  },
  {
   "cell_type": "code",
   "execution_count": 19,
   "metadata": {},
   "outputs": [
    {
     "name": "stdout",
     "output_type": "stream",
     "text": [
      "[[1, 2, 3], [4, 5, 6]]\n",
      "\n",
      "\n",
      "[[7, 8, 9], [10, 11, 12]]\n",
      "\n",
      "\n",
      "[[1 4]\n",
      " [2 5]\n",
      " [3 6]]\n",
      "\n",
      "\n",
      "[[1 2 3]\n",
      " [4 5 6]]\n"
     ]
    }
   ],
   "source": [
    "A=[[1,2,3],[4,5,6]]\n",
    "C=[[7,8,9],[10,11,12]]\n",
    "print(A)\n",
    "print(\"\\n\")\n",
    "print(C)\n",
    "print(\"\\n\")\n",
    "trans=np.transpose(A)\n",
    "print(trans)\n",
    "print(\"\\n\")\n",
    "print(np.transpose(trans))\n",
    "\n",
    "# hacer rutina de otras propiedades..."
   ]
  },
  {
   "cell_type": "markdown",
   "metadata": {},
   "source": [
    "**Matrices simétricas**\n",
    "\n",
    "Una matriz cuadrada $A\\in\\mathbb{R}^{n\\times n}$ es simétrica si $A=A^{T}$ y es anti simétrica si $A=-A^{T}$, Para toda matriz $A\\in\\mathbb{R}^{n\\times n}$ es fácil demostrar que la matriz $A+A^{T}$ es simétrica y la matriz $A-A^{T}$ es anti-simétrica, por lo que se puede seguir que cualquier matriz cuadrada puede expresarse en términos de una matriz simétrica y anti-simétrica:\n",
    "    \n",
    "\\begin{equation}\n",
    "A=\\frac{1}{2}\\left(A+A^{T}\\right)-\\frac{1}{2}\\left(A-A^{T}\\right).\n",
    "\\end{equation}\n",
    "\n",
    "Se define entonces el conjunto de matrices simétricas de dimensiones $n\\times n$ como $\\mathbb{S}^{n}$ por lo que $A\\in\\mathbb{S}^{n}$ si es simétrica. Las matrices simétricas son muy frecuentes en el reconocimiento de patrones, y presentan una serie de propiedades muy útiles que veremos más adelante. "
   ]
  },
  {
   "cell_type": "code",
   "execution_count": 31,
   "metadata": {},
   "outputs": [
    {
     "name": "stdout",
     "output_type": "stream",
     "text": [
      "[[ 0  1  2  3]\n",
      " [ 4  5  6  7]\n",
      " [ 8  9 10 11]\n",
      " [12 13 14 15]]\n",
      "\n",
      "\n",
      "[[  0.   1.   2.   3.]\n",
      " [  4.   5.   6.   7.]\n",
      " [  8.   9.  10.  11.]\n",
      " [ 12.  13.  14.  15.]]\n"
     ]
    }
   ],
   "source": [
    "# caso de matriz simetrica\n",
    "\n",
    "# sea B nuestra matriz original \n",
    "\n",
    "print(B)\n",
    "print(\"\\n\")\n",
    "S = 0.5*(B + np.transpose(B)) + 0.5*(B - np.transpose(B)) # ojo con el signo + \n",
    "\n",
    "print (S)"
   ]
  },
  {
   "cell_type": "markdown",
   "metadata": {},
   "source": [
    "**La traza de una matriz**\n",
    "\n",
    "La traza de una matriz cuadrada $A\\in\\mathbb{R}^{n\\times n}$ denotada como $\\textrm{tr}\\left(A\\right)$ es la suma de los elementos en la diagonal de una matriz: \n",
    "\n",
    "\\begin{equation}\n",
    "\\textrm{tr}\\left(A\\right)=\\sum_{i=1}^{n}A_{i,i}\n",
    "\\end{equation}\n",
    "\n",
    "La traza tiene las siguientes propiedades:\n",
    "\n",
    "- $\\textrm{tr}\\left(A\\right)=\\textrm{tr}\\left(A^{T}\\right)$\n",
    "- Superposición $\\textrm{tr}\\left(A+B\\right)=\\textrm{tr}\\left(A\\right)+\\textrm{tr}\\left(B\\right)$\n",
    "- Homogeneidad: Sea $t\\in\\mathbb{R}$, $\\textrm{tr}\\left(t\\,A\\right)=t\\,\\textrm{tr}\\left(A\\right)$\n",
    "- Para $A$ y $B$ cuadradas, se tiene que $\\textrm{tr}\\left(A\\,B\\right)=\\textrm{tr}\\left(B\\,A\\right)$\n",
    "\n",
    "\n"
   ]
  },
  {
   "cell_type": "code",
   "execution_count": 32,
   "metadata": {},
   "outputs": [
    {
     "name": "stdout",
     "output_type": "stream",
     "text": [
      "[[ 1.  0.  0.]\n",
      " [ 0.  1.  0.]\n",
      " [ 0.  0.  1.]]\n",
      "\n",
      "\n",
      "3.0\n",
      "\n",
      "\n",
      "[[ 0  1  2  3]\n",
      " [ 4  5  6  7]\n",
      " [ 8  9 10 11]\n",
      " [12 13 14 15]]\n",
      "\n",
      "\n",
      "30\n"
     ]
    }
   ],
   "source": [
    "# \n",
    "\n",
    "# caso identidad\n",
    "IDN = np.eye(3)\n",
    "T_IDN = np.trace(IDN)\n",
    "print (IDN)\n",
    "print(\"\\n\")\n",
    "\n",
    "print (T_IDN)\n",
    "print(\"\\n\")\n",
    "\n",
    "# primero recordemos a la matriz B\n",
    "print (B)\n",
    "print(\"\\n\")\n",
    "\n",
    "# calculo de la traza con numpy\n",
    "\n",
    "print(np.trace(B))"
   ]
  },
  {
   "cell_type": "markdown",
   "metadata": {},
   "source": [
    "**Producto de matrices**\n",
    "\n",
    "El producto de dos matrices $A\\in\\mathbb{R}^{m\\times n}$ y $B\\in\\mathbb{R}^{n\\times p}$\n",
    "es la matriz:\n",
    "    \n",
    "\\begin{equation}\n",
    "C=A\\circ B=A\\,B\\in\\mathbb{R}^{m\\times p}\n",
    "\\end{equation}\n",
    "\n",
    "donde:\n",
    "\n",
    "\\begin{equation}\n",
    "C_{i,j}=A_{i,1}B_{1,j}+\\ldots+A_{i,n}B_{n,j}=\\sum_{k=1}^{n}A_{i,k}\\,B_{k,j}\n",
    "\\end{equation}\n",
    "\n",
    "observe que para efectuar el producto matricial la cantidad de columnas en $A$ debe ser igual a la cantidad de filas de la matriz $B$. A continuación se examinan los casos particulares del producto de matrices"
   ]
  },
  {
   "cell_type": "markdown",
   "metadata": {},
   "source": [
    "**Producto vector-vector o producto punto**\n",
    "\n",
    "Sean dos vectores $\\overrightarrow{x},\\overrightarrow{y}\\in\\mathbb{R}^{n}$ el **producto interno** o producto punto se puede definir, en términos del producto entre tales vectores de la siguiente forma:\n",
    "\n",
    "\\begin{equation}\n",
    "\\overrightarrow{x}\\cdot\\overrightarrow{y}=\\overrightarrow{x}^{T}\\:\\overrightarrow{y}\\in\\mathbb{R}^{1}=\\begin{bmatrix}x_{1} & x_{2} & \\cdots & x_{n}\\end{bmatrix}\\begin{bmatrix}v_{1}\\\\\n",
    "v_{2}\\\\\n",
    "\\vdots\\\\\n",
    "v_{n}\n",
    "\\end{bmatrix}=\\sum_{i=1}^{n}x_{i}\\:y_{i}\n",
    "\\end{equation}\n",
    "\n",
    "Observe entonces que el producto interno es un caso especial de la multiplicación de matrices, y que además, siempre se cumple que: \n",
    "\n",
    "\\begin{equation}\n",
    "\\overrightarrow{x}^{T}\\overrightarrow{y}=\\overrightarrow{y}^{T}\\overrightarrow{x}.\n",
    "\\end{equation}\n",
    "\n",
    "El **producto externo** en cambio, está dado para dos vectores $\\overrightarrow{x}\\in\\mathbb{R}^{m\\times1}$, $\\overrightarrow{y}\\in\\mathbb{R}^{1\\times n}$ (no necesariamente de la misma dimensionalidad) se define como: \n",
    "\n",
    "\\begin{equation}\n",
    "\\overrightarrow{x} \\odot \\overrightarrow{y}=\\vec{x}\\:\\vec{y}^{T}\\in\\mathbb{R}^{m\\times n}=\\begin{bmatrix}x_{1}\\\\\n",
    "x_{2}\\\\\n",
    "\\vdots\\\\\n",
    "x_{m}\n",
    "\\end{bmatrix}\\begin{bmatrix}y_{1} & y_{2} & \\cdots & y_{n}\\end{bmatrix}=\\begin{bmatrix}x_{1}y_{1} & x_{1}y_{2} & \\cdots & x_{1}y_{n}\\\\\n",
    "x_{2}y_{1} & x_{2}y_{2} & \\cdots & x_{2}y_{n}\\\\\n",
    "\\vdots & \\vdots & \\ddots & \\vdots\\\\\n",
    "x_{m}y_{1} & x_{m}y_{2} & \\cdots & x_{m}y_{n}\n",
    "\\end{bmatrix}\n",
    "\\end{equation}\n",
    "\n",
    "\n",
    "El producto externo permite, por ejemplo, crear una matriz $A\\in\\mathbb{R}^{m\\times n}$ cuyas columnas sean igual a un vector $x\\in\\mathbb{R}^{m}$ usando un vector unitario $\\overrightarrow{1}\\in\\mathbb{R}^{n}$, como sigue:\n",
    "\n",
    "\\begin{equation}\n",
    "\\overrightarrow{x}\\,\\overrightarrow{1}^{T}=\\begin{bmatrix}x_{1}\\\\\n",
    "x_{2}\\\\\n",
    "\\vdots\\\\\n",
    "x_{m}\n",
    "\\end{bmatrix}\\begin{bmatrix}1 & 1 & \\cdots & 1\\end{bmatrix}=\\begin{bmatrix}| & | &  & |\\\\\n",
    "\\vec{x} & \\vec{x} & \\cdots & \\vec{x}\\\\\n",
    "| & | &  & |\n",
    "\\end{bmatrix}\n",
    "\\end{equation}\n",
    "\n"
   ]
  },
  {
   "cell_type": "code",
   "execution_count": 33,
   "metadata": {},
   "outputs": [
    {
     "name": "stdout",
     "output_type": "stream",
     "text": [
      "[[0, 5], [2, -1]]\n",
      "\n",
      "\n",
      "[[10 -5]\n",
      " [-2 11]]\n",
      "\n",
      "\n",
      "[[25 -5]\n",
      " [-5  5]]\n",
      "\n",
      "\n",
      "[[ 0  0  0  0]\n",
      " [ 0 25 10 -5]\n",
      " [ 0 10  4 -2]\n",
      " [ 0 -5 -2  1]]\n",
      "\n",
      "\n"
     ]
    }
   ],
   "source": [
    "F = [[0, 5], [2, -1]]\n",
    "\n",
    "print(F)\n",
    "print(\"\\n\")\n",
    "\n",
    "G = np.dot(F, F)\n",
    "print(G)\n",
    "print(\"\\n\")\n",
    "\n",
    "GI = np.inner(F, F)\n",
    "print(GI)\n",
    "print(\"\\n\")\n",
    "\n",
    "GO = np.outer(F, F)\n",
    "print(GO)\n",
    "print(\"\\n\")"
   ]
  },
  {
   "cell_type": "markdown",
   "metadata": {},
   "source": [
    "**Producto matriz-vector**\n",
    "\n",
    "Sea una matriz $A\\in\\mathbb{R}^{m\\times n}$ y un vector (columna) $\\overrightarrow{x}\\in\\mathbb{R}^{n\\times1}$ su producto es el vector $\\overrightarrow{y}\\in\\mathbb{R}^{m\\times1}$ . \n",
    "\n",
    "Si se escribe a la matriz $A$ por columnas, entonces se puede expresar a $A\\,\\overrightarrow{x}$ como: \n",
    "\n",
    "\\begin{equation}\n",
    "\\vec{y}=A\\,\\overrightarrow{x}=\\begin{bmatrix}- & \\vec{a}_{1,:}^{T} & -\\\\\n",
    "- & \\vec{a}_{2,:}^{T} & -\\\\\n",
    " & \\vdots\\\\\n",
    "- & \\vec{a}_{m,:}^{T} & -\n",
    "\\end{bmatrix}\\,\\overrightarrow{x}=\\begin{bmatrix}- & \\vec{a}_{1,:}^{T} & -\\\\\n",
    "- & \\vec{a}_{2,:}^{T} & -\\\\\n",
    " & \\vdots\\\\\n",
    "- & \\vec{a}_{m,:}^{T} & -\n",
    "\\end{bmatrix}\\,\\begin{bmatrix}x_{1}\\\\\n",
    "x_{2}\\\\\n",
    "\\vdots\\\\\n",
    "x_{n}\n",
    "\\end{bmatrix}=\\begin{bmatrix}\\vec{a}_{1,:}^{T}\\:\\vec{x}\\\\\n",
    "\\vec{a}_{2,:}^{T}\\:\\vec{x}\\\\\n",
    "\\vdots\\\\\n",
    "\\vec{a}_{m,:}^{T}\\:\\vec{x}\n",
    "\\end{bmatrix}\n",
    "\\end{equation}\n",
    "\n",
    "En otras palabras, la fila $i$ de $y$ , $y_{i}$ es igual al producto interno de la fila $b_{i}$ con el vector $\\overrightarrow{x}$.\n",
    "\n",
    "Alternativamente, si se escribe la matriz $A$ en forma de columnas, el producto matriz-vector se puede expresar como:\n",
    "\n",
    "\\begin{equation}\n",
    "\\overrightarrow{y}=A\\,\\overrightarrow{x}=\\begin{bmatrix}| & | & \\ldots & |\\\\\n",
    "\\vec{a}_{:,1} & \\vec{a}_{:,2} & \\ldots & \\vec{a}_{:,n}\\\\\n",
    "| & | & \\ldots & |\n",
    "\\end{bmatrix}\\,\\begin{bmatrix}x_{1}\\\\\n",
    "x_{2}\\\\\n",
    "\\vdots\\\\\n",
    "x_{n}\n",
    "\\end{bmatrix}=\\left[\\vec{a}_{:,1}\\right]x_{1}+\\left[\\vec{a}_{:,2}\\right]x_{2}+\\ldots+\\left[\\vec{a}_{:,n}\\right]x_{n}.\n",
    "\\end{equation}\n",
    "\n",
    "ello es fácilmente corroborable si hacemos la multiplicación de sus transpuestas:\n",
    "\n",
    "\\begin{equation}\n",
    "\\overrightarrow{y}^{T}=\\vec{x}^{T}\\,A^{T}=\\begin{bmatrix}x_{1} & x_{2} & \\cdots & x_{n}\\end{bmatrix}\\,\\begin{bmatrix}- & \\vec{a}_{:,1}^{T} & -\\\\\n",
    "- & \\vec{a}_{:,2}^{T} & -\\\\\n",
    " & \\vdots\\\\\n",
    "- & \\vec{a}_{:,n}^{T} & -\n",
    "\\end{bmatrix}=x_{1}\\left[\\vec{a}_{:,1}^{T}\\right]+x_{2}\\left[\\vec{a}_{:,1}^{T}\\right]+\\ldots+x_{n}\\left[\\vec{a}_{:,n}^{T}\\right].\n",
    "\\end{equation}\n",
    "\n",
    "Lo anterior representa el hecho de que el vector $\\overrightarrow{y}$ es una **combinación lineal** de las columnas de la matriz **$A$**, donde los coeficientes están definidos en el vector $\\overrightarrow{x}$."
   ]
  },
  {
   "cell_type": "code",
   "execution_count": 23,
   "metadata": {
    "collapsed": true
   },
   "outputs": [],
   "source": [
    "# ejemplo matriz-vector"
   ]
  },
  {
   "cell_type": "markdown",
   "metadata": {},
   "source": [
    "**Producto matriz-matriz**\n",
    "\n",
    "El producto matriz-matriz en general de dos matrices $A\\in\\mathbb{R}^{m\\times n}$ y $B\\in\\mathbb{R}^{n\\times p}$ dado por $C\\in\\mathbb{R}^{m\\times p}$ se puede definir en términos de las filas y columnas, **donde para cada entrada $C_{i,j}$ el producto interno de la fila** $i$ de $A$ y la **columna $j$ de** $B$, simbólicamente esto se expresa como sigue: \n",
    "\n",
    "\\begin{equation}\n",
    "C=A\\,B=\\begin{bmatrix}- & \\vec{a}_{1,:}^{T} & -\\\\\n",
    "- & \\vec{a}_{2,:}^{T} & -\\\\\n",
    " & \\vdots\\\\\n",
    "- & \\vec{a}_{m,:}^{T} & -\n",
    "\\end{bmatrix}\\,\\begin{bmatrix}| & | & \\ldots & |\\\\\n",
    "\\vec{b}_{1,:} & \\vec{b}_{2,:} & \\ldots & \\vec{b}_{p,:}\\\\\n",
    "| & | & \\ldots & |\n",
    "\\end{bmatrix}=\\begin{bmatrix}\\vec{a}_{1,:}^{T}\\vec{b}_{1,:} & \\vec{a}_{1,:}^{T}\\vec{b}_{2,:} & \\cdots & \\vec{a}_{1,:}^{T}\\vec{b}_{p,:}\\\\\n",
    "\\vec{a}_{2,:}^{T}\\vec{b}_{1,:} & \\vec{a}_{2,:}^{T}\\vec{b}_{2,:} & \\cdots & \\vec{a}_{2,:}^{T}\\vec{b}_{p,:}\\\\\n",
    "\\vdots & \\vdots & \\ddots & \\vdots\\\\\n",
    "\\vec{a}_{m,:}^{T}\\vec{b}_{1,:} & \\vec{a'}_{m}^{T}\\vec{b}_{2,:} & \\cdots & \\vec{a}_{m,:}^{T}\\vec{b}_{p,:}\n",
    "\\end{bmatrix}\n",
    "\\end{equation}\n",
    "\n",
    "\\begin{equation}\n",
    "C=A\\,B=\\begin{bmatrix}| & | & \\ldots & |\\\\\n",
    "A\\vec{b}_{1,:} & A\\vec{b}_{2,:} & \\ldots & A\\vec{b}_{p,:}\\\\\n",
    "| & | & \\ldots & |\n",
    "\\end{bmatrix}\n",
    "\\end{equation}\n",
    "\n",
    "La última igualdad representa el hecho de que la columna $j$ de la matriz $C$ es una combinación lineal de los vectores columna de la matriz $A$ con los coeficientes definidos por el vector columna $\\vec{b}_{j,:}$. \n",
    "\n",
    "Las siguientes son propiedades fácilmente corroborables para el producto matricial: \n",
    "\n",
    "- Asociatividad: $\\left(A\\,B\\right)C=A\\left(B\\,C\\right)$.\n",
    "- Distributividad: $A\\left(B+C\\right)=A\\,B+A\\,C$.\n",
    "- No conmutatividad: $A\\,B\\neq B\\,A$.\n"
   ]
  },
  {
   "cell_type": "code",
   "execution_count": 36,
   "metadata": {},
   "outputs": [
    {
     "data": {
      "text/plain": [
       "array([[ 0, 25],\n",
       "       [ 4,  1]])"
      ]
     },
     "execution_count": 36,
     "metadata": {},
     "output_type": "execute_result"
    }
   ],
   "source": [
    "np.multiply(F, F)"
   ]
  },
  {
   "cell_type": "markdown",
   "metadata": {},
   "source": [
    "**Independencia lineal y el rango de una matriz**\n",
    "\n",
    "Un conjunto de vectores $\\left\\{ \\vec{x}_{1},\\vec{x}_{2},\\ldots,\\vec{x}_{n}\\right\\} \\subset\\mathbb{R}^{m}$ se dice que es linealmente independiente, si ningún vector de tal conjunto puede ser representado como una combinación lineal del resto de vectores. De lo contrario, si uno de los vectores en tal conjunto puede ser representado como una combinación lineal del resto de vectores, entonces los vectores son **linealmente dependientes**, lo que se expresa como: \n",
    "\n",
    "\\begin{equation}\n",
    "\\vec{x}_{j}=\\sum_{i=1}^{n-1}\\alpha_{i}\\vec{x}_{i}\n",
    "\\end{equation}\n",
    "\n",
    "para cualquier conjunto de valores escalares $\\alpha_{1},\\ldots,\\alpha_{n-1}\\in\\mathbb{R}$ se dice que el vector $\\vec{x}_{j}\\in\\mathbb{R}^{m}$ es linealmente dependiente de los vectores $\\vec{x}_{i}$. \n",
    "\n",
    "El **rango de columnas** de la matriz $A\\in\\mathbb{R}^{m\\times n}$ corresponde a la cantidad más grande de columnas en la matriz $A$ linealmente independientes, de manera similar, el **rango de filas** se refiere a la cantidad más grande de filas en tal matriz linealmente independientes.\n",
    "\n",
    "Para cualquier matriz $A\\in\\mathbb{R}^{m\\times n}$ se puede comprobar que el rango de filas y el de columnas es el mismo, por lo que entonces la cantidad de filas y columnas linealmente independiente se le refiere con el **rango**:\n",
    "\n",
    "$\\textrm{rango}\\left(A\\right),$con las siguientes propiedades:\n",
    "    \n",
    "- $\\forall A\\in\\mathbb{R}^{m\\times n}$, $\\textrm{rango}\\left(A\\right)\\leq\\min\\left(m,n\\right)$, y si $\\textrm{rango}\\left(A\\right)=\\textrm{min}\\left(m,n\\right)$ se dice que $A$ de **rango completo*.\n",
    "- $\\textrm{rango}\\left(A\\right)\\leq\\textrm{rango}\\left(A^{T}\\right)$\n",
    "- $\\textrm{rango}\\left(A\\,B\\right)\\leq\\min\\left(\\textrm{rango}\\left(A\\right),\\textrm{rango}\\left(B\\right)\\right)$\n",
    "- $\\textrm{rango}\\left(A+B\\right)\\leq\\textrm{rango}\\left(A\\right)+\\textrm{rango}\\left(B\\right)$\n",
    "\n",
    "Ejemplo: \n",
    "\n",
    "Observe la siguiente matriz: \n",
    "\n",
    "\\begin{equation}\n",
    "\\begin{bmatrix}1 & 2 & -1 & 3 & -2\\\\\n",
    "2 & 1 & 0 & 1 & 1\\\\\n",
    "2 & 4 & -2 & 6 & -4\\\\\n",
    "0 & 0 & 0 & 0 & 0\\\\\n",
    "5 & 4 & -1 & 5 & 0\n",
    "\\end{bmatrix}\n",
    "\\end{equation}\n",
    "\n",
    "Fácilmente puede notarse que la fila $f_{3}=2f_{1}$ y además que $f_{5}=2f_{2}+f_{1}$, y que dado que la fila $f_{4}$ es nula, entonces puede ser expresada en términos de cualquier otra fila en una combinación  lineal."
   ]
  },
  {
   "cell_type": "markdown",
   "metadata": {},
   "source": [
    "**La matriz inversa**\n",
    "\n",
    "La inversa de la matriz cuadrada $A\\in\\mathbb{R}^{n\\times n}$ se denota como $A^{-1}$ es la única matriz que cumple lo siguiente:\n",
    "\n",
    "\\begin{equation}\n",
    "A^{-1}A=I=A\\,A^{-1}\n",
    "\\end{equation}\n",
    "\n",
    "Nótese que no todas las matrices tienen inversas, por ejemplo las matrices no cuadradas no tienen inversas por definición, e incluso, pueden existir matrices cuadradas sin inversas.\n",
    "\n",
    "- Se dice que $A$ es una matriz **invertible** o no singular si $A^{-1}$ existe, si la matriz $A$ presenta **rango completo**.\n",
    "- Si la matriz $A^{-1}$ no existe, se dice que la matriz es **no invertible** o singular.\n",
    "\n",
    "Las siguientes son las propiedades de la inversa, asumiendo que $A,B\\in\\mathbb{R}^{n\\times n}$ son no-singulares:\n",
    "\n",
    "- $\\left(A^{-1}\\right)^{-1}=A$.\n",
    "- $\\left(A\\,B\\right)^{-1}=B^{-1}A^{-1}$.\n",
    "- $\\left(A^{-1}\\right)^{T}=\\left(A^{T}\\right)^{-1}$\n"
   ]
  },
  {
   "cell_type": "code",
   "execution_count": 34,
   "metadata": {},
   "outputs": [
    {
     "name": "stdout",
     "output_type": "stream",
     "text": [
      "[[ 0.     0.5  ]\n",
      " [ 0.25  -0.125]]\n"
     ]
    }
   ],
   "source": [
    "matrix = np.matrix([[1, 4],[2, 0]])\n",
    "\n",
    "inverse = np.linalg.inv(matrix)\n",
    "print(inverse)"
   ]
  },
  {
   "cell_type": "code",
   "execution_count": 35,
   "metadata": {},
   "outputs": [
    {
     "name": "stdout",
     "output_type": "stream",
     "text": [
      "[[ 0.     0.5  ]\n",
      " [ 0.25  -0.125]]\n"
     ]
    }
   ],
   "source": [
    "inverse = np.linalg.inv(matrix)\n",
    "print(inverse)"
   ]
  },
  {
   "cell_type": "markdown",
   "metadata": {},
   "source": [
    "**Matrices ortogonales**\n",
    "\n",
    "Anteriormente se mencionó que dos vectores $\\vec{x},\\vec{y}\\in\\mathbb{R}^{n}$ son ortogonales si $\\vec{x}^{T}\\vec{y}=0$. Se dice dice que un vector $\\vec{x}\\in\\mathbb{R}^{n}$ es normalizado si $\\left\\Vert \\vec{x}\\right\\Vert _{2}=1$.\n",
    "\n",
    "Una matriz cuadrada $U\\in\\mathbb{R}^{n\\times n}$ es **ortogonal** si todas las columnas son ortogonales entre ellas. Si además, todos los vectores están normalizados, se dice que la matriz es **ortonormal**.\n",
    "\n",
    "Las siguientes son propiedades de las matrices ortogonales: \n",
    "    \n",
    "- Para toda matriz ortonormal $U\\in\\mathbb{R}^{n\\times n}$ , se cumple que:$U^{T}U=I=U\\,U^{T}$ y sabiendo que $U\\,U^{-1}=I$ se arriba a que $U^{T}=U^{-1}$. Si $U\\in\\mathbb{R}^{m\\times n}$ y $n<m$ pero sus columnas son ortonormales, entonces se cumple que $U^{T}U=I$ pero $U\\,U^{T}\\neq I$.\n",
    "- Para toda matriz ortogonal $U\\in\\mathbb{R}^{n\\times n}$ y vector $\\vec{x}\\in\\mathbb{R}^{n}$, se cumple que el operar el vector con una matriz ortogonal, la norma euclidiana no cambia: \n",
    "\n",
    "\\begin{equation}\n",
    "\\left\\Vert U\\,\\vec{x}\\right\\Vert _{2}=\\left\\Vert \\vec{x}\\right\\Vert _{2}\n",
    "\\end{equation}\n"
   ]
  },
  {
   "cell_type": "markdown",
   "metadata": {},
   "source": [
    "**Rango y espacio nulo de la matriz**\n",
    "\n",
    "Un **espacio generado** de un conjunto de vectores $\\left\\{ \\vec{a}_{1},\\vec{a}_{2},\\ldots,\\vec{a}_{m}\\right\\} \\qquad\\vec{a}_{i}\\in\\mathbb{R}^{n}$ es el conjunto de vectores que pueden ser expresados como combinación\n",
    "lineal de tales vectores:\n",
    "\n",
    "\\begin{equation}\n",
    "\\textrm{espacioGenerado}\\left(\\left\\{ \\vec{a}_{1},\\vec{a}_{2},\\ldots,\\vec{a}_{m}\\right\\} \\right)=\\left\\{ \\vec{v}:\\vec{v}=\\sum_{i=1}^{m}x_{i}\\vec{a}_{i}\\qquad x_{i}\\in\\mathbb{R}^{1}\\right\\} .\n",
    "\\end{equation}\n",
    "\n",
    "Puede demostrarse que si el conjunto de vectores $\\left\\{ \\vec{a}_{1},\\vec{a}_{2},\\ldots,\\vec{a}_{m}\\right\\} \\qquad\\vec{a}_{i}\\in\\mathbb{R}^{n}$ es **linealmente independiente** (con $m\\geq n$), el espacio\n",
    "generado por tal conjunto de vectores es: \n",
    "\n",
    "\\begin{equation}\n",
    "\\textrm{espacioGenerado}\\left(\\left\\{ \\vec{a}_{1},\\vec{a}_{2},\\ldots,\\vec{a}_{m}\\right\\} \\right)=\\mathbb{R}^{n}.\n",
    "\\end{equation}\n",
    "\n",
    "Por ejemplo, los vectores unitarios anteriormente presentados $\\hat{i}=\\begin{bmatrix}1\\\\\n",
    "0\\\\\n",
    "0\n",
    "\\end{bmatrix}$, $\\hat{j}=\\begin{bmatrix}0\\\\\n",
    "1\\\\\n",
    "0\n",
    "\\end{bmatrix}$ y $\\hat{k}=\\begin{bmatrix}0\\\\\n",
    "0\\\\\n",
    "1\n",
    "\\end{bmatrix}$ son linealmente independientes, por lo que entonces es fácil observar que la combinación lineal de tales vectores puede generar cualquier vector en el espacio $\\mathbb{R}^{3}$. Por ejemplo, un vector $\\vec{v}=\\begin{bmatrix}3\\\\\n",
    "5\\\\\n",
    "7\n",
    "\\end{bmatrix}$ se puede representar como: \n",
    "\n",
    "\\begin{equation}\n",
    "\\vec{v}=3\\hat{i}+5\\hat{j}+7\\hat{k}=3\\,\\begin{bmatrix}1\\\\\n",
    "0\\\\\n",
    "0\n",
    "\\end{bmatrix}+5\\,\\begin{bmatrix}0\\\\\n",
    "1\\\\\n",
    "0\n",
    "\\end{bmatrix}+7\\,\\begin{bmatrix}0\\\\\n",
    "0\\\\\n",
    "1\n",
    "\\end{bmatrix}\n",
    "\\end{equation}\n",
    "\n",
    "por lo que entonces $\\vec{v}\\in\\textrm{espacioGenerado}\\left(\\left\\{ \\vec{i},\\vec{j},\\vec{k}\\right\\} \\right)=\\mathbb{R}^{3}$, con en este caso $x_{1}=3$, $x_{2}=5$ y $x_{3}=7$.\n",
    "\n",
    "**La proyección** **de un vector** $\\vec{y}\\in\\mathbb{R}^{n}$ en el espacio generado por el conjunto de vectores $\\left\\{ \\vec{a}_{1},\\vec{a}_{2},\\ldots,\\vec{a}_{m}\\right\\} \\qquad\\vec{a}_{i}\\in\\mathbb{R}^{n}$ corresponde al vector $\\vec{v}\\in\\textrm{espacioGenerado}\\left(\\left\\{ \\vec{a}_{1},\\vec{a}_{2},\\ldots,\\vec{a}_{m}\\right\\} \\right)$ tal que $\\vec{v}\\in\\mathbb{R}^{n}$ esté lo más cerca posible del vector $\\vec{y}\\in\\mathbb{R}^{n}$, medido con por ejemplo una norma euclidiana $\\left\\Vert \\vec{v}-\\vec{y}\\right\\Vert _{2}$ y se puede definir formalmente como: \n",
    "\n",
    "\\begin{equation}\n",
    "\\textrm{proy}\\left(\\vec{y};\\left\\{ \\vec{a}_{1},\\vec{a}_{2},\\ldots,\\vec{a}_{m}\\right\\} \\right)=\\textrm{argmin}_{\\vec{v}\\in\\textrm{espacioGenerado}\\left(\\left\\{ \\vec{a}_{1},\\vec{a}_{2},\\ldots,\\vec{a}_{m}\\right\\} \\right)}\\left\\Vert \\vec{v}-\\vec{y}\\right\\Vert _{2}.\n",
    "\\end{equation}\n",
    "\n",
    "Por otra parte, el **espacio de columnas** de una matriz $A\\in\\mathbb{R}^{m\\times n}$ denotado como $\\mathcal{C}\\left(A\\right)$ corresponde al espacio generado por las columnas de la matriz $A$, lo cual se representa como sigue: \n",
    "\n",
    "\\begin{equation}\n",
    "\\mathcal{C}\\left(A\\right) = \\left\\{ \\vec{v}\\in\\mathbb{R}^{m}:\\vec{v}=A\\,\\vec{x},\\;\\vec{x}\\in\\mathbb{R}^{m},\\:A\\in\\mathbb{R}^{n\\times m}\\right\\} ,\n",
    "\\end{equation}\n",
    "\n",
    "donde recordemos que la multiplicación matricial $A\\,\\vec{x}$ corresponde a una combinación lineal del vector $\\vec{x}$:\n",
    "\n",
    "\\begin{equation}\n",
    "A\\,\\overrightarrow{x}=\\begin{bmatrix}| & | & \\ldots & |\\\\\n",
    "\\vec{a}_{:,1} & \\vec{a}_{:,2} & \\ldots & \\vec{a}_{:,n}\\\\\n",
    "| & | & \\ldots & |\n",
    "\\end{bmatrix}\\,\\begin{bmatrix}x_{1}\\\\\n",
    "x_{2}\\\\\n",
    "\\vdots\\\\\n",
    "x_{n}\n",
    "\\end{bmatrix}=x_{1}\\left[\\vec{a}_{:,1}\\right]+x_{2}\\left[a_{:,2}\\right]+\\ldots+x_{n}\\left[a_{:,n}\\right],\n",
    "\\end{equation}\n",
    "\n",
    "por lo que entonces el espacio de columnas de la matriz $A$ equivale a:\n",
    "\n",
    "\\begin{equation}\n",
    "{\\mathcal{C}\\left(A\\right)} = espacioGenerado\\left(\\left\\{ \\vec{a}_{:,1},\\vec{a}_{:,2},\\ldots,\\vec{a}_{:,n}\\right\\} \\right)=\\left\\{ v:v=\\sum_{i=1}^{n}x_{i}\\vec{a}_{:,i}\\qquad x_{i}\\in\\mathbb{R}^{1}\\right\\} .\n",
    "\\end{equation}\n",
    "\n",
    "Asumiendo que $A$ es de **rango completo** y que $n<m$ se tiene que la proyección del vector $\\vec{y\\in\\mathbb{R}^{n}}$ en el espacio de columnas de la matriz $A$ está dado por: \n",
    "\n",
    "\\begin{equation}\n",
    "\\textrm{proy}\\left(\\vec{y};A\\right)=\\textrm{argmin}_{\\vec{v}\\in\\mathcal{C}\\left(A\\right)}\\left\\Vert \\vec{v}-\\vec{y}\\right\\Vert _{2}=\\textrm{argmin}_{\\vec{x}}\\sqrt{\\left(A\\:\\vec{x}-\\vec{y}\\right)\\cdotp\\left(A\\:\\vec{x}-\\vec{y}\\right)}\n",
    "\\end{equation}\n",
    "\n",
    "\\begin{equation}\n",
    "\\Rightarrow\\textrm{proy}\\left(\\vec{y};A\\right)=\\textrm{argmin}_{\\vec{x}}\\sqrt{\\left(A\\:\\vec{x}-\\vec{y}\\right)^{T}\\left(A\\:\\vec{x}-\\vec{y}\\right)}\n",
    "\\end{equation}\n",
    "\n",
    "El encontrar el vector que minimice la ecuación $\\left(A\\:\\vec{x}-\\vec{y}\\right)^{T}\\left(A\\:\\vec{x}-\\vec{y}\\right)$\n",
    "se le llama el problema de los **mínimos cuadrados**. Nos preocupamos de tal ecuación, pues usualmente se eleva el cuadrado la ecuación original de la proyección, dado que tomar su cuadrado no altera el mínimo:\n",
    "\n",
    "\\begin{equation}\n",
    "\\textrm{argmin}_{\\vec{v}\\in\\mathcal{C}\\left(A\\right)}\\left\\Vert \\vec{v}-\\vec{y}\\right\\Vert _{2}^{2}=\\textrm{argmin}_{\\vec{x}}\\left(A\\:\\vec{x}-\\vec{y}\\right)\\cdotp\\left(A\\:\\vec{x}-\\vec{y}\\right).\n",
    "\\end{equation}\n",
    "\n",
    "Este tema se retomará al final del presente documento, una vez que se haya definido el concepto de gradiente matricial y se demostrará que: \n",
    "\n",
    "\\begin{equation}\n",
    "\\textrm{proy}\\left(\\vec{y};A\\right)=\\textrm{argmin}_{\\vec{v}\\in\\mathcal{C}\\left(A\\right)}\\left\\Vert \\vec{v}-\\vec{y}\\right\\Vert _{2}=A\\,\\left(A^{T}A\\right)^{-1}A^{T}\\vec{y}\n",
    "\\end{equation}\n",
    "\n",
    "Para el caso en que $A$ está formada por una sola columna $\\vec{a}\\in\\mathbb{R}^{m}$ (correspondiente a un espacio generador de un vector), se tiene el caso especial de la proyección de un vector sobre otro vector:\n",
    "\n",
    "\\begin{equation}\n",
    "\\textrm{proy}\\left(\\vec{y};\\vec{a}\\right)=\\frac{\\vec{a}\\,\\vec{a}^{T}}{\\vec{a}^{T}\\,\\vec{a}}\\vec{y}\n",
    "\\end{equation}\n",
    "\n",
    "Observe que en tal caso de fijar un conjunto generador de un solo vector, el subespacio generado corresponde únicamente al escalamiento de tal vector, pero la dimensionalidad del vector proyectado tiene la misma dimensionalidad original (por lo que se denomina una proyección a un sub-espacio). La Figura \\ref{fig:Proyecci=0000F3n-de-vector} muestra la proyección de un vector sobre otro vector.\n",
    "\n",
    "<img src=\"imgs/proy.png\" alt=\"Drawing\" style=\"width: 300px;\"/>\n",
    "<h3 align=\"center\">Proyección de vector $\\vec{a}$ sobre $\\vec{b}$.</h3> \n",
    "\n",
    "\n",
    "            function proyectar     \n",
    "                v1 = [3; 7];  \n",
    "                v2 = [9; 1];   \n",
    "                proy = proyectarVector(v1, v2);  \n",
    "                figure; \n",
    "                plotv([proy v1 ]);\n",
    "                figure; \n",
    "                plotv([v2 v1 ]); \n",
    "            end\n",
    "            \n",
    "            function proyec = proyectarVector(b, a)\n",
    "                %proyecta b sobre a     \n",
    "                coefMatricial = ((a * a') / (a' * a)); \n",
    "               proyec = coefMatricial * b; \n",
    "            end\n",
    "\n",
    "\n",
    "El **espacio nulo** de una matriz $A\\in\\mathbb{R}^{m\\times n}$, se define como el conjunto de todos los vectores que al multiplicarse con la matriz $A$ resultan en $0$, y se denota como \n",
    "\n",
    "\\begin{equation}\n",
    "\\mathcal{N}\\left(A\\right)=\\left\\{ \\vec{x}\\in\\mathbb{R}^{n}:A\\,\\vec{x}=0\\right\\} \n",
    "\\end{equation}"
   ]
  },
  {
   "cell_type": "code",
   "execution_count": 27,
   "metadata": {
    "collapsed": true
   },
   "outputs": [],
   "source": [
    "# Ejemplo rango y proyeccion"
   ]
  },
  {
   "cell_type": "markdown",
   "metadata": {
    "colab": {
     "autoexec": {
      "startup": false,
      "wait_interval": 0
     }
    },
    "colab_type": "code",
    "id": "twx7onRyBQdW"
   },
   "source": [
    "**Determinante de una matriz**\n",
    "\n",
    "El determinante de una matriz cuadrada $A\\in\\mathbb{R}^{n\\times n}$ es una función denotada con $\\textrm{det}\\left(A\\right):\\mathbb{R}^{n\\times n}\\rightarrow\\mathbb{R}$. Antes de detallar la fórmula que define al determinante, examinaremos la interpretación geométrica del determinante. Sea una matriz compuesta por múltiples filas: \n",
    "\n",
    "\n",
    "\\begin{equation}\n",
    "A=\\begin{bmatrix}- & \\vec{a}_{1,:}^{T} & -\\\\\n",
    "- & \\vec{a}_{2,:}^{T} & -\\\\\n",
    " & \\vdots\\\\\n",
    "- & \\vec{a}_{n,:}^{T} & -\n",
    "\\end{bmatrix}\n",
    "\\end{equation}\n",
    "\n",
    "considere el conjunto de puntos $S\\subset\\mathbb{R}^{n}$ formado al tomar todas las combinaciones lineales posibles de los vectores fila $\\vec{a}_{i,:}^{T}$, donde los coeficientes de tal combinación lineal cumplen que $0\\leq\\alpha_{i}\\leq1,i=1,\\ldots,n$, lo cual formalmente se denota como: \n",
    "\n",
    "\\begin{equation}\n",
    "S=\\left\\{ \\vec{v}\\in\\mathbb{R}^{n}:\\vec{v}=\\sum_{i=1}^{n}\\alpha_{i}\\vec{a}_{i,:},\\qquad0\\leq\\alpha_{i}\\leq1,i=1,\\ldots,n\\right\\} \n",
    "\\end{equation}\n",
    "\n",
    "El valor absoluto del determinanate de la matriz $A$, $\\left|\\textrm{det}\\left(A\\right)\\right|$, corresponde a una medida del ``volumen'' de todo el conjunto $S$. \n",
    "\n",
    "Por ejemplo, para la matriz $A\\in\\mathbb{R}^{2\\times2}$: \n",
    "\n",
    "\\begin{equation}\n",
    "A=\\begin{bmatrix}1 & 3\\\\\n",
    "3 & 2\n",
    "\\end{bmatrix}\n",
    "\\end{equation}\n",
    "\n",
    "cuyos vectores fila están dados por: \n",
    "\n",
    "\\begin{equation}\n",
    "\\vec{a}_{1,:}=\\begin{bmatrix}1\\\\\n",
    "3\n",
    "\\end{bmatrix}\\qquad\\vec{a}_{2,:}=\\begin{bmatrix}3\\\\\n",
    "2\n",
    "\\end{bmatrix}\n",
    "\\end{equation}\n",
    "\n",
    "se muestra en la Figura \\ref{fig:Regi=0000F3n--de}, sombreado, el conjunto de puntos $S$. Observe que el punto ``extremo'' $\\vec{a}_{1,:}+\\vec{a}_{2,:}=\\begin{bmatrix}4\\\\\n",
    "5\n",
    "\\end{bmatrix}$, viene dado cuando $\\alpha_{1}=\\alpha_{2}=1$. El determinante para una matriz de $2\\times2$ se define como: \n",
    "\n",
    "\\begin{equation}\n",
    "\\textrm{det}\\left(\\begin{bmatrix}a & b\\\\\n",
    "c & d\n",
    "\\end{bmatrix}\\right)=a\\,d-b\\,c\n",
    "\\end{equation}\n",
    "\n",
    "y para cualquier matriz de $n\\times n$ dimensiones, el determinante se define recursivamente como: \n",
    "\n",
    "\\begin{equation}\n",
    "\\textrm{det}\\left(A\\right)=A_{1,1}\\textrm{det}\\left(A_{\\backslash1,\\backslash1}\\right)-A_{1,2}\\textrm{det}\\left(A_{\\backslash1,\\backslash2}\\right)+\\ldots\\pm A_{1,n}\\textrm{det}\\left(A_{\\backslash1,\\backslash n}\\right)\n",
    "\\end{equation}\n",
    "\n",
    "lo cual es equivalente también a escoger cualquier fila o columna a eliminar: \n",
    "\n",
    "\\begin{equation}\n",
    "\\textrm{det}\\left(A\\right)=\\sum_{i=1}^{n}\\left(-1\\right)^{i+j}A_{i,j}\\left|A_{\\backslash i,\\backslash j}\\right|=\\sum_{j=1}^{n}\\left(-1\\right)^{i+j}A_{i,j}\\left|A_{\\backslash i,\\backslash j}\\right|\n",
    "\\end{equation}\n",
    "\n",
    "Observe que el determinante consiste en la combinación lineal de los determinantes de las submatrices resultantes de eliminar la fila y columna $i$ (denotado como $\\textrm{det}\\left(A_{\\backslash i,\\backslash j}\\right)$), multiplicado por el elemento $A_{1,i}$. Con la matriz de ejemplo $A=\\begin{bmatrix}1 & 3\\\\ 3 & 2 \\end{bmatrix}$ , el determinante viene entonces dado por: $\\textrm{det}\\left(A\\right)=1\\cdot2-3\\cdot3=-7$, y tomando su valor absoluto, se tiene que $\\left|\\textrm{det}\\left(A\\right)\\right|=7$, lo que corresponde al área del paralelogramo formado por el conjunto de puntos $S$ (en $n$ dimensiones, se refiere como paralelótopo).\n",
    "\n",
    "\n",
    "<img src=\"imgs/regEjemplo.png\" alt=\"Drawing\" style=\"width: 500px;\"/>\n",
    "<h3 align=\"center\">Región $S$ de ejemplo.</h3> \n",
    "\n",
    "Las siguientes son propiedades de la función determinante $\\textrm{det}\\left(A\\right)$ para una matriz cuadrada $A\\in\\mathbb{R}^{n\\times n}$ :\n",
    "\n",
    "- El volumen de un hipercubo unitario es $\\textrm{det}\\left(I\\right)=1$.\n",
    "- Homogeneidad: Sea un escalar $s\\in\\mathbb{R}$, $\\textrm{det}\\left(s\\,A\\right)=s\\,\\textrm{det}\\left(A\\right)$\n",
    "- $\\textrm{det}\\left(A\\right)=\\textrm{det}\\left(A^{T}\\right)$\n",
    "- $\\textrm{det}\\left(A\\,B\\right)=\\textrm{det}\\left(A\\right)\\,\\textrm{det}\\left(B\\right)$\n",
    "- $\\textrm{det}\\left(A\\right)=0$, implica que $A$ es una matriz singular (no invertible), por lo que entonces no tiene rango completo, y sus columnas son **linealmente dependientes**, lo que implica a demás la superficie $S$ no tiene volumen, al ser los vectores combinación lineal.\n",
    "- $\\textrm{det}\\left(A^{-1}\\right)=1/\\textrm{det}\\left(A\\right)$\n"
   ]
  },
  {
   "cell_type": "code",
   "execution_count": 28,
   "metadata": {
    "collapsed": true
   },
   "outputs": [],
   "source": [
    "# ejemplo determinantes"
   ]
  },
  {
   "cell_type": "code",
   "execution_count": null,
   "metadata": {
    "collapsed": true
   },
   "outputs": [],
   "source": []
  }
 ],
 "metadata": {
  "colab": {
   "default_view": {},
   "name": "ejemplo_latex.ipynb",
   "provenance": [],
   "version": "0.3.2",
   "views": {}
  },
  "kernelspec": {
   "display_name": "Python 3",
   "language": "python",
   "name": "python3"
  },
  "language_info": {
   "codemirror_mode": {
    "name": "ipython",
    "version": 3
   },
   "file_extension": ".py",
   "mimetype": "text/x-python",
   "name": "python",
   "nbconvert_exporter": "python",
   "pygments_lexer": "ipython3",
   "version": "3.6.5"
  }
 },
 "nbformat": 4,
 "nbformat_minor": 1
}
