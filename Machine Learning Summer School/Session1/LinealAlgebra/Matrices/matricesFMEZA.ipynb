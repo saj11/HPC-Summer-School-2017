{
 "cells": [
  {
   "cell_type": "markdown",
   "metadata": {},
   "source": [
    "# EVeMa 2018"
   ]
  },
  {
   "cell_type": "markdown",
   "metadata": {},
   "source": [
    "![title](imgs/evema2018.png)"
   ]
  },
  {
   "cell_type": "markdown",
   "metadata": {},
   "source": [
    "# ESCUELA DE VERANILLO EN MACHINE LEARNING EVeMa"
   ]
  },
  {
   "cell_type": "markdown",
   "metadata": {},
   "source": [
    "# Topic: MATRICES"
   ]
  },
  {
   "cell_type": "markdown",
   "metadata": {},
   "source": [
    "# Felipe Meza\n",
    "\n",
    "<br>"
   ]
  },
  {
   "cell_type": "markdown",
   "metadata": {},
   "source": [
    "**Why matrices in machine learning?**\n",
    "\n",
    "- Matrices are a foundational element of linear algebra.\n",
    "- Matrices are used in the field of machine learning in the description of algorithms and processes such as the input data variable (X) when training an algorithm.\n",
    "- Matrix operations are used in the description of many machine learning algorithms."
   ]
  },
  {
   "cell_type": "markdown",
   "metadata": {},
   "source": [
    "<img src=\"imgs/mnist2.png\" alt=\"Drawing\" style=\"width: 500px;\"/>\n",
    "<h4 align=\"center\">Matrix representation of a input data variable.</h4> "
   ]
  },
  {
   "cell_type": "markdown",
   "metadata": {},
   "source": [
    "Linear algebra facilitates the expression of multiple operations, such as operations in linear equations in the following system:\n",
    "\n",
    "\\begin{array}{c}\n",
    "4x_{1}-5x_{2}=-13\\\\\n",
    "-2x_{1}+3x_{2}=9\n",
    "\\end{array}\n",
    "\n",
    "the system of equations above has the same number of equations and variables, so it presents a unique solution if the equations are linearly independent (none of the equations is a linear combination of another). In matrix notation, the system of equations above is expressed as follows:\n",
    "\n",
    "\\begin{equation}\n",
    "A\\,\\vec{x}=b\n",
    "\\end{equation}\n",
    "\n",
    "with\n",
    "\n",
    "\\begin{equation}\n",
    "A=\\begin{bmatrix}4 & -5\\\\\n",
    "-2 & 3\n",
    "\\end{bmatrix},\\qquad b=\\begin{bmatrix}-13\\\\\n",
    "9\n",
    "\\end{bmatrix}\n",
    "\\end{equation}"
   ]
  },
  {
   "cell_type": "code",
   "execution_count": 1,
   "metadata": {},
   "outputs": [
    {
     "name": "stdout",
     "output_type": "stream",
     "text": [
      "Solutions:\n",
      " [ 3.  5.]\n"
     ]
    }
   ],
   "source": [
    "# speaking of equation systems, the class linalg is part of the library numpy as was created \n",
    "# to solve linear equation systems in matrix representation, such as the one described above. \n",
    "\n",
    "import numpy as np\n",
    "\n",
    "# Se crea la matriz A 2x2 como arreglo\n",
    "A = np.array([[4, -5],[-2, 3]])\n",
    "\n",
    "# De igual forma se procede con B\n",
    "B = np.array([-13, 9]) \n",
    "\n",
    "# En numpy linalg resuelve el sistema\n",
    "print ('Solutions:\\n',np.linalg.solve(A, B))"
   ]
  },
  {
   "cell_type": "markdown",
   "metadata": {},
   "source": [
    "The following notation will be used in the course material:\n",
    "\n",
    "- With $A\\in\\mathbb{R}^{m\\times n}$ a matrix with $m$ rows and $n$ columns is defined, where in this case all the entries of $A$ are real numbers.\n",
    "\n",
    "- With $\\vec{x}\\in\\mathbb{R}^{n\\times1}=\\mathbb{R}^{n}$ denotes a vector with $n$ entries. By convention, a $n$ dimensional vector is defined as an matrix of $n$ rows and $1$ column, known as the ** column vector **:\n",
    "\n",
    "\\begin{equation}\n",
    "\\overrightarrow{x}=\\begin{bmatrix}x_{1}\\\\\n",
    "x_{2}\\\\\n",
    "\\vdots\\\\\n",
    "x_{n}\n",
    "\\end{bmatrix}\n",
    "\\end{equation}\n",
    "\n",
    "and the $i$ element of the vector is denoted as $x_{i}$. A row vector is then defined in the following way (using the definition of the transpose):\n",
    "\n",
    "\\begin{equation}\n",
    "\\overrightarrow{x}^{T}=\\begin{bmatrix}x_{1} & x_{2} & \\ldots & x_{n}\\end{bmatrix}\n",
    "\\end{equation}\n",
    "\n",
    "- To denote the elements of a matrix, use the notation $a_{i,j}$ ($A_{ij}$, $A_{i,j}$,$A\\left(i,j\\right)$, etc) to denote an entry of the $A$ matrix in the $i$ row and the $j$ column:\n",
    "\n",
    "\\begin{equation}\n",
    "A=\\begin{bmatrix}a_{1,1} & a_{1,2} & \\ldots & a_{1,n}\\\\\n",
    "a_{2,1} & a_{2,2} & \\ldots & a_{2,n}\\\\\n",
    "\\vdots & \\vdots & \\ddots & \\vdots\\\\\n",
    "a_{m,1} & a_{m,2} &  & a_{m,n}\n",
    "\\end{bmatrix}\n",
    "\\end{equation}\n",
    "\n",
    "<img src=\"imgs/matrixnm.png\" alt=\"Drawing\" style=\"width: 200px;\"/>\n",
    "\n",
    "and define the $j$ column of the matrix $A$ with $a_{j}$ or $A_{:,j}$, so that the $A$ array is defined in terms of column vectors by:\n",
    "\n",
    "\\begin{equation}\n",
    "A=\\begin{bmatrix}| & | & \\ldots & |\\\\\n",
    "\\overrightarrow{a}_{:,1} & \\overrightarrow{a}_{:,2} & \\ldots & \\overrightarrow{a}_{:,n}\\\\\n",
    "| & | & \\ldots & |\n",
    "\\end{bmatrix}\n",
    "\\end{equation}\n",
    "\n",
    "and the row $i$ of such matrix is defined as $\\vec{a}_{i,:}^{T}$ o $A_{i,:}$, so in terms of such row vectors the matrix $A$ is expressed as:\n",
    "\n",
    "\\begin{equation}\n",
    "A=\\begin{bmatrix}- & \\vec{a}_{1,:}^{T} & -\\\\\n",
    "- & \\vec{a}_{2,:}^{T} & -\\\\\n",
    " & \\vdots\\\\\n",
    "- & \\vec{a}_{m,:}^{T} & -\n",
    "\\end{bmatrix}\n",
    "\\end{equation}\n",
    "\n",
    "<br>"
   ]
  },
  {
   "cell_type": "code",
   "execution_count": 2,
   "metadata": {},
   "outputs": [
    {
     "name": "stdout",
     "output_type": "stream",
     "text": [
      "[[10, 80, 75, 85], [20, 90, 85, 95], [5, 40, 30, 15]]\n",
      "\n",
      "\n",
      "[[10 80 75 85]\n",
      " [20 90 85 95]\n",
      " [ 5 40 30 15]]\n"
     ]
    }
   ],
   "source": [
    "# How can we create matrices in python?\n",
    "# There are several ways to do that, let's explore two common methods:\n",
    "\n",
    "# 1- using square brackets [[]] as nested lists\n",
    "\n",
    "# matriz 3*4 matrix where 3 is number of rows and 4 is number of columns.\n",
    "\n",
    "A = [[10,80,75,85],[20,90,85,95],[5,40,30,15]]\n",
    "\n",
    "print(A)\n",
    "print(\"\\n\")\n",
    "\n",
    "# 2- using conventional arrays\n",
    "\n",
    "A1 = np.array([[10,80,75,85],[20,90,85,95],[5,40,30,15]])\n",
    "\n",
    "print(A1)"
   ]
  },
  {
   "cell_type": "code",
   "execution_count": 3,
   "metadata": {},
   "outputs": [
    {
     "data": {
      "text/plain": [
       "list"
      ]
     },
     "execution_count": 3,
     "metadata": {},
     "output_type": "execute_result"
    }
   ],
   "source": [
    "# Type validation of A\n",
    "\n",
    "type(A)"
   ]
  },
  {
   "cell_type": "code",
   "execution_count": 4,
   "metadata": {},
   "outputs": [
    {
     "data": {
      "text/plain": [
       "numpy.ndarray"
      ]
     },
     "execution_count": 4,
     "metadata": {},
     "output_type": "execute_result"
    }
   ],
   "source": [
    "# Type validation of A1\n",
    "\n",
    "type(A1)"
   ]
  },
  {
   "cell_type": "code",
   "execution_count": 9,
   "metadata": {},
   "outputs": [
    {
     "name": "stdout",
     "output_type": "stream",
     "text": [
      "[[2 3]\n",
      " [3 5]]\n",
      "\n",
      "\n"
     ]
    },
    {
     "data": {
      "text/plain": [
       "numpy.matrixlib.defmatrix.matrix"
      ]
     },
     "execution_count": 9,
     "metadata": {},
     "output_type": "execute_result"
    }
   ],
   "source": [
    "# 3- using the matrix type in numpy \n",
    "\n",
    "A2 = np.matrix( ((2,3), (3, 5)) )\n",
    "print(A2)\n",
    "print(\"\\n\")\n",
    "\n",
    "# Type validation of A\n",
    "\n",
    "type(A2)"
   ]
  },
  {
   "cell_type": "code",
   "execution_count": 10,
   "metadata": {},
   "outputs": [
    {
     "name": "stdout",
     "output_type": "stream",
     "text": [
      "[[ 0  1  2  3]\n",
      " [ 4  5  6  7]\n",
      " [ 8  9 10 11]\n",
      " [12 13 14 15]]\n"
     ]
    }
   ],
   "source": [
    "# we can also create matrices with values of a range with numpy, and specifing the size of the matrix\n",
    "\n",
    "from numpy import * \n",
    "\n",
    "B = range(16)\n",
    "\n",
    "B = reshape(B,(4,4)) \n",
    "\n",
    "print(B) "
   ]
  },
  {
   "cell_type": "code",
   "execution_count": 11,
   "metadata": {},
   "outputs": [
    {
     "name": "stdout",
     "output_type": "stream",
     "text": [
      "[[ 0  1  2  3  4  5  6  7]\n",
      " [ 8  9 10 11 12 13 14 15]]\n"
     ]
    }
   ],
   "source": [
    "B1 = reshape(B,(2,8)) \n",
    "\n",
    "print(B1) "
   ]
  },
  {
   "cell_type": "code",
   "execution_count": 12,
   "metadata": {},
   "outputs": [
    {
     "ename": "ValueError",
     "evalue": "cannot reshape array of size 16 into shape (2,9)",
     "output_type": "error",
     "traceback": [
      "\u001b[0;31m---------------------------------------------------------------------------\u001b[0m",
      "\u001b[0;31mValueError\u001b[0m                                Traceback (most recent call last)",
      "\u001b[0;32m<ipython-input-12-a9d3ff8a2eee>\u001b[0m in \u001b[0;36m<module>\u001b[0;34m()\u001b[0m\n\u001b[0;32m----> 1\u001b[0;31m \u001b[0mB2\u001b[0m \u001b[0;34m=\u001b[0m \u001b[0mreshape\u001b[0m\u001b[0;34m(\u001b[0m\u001b[0mB\u001b[0m\u001b[0;34m,\u001b[0m\u001b[0;34m(\u001b[0m\u001b[0;36m2\u001b[0m\u001b[0;34m,\u001b[0m\u001b[0;36m9\u001b[0m\u001b[0;34m)\u001b[0m\u001b[0;34m)\u001b[0m\u001b[0;34m\u001b[0m\u001b[0m\n\u001b[0m\u001b[1;32m      2\u001b[0m \u001b[0;34m\u001b[0m\u001b[0m\n\u001b[1;32m      3\u001b[0m \u001b[0mprint\u001b[0m\u001b[0;34m(\u001b[0m\u001b[0mB2\u001b[0m\u001b[0;34m)\u001b[0m\u001b[0;34m\u001b[0m\u001b[0m\n\u001b[1;32m      4\u001b[0m \u001b[0;34m\u001b[0m\u001b[0m\n\u001b[1;32m      5\u001b[0m \u001b[0;31m# range and matrix dim must be the same!!!!!!\u001b[0m\u001b[0;34m\u001b[0m\u001b[0;34m\u001b[0m\u001b[0m\n",
      "\u001b[0;32m/Users/fmeza/anaconda/envs/py3/lib/python3.6/site-packages/numpy/core/fromnumeric.py\u001b[0m in \u001b[0;36mreshape\u001b[0;34m(a, newshape, order)\u001b[0m\n\u001b[1;32m    230\u001b[0m            [5, 6]])\n\u001b[1;32m    231\u001b[0m     \"\"\"\n\u001b[0;32m--> 232\u001b[0;31m     \u001b[0;32mreturn\u001b[0m \u001b[0m_wrapfunc\u001b[0m\u001b[0;34m(\u001b[0m\u001b[0ma\u001b[0m\u001b[0;34m,\u001b[0m \u001b[0;34m'reshape'\u001b[0m\u001b[0;34m,\u001b[0m \u001b[0mnewshape\u001b[0m\u001b[0;34m,\u001b[0m \u001b[0morder\u001b[0m\u001b[0;34m=\u001b[0m\u001b[0morder\u001b[0m\u001b[0;34m)\u001b[0m\u001b[0;34m\u001b[0m\u001b[0m\n\u001b[0m\u001b[1;32m    233\u001b[0m \u001b[0;34m\u001b[0m\u001b[0m\n\u001b[1;32m    234\u001b[0m \u001b[0;34m\u001b[0m\u001b[0m\n",
      "\u001b[0;32m/Users/fmeza/anaconda/envs/py3/lib/python3.6/site-packages/numpy/core/fromnumeric.py\u001b[0m in \u001b[0;36m_wrapfunc\u001b[0;34m(obj, method, *args, **kwds)\u001b[0m\n\u001b[1;32m     55\u001b[0m \u001b[0;32mdef\u001b[0m \u001b[0m_wrapfunc\u001b[0m\u001b[0;34m(\u001b[0m\u001b[0mobj\u001b[0m\u001b[0;34m,\u001b[0m \u001b[0mmethod\u001b[0m\u001b[0;34m,\u001b[0m \u001b[0;34m*\u001b[0m\u001b[0margs\u001b[0m\u001b[0;34m,\u001b[0m \u001b[0;34m**\u001b[0m\u001b[0mkwds\u001b[0m\u001b[0;34m)\u001b[0m\u001b[0;34m:\u001b[0m\u001b[0;34m\u001b[0m\u001b[0m\n\u001b[1;32m     56\u001b[0m     \u001b[0;32mtry\u001b[0m\u001b[0;34m:\u001b[0m\u001b[0;34m\u001b[0m\u001b[0m\n\u001b[0;32m---> 57\u001b[0;31m         \u001b[0;32mreturn\u001b[0m \u001b[0mgetattr\u001b[0m\u001b[0;34m(\u001b[0m\u001b[0mobj\u001b[0m\u001b[0;34m,\u001b[0m \u001b[0mmethod\u001b[0m\u001b[0;34m)\u001b[0m\u001b[0;34m(\u001b[0m\u001b[0;34m*\u001b[0m\u001b[0margs\u001b[0m\u001b[0;34m,\u001b[0m \u001b[0;34m**\u001b[0m\u001b[0mkwds\u001b[0m\u001b[0;34m)\u001b[0m\u001b[0;34m\u001b[0m\u001b[0m\n\u001b[0m\u001b[1;32m     58\u001b[0m \u001b[0;34m\u001b[0m\u001b[0m\n\u001b[1;32m     59\u001b[0m     \u001b[0;31m# An AttributeError occurs if the object does not have\u001b[0m\u001b[0;34m\u001b[0m\u001b[0;34m\u001b[0m\u001b[0m\n",
      "\u001b[0;31mValueError\u001b[0m: cannot reshape array of size 16 into shape (2,9)"
     ]
    }
   ],
   "source": [
    "B2 = reshape(B,(2,9)) \n",
    "\n",
    "print(B2) \n",
    "\n",
    "# range and matrix dim must be the same!!!!!!"
   ]
  },
  {
   "cell_type": "markdown",
   "metadata": {},
   "source": [
    "<img src=\"imgs/matdim.png\" alt=\"Drawing\" style=\"width: 200px;\"/>"
   ]
  },
  {
   "cell_type": "code",
   "execution_count": 13,
   "metadata": {},
   "outputs": [
    {
     "name": "stdout",
     "output_type": "stream",
     "text": [
      "[[ 0  1  2  3]\n",
      " [ 4  5  6  7]\n",
      " [ 8  9 10 11]\n",
      " [12 13 14 15]]\n",
      "\n",
      "\n",
      "[0 1 2 3]\n",
      "\n",
      "\n",
      "[12 13 14 15]\n",
      "\n",
      "\n",
      "1\n",
      "\n",
      "\n",
      "10\n"
     ]
    }
   ],
   "source": [
    "# to access specific data of a matrix, we do it just like in regular lists by specifing the values of subindices\n",
    "# in square brackets, for example, for a matrix Z in the form Z[row][col]\n",
    "\n",
    "# let's remember matrix B\n",
    "print(B)\n",
    "print(\"\\n\")\n",
    "\n",
    "# We are interested in the first row (0)\n",
    "print(B[0])\n",
    "print(\"\\n\")\n",
    "\n",
    "# We are interested in the last row (3)\n",
    "print(B[3])\n",
    "print(\"\\n\")\n",
    "\n",
    "# We are interested in the \"1\" that belongs to row (0) and column (1)\n",
    "print(B[0][1])\n",
    "print(\"\\n\")\n",
    "\n",
    "# We are interested in the \"10\" that belongs to row (2) and column (2)\n",
    "print(B[2][2])\n"
   ]
  },
  {
   "cell_type": "code",
   "execution_count": 43,
   "metadata": {},
   "outputs": [
    {
     "name": "stdout",
     "output_type": "stream",
     "text": [
      "0\n"
     ]
    }
   ],
   "source": [
    "# We are interested in the \"14\" that belongs to row (?) and column (?)\n",
    "\n",
    "print(B[][])"
   ]
  },
  {
   "cell_type": "code",
   "execution_count": 14,
   "metadata": {},
   "outputs": [
    {
     "name": "stdout",
     "output_type": "stream",
     "text": [
      "[[ 0  1  2  3]\n",
      " [ 4  5  6  7]\n",
      " [ 8  9 10 11]\n",
      " [12 13 14 15]]\n",
      "\n",
      "\n",
      "[12 13 14 15]\n",
      "\n",
      "\n",
      "14\n",
      "\n",
      "\n",
      "9\n"
     ]
    }
   ],
   "source": [
    "# Another way to access the values of a matrix is by using negative indexes, where -1 refers to the\n",
    "# last data, -2 to the last penultimate etc\n",
    "\n",
    "# again B matrix\n",
    "print(B) \n",
    "print(\"\\n\")\n",
    "\n",
    "# we are interested in the last row\n",
    "print(B[-1]) \n",
    "print(\"\\n\")\n",
    "\n",
    "# we are interested in the last row, the penultimate value\n",
    "print(B[-1][-2]) \n",
    "print(\"\\n\")\n",
    "\n",
    "# we are interested in the penultimate row, the antepenultimate value\n",
    "print(B[-2][-3]) \n"
   ]
  },
  {
   "cell_type": "code",
   "execution_count": 18,
   "metadata": {},
   "outputs": [
    {
     "name": "stdout",
     "output_type": "stream",
     "text": [
      "0\n"
     ]
    }
   ],
   "source": [
    "# Now we are interested in the \"5\" that belongs to row (?) and column (?)\n",
    "\n",
    "print(B[][])"
   ]
  },
  {
   "cell_type": "code",
   "execution_count": 19,
   "metadata": {},
   "outputs": [
    {
     "name": "stdout",
     "output_type": "stream",
     "text": [
      "[[ 0  1  2  3]\n",
      " [ 4  5  6  7]\n",
      " [ 8  9 10 11]\n",
      " [12 13 14 15]]\n"
     ]
    }
   ],
   "source": [
    "# let's remember the matrix B again\n",
    "\n",
    "print (B)"
   ]
  },
  {
   "cell_type": "code",
   "execution_count": 23,
   "metadata": {},
   "outputs": [
    {
     "name": "stdout",
     "output_type": "stream",
     "text": [
      "[[0 1]\n",
      " [4 5]\n",
      " [8 9]]\n"
     ]
    }
   ],
   "source": [
    "# It is also possible to split a matrix, using the format (start: end: increment) with numpy\n",
    "# We are interested in spliting the matrix B and leaving only the first 3 rows :3 with two columns [0,1]\n",
    "\n",
    "print(B[:3,[0,1]])\n",
    "\n",
    "# :3 implies rows 0-1-2 (not 3) and [0,1] implies columns 0 and 1"
   ]
  },
  {
   "cell_type": "code",
   "execution_count": 24,
   "metadata": {},
   "outputs": [
    {
     "name": "stdout",
     "output_type": "stream",
     "text": [
      "[[ 9 10]\n",
      " [13 14]]\n"
     ]
    }
   ],
   "source": [
    "# we are interested in spliting matrix B and leaving only the last two rows with two central columns\n",
    "\n",
    "print(B[2:4,[1,2]])\n",
    "\n",
    "# 2:4 implies rows 2-3 and [1,2] implies columns 1 and 2"
   ]
  },
  {
   "cell_type": "code",
   "execution_count": 26,
   "metadata": {},
   "outputs": [
    {
     "name": "stdout",
     "output_type": "stream",
     "text": [
      "[[ 0  1  2  3]\n",
      " [ 4  5  6  7]\n",
      " [ 8  9 10 11]\n",
      " [12 13 14 15]]\n",
      "\n",
      "\n",
      "[[ 0  1  2  3]\n",
      " [ 4  5  6  7]\n",
      " [ 8  9 10 11]\n",
      " [12 13 14 15]\n",
      " [16 17 18 19]]\n"
     ]
    }
   ],
   "source": [
    "# it is also possible to insert elements to a matrix\n",
    "# for instance, add a complete new row, to do that we use \"append\"\n",
    "\n",
    "B1 = append(B,[[16, 17, 18, 19]],0)\n",
    "\n",
    "# here 0 is axis that represents the dimensions where 0 stands for row and 1 stands for column\n",
    "\n",
    "print (B)\n",
    "print(\"\\n\")\n",
    "print (B1)"
   ]
  },
  {
   "cell_type": "code",
   "execution_count": 28,
   "metadata": {},
   "outputs": [
    {
     "name": "stdout",
     "output_type": "stream",
     "text": [
      "[[  0   1   2   3 100]\n",
      " [  4   5   6   7 200]\n",
      " [  8   9  10  11 300]\n",
      " [ 12  13  14  15 400]]\n"
     ]
    }
   ],
   "source": [
    "# it is also possible to insert a column, in this case we use \"insert\"\n",
    "\n",
    "B2 = insert(B,[4],[[100],[200],[300],[400]],axis=1) \n",
    "\n",
    "# here axis represents the dimensions where 0 stands for row and 1 stands for column \n",
    "\n",
    "print (B2)"
   ]
  },
  {
   "cell_type": "code",
   "execution_count": 39,
   "metadata": {},
   "outputs": [
    {
     "name": "stdout",
     "output_type": "stream",
     "text": [
      "[[  0   1   2   3 100]\n",
      " [  4   5   6   7 200]\n",
      " [  8   9  10  11 300]\n",
      " [ 12  13  14  15 400]]\n",
      "\n",
      "\n",
      "[[  0   1   2   3 100]\n",
      " [  4   5   6   7 200]\n",
      " [ 12  13  14  15 400]]\n"
     ]
    }
   ],
   "source": [
    "# Another common task is to erase or remove elements from a matrix or array\n",
    "# for example, to delete a row use \"delete\", in this case for row i = 2\n",
    "\n",
    "B3 = delete(B2,[2],0)\n",
    "\n",
    "# here 0 is axis that represents the dimensions where 0 stands for row and 1 stands for column\n",
    "\n",
    "print (B2)\n",
    "print(\"\\n\")\n",
    "print (B3)"
   ]
  },
  {
   "cell_type": "code",
   "execution_count": 40,
   "metadata": {},
   "outputs": [
    {
     "name": "stdout",
     "output_type": "stream",
     "text": [
      "[[  0   1   2   3 100]\n",
      " [  4   5   6   7 200]\n",
      " [  8   9  10  11 300]\n",
      " [ 12  13  14  15 400]]\n",
      "\n",
      "\n",
      "[[ 0  1  2  3]\n",
      " [ 4  5  6  7]\n",
      " [ 8  9 10 11]\n",
      " [12 13 14 15]]\n"
     ]
    }
   ],
   "source": [
    "# to delete a column use delete, in this case for column i = 4\n",
    "\n",
    "B4 = delete(B2, [4], 1)\n",
    "\n",
    "# here 0 is axis that represents the dimensions where 0 stands for row and 1 stands for column\n",
    "\n",
    "print (B2)\n",
    "print(\"\\n\")\n",
    "print (B4)"
   ]
  },
  {
   "cell_type": "code",
   "execution_count": 33,
   "metadata": {
    "scrolled": true
   },
   "outputs": [
    {
     "name": "stdout",
     "output_type": "stream",
     "text": [
      "[[  0   1   2   3 100]\n",
      " [  4   5   6   7 200]\n",
      " [  8   9  10  11 300]\n",
      " [ 12  13  14  15 400]]\n",
      "\n",
      "\n",
      "[[  1   2 100]\n",
      " [  5   6 200]\n",
      " [  9  10 300]\n",
      " [ 13  14 400]]\n"
     ]
    }
   ],
   "source": [
    "# to delete several columns we can use slicing\n",
    "\n",
    "B5 = delete(B2, s_[0::3], 1)\n",
    "\n",
    "# here 0 is axis that represents the dimensions where 0 stands for row and 1 stands for column\n",
    "\n",
    "print (B2)\n",
    "print(\"\\n\")\n",
    "print (B5)\n",
    "\n",
    "\n",
    "# s_[x::y] x first column to delete and then continue in the order of y-1 "
   ]
  },
  {
   "cell_type": "code",
   "execution_count": 34,
   "metadata": {},
   "outputs": [
    {
     "name": "stdout",
     "output_type": "stream",
     "text": [
      "[[ 0  1  2  3]\n",
      " [ 4  5  6  7]\n",
      " [ 8  9 10 11]\n",
      " [12 13 14 15]]\n"
     ]
    }
   ],
   "source": [
    "# max and min, it's possible to extract from a matrix the max and min values.\n",
    "\n",
    "print (B)"
   ]
  },
  {
   "cell_type": "code",
   "execution_count": 35,
   "metadata": {},
   "outputs": [
    {
     "data": {
      "text/plain": [
       "15"
      ]
     },
     "execution_count": 35,
     "metadata": {},
     "output_type": "execute_result"
    }
   ],
   "source": [
    "B.max()"
   ]
  },
  {
   "cell_type": "code",
   "execution_count": 36,
   "metadata": {},
   "outputs": [
    {
     "data": {
      "text/plain": [
       "0"
      ]
     },
     "execution_count": 36,
     "metadata": {},
     "output_type": "execute_result"
    }
   ],
   "source": [
    "B.min()"
   ]
  },
  {
   "cell_type": "markdown",
   "metadata": {},
   "source": [
    "** The identity and diagonal matrix **\n",
    "\n",
    "The identity matrix, defined as a square matrix $I\\in\\mathbb{R}^{n\\times n}$ and is formed by a diagonal of ones, and the rest of entries in the matrix are zero:\n",
    "\n",
    "\\begin{equation}\n",
    "I_{i,j}=\\begin{cases}\n",
    "1 & i=j\\\\\n",
    "0 & i\\neq j\n",
    "\\end{cases}\n",
    "\\end{equation}\n",
    "\n",
    "and is the neutral of the matrix multiplication, so for all $A\\in\\mathbb{R}^{m\\times n}$ we have:\n",
    "\n",
    "\\begin{equation}\n",
    "A\\,I=A\n",
    "\\end{equation}\n",
    "\n",
    "the identity matrix is a particular case of a diagonal matrix, where all non-diagonal elements are 0, which is denoted as: $D=\\textrm{diag}\\left(d_{1},d_{2},\\ldots,d_{n}\\right)$ with:\n",
    "\n",
    "\\begin{equation}\n",
    "D_{i,j}=\\begin{cases}\n",
    "d_{i} & i=j\\\\\n",
    "0 & i\\neq j\n",
    "\\end{cases}\n",
    "\\end{equation}\n",
    "\n",
    "so then $I=\\textrm{diag}\\left(1,1,\\ldots,1\\right)$.\n"
   ]
  },
  {
   "cell_type": "markdown",
   "metadata": {},
   "source": [
    "<img src=\"imgs/iden.png\" alt=\"Drawing\" style=\"width: 400px;\"/>"
   ]
  },
  {
   "cell_type": "code",
   "execution_count": 37,
   "metadata": {},
   "outputs": [
    {
     "data": {
      "text/plain": [
       "array([[ 1.,  0.,  0.,  0.,  0.],\n",
       "       [ 0.,  1.,  0.,  0.,  0.],\n",
       "       [ 0.,  0.,  1.,  0.,  0.],\n",
       "       [ 0.,  0.,  0.,  1.,  0.],\n",
       "       [ 0.,  0.,  0.,  0.,  1.]])"
      ]
     },
     "execution_count": 37,
     "metadata": {},
     "output_type": "execute_result"
    }
   ],
   "source": [
    "# in numpy we can create an identity matrix by specifying the number of 1's i.e the # of rows\n",
    "\n",
    "np.identity(5)"
   ]
  },
  {
   "cell_type": "markdown",
   "metadata": {},
   "source": [
    "** The transposed matrix **\n",
    "\n",
    "The transpose of a matrix is the result of changing rows to columns. Be a matrix $A\\in\\mathbb{R}^{m\\times n}$, its transpose is written as $A^{T}\\in\\mathbb{R}^{n\\times m}$ and its entries are given by:\n",
    "\n",
    "\\begin{equation}\n",
    "\\left(A^{T}\\right)_{i,j}=A_{j,i}.\n",
    "\\end{equation}\n",
    "\n",
    "The following are properties of the transpose:\n",
    "\n",
    "- $\\left(A^{T}\\right)^{T}=A$\n",
    "- $\\left(AB\\right)^{T}=B^{T}A^{T}$\n",
    "- $\\left(A+B\\right)^{T}=A^{T}+B^{T}$.\n"
   ]
  },
  {
   "cell_type": "code",
   "execution_count": 51,
   "metadata": {},
   "outputs": [
    {
     "name": "stdout",
     "output_type": "stream",
     "text": [
      "[[1 2 3]\n",
      " [4 5 6]]\n",
      "\n",
      "\n",
      "\n",
      "\n",
      "[[1 4]\n",
      " [2 5]\n",
      " [3 6]]\n",
      "\n",
      "\n",
      "[[1 2 3]\n",
      " [4 5 6]]\n"
     ]
    }
   ],
   "source": [
    "AZ = np.array([[1,2,3],[4,5,6]])\n",
    "BZ = np.array([[7,8,9],[10,11,12]])\n",
    "print(AZ)\n",
    "print(\"\\n\")\n",
    "#print(BZ)\n",
    "print(\"\\n\")\n",
    "trans=np.transpose(AZ)\n",
    "print(trans)\n",
    "print(\"\\n\")\n",
    "print(np.transpose(trans))"
   ]
  },
  {
   "cell_type": "code",
   "execution_count": 75,
   "metadata": {
    "collapsed": true
   },
   "outputs": [],
   "source": [
    "# Recomended Practice: Validate properties."
   ]
  },
  {
   "cell_type": "markdown",
   "metadata": {},
   "source": [
    "** Symmetric matrices **\n",
    "\n",
    "A square matrix $A\\in\\mathbb{R}^{n\\times n}$ is symmetric if $A=A^{T}$ and is anti-symmetric if $A=-A^{T}$. For all matrix $A\\in\\mathbb{R}^{n\\times n}$ it is easy to show that the matrix $A+A^{T}$ is symmetric and the matrix $A-A^{T}$ is anti-symmetric, so it can be followed that any square matrix can be expressed in terms of a symmetric and anti-symmetric matrix:\n",
    "    \n",
    "\\begin{equation}\n",
    "A=\\frac{1}{2}\\left(A+A^{T}\\right)+ \\frac{1}{2}\\left(A-A^{T}\\right).\n",
    "\\end{equation}\n",
    "\n",
    "The set of symmetric matrices of dimensions $n\\times n$ is defined as $\\mathbb{S}^{n}$ so that $A\\in\\mathbb{S}^{n}$ if t's symmetric. The symmetric matrices are very frequent in the recognition of patterns, and present a series of very useful properties that we will see later.\n",
    "\n"
   ]
  },
  {
   "cell_type": "code",
   "execution_count": 58,
   "metadata": {},
   "outputs": [
    {
     "name": "stdout",
     "output_type": "stream",
     "text": [
      "[[ 1  1 -1]\n",
      " [ 1  2  0]\n",
      " [-1  0  5]]\n",
      "\n",
      "\n",
      "[[ 1  1 -1]\n",
      " [ 1  2  0]\n",
      " [-1  0  5]]\n"
     ]
    }
   ],
   "source": [
    "# example of symmetric\n",
    "\n",
    "S = np.array([[1,1,-1],[1,2,0],[-1,0,5]])\n",
    "print(S)\n",
    "print(\"\\n\")\n",
    "trans=np.transpose(S)\n",
    "print(trans)"
   ]
  },
  {
   "cell_type": "code",
   "execution_count": 60,
   "metadata": {},
   "outputs": [
    {
     "name": "stdout",
     "output_type": "stream",
     "text": [
      "[[ 0 -7  8]\n",
      " [ 7  0 -1]\n",
      " [-8  1  0]]\n",
      "\n",
      "\n",
      "[[ 0  7 -8]\n",
      " [-7  0  1]\n",
      " [ 8 -1  0]]\n"
     ]
    }
   ],
   "source": [
    "# example of antisymmetric\n",
    "\n",
    "AS = np.array([[0,-7,8],[7,0,-1],[-8,1,0]])\n",
    "print(AS)\n",
    "print(\"\\n\")\n",
    "trans=np.transpose(AS)\n",
    "print(trans)"
   ]
  },
  {
   "cell_type": "code",
   "execution_count": 61,
   "metadata": {},
   "outputs": [
    {
     "name": "stdout",
     "output_type": "stream",
     "text": [
      "[[ 0  1  2  3]\n",
      " [ 4  5  6  7]\n",
      " [ 8  9 10 11]\n",
      " [12 13 14 15]]\n",
      "\n",
      "\n",
      "[[  0.   1.   2.   3.]\n",
      " [  4.   5.   6.   7.]\n",
      " [  8.   9.  10.  11.]\n",
      " [ 12.  13.  14.  15.]]\n"
     ]
    }
   ],
   "source": [
    "# case of symmetric matrix property\n",
    "# B is our original matrix\n",
    "\n",
    "print(B)\n",
    "print(\"\\n\")\n",
    "S = 0.5*(B + np.transpose(B)) + 0.5*(B - np.transpose(B)) \n",
    "\n",
    "print (S)"
   ]
  },
  {
   "cell_type": "markdown",
   "metadata": {},
   "source": [
    "** The trace of a matrix **\n",
    "\n",
    "The trace of a square matrix $A\\in\\mathbb{R}^{n\\times n}$ denoted as $\\textrm{tr}\\left(A\\right)$ is the sum of the elements in the diagonal of a matrix:\n",
    "\n",
    "\\begin{equation}\n",
    "\\textrm{tr}\\left(A\\right)=\\sum_{i=1}^{n}A_{i,i}\n",
    "\\end{equation}\n",
    "\n",
    "The trace has the following properties:\n",
    "\n",
    "- $\\textrm{tr}\\left(A\\right)=\\textrm{tr}\\left(A^{T}\\right)$\n",
    "- Overlap: $\\textrm{tr}\\left(A+B\\right)=\\textrm{tr}\\left(A\\right)+\\textrm{tr}\\left(B\\right)$\n",
    "- Homogeneity: Be $t\\in\\mathbb{R}$, $\\textrm{tr}\\left(t\\,A\\right)=t\\,\\textrm{tr}\\left(A\\right)$\n",
    "- For $A$ and $B$ square, we have $\\textrm{tr}\\left(A\\,B\\right)=\\textrm{tr}\\left(B\\,A\\right)$\n",
    "\n",
    "\n"
   ]
  },
  {
   "cell_type": "code",
   "execution_count": 62,
   "metadata": {},
   "outputs": [
    {
     "name": "stdout",
     "output_type": "stream",
     "text": [
      "[[ 1.  0.  0.]\n",
      " [ 0.  1.  0.]\n",
      " [ 0.  0.  1.]]\n",
      "\n",
      "\n",
      "3.0\n",
      "\n",
      "\n",
      "[[ 0  1  2  3]\n",
      " [ 4  5  6  7]\n",
      " [ 8  9 10 11]\n",
      " [12 13 14 15]]\n",
      "\n",
      "\n",
      "30\n"
     ]
    }
   ],
   "source": [
    "# trace examples\n",
    "\n",
    "# case for identity matrix \n",
    "IDN = np.eye(3)\n",
    "T_IDN = np.trace(IDN)\n",
    "print (IDN)\n",
    "print(\"\\n\")\n",
    "\n",
    "print (T_IDN)\n",
    "print(\"\\n\")\n",
    "\n",
    "# recall matrix B\n",
    "print (B)\n",
    "print(\"\\n\")\n",
    "\n",
    "# trace calculate\n",
    "\n",
    "print(np.trace(B))"
   ]
  },
  {
   "cell_type": "markdown",
   "metadata": {},
   "source": [
    "** Matrix product **\n",
    "\n",
    "The product of two matrices $A\\in\\mathbb{R}^{m\\times n}$ and $B\\in\\mathbb{R}^{n\\times p}$ is the matrix:\n",
    "\n",
    "\\begin{equation}\n",
    "C=A\\circ B=A\\,B\\in\\mathbb{R}^{m\\times p}\n",
    "\\end{equation}\n",
    "\n",
    "where:\n",
    "\n",
    "\\begin{equation}\n",
    "C_{i,j}=A_{i,1}B_{1,j}+\\ldots+A_{i,n}B_{n,j}=\\sum_{k=1}^{n}A_{i,k}\\,B_{k,j}\n",
    "\\end{equation}\n",
    "\n",
    "note that to make the matrix product, the number of columns in $A$ must be equal to the number of rows in the array $B$. Next, the particular cases of the matrix product are examined.\n"
   ]
  },
  {
   "cell_type": "markdown",
   "metadata": {},
   "source": [
    "<img src=\"imgs/2x2.png\" alt=\"Drawing\" style=\"width: 200px;\"/>"
   ]
  },
  {
   "cell_type": "code",
   "execution_count": 66,
   "metadata": {},
   "outputs": [
    {
     "name": "stdout",
     "output_type": "stream",
     "text": [
      "[[1 2 3]\n",
      " [4 5 6]]\n",
      "\n",
      "\n",
      "[[ 7  8]\n",
      " [ 9 10]\n",
      " [11 12]]\n",
      "\n",
      "\n"
     ]
    },
    {
     "ename": "ValueError",
     "evalue": "operands could not be broadcast together with shapes (2,3) (3,2) ",
     "output_type": "error",
     "traceback": [
      "\u001b[0;31m---------------------------------------------------------------------------\u001b[0m",
      "\u001b[0;31mValueError\u001b[0m                                Traceback (most recent call last)",
      "\u001b[0;32m<ipython-input-66-80f9e9db068d>\u001b[0m in \u001b[0;36m<module>\u001b[0;34m()\u001b[0m\n\u001b[1;32m      8\u001b[0m \u001b[0mprint\u001b[0m \u001b[0;34m(\u001b[0m\u001b[0mb\u001b[0m\u001b[0;34m)\u001b[0m\u001b[0;34m\u001b[0m\u001b[0m\n\u001b[1;32m      9\u001b[0m \u001b[0mprint\u001b[0m\u001b[0;34m(\u001b[0m\u001b[0;34m\"\\n\"\u001b[0m\u001b[0;34m)\u001b[0m\u001b[0;34m\u001b[0m\u001b[0m\n\u001b[0;32m---> 10\u001b[0;31m \u001b[0mprint\u001b[0m \u001b[0;34m(\u001b[0m\u001b[0ma\u001b[0m\u001b[0;34m*\u001b[0m\u001b[0mb\u001b[0m\u001b[0;34m)\u001b[0m\u001b[0;34m\u001b[0m\u001b[0m\n\u001b[0m",
      "\u001b[0;31mValueError\u001b[0m: operands could not be broadcast together with shapes (2,3) (3,2) "
     ]
    }
   ],
   "source": [
    "# 2x3 X 3x2 --- Expected 3x1 ?????!!!!\n",
    "\n",
    "a = np.array([[ 1, 2 ,3], [ 4, 5 ,6]])\n",
    "b = np.array([[7, 8], [ 9, 10], [ 11, 12]])\n",
    "\n",
    "print (a)\n",
    "print(\"\\n\")\n",
    "print (b)\n",
    "print(\"\\n\")\n",
    "print (a*b)"
   ]
  },
  {
   "cell_type": "code",
   "execution_count": 67,
   "metadata": {},
   "outputs": [
    {
     "name": "stdout",
     "output_type": "stream",
     "text": [
      "[[ 58  64]\n",
      " [139 154]]\n"
     ]
    }
   ],
   "source": [
    "print (a.dot(b))\n",
    "\n",
    "# numpy arrays are not matrices, and the standard operations *, +, -, / work element-wise on arrays\n",
    "# now, we obtain the expected array 3x1 "
   ]
  },
  {
   "cell_type": "code",
   "execution_count": 68,
   "metadata": {},
   "outputs": [
    {
     "data": {
      "text/plain": [
       "matrix([[ 58,  64],\n",
       "        [139, 154]])"
      ]
     },
     "execution_count": 68,
     "metadata": {},
     "output_type": "execute_result"
    }
   ],
   "source": [
    "# you can choose to define matrices type directly and apply dot, however in this case.\n",
    "\n",
    "x = np.matrix( ((1,2,3), (4,5,6)) )\n",
    "y = np.matrix( ((7,8), (9, 10),(11,12)) )\n",
    "np.dot(x,y)"
   ]
  },
  {
   "cell_type": "code",
   "execution_count": 69,
   "metadata": {},
   "outputs": [
    {
     "data": {
      "text/plain": [
       "matrix([[ 58,  64],\n",
       "        [139, 154]])"
      ]
     },
     "execution_count": 69,
     "metadata": {},
     "output_type": "execute_result"
    }
   ],
   "source": [
    "# since we are specifing theMATRIX type, the operator * can be used. \n",
    "x*y"
   ]
  },
  {
   "cell_type": "markdown",
   "metadata": {},
   "source": [
    "**Product vector-vector or product point**\n",
    "\n",
    "Let two vectors $\\overrightarrow{x},\\overrightarrow{y}\\in\\mathbb{R}^{n}$ be the ** inner product ** or point product can be defined, in terms of the product between such vectors of the following way:\n",
    "\n",
    "\\begin{equation}\n",
    "\\overrightarrow{x}\\cdot\\overrightarrow{y}=\\overrightarrow{x}^{T}\\:\\overrightarrow{y}\\in\\mathbb{R}^{1}=\\begin{bmatrix}x_{1} & x_{2} & \\cdots & x_{n}\\end{bmatrix}\\begin{bmatrix}v_{1}\\\\\n",
    "v_{2}\\\\\n",
    "\\vdots\\\\\n",
    "v_{n}\n",
    "\\end{bmatrix}=\\sum_{i=1}^{n}x_{i}\\:y_{i}\n",
    "\\end{equation}\n",
    "\n",
    "Note that the internal product is a special case of the multiplication of matrices, in addition, it is always true that:\n",
    "\n",
    "\\begin{equation}\n",
    "\\overrightarrow{x}^{T}\\overrightarrow{y}=\\overrightarrow{y}^{T}\\overrightarrow{x}.\n",
    "\\end{equation}\n",
    "\n",
    "The ** external product ** on the other hand, is given for two vectors $\\overrightarrow{x}\\in\\mathbb{R}^{m\\times1}$, $\\overrightarrow{y}\\in\\mathbb{R}^{1\\times n}$ (not necessarily of the same dimensionality) is defined as:\n",
    "\n",
    "\\begin{equation}\n",
    "\\overrightarrow{x} \\otimes \\overrightarrow{y}=\\vec{x}\\:\\vec{y}^{T}\\in\\mathbb{R}^{m\\times n}=\\begin{bmatrix}x_{1}\\\\\n",
    "x_{2}\\\\\n",
    "\\vdots\\\\\n",
    "x_{m}\n",
    "\\end{bmatrix}\\begin{bmatrix}y_{1} & y_{2} & \\cdots & y_{n}\\end{bmatrix}=\\begin{bmatrix}x_{1}y_{1} & x_{1}y_{2} & \\cdots & x_{1}y_{n}\\\\\n",
    "x_{2}y_{1} & x_{2}y_{2} & \\cdots & x_{2}y_{n}\\\\\n",
    "\\vdots & \\vdots & \\ddots & \\vdots\\\\\n",
    "x_{m}y_{1} & x_{m}y_{2} & \\cdots & x_{m}y_{n}\n",
    "\\end{bmatrix}\n",
    "\\end{equation}\n",
    "\n",
    "The external product allows, for example, to create a matrix $A\\in\\mathbb{R}^{m\\times n}$ whose columns are equal to a vector $x\\in\\mathbb{R}^{m}$ using a unit vector $\\overrightarrow{1}\\in\\mathbb{R}^{n}$, as follows:\n",
    "\n",
    "\\begin{equation}\n",
    "\\overrightarrow{x}\\,\\overrightarrow{1}^{T}=\\begin{bmatrix}x_{1}\\\\\n",
    "x_{2}\\\\\n",
    "\\vdots\\\\\n",
    "x_{m}\n",
    "\\end{bmatrix}\\begin{bmatrix}1 & 1 & \\cdots & 1\\end{bmatrix}=\\begin{bmatrix}| & | &  & |\\\\\n",
    "\\vec{x} & \\vec{x} & \\cdots & \\vec{x}\\\\\n",
    "| & | &  & |\n",
    "\\end{bmatrix}\n",
    "\\end{equation}\n",
    "\n"
   ]
  },
  {
   "cell_type": "code",
   "execution_count": 72,
   "metadata": {},
   "outputs": [
    {
     "name": "stdout",
     "output_type": "stream",
     "text": [
      "[[ 0  5]\n",
      " [ 2 -1]]\n",
      "\n",
      "\n",
      "[[ 0 25]\n",
      " [ 4  1]]\n",
      "\n",
      "\n",
      "[[10 -5]\n",
      " [-2 11]]\n",
      "\n",
      "\n",
      "[[25 -5]\n",
      " [-5  5]]\n",
      "\n",
      "\n",
      "[[ 0  0  0  0]\n",
      " [ 0 25 10 -5]\n",
      " [ 0 10  4 -2]\n",
      " [ 0 -5 -2  1]]\n",
      "\n",
      "\n"
     ]
    }
   ],
   "source": [
    "F = np.array([[0, 5], [2, -1]])\n",
    "\n",
    "print(F)\n",
    "print(\"\\n\")\n",
    "\n",
    "GG = np.multiply(F, F)\n",
    "\n",
    "print(GG)\n",
    "print(\"\\n\")\n",
    "\n",
    "G = np.dot(F, F)\n",
    "print(G)\n",
    "print(\"\\n\")\n",
    "\n",
    "GI = np.inner(F, F)\n",
    "print(GI)\n",
    "print(\"\\n\")\n",
    "\n",
    "GO = np.outer(F, F)\n",
    "print(GO)\n",
    "print(\"\\n\")"
   ]
  },
  {
   "cell_type": "markdown",
   "metadata": {},
   "source": [
    "**Matrix-vector product**\n",
    "\n",
    "Be a matrix $A\\in\\mathbb{R}^{m\\times n}$ and a vector (column) $\\overrightarrow{x}\\in\\mathbb{R}^{n\\times1}$ your product is the vector $\\overrightarrow{y}\\in\\mathbb{R}^{m\\times1}$.\n",
    "\n",
    "If you write the $A$ matrix by columns, then you can express $A\\,\\overrightarrow{x}$ as:\n",
    "\n",
    "\\begin{equation}\n",
    "\\vec{y}=A\\,\\overrightarrow{x}=\\begin{bmatrix}- & \\vec{a}_{1,:}^{T} & -\\\\\n",
    "- & \\vec{a}_{2,:}^{T} & -\\\\\n",
    " & \\vdots\\\\\n",
    "- & \\vec{a}_{m,:}^{T} & -\n",
    "\\end{bmatrix}\\,\\overrightarrow{x}=\\begin{bmatrix}- & \\vec{a}_{1,:}^{T} & -\\\\\n",
    "- & \\vec{a}_{2,:}^{T} & -\\\\\n",
    " & \\vdots\\\\\n",
    "- & \\vec{a}_{m,:}^{T} & -\n",
    "\\end{bmatrix}\\,\\begin{bmatrix}x_{1}\\\\\n",
    "x_{2}\\\\\n",
    "\\vdots\\\\\n",
    "x_{n}\n",
    "\\end{bmatrix}=\\begin{bmatrix}\\vec{a}_{1,:}^{T}\\:\\vec{x}\\\\\n",
    "\\vec{a}_{2,:}^{T}\\:\\vec{x}\\\\\n",
    "\\vdots\\\\\n",
    "\\vec{a}_{m,:}^{T}\\:\\vec{x}\n",
    "\\end{bmatrix}\n",
    "\\end{equation}\n",
    "\n",
    "In other words, row $i$ de $y$ , $y_{i}$ is equal to the inner product of row $b_{i}$ with vector $\\overrightarrow{x}$.\n",
    "\n",
    "Alternatively, if the $A$ matrix is written in the form of columns, the matrix-vector product can be expressed as:\n",
    "\n",
    "\\begin{equation}\n",
    "\\overrightarrow{y}=A\\,\\overrightarrow{x}=\\begin{bmatrix}| & | & \\ldots & |\\\\\n",
    "\\vec{a}_{:,1} & \\vec{a}_{:,2} & \\ldots & \\vec{a}_{:,n}\\\\\n",
    "| & | & \\ldots & |\n",
    "\\end{bmatrix}\\,\\begin{bmatrix}x_{1}\\\\\n",
    "x_{2}\\\\\n",
    "\\vdots\\\\\n",
    "x_{n}\n",
    "\\end{bmatrix}=\\left[\\vec{a}_{:,1}\\right]x_{1}+\\left[\\vec{a}_{:,2}\\right]x_{2}+\\ldots+\\left[\\vec{a}_{:,n}\\right]x_{n}.\n",
    "\\end{equation}\n",
    "\n",
    "this is easily corroborated if we make the multiplication of its transposed:\n",
    "\n",
    "\\begin{equation}\n",
    "\\overrightarrow{y}^{T}=\\vec{x}^{T}\\,A^{T}=\\begin{bmatrix}x_{1} & x_{2} & \\cdots & x_{n}\\end{bmatrix}\\,\\begin{bmatrix}- & \\vec{a}_{:,1}^{T} & -\\\\\n",
    "- & \\vec{a}_{:,2}^{T} & -\\\\\n",
    " & \\vdots\\\\\n",
    "- & \\vec{a}_{:,n}^{T} & -\n",
    "\\end{bmatrix}=x_{1}\\left[\\vec{a}_{:,1}^{T}\\right]+x_{2}\\left[\\vec{a}_{:,1}^{T}\\right]+\\ldots+x_{n}\\left[\\vec{a}_{:,n}^{T}\\right].\n",
    "\\end{equation}\n",
    "\n",
    "The above represents the fact that the vector $\\overrightarrow{y}$ is a ** linear combination ** of the columns of the matrix **$A$**, where the coefficients are defined in the vector $\\overrightarrow{x}$."
   ]
  },
  {
   "cell_type": "code",
   "execution_count": 17,
   "metadata": {},
   "outputs": [
    {
     "name": "stdout",
     "output_type": "stream",
     "text": [
      "[16  6  8]\n"
     ]
    }
   ],
   "source": [
    "# matrix-vector example  3x3   1x3    1x3\n",
    "\n",
    "a = np.array([[ 5, 1 ,3], [ 1, 1 ,1], [ 1, 2 ,1]])\n",
    "b = np.array([1, 2, 3])\n",
    "\n",
    "print (a.dot(b))\n"
   ]
  },
  {
   "cell_type": "code",
   "execution_count": 18,
   "metadata": {},
   "outputs": [
    {
     "name": "stdout",
     "output_type": "stream",
     "text": [
      "[16  6  8]\n"
     ]
    }
   ],
   "source": [
    "# using python3.5+ the @ operator works\n",
    "\n",
    "print(a @ b)"
   ]
  },
  {
   "cell_type": "markdown",
   "metadata": {},
   "source": [
    "**Matrix-matrix product**\n",
    "\n",
    "The matrix-matrix product in general of two matrices $A\\in\\mathbb{R}^{m\\times n}$ y $B\\in\\mathbb{R}^{n\\times p}$ given by $C\\in\\mathbb{R}^{m\\times p}$ can be defined in terms of the rows and columns, ** where for each entry $C_{i,j}$ the internal product of the row ** $i$ of $A$ and the ** column $j$ of ** $B$, symbolically this is expressed as follows:\n",
    "\n",
    "\n",
    "\\begin{equation}\n",
    "C=A\\,B=\\begin{bmatrix}- & \\vec{a}_{1,:}^{T} & -\\\\\n",
    "- & \\vec{a}_{2,:}^{T} & -\\\\\n",
    " & \\vdots\\\\\n",
    "- & \\vec{a}_{m,:}^{T} & -\n",
    "\\end{bmatrix}\\,\\begin{bmatrix}| & | & \\ldots & |\\\\\n",
    "\\vec{b}_{1,:} & \\vec{b}_{2,:} & \\ldots & \\vec{b}_{p,:}\\\\\n",
    "| & | & \\ldots & |\n",
    "\\end{bmatrix}=\\begin{bmatrix}\\vec{a}_{1,:}^{T}\\vec{b}_{1,:} & \\vec{a}_{1,:}^{T}\\vec{b}_{2,:} & \\cdots & \\vec{a}_{1,:}^{T}\\vec{b}_{p,:}\\\\\n",
    "\\vec{a}_{2,:}^{T}\\vec{b}_{1,:} & \\vec{a}_{2,:}^{T}\\vec{b}_{2,:} & \\cdots & \\vec{a}_{2,:}^{T}\\vec{b}_{p,:}\\\\\n",
    "\\vdots & \\vdots & \\ddots & \\vdots\\\\\n",
    "\\vec{a}_{m,:}^{T}\\vec{b}_{1,:} & \\vec{a'}_{m}^{T}\\vec{b}_{2,:} & \\cdots & \\vec{a}_{m,:}^{T}\\vec{b}_{p,:}\n",
    "\\end{bmatrix}\n",
    "\\end{equation}\n",
    "\n",
    "\\begin{equation}\n",
    "C=A\\,B=\\begin{bmatrix}| & | & \\ldots & |\\\\\n",
    "A\\vec{b}_{1,:} & A\\vec{b}_{2,:} & \\ldots & A\\vec{b}_{p,:}\\\\\n",
    "| & | & \\ldots & |\n",
    "\\end{bmatrix}\n",
    "\\end{equation}\n",
    "\n",
    "The last equality represents the fact that the $j$ column of the $C$ matrix is a linear combination of the column vectors of the $A$ matrix with the coefficients defined by the column vector $\\vec{b}_{j,:}$.\n",
    "\n",
    "The following properties are easily corroborable for the matrix product:\n",
    "\n",
    "- Associativity: $\\left(A\\,B\\right)C=A\\left(B\\,C\\right)$.\n",
    "- Distributivity: $A\\left(B+C\\right)=A\\,B+A\\,C$.\n",
    "- No commutativity: $A\\,B\\neq B\\,A$.\n"
   ]
  },
  {
   "cell_type": "code",
   "execution_count": 76,
   "metadata": {
    "scrolled": true
   },
   "outputs": [
    {
     "name": "stdout",
     "output_type": "stream",
     "text": [
      "[[ 0  5]\n",
      " [ 2 -1]]\n"
     ]
    },
    {
     "data": {
      "text/plain": [
       "array([[ 0, 25],\n",
       "       [ 4,  1]])"
      ]
     },
     "execution_count": 76,
     "metadata": {},
     "output_type": "execute_result"
    }
   ],
   "source": [
    "# first recall F\n",
    "\n",
    "print (F)\n",
    "\n",
    "\n",
    "np.multiply(F, F)"
   ]
  },
  {
   "cell_type": "code",
   "execution_count": 77,
   "metadata": {
    "collapsed": true
   },
   "outputs": [],
   "source": [
    "# Recomended Practice: Validate properties."
   ]
  },
  {
   "cell_type": "markdown",
   "metadata": {},
   "source": []
  },
  {
   "cell_type": "markdown",
   "metadata": {},
   "source": [
    "**The inverse matrix**\n",
    "\n",
    "The inverse of the square matrix $A\\in\\mathbb{R}^{n\\times n}$ is denoted as $A^{-1}$ is the only matrix that fulfills the following:\n",
    "\n",
    "\\begin{equation}\n",
    "A^{-1}A=I=A\\,A^{-1}\n",
    "\\end{equation}\n",
    "\n",
    "Note that not all matrices have inverses, for example non-square matrices do not have inverses by definition, and even, there may be square matrices without inverses.\n",
    "\n",
    "- It is said that $A$ is an **invertible** matrix or non-singular if $A^{-1}$ exists, if the matrix $A$ presents **full range**.\n",
    "- If the matrix $A^{-1}$ does not exist, it is said that the matrix is ** not invertible ** or singular.\n",
    "\n",
    "The following are the properties of the inverse, assuming that $A,B\\in\\mathbb{R}^{n\\times n}$ are non-singular:\n",
    "\n",
    "\n",
    "- $\\left(A^{-1}\\right)^{-1}=A$.\n",
    "- $\\left(A\\,B\\right)^{-1}=B^{-1}A^{-1}$.\n",
    "- $\\left(A^{-1}\\right)^{T}=\\left(A^{T}\\right)^{-1}$\n"
   ]
  },
  {
   "cell_type": "code",
   "execution_count": 34,
   "metadata": {},
   "outputs": [
    {
     "name": "stdout",
     "output_type": "stream",
     "text": [
      "[[ 0.     0.5  ]\n",
      " [ 0.25  -0.125]]\n"
     ]
    }
   ],
   "source": [
    "matrix = np.matrix([[1, 4],[2, 0]])\n",
    "\n",
    "inverse = np.linalg.inv(matrix)\n",
    "print(inverse)"
   ]
  },
  {
   "cell_type": "code",
   "execution_count": 35,
   "metadata": {},
   "outputs": [
    {
     "name": "stdout",
     "output_type": "stream",
     "text": [
      "[[ 0.     0.5  ]\n",
      " [ 0.25  -0.125]]\n"
     ]
    }
   ],
   "source": [
    "inverse = np.linalg.inv(matrix)\n",
    "print(inverse)"
   ]
  },
  {
   "cell_type": "markdown",
   "metadata": {},
   "source": [
    "**Range and null space of the matrix**\n",
    "\n",
    "A **space generated** from a vector set $\\left\\{ \\vec{a}_{1},\\vec{a}_{2},\\ldots,\\vec{a}_{m}\\right\\} \\qquad\\vec{a}_{i}\\in\\mathbb{R}^{n}$ is the set of vectors that can be expressed as a linear combination of such vectors:\n",
    "\n",
    "\\begin{equation}\n",
    "\\textrm{espacioGenerado}\\left(\\left\\{ \\vec{a}_{1},\\vec{a}_{2},\\ldots,\\vec{a}_{m}\\right\\} \\right)=\\left\\{ \\vec{v}:\\vec{v}=\\sum_{i=1}^{m}x_{i}\\vec{a}_{i}\\qquad x_{i}\\in\\mathbb{R}^{1}\\right\\} .\n",
    "\\end{equation}\n",
    "\n",
    "It can be shown that if the vector set $\\left\\{ \\vec{a}_{1},\\vec{a}_{2},\\ldots,\\vec{a}_{m}\\right\\} \\qquad\\vec{a}_{i}\\in\\mathbb{R}^{n}$ is **linearly independent** (with $ m \\ geq n $), the space generated by such a set of vectors is:\n",
    "\n",
    "\\begin{equation}\n",
    "\\textrm{espacioGenerado}\\left(\\left\\{ \\vec{a}_{1},\\vec{a}_{2},\\ldots,\\vec{a}_{m}\\right\\} \\right)=\\mathbb{R}^{n}.\n",
    "\\end{equation}\n",
    "\n",
    "\n",
    "For example, the unit vectors $\\hat{i}=\\begin{bmatrix}1\\\\\n",
    "0\\\\\n",
    "0\n",
    "\\end{bmatrix}$, $\\hat{j}=\\begin{bmatrix}0\\\\\n",
    "1\\\\\n",
    "0\n",
    "\\end{bmatrix}$ y $\\hat{k}=\\begin{bmatrix}0\\\\\n",
    "0\\\\\n",
    "1\n",
    "\\end{bmatrix}$ they are linearly independent, so then it is easy to observe that the linear combination of such vectors can generate any vector in the space $ \\ mathbb {R} ^ {3} $. For example, a vector\n",
    "\n",
    "$\\vec{v}=\\begin{bmatrix}3\\\\\n",
    "5\\\\\n",
    "7\n",
    "\\end{bmatrix}$ it can be represented as: \n",
    "\n",
    "\\begin{equation}\n",
    "\\vec{v}=3\\hat{i}+5\\hat{j}+7\\hat{k}=3\\,\\begin{bmatrix}1\\\\\n",
    "0\\\\\n",
    "0\n",
    "\\end{bmatrix}+5\\,\\begin{bmatrix}0\\\\\n",
    "1\\\\\n",
    "0\n",
    "\\end{bmatrix}+7\\,\\begin{bmatrix}0\\\\\n",
    "0\\\\\n",
    "1\n",
    "\\end{bmatrix}\n",
    "\\end{equation}\n",
    "\n",
    "so then $\\vec{v}\\in\\textrm{espacioGenerado}\\left(\\left\\{ \\vec{i},\\vec{j},\\vec{k}\\right\\} \\right) \\mathbb{R}^{3}$, in this case with $x_{1}=3$, $x_{2}=5$ y $x_{3}=7$.\n",
    "\n",
    "**The projection of a vector** $\\vec{y}\\in\\mathbb{R}^{n}$ in the space generated by the vector set $\\left\\{ \\vec{a}_{1},\\vec{a}_{2},\\ldots,\\vec{a}_{m}\\right\\} \\qquad\\vec{a}_{i}\\in\\mathbb{R}^{n}$ corresponds to the vector $\\vec{v}\\in\\textrm{espacioGenerado}\\left(\\left\\{ \\vec{a}_{1},\\vec{a}_{2},\\ldots,\\vec{a}_{m}\\right\\} \\right)$ such that $\\vec{v}\\in\\mathbb{R}^{n}$ is as close as possible to the vector $\\vec{y}\\in\\mathbb{R}^{n}$, measured with, for example, a Euclidean norm $\\left\\Vert \\vec{v}-\\vec{y}\\right\\Vert _{2}$ and can be formally defined as:\n",
    "\n",
    "\\begin{equation}\n",
    "\\textrm{proy}\\left(\\vec{y};\\left\\{ \\vec{a}_{1},\\vec{a}_{2},\\ldots,\\vec{a}_{m}\\right\\} \\right)=\\textrm{argmin}_{\\vec{v}\\in\\textrm{espacioGenerado}\\left(\\left\\{ \\vec{a}_{1},\\vec{a}_{2},\\ldots,\\vec{a}_{m}\\right\\} \\right)}\\left\\Vert \\vec{v}-\\vec{y}\\right\\Vert _{2}.\n",
    "\\end{equation}\n",
    "\n",
    "On the other hand, the **column space** of a matrix $A\\in\\mathbb{R}^{m\\times n}$ denoted as $\\mathcal{C}\\left(A\\right)$ corresponds to the space generated by the columns of the $A$ matrix, which is represented as follows:\n",
    "\n",
    "\\begin{equation}\n",
    "\\mathcal{C}\\left(A\\right)=\\left\\{ \\vec{v}\\in\\mathbb{R}^{m}:\\vec{v}=A\\,\\vec{x},\\;\\vec{x}\\in\\mathbb{R}^{m},\\:A\\in\\mathbb{R}^{n\\times m}\\right\\} ,\n",
    "\\end{equation}\n",
    "\n",
    "where we remember that the matrix multiplication $A\\,\\vec{x}$ corresponds to a linear combination of the vector $\\vec{x}$:\n",
    "\n",
    "\\begin{equation}\n",
    "A\\,\\overrightarrow{x}=\\begin{bmatrix}| & | & \\ldots & |\\\\\n",
    "\\vec{a}_{:,1} & \\vec{a}_{:,2} & \\ldots & \\vec{a}_{:,n}\\\\\n",
    "| & | & \\ldots & |\n",
    "\\end{bmatrix}\\,\\begin{bmatrix}x_{1}\\\\\n",
    "x_{2}\\\\\n",
    "\\vdots\\\\\n",
    "x_{n}\n",
    "\\end{bmatrix}=x_{1}\\left[\\vec{a}_{:,1}\\right]+x_{2}\\left[a_{:,2}\\right]+\\ldots+x_{n}\\left[a_{:,n}\\right],\n",
    "\\end{equation}\n",
    "\n",
    "so then the column space of the array $A$ equals:\n",
    "\n",
    "\\begin{equation}\n",
    "{{\\mathcal{C}\\left(A\\right)}=espacioGenerado}\\left(\\left\\{ \\vec{a}_{:,1},\\vec{a}_{:,2},\\ldots,\\vec{a}_{:,n}\\right\\} \\right)=\\left\\{ v:v=\\sum_{i=1}^{n}x_{i}\\vec{a}_{:,i}\\qquad x_{i}\\in\\mathbb{R}^{1}\\right\\} .\n",
    "\\end{equation}\n",
    "\n",
    "Assuming that $A$ is **full range** and that $n<m$. To project the vector $\\vec{y}\\in\\mathbb{R}^{n}$ into the column space of the matrix $A$ we have:\n",
    "\n",
    "\\begin{equation}\n",
    "\\textrm{proy}\\left(\\vec{y};A\\right)=\\textrm{argmin}_{\\vec{v}\\in\\mathcal{C}\\left(A\\right)}\\left\\Vert \\vec{v}-\\vec{y}\\right\\Vert _{2}=\\textrm{argmin}_{\\vec{x}}\\sqrt{\\left(A\\:\\vec{x}-\\vec{y}\\right)\\cdotp\\left(A\\:\\vec{x}-\\vec{y}\\right)}\n",
    "\\end{equation}\n",
    "\n",
    "\\begin{equation}\n",
    "\\Rightarrow\\textrm{proy}\\left(\\vec{y};A\\right)=\\textrm{argmin}_{\\vec{x}}\\sqrt{\\left(A\\:\\vec{x}-\\vec{y}\\right)^{T}\\left(A\\:\\vec{x}-\\vec{y}\\right)}\n",
    "\\end{equation}\n",
    "\n",
    "Finding the vector that minimizes the equation $\\left(A\\:\\vec{x}-\\vec{y}\\right)^{T}\\left(A\\:\\vec{x}-\\vec{y}\\right)$\n",
    "it is called the problem of **least squares**. We are concerned with such equation, since the original equation of the projection is usually raised, since taking its square does not alter the minimum:\n",
    "\n",
    "\\begin{equation}\n",
    "\\textrm{argmin}_{\\vec{v}\\in\\mathcal{C}\\left(A\\right)}\\left\\Vert \\vec{v}-\\vec{y}\\right\\Vert _{2}^{2}=\\textrm{argmin}_{\\vec{x}}\\left(A\\:\\vec{x}-\\vec{y}\\right)\\cdotp\\left(A\\:\\vec{x}-\\vec{y}\\right).\n",
    "\\end{equation}\n",
    "\n",
    "With the concept of a matrix gradient, it's possible to demostrate that:\n",
    "\n",
    "\\begin{equation}\n",
    "\\textrm{proy}\\left(\\vec{y};A\\right)=\\textrm{argmin}_{\\vec{v}\\in\\mathcal{C}\\left(A\\right)}\\left\\Vert \\vec{v}-\\vec{y}\\right\\Vert _{2}=A\\,\\left(A^{T}A\\right)^{-1}A^{T}\\vec{y}\n",
    "\\end{equation}\n",
    "\n",
    "For the case in which $A$ is formed by a single column $\\vec{a}\\in\\mathbb{R}^{m}$ (corresponding to a generating space of a vector), we have the special case of the projection of a vector on another vector:\n",
    "\n",
    "\\begin{equation}\n",
    "\\textrm{proy}\\left(\\vec{y};\\vec{a}\\right)=\\frac{\\vec{a}\\,\\vec{a}^{T}}{\\vec{a}^{T}\\,\\vec{a}}\\vec{y}\n",
    "\\end{equation}\n",
    "\n",
    "Note that in such case of setting a generator set of a single vector, the subspace generated corresponds only to the scaling of such vector, but the dimensionality of the projected vector has the same original dimensionality (for what is called a projection to a sub-space). The Figure below shows the projection of a vector on another vector.\n",
    "\n",
    "\n",
    "<img src=\"imgs/proy.png\" alt=\"Drawing\" style=\"width: 200px;\"/>\n",
    "<h4 align=\"center\">Projection of vector $\\vec{a}$ over $\\vec{b}$.</h4> \n",
    "\n",
    "        function proyectar     \n",
    "            v1 = [3; 7];  \n",
    "            v2 = [9; 1];   \n",
    "            proy = proyectarVector(v1, v2);  \n",
    "            figure; \n",
    "            plotv([proy v1 ]);\n",
    "            figure; \n",
    "            plotv([v2 v1 ]); \n",
    "        end\n",
    "        function proyec = proyectarVector(b, a)\n",
    "            %proyecta b sobre a     \n",
    "            coefMatricial = ((a * a') / (a' * a)); \n",
    "           proyec = coefMatricial * b; \n",
    "         end\n",
    "\n",
    "The **null space** of a matrix $A\\in\\mathbb{R}^{m\\times n}$, is defined as the set of all the vectors that when multiplied with the $A$ matrix result in $0$ , and it is denoted as:\n",
    "\n",
    "\\begin{equation}\n",
    "\\mathcal{N}\\left(A\\right)=\\left\\{ \\vec{x}\\in\\mathbb{R}^{n}:A\\,\\vec{x}=0\\right\\} \n",
    "\\end{equation}\n",
    "\n"
   ]
  },
  {
   "cell_type": "markdown",
   "metadata": {},
   "source": [
    "**Linear independence and matrix rank**\n",
    "\n",
    "A set of vectors $\\left\\{ \\vec{x}_{1},\\vec{x}_{2},\\ldots,\\vec{x}_{n}\\right\\} \\subset\\mathbb{R}^{m}$ is said to be linearly independent, if any vector of such set can be represented as a linear combination of the remaining vectors. Otherwise, if one of the vectors in such a set can be represented as a linear combination of the remaining vectors, then the vectors are **linearly dependent**, which is expressed as:\n",
    "\n",
    "\\begin{equation}\n",
    "\\vec{x}_{j}=\\sum_{i=1}^{n-1}\\alpha_{i}\\vec{x}_{i}\n",
    "\\end{equation}\n",
    "\n",
    "for any set of scalar values $\\alpha_{1},\\ldots,\\alpha_{n-1}\\in\\mathbb{R}$ it is said that the vector $\\vec{x}_{j}\\in\\mathbb{R}^{m}$ is linearly dependent of the vectors $\\vec{x}_{i}$.\n",
    "\n",
    "The ** range of columns ** of the matrix $A\\in\\mathbb{R}^{m\\times n}$ corresponds to the largest number of columns in the matrix $A$ linearly independent, so similarly, the ** range of rows ** refers to the largest number of rows in such matrix linearly independent.\n",
    "\n",
    "For any matrix $A\\in\\mathbb{R}^{m\\times n}$ you can check that the row and column ranges are the same, so that the linearly independent number of rows and columns will be refer to the ** range **:\n",
    "\n",
    "$\\textrm{range}\\left(A\\right),$ with the following properties:\n",
    "    \n",
    "- $\\forall A\\in\\mathbb{R}^{m\\times n}$, $\\textrm{range}\\left(A\\right)\\leq\\min\\left(m,n\\right)$, y si $\\textrm{range}\\left(A\\right)=\\textrm{min}\\left(m,n\\right)$ it is said that $A$ of **complete range**.\n",
    "- $\\textrm{range}\\left(A\\right)\\leq\\textrm{range}\\left(A^{T}\\right)$\n",
    "- $\\textrm{range}\\left(A\\,B\\right)\\leq\\min\\left(\\textrm{range}\\left(A\\right),\\textrm{range}\\left(B\\right)\\right)$\n",
    "- $\\textrm{range}\\left(A+B\\right)\\leq\\textrm{range}\\left(A\\right)+\\textrm{range}\\left(B\\right)$\n",
    "\n",
    "Example:\n",
    "\n",
    "Observe the following matrix:\n",
    "\n",
    "\\begin{equation}\n",
    "\\begin{bmatrix}1 & 2 & -1 & 3 & -2\\\\\n",
    "2 & 1 & 0 & 1 & 1\\\\\n",
    "2 & 4 & -2 & 6 & -4\\\\\n",
    "0 & 0 & 0 & 0 & 0\\\\\n",
    "5 & 4 & -1 & 5 & 0\n",
    "\\end{bmatrix}\n",
    "\\end{equation}\n",
    "\n",
    "It can easily be noticed that the row $f_{3}=2f_{1}$ and also that $f_{5}=2f_{2}+f_{1}$, and that since the row $f_{4}$ is null, then it can be expressed in terms of any other row in a linear combination."
   ]
  },
  {
   "cell_type": "markdown",
   "metadata": {},
   "source": [
    "# Complementary topics..."
   ]
  },
  {
   "cell_type": "markdown",
   "metadata": {},
   "source": [
    "**Orthogonal matrices**\n",
    "\n",
    "Two vectors $\\vec{x},\\vec{y}\\in\\mathbb{R}^{n}$ are orthogonal if $\\vec{x}^{T}\\vec{y}=0$. It is said that a vector $\\vec{x}\\in\\mathbb{R}^{n}$ is normalized if $\\left\\Vert \\vec{x}\\right\\Vert _{2}=1$.\n",
    "\n",
    "A square matrix $U\\in\\mathbb{R}^{n\\times n}$ is ** orthogonal ** if all columns are orthogonal to each other. If, in addition, all the vectors are normalized, the matrix is said to be ** orthonormal **.\n",
    "\n",
    "The following are properties of orthogonal matrices:\n",
    "    \n",
    "- For every orthonormal matrix $U\\in\\mathbb{R}^{n\\times n}$, it follows that: $U^{T}U=I=U\\,U^{T}$ and knowing that $U\\,U^{-1}=I$ it reaches that $U^{T}=U^{-1}$. If $U\\in\\mathbb{R}^{m\\times n}$ and $n<m$ but their columns are orthonormal, then $U^{T}U=I$ but $U\\,U^{T}\\neq I$.\n",
    "\n",
    "- For every orthogonal matrix $U\\in\\mathbb{R}^{n\\times n}$ and the vector $\\vec{x}\\in\\mathbb{R}^{n}$, it is true that when the vector operates with an orthogonal matrix, the Euclidean norm does not change:\n",
    "\n",
    "\\begin{equation}\n",
    "\\left\\Vert U\\,\\vec{x}\\right\\Vert _{2}=\\left\\Vert \\vec{x}\\right\\Vert _{2}\n",
    "\\end{equation}"
   ]
  },
  {
   "cell_type": "markdown",
   "metadata": {
    "colab": {
     "autoexec": {
      "startup": false,
      "wait_interval": 0
     }
    },
    "colab_type": "code",
    "id": "twx7onRyBQdW"
   },
   "source": [
    "**Determinant of a matrix**\n",
    "\n",
    "The determinant of a square matrix $A\\in\\mathbb{R}^{n\\times n}$ is a function denoted by $\\textrm{det}\\left(A\\right):\\mathbb{R}^{n\\times n}\\rightarrow\\mathbb{R}$. Before detailing the formula that defines the determinant, we will examine the geometric interpretation of the determinant. Be a matrix composed of multiple rows:\n",
    "\n",
    "\\begin{equation}\n",
    "A=\\begin{bmatrix}- & \\vec{a}_{1,:}^{T} & -\\\\\n",
    "- & \\vec{a}_{2,:}^{T} & -\\\\\n",
    " & \\vdots\\\\\n",
    "- & \\vec{a}_{n,:}^{T} & -\n",
    "\\end{bmatrix}\n",
    "\\end{equation}\n",
    "\n",
    "consider the set of points $S\\subset\\mathbb{R}^{n}$ formed by taking all the possible linear combinations of the vector row $\\vec{a}_{i,:}^{T}$, where the coefficients of such linear combination satisfy that $0\\leq\\alpha_{i}\\leq1,i=1,\\ldots,n$, which is formally denoted as:\n",
    "\n",
    "\\begin{equation}\n",
    "S=\\left\\{ \\vec{v}\\in\\mathbb{R}^{n}:\\vec{v}=\\sum_{i=1}^{n}\\alpha_{i}\\vec{a}_{i,:},\\qquad0\\leq\\alpha_{i}\\leq1,i=1,\\ldots,n\\right\\} \n",
    "\\end{equation}\n",
    "\n",
    "The absolute value of the determinant of the matrix $A$, $\\left|\\textrm{det}\\left(A\\right)\\right|$, corresponds to a measure of the \"volume\" of the whole set $S$.\n",
    "\n",
    "For example, for the matrix $A\\in\\mathbb{R}^{2\\times2}$:\n",
    "\n",
    "\\begin{equation}\n",
    "A=\\begin{bmatrix}1 & 3\\\\\n",
    "3 & 2\n",
    "\\end{bmatrix}\n",
    "\\end{equation}\n",
    "\n",
    "whose row vectors are given by:\n",
    "\n",
    "\\begin{equation}\n",
    "\\vec{a}_{1,:}=\\begin{bmatrix}1\\\\\n",
    "3\n",
    "\\end{bmatrix}\\qquad\\vec{a}_{2,:}=\\begin{bmatrix}3\\\\\n",
    "2\n",
    "\\end{bmatrix}\n",
    "\\end{equation}\n",
    "\n",
    "The set of points $S$ are shown shaded in the figure below. Notice that the \"extreme\" point \n",
    "$\\vec{a}_{1,:}+\\vec{a}_{2,:}=\\begin{bmatrix}4\\\\\n",
    "5\n",
    "\\end{bmatrix}$, is given when $\\alpha_{1}=\\alpha_{2}=1$. The determinant for a $2\\times2$ matrix is defined as:\n",
    "\n",
    "\\begin{equation}\n",
    "\\textrm{det}\\left(\\begin{bmatrix}a & b\\\\\n",
    "c & d\n",
    "\\end{bmatrix}\\right)=a\\,d-b\\,c\n",
    "\\end{equation}\n",
    "\n",
    "and for any matrix of $n\\times n$ dimensions, the determinant is recursively defined as:\n",
    "\n",
    "\\begin{equation}\n",
    "\\textrm{det}\\left(A\\right)=A_{1,1}\\textrm{det}\\left(A_{\\backslash1,\\backslash1}\\right)-A_{1,2}\\textrm{det}\\left(A_{\\backslash1,\\backslash2}\\right)+\\ldots\\pm A_{1,n}\\textrm{det}\\left(A_{\\backslash1,\\backslash n}\\right)\n",
    "\\end{equation}\n",
    "\n",
    "which is equivalent also to choosing any row or column to eliminate:\n",
    "\n",
    "\\begin{equation}\n",
    "\\textrm{det}\\left(A\\right)=\\sum_{i=1}^{n}\\left(-1\\right)^{i+j}A_{i,j}\\left|A_{\\backslash i,\\backslash j}\\right|=\\sum_{j=1}^{n}\\left(-1\\right)^{i+j}A_{i,j}\\left|A_{\\backslash i,\\backslash j}\\right|\n",
    "\\end{equation}\n",
    "\n",
    "Note that the determinant consists of the linear combination of the determinants of the submatrices resulting from eliminating the row and column $i$ (denoted as $\\textrm{det}\\left(A_{\\backslash i,\\backslash j}\\right)$), multiplied by the element $A_{1,i}$. With the example matrix $A=\\begin{bmatrix}1 & 3\\\\ 3 & 2 \\end{bmatrix}$, the determinant is then given by: $\\textrm{det}\\left(A\\right)=1\\cdot2-3\\cdot3=-7$, and taking its absolute value, we have that $\\left|\\textrm{det}\\left(A\\right)\\right|=7$, which corresponds to the area of the parallelogram formed by the set of points $S$ (in $n$ dimensions, it is referred to as a parallelogram).\n",
    "\n",
    "<img src=\"imgs/regEjemplo.png\" alt=\"Drawing\" style=\"width: 400px;\"/>\n",
    "<h4 align=\"center\">Región $S$ de ejemplo.</h4> \n",
    "\n",
    "The following are properties of the determinant function $\\textrm{det}\\left(A\\right)$ for a square matrix $A\\in\\mathbb{R}^{n\\times n}$:\n",
    "\n",
    "- The volume of a unit hypercube is $\\textrm{det}\\left(I\\right)=1$.\n",
    "- Homogeneity: Given an scalar $s\\in\\mathbb{R}$, $\\textrm{det}\\left(s\\,A\\right)=s\\,\\textrm{det}\\left(A\\right)$\n",
    "- $\\textrm{det}\\left(A\\right)=\\textrm{det}\\left(A^{T}\\right)$\n",
    "- $\\textrm{det}\\left(A\\,B\\right)=\\textrm{det}\\left(A\\right)\\,\\textrm{det}\\left(B\\right)$\n",
    "- $\\textrm{det}\\left(A\\right)=0$, implies that $A$ is a singular matrix (not invertible), so it does not have full range, and its columns are ** linearly dependent **, which also implies that the surface $S$ has no volume, since the vectors are a linear combination .\n",
    "- $\\textrm{det}\\left(A^{-1}\\right)=1/\\textrm{det}\\left(A\\right)$\n"
   ]
  },
  {
   "cell_type": "code",
   "execution_count": 28,
   "metadata": {
    "collapsed": true
   },
   "outputs": [],
   "source": [
    "# ejemplo determinantes"
   ]
  },
  {
   "cell_type": "code",
   "execution_count": 79,
   "metadata": {},
   "outputs": [
    {
     "data": {
      "text/plain": [
       "-7.0000000000000009"
      ]
     },
     "execution_count": 79,
     "metadata": {},
     "output_type": "execute_result"
    }
   ],
   "source": [
    "aa = np.array([[1, 3], [3, 2]])\n",
    "np.linalg.det(aa)"
   ]
  },
  {
   "cell_type": "code",
   "execution_count": 81,
   "metadata": {},
   "outputs": [
    {
     "data": {
      "text/plain": [
       "-7.0000000000000009"
      ]
     },
     "execution_count": 81,
     "metadata": {},
     "output_type": "execute_result"
    }
   ],
   "source": [
    "FF = [[1, 3], [3, 2]]\n",
    "np.linalg.det(FF)"
   ]
  },
  {
   "cell_type": "markdown",
   "metadata": {},
   "source": [
    "Authors: *Saul Calderon, Angel García, Blaz Meden, Felipe Meza, Juan Esquivel, Alcides Ramirez, Mauro Mendez, Manuel Zumbado*"
   ]
  }
 ],
 "metadata": {
  "colab": {
   "default_view": {},
   "name": "ejemplo_latex.ipynb",
   "provenance": [],
   "version": "0.3.2",
   "views": {}
  },
  "kernelspec": {
   "display_name": "Python 3",
   "language": "python",
   "name": "python3"
  },
  "language_info": {
   "codemirror_mode": {
    "name": "ipython",
    "version": 3
   },
   "file_extension": ".py",
   "mimetype": "text/x-python",
   "name": "python",
   "nbconvert_exporter": "python",
   "pygments_lexer": "ipython3",
   "version": "3.6.5"
  }
 },
 "nbformat": 4,
 "nbformat_minor": 1
}
