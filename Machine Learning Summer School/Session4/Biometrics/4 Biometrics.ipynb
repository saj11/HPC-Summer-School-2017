{
 "cells": [
  {
   "cell_type": "markdown",
   "metadata": {},
   "source": [
    "# EVeMa 2018\n",
    "\n",
    "![logo](assets/logo.jpg \"Logo\")\n",
    "\n",
    "- Instructor: Žiga Emeršič.\n",
    "\n",
    "- Authors: \n",
    "    - Saúl Calderón, Martín Solís, Ángel García, Blaž Meden, Felipe Meza, Juan Esquivel\n",
    "    - Mauro Méndez, Manuel Zumbado. "
   ]
  },
  {
   "cell_type": "markdown",
   "metadata": {},
   "source": [
    "# Machine Learning in Biometrics\n",
    "\n",
    "In many cases we can treat machine learning in biometrics same as machine learning in other domains."
   ]
  },
  {
   "cell_type": "markdown",
   "metadata": {},
   "source": [
    "## The pipeline\n",
    "\n",
    "An example of the classification pipeline through ear recognition. Let us draw the pipeline in more detail and discuss the components we need. What is missing in the pipeline below?\n",
    "\n",
    "<img src=\"files/pipeline.png\">\n",
    "\n",
    "How do pipelines look today (using CNN-based approaches)?\n"
   ]
  },
  {
   "cell_type": "markdown",
   "metadata": {},
   "source": [
    "## Ear Pixel-Wise Detection in Caffe\n",
    "\n",
    "Let us briefly observe a Caffe-based SegNet example for ear detection and check the architecture.\n",
    "\n",
    "<img src=\"files/whole_pipeline.png\">\n",
    "\n",
    "With Refinenet it works better though:\n",
    "<img src=\"files/detections.png\">"
   ]
  },
  {
   "cell_type": "markdown",
   "metadata": {},
   "source": [
    "## Feature Extraction\n",
    "\n",
    "Showcase of a traditional feature extraction approach through the Matlab and let us go through one of the feature extractors: Local Binary Patterns (LBP).\n",
    "\n",
    "<img src=\"files/ROC.png\" style=\"float:left;width:45%;\">\n",
    "<img src=\"files/CMC.png\" style=\"float:left;width:45%;\">\n",
    "<div style=\"clear:both\"></div>"
   ]
  },
  {
   "cell_type": "markdown",
   "metadata": {},
   "source": [
    "## GluonCV\n",
    "\n",
    "Ear recognition example using GluonCV."
   ]
  },
  {
   "cell_type": "code",
   "execution_count": null,
   "metadata": {},
   "outputs": [],
   "source": [
    "# Just a basic toy example from: https://gluon-cv.mxnet.io\n",
    "from gluoncv import model_zoo, data, utils\n",
    "import matplotlib as mpl\n",
    "mpl.use('Agg')\n",
    "import matplotlib.pyplot as plt\n",
    "\n",
    "# Load a pretrained model\n",
    "net = model_zoo.get_model('ssd_512_resnet50_v1_voc', pretrained=True)\n",
    "\n",
    "# Load images\n",
    "im_fname = 'street_small.jpg'\n",
    "#im_fname = 'ticos.jpg'\n",
    "\n",
    "x, img = data.transforms.presets.ssd.load_test(im_fname, short=512)\n",
    "\n",
    "# Predict\n",
    "class_IDs, scores, bounding_boxs = net(x)\n",
    "\n",
    "# Plot detections & save to a file\n",
    "ax = utils.viz.plot_bbox(img, bounding_boxs[0], scores[0],\t\n",
    "                         class_IDs[0], class_names=net.classes)\n",
    "plt.show()\n",
    "plt.savefig('result.png')"
   ]
  },
  {
   "cell_type": "markdown",
   "metadata": {},
   "source": [
    "Authors: *Saul Calderon, Angel García, Blaz Meden, Ziga Emersic, Felipe Meza, Juan Esquivel, Martín Solís, Mauro Mendez, Manuel Zumbado*"
   ]
  },
  {
   "cell_type": "code",
   "execution_count": null,
   "metadata": {},
   "outputs": [],
   "source": []
  }
 ],
 "metadata": {
  "kernelspec": {
   "display_name": "Python 3",
   "language": "python",
   "name": "python3"
  },
  "language_info": {
   "codemirror_mode": {
    "name": "ipython",
    "version": 3
   },
   "file_extension": ".py",
   "mimetype": "text/x-python",
   "name": "python",
   "nbconvert_exporter": "python",
   "pygments_lexer": "ipython3",
   "version": "3.6.0"
  }
 },
 "nbformat": 4,
 "nbformat_minor": 2
}
