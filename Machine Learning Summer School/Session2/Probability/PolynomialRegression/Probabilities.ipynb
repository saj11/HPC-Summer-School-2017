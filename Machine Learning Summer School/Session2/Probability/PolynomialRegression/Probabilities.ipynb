{
 "cells": [
  {
   "cell_type": "markdown",
   "metadata": {
    "colab_type": "text",
    "id": "ZliWtu1SBQc_"
   },
   "source": [
    "# EVeMa 2018\n",
    "\n",
    "![title](../assets/logo.jpg)\n",
    "\n",
    "-Instructor: Dr. Martin.\n",
    "\n",
    "- Authors: \n",
    "    - Saúl Calderón, Žiga Emeršič, Ángel García, Blaž Meden, Felipe Meza, Martín Solís, Juan Esquivel\n",
    "    - Mauro Méndez, Manuel Zumbado, Arnoldo Ramírez. "
   ]
  },
  {
   "cell_type": "markdown",
   "metadata": {},
   "source": [
    "# Probability Distribution and Multiple Linear Regression\n",
    "\n",
    "\n",
    "\n",
    "## Probability Distribution\n",
    "\n",
    "A relation between every event (outcome) of a random variable with their probability of occurrence. There are functions that allow us to estimate the probability distribution of a random variable. Therefore, if we know the variable distribution we can estimate the events' probability of occurrence.\n",
    "\n",
    "### Upload data files and modules\n",
    "\n",
    "#### Modules needed:"
   ]
  },
  {
   "cell_type": "code",
   "execution_count": 1,
   "metadata": {},
   "outputs": [],
   "source": [
    "import numpy as np\n",
    "import pandas as pd\n",
    "import matplotlib.pyplot as plt \n",
    "import os\n"
   ]
  },
  {
   "cell_type": "markdown",
   "metadata": {},
   "source": [
    "#### Read csv files:"
   ]
  },
  {
   "cell_type": "code",
   "execution_count": 2,
   "metadata": {},
   "outputs": [
    {
     "data": {
      "text/html": [
       "<div>\n",
       "<style scoped>\n",
       "    .dataframe tbody tr th:only-of-type {\n",
       "        vertical-align: middle;\n",
       "    }\n",
       "\n",
       "    .dataframe tbody tr th {\n",
       "        vertical-align: top;\n",
       "    }\n",
       "\n",
       "    .dataframe thead th {\n",
       "        text-align: right;\n",
       "    }\n",
       "</style>\n",
       "<table border=\"1\" class=\"dataframe\">\n",
       "  <thead>\n",
       "    <tr style=\"text-align: right;\">\n",
       "      <th></th>\n",
       "      <th>price</th>\n",
       "      <th>meters</th>\n",
       "      <th>distance</th>\n",
       "      <th>exactyears</th>\n",
       "      <th>room</th>\n",
       "      <th>region</th>\n",
       "    </tr>\n",
       "  </thead>\n",
       "  <tbody>\n",
       "    <tr>\n",
       "      <th>count</th>\n",
       "      <td>10000.000000</td>\n",
       "      <td>10000.000000</td>\n",
       "      <td>10000.000000</td>\n",
       "      <td>10000.000000</td>\n",
       "      <td>10000.000000</td>\n",
       "      <td>10000.000000</td>\n",
       "    </tr>\n",
       "    <tr>\n",
       "      <th>mean</th>\n",
       "      <td>149842.325036</td>\n",
       "      <td>160.836868</td>\n",
       "      <td>4.182502</td>\n",
       "      <td>2.991400</td>\n",
       "      <td>2.501700</td>\n",
       "      <td>2.253600</td>\n",
       "    </tr>\n",
       "    <tr>\n",
       "      <th>std</th>\n",
       "      <td>24863.025660</td>\n",
       "      <td>52.268413</td>\n",
       "      <td>1.847066</td>\n",
       "      <td>1.730672</td>\n",
       "      <td>1.121482</td>\n",
       "      <td>0.805451</td>\n",
       "    </tr>\n",
       "    <tr>\n",
       "      <th>min</th>\n",
       "      <td>58314.211860</td>\n",
       "      <td>52.917563</td>\n",
       "      <td>0.500198</td>\n",
       "      <td>0.000000</td>\n",
       "      <td>1.000000</td>\n",
       "      <td>1.000000</td>\n",
       "    </tr>\n",
       "    <tr>\n",
       "      <th>25%</th>\n",
       "      <td>133486.908750</td>\n",
       "      <td>121.878581</td>\n",
       "      <td>2.804825</td>\n",
       "      <td>2.000000</td>\n",
       "      <td>2.000000</td>\n",
       "      <td>2.000000</td>\n",
       "    </tr>\n",
       "    <tr>\n",
       "      <th>50%</th>\n",
       "      <td>149798.073800</td>\n",
       "      <td>154.572110</td>\n",
       "      <td>4.107268</td>\n",
       "      <td>3.000000</td>\n",
       "      <td>2.000000</td>\n",
       "      <td>2.000000</td>\n",
       "    </tr>\n",
       "    <tr>\n",
       "      <th>75%</th>\n",
       "      <td>166460.326325</td>\n",
       "      <td>198.087797</td>\n",
       "      <td>5.423078</td>\n",
       "      <td>4.000000</td>\n",
       "      <td>4.000000</td>\n",
       "      <td>3.000000</td>\n",
       "    </tr>\n",
       "    <tr>\n",
       "      <th>max</th>\n",
       "      <td>259783.227000</td>\n",
       "      <td>298.848517</td>\n",
       "      <td>11.871825</td>\n",
       "      <td>11.000000</td>\n",
       "      <td>4.000000</td>\n",
       "      <td>3.000000</td>\n",
       "    </tr>\n",
       "  </tbody>\n",
       "</table>\n",
       "</div>"
      ],
      "text/plain": [
       "               price        meters      distance    exactyears          room  \\\n",
       "count   10000.000000  10000.000000  10000.000000  10000.000000  10000.000000   \n",
       "mean   149842.325036    160.836868      4.182502      2.991400      2.501700   \n",
       "std     24863.025660     52.268413      1.847066      1.730672      1.121482   \n",
       "min     58314.211860     52.917563      0.500198      0.000000      1.000000   \n",
       "25%    133486.908750    121.878581      2.804825      2.000000      2.000000   \n",
       "50%    149798.073800    154.572110      4.107268      3.000000      2.000000   \n",
       "75%    166460.326325    198.087797      5.423078      4.000000      4.000000   \n",
       "max    259783.227000    298.848517     11.871825     11.000000      4.000000   \n",
       "\n",
       "             region  \n",
       "count  10000.000000  \n",
       "mean       2.253600  \n",
       "std        0.805451  \n",
       "min        1.000000  \n",
       "25%        2.000000  \n",
       "50%        2.000000  \n",
       "75%        3.000000  \n",
       "max        3.000000  "
      ]
     },
     "execution_count": 2,
     "metadata": {},
     "output_type": "execute_result"
    }
   ],
   "source": [
    "os.chdir ('../assets')\n",
    "data = pd.read_csv(\"house.csv\") \n",
    "data.describe()"
   ]
  },
  {
   "cell_type": "markdown",
   "metadata": {},
   "source": [
    "## Discrete variable's probability distribution (integer values)\n",
    "\n",
    "There are several discrete probability distributions (e.g., Binomial, Negative Binomial, Geometric, Poisson). However, we will focus on the house's number of years variable (exactyears column) distribution function, for understanding purposes. This variable follows a Poisson distribution, we will cover this topic further, by now we introduce Probability Distribution concept.\n",
    "\n",
    "### Generating a probability distribution"
   ]
  },
  {
   "cell_type": "code",
   "execution_count": 5,
   "metadata": {},
   "outputs": [
    {
     "name": "stdout",
     "output_type": "stream",
     "text": [
      "col_0       count\n",
      "exactyears       \n",
      "0             494\n",
      "1            1537\n",
      "2            2223\n",
      "3            2212\n",
      "4            1705\n",
      "5             991\n",
      "6             516\n",
      "7             202\n",
      "8              86\n",
      "9              21\n",
      "10             10\n",
      "11              3\n",
      "\n",
      "\n",
      "col_0        count\n",
      "exactyears        \n",
      "0           0.0494\n",
      "1           0.1537\n",
      "2           0.2223\n",
      "3           0.2212\n",
      "4           0.1705\n",
      "5           0.0991\n",
      "6           0.0516\n",
      "7           0.0202\n",
      "8           0.0086\n",
      "9           0.0021\n",
      "10          0.0010\n",
      "11          0.0003\n"
     ]
    },
    {
     "data": {
      "image/png": "[encoded data removed]",
      "text/plain": [
       "<matplotlib.figure.Figure at 0x7fc028652748>"
      ]
     },
     "metadata": {},
     "output_type": "display_data"
    },
    {
     "data": {
      "image/png": "[encoded data removed]",
      "text/plain": [
       "<matplotlib.figure.Figure at 0x7fc0285e7da0>"
      ]
     },
     "metadata": {},
     "output_type": "display_data"
    }
   ],
   "source": [
    "# Absolute frequency distribution of house's number of years \n",
    "tabyear = pd.crosstab(index=data[\"exactyears\"],columns=\"count\") \n",
    "print(tabyear)\n",
    "\n",
    "print(\"\\n\")\n",
    "\n",
    "# Probability distribution (relative frequency distribution) \n",
    "tabyear2=tabyear/tabyear.sum()\n",
    "print(tabyear2)\n",
    "\n",
    "\n",
    "# Probability distribution chart with histogram (relative frequency distribution)  \n",
    "plt.hist(data.exactyears, bins=12,normed=1, facecolor='green', edgecolor='none')\n",
    "plt.xlabel('Years') \n",
    "plt.ylabel('Probability') \n",
    "plt.title('Number of years histogram') \n",
    "plt.axis([0, 12, 0, 0.3]) \n",
    "plt.grid(True) \n",
    "plt.show()\n",
    "\n",
    "\n",
    "# Cumulative distribution chart with Ojiva\n",
    "plt.hist(data.exactyears, cumulative=True, bins=12, normed=1, color='steelblue', edgecolor='none') \n",
    "plt.xlabel('Years') \n",
    "plt.ylabel('Probability') \n",
    "plt.title('Years cumulative distribution (density)') \n",
    "plt.axis([0, 12, 0, 1]) \n",
    "plt.grid(True) \n",
    "plt.show()"
   ]
  },
  {
   "cell_type": "markdown",
   "metadata": {},
   "source": [
    "### Function for a Poisson Distribution Probability\n",
    "\n",
    "The house's number of years variable follows the Poisson distribution with mean = 3. With Poisson function can be applied behavior simulations of the variable and estimate the occurrence probability of a single event (single value occurrence, e.g. $P(x=3)$) or compound event (set of events occurrence, e.g. $P(x>3)$). The Poisson distribution function is as follows:\n",
    "\n",
    "$$P(X/\\lambda)\\text{=}\\frac{e^{-\\lambda}\\lambda^{x}}{x!}, $$\n",
    "\n",
    "where\n",
    "\n",
    "$$X \\text{= number of event occurrence.}$$\n",
    "\n",
    "$$\\lambda \\text{= occurrences average.}$$\n",
    "\n",
    "\n",
    "#### Simulating Poisson probability distribution with mean = 3."
   ]
  },
  {
   "cell_type": "code",
   "execution_count": 6,
   "metadata": {},
   "outputs": [
    {
     "data": {
      "image/png": "[encoded data removed]",
      "text/plain": [
       "<matplotlib.figure.Figure at 0x7fc028f81080>"
      ]
     },
     "metadata": {},
     "output_type": "display_data"
    }
   ],
   "source": [
    "# Importing module for distribution simulations \n",
    "from scipy.stats import poisson \n",
    "\n",
    "# Generating a 10 000 values simulation \n",
    "data_poisson = poisson.rvs(mu=3, size=10000) \n",
    "\n",
    "# Simulated variable chart \n",
    "plt.hist(data_poisson, bins=12, normed=1, facecolor='green', edgecolor='none') \n",
    "plt.xlabel('Years') \n",
    "plt.ylabel('Probability') \n",
    "plt.title('Number of years histogram') \n",
    "plt.axis([0, 12,0,0.3]) \n",
    "plt.grid(True) \n",
    "plt.show() \n",
    "\n",
    "\n",
    "\n"
   ]
  },
  {
   "cell_type": "markdown",
   "metadata": {},
   "source": [
    "#### Estimating occurrence probability of a single event and Poisson cumulate distribution with mean = 3"
   ]
  },
  {
   "cell_type": "code",
   "execution_count": 7,
   "metadata": {},
   "outputs": [
    {
     "name": "stdout",
     "output_type": "stream",
     "text": [
      "0.14936120510359185\n"
     ]
    },
    {
     "data": {
      "text/plain": [
       "0.1991482734714558"
      ]
     },
     "execution_count": 7,
     "metadata": {},
     "output_type": "execute_result"
    }
   ],
   "source": [
    "# Estimating single probability P(X=1) \n",
    "print(poisson.pmf(1, 3))\n",
    "\n",
    "# Estimating cumulate probability P(X<=1 )\n",
    "poisson.cdf(1, 3)"
   ]
  },
  {
   "cell_type": "markdown",
   "metadata": {},
   "source": [
    "## Continuos variable's probability distribution (floating point)\n",
    "\n",
    "As discrete variables, there are several continuos distributions (e.g., Gama, Beta, Cauchy, Weibull). However, we will focus on Normal or Gaussian distribution. In the Normal, the data is distributed in an inverted bell shape, which implies that it is symmetric with respect to the mean, that is, half of the data are below the average and the other half are above. The area under the curve (bell) is equal to 1. To understand the normal distribution we will graph the price variable that is distributed in this way. The function of a normal distribution is as follows:\n",
    "        \n",
    "$f(x)\\frac{1}{\\sigma\\sqrt{2\\pi}}e^{\\frac{-1}{2}\\left(\\frac{x-\\mu}{\\sigma}\\right)^{2}}$, where\n",
    "\n",
    "$e=2.7183$\n",
    "\n",
    "$\\pi=3.1416$\n",
    "\n",
    "$\\mu=$ mean\n",
    "\n",
    "$\\sigma=$ standard deviation\n",
    "\n",
    "$x=$ random variable"
   ]
  },
  {
   "cell_type": "code",
   "execution_count": 8,
   "metadata": {},
   "outputs": [
    {
     "data": {
      "image/png": "[encoded data removed]",
      "text/plain": [
       "<matplotlib.figure.Figure at 0x7fbf7e8bff98>"
      ]
     },
     "metadata": {},
     "output_type": "display_data"
    }
   ],
   "source": [
    "# Normal variable histogram chart (price)\n",
    "plt.hist(data.price, bins=12, facecolor='green', edgecolor='none') \n",
    "plt.xlabel('Price') \n",
    "plt.ylabel('Probability') \n",
    "plt.title('Price histogram') \n",
    "plt.grid(True) \n",
    "plt.show()"
   ]
  },
  {
   "cell_type": "markdown",
   "metadata": {},
   "source": [
    "#### Simulating Normal probability distribution, mean = 20 and deviation = 10"
   ]
  },
  {
   "cell_type": "code",
   "execution_count": 9,
   "metadata": {},
   "outputs": [
    {
     "data": {
      "text/plain": [
       "array([12.38985992, 23.27193927, 12.7497142 , ..., 10.44235652,\n",
       "       25.72005206, 13.5489316 ])"
      ]
     },
     "execution_count": 9,
     "metadata": {},
     "output_type": "execute_result"
    }
   ],
   "source": [
    "# Importing module for distribution simulations \n",
    "from scipy.stats import norm \n",
    "\n",
    "data_normal = norm.rvs(size=10000,loc=20,scale=10)\n",
    "data_normal"
   ]
  },
  {
   "cell_type": "markdown",
   "metadata": {},
   "source": [
    "#### Estimating Normal probability of occurrence, for instance $P(X<12)$, $X$ follows Normal distribution (mean = 20, deviation = 10)"
   ]
  },
  {
   "cell_type": "code",
   "execution_count": 10,
   "metadata": {},
   "outputs": [
    {
     "data": {
      "text/plain": [
       "0.2118553985833967"
      ]
     },
     "execution_count": 10,
     "metadata": {},
     "output_type": "execute_result"
    }
   ],
   "source": [
    "prob = norm.cdf(12, loc=20, scale=10)\n",
    "prob"
   ]
  },
  {
   "cell_type": "markdown",
   "metadata": {},
   "source": [
    "## Conditional probability and conditional probability distribution\n",
    "\n",
    "Given the variables X and Y, we can obtain the probability distribution of Y for a given value of X or for each of the values assumed by X. Each of these distributions is a conditional probability distribution. Let's see an example:"
   ]
  },
  {
   "cell_type": "code",
   "execution_count": 11,
   "metadata": {},
   "outputs": [
    {
     "name": "stdout",
     "output_type": "stream",
     "text": [
      "Table 1:\n",
      "room           1     2     3     4    All\n",
      "exactyears                               \n",
      "0            123   106   143   122    494\n",
      "1            379   380   363   415   1537\n",
      "2            532   556   561   574   2223\n",
      "3            567   531   552   562   2212\n",
      "4            459   450   376   420   1705\n",
      "5            218   294   235   244    991\n",
      "6            133   145   106   132    516\n",
      "7             54    51    45    52    202\n",
      "8             20    20    28    18     86\n",
      "9              4     5     6     6     21\n",
      "10             3     3     4     0     10\n",
      "11             1     1     1     0      3\n",
      "All         2493  2542  2420  2545  10000\n",
      "\n",
      "Table 2:\n",
      "room               1         2         3         4     All\n",
      "exactyears                                                \n",
      "0           0.049338  0.041699  0.059091  0.047937  0.0494\n",
      "1           0.152026  0.149489  0.150000  0.163065  0.1537\n",
      "2           0.213398  0.218725  0.231818  0.225540  0.2223\n",
      "3           0.227437  0.208891  0.228099  0.220825  0.2212\n",
      "4           0.184116  0.177026  0.155372  0.165029  0.1705\n",
      "5           0.087445  0.115657  0.097107  0.095874  0.0991\n",
      "6           0.053349  0.057042  0.043802  0.051866  0.0516\n",
      "7           0.021661  0.020063  0.018595  0.020432  0.0202\n",
      "8           0.008022  0.007868  0.011570  0.007073  0.0086\n",
      "9           0.001604  0.001967  0.002479  0.002358  0.0021\n",
      "10          0.001203  0.001180  0.001653  0.000000  0.0010\n",
      "11          0.000401  0.000393  0.000413  0.000000  0.0003\n",
      "\n",
      "Table 3:\n",
      "room               1         2         3         4\n",
      "exactyears                                        \n",
      "0           0.248988  0.214575  0.289474  0.246964\n",
      "1           0.246584  0.247235  0.236174  0.270007\n",
      "2           0.239316  0.250112  0.252362  0.258210\n",
      "3           0.256329  0.240054  0.249548  0.254069\n",
      "4           0.269208  0.263930  0.220528  0.246334\n",
      "5           0.219980  0.296670  0.237134  0.246216\n",
      "6           0.257752  0.281008  0.205426  0.255814\n",
      "7           0.267327  0.252475  0.222772  0.257426\n",
      "8           0.232558  0.232558  0.325581  0.209302\n",
      "9           0.190476  0.238095  0.285714  0.285714\n",
      "10          0.300000  0.300000  0.400000  0.000000\n",
      "11          0.333333  0.333333  0.333333  0.000000\n",
      "All         0.249300  0.254200  0.242000  0.254500\n"
     ]
    }
   ],
   "source": [
    "# Two-way frequency table with absolute data (contingency table)\n",
    "table = pd.crosstab(index=data[\"exactyears\"], columns=data[\"room\"],margins=True,normalize=False) \n",
    "print(\"Table 1:\")\n",
    "print(table)\n",
    "\n",
    "# Conditional probability distribution of the years given the number of rooms (contingency table, with percentages per column) \n",
    "table2 = pd.crosstab(index=data[\"exactyears\"], columns=data[\"room\"],margins=True,normalize=\"columns\") \n",
    "print(\"\\nTable 2:\")\n",
    "print(table2)\n",
    "\n",
    "# Conditional probability distribution of the number of rooms given the years (contingency table, with percentages per row)\n",
    "table3 = pd.crosstab(index=data[\"exactyears\"],columns=data[\"room\"],margins=True,normalize=\"index\")\n",
    "print(\"\\nTable 3:\")\n",
    "print(table3)"
   ]
  },
  {
   "cell_type": "markdown",
   "metadata": {},
   "source": [
    "## Independence / dependence between variables\n",
    "\n",
    "Two random variables $X$, $Y$ are independent if the conditional distribution of $Y$ given $X$ is equal to the probability distribution of $Y$, for all values assumed by $X$. \n",
    "\n",
    "$$P (Y = y | X = x) = P (Y = y ) .$$ \n",
    "\n",
    "\n",
    "This topic will serve to explore relations between variables, before applying pattern recognition algorithms, let's see examples:\n",
    "\n",
    "### Independence between qualitative or discrete variables with few categories"
   ]
  },
  {
   "cell_type": "code",
   "execution_count": 12,
   "metadata": {},
   "outputs": [
    {
     "name": "stdout",
     "output_type": "stream",
     "text": [
      "Table 4:\n",
      "room               1         2         3         4     All\n",
      "exactyears                                                \n",
      "0           0.049338  0.041699  0.059091  0.047937  0.0494\n",
      "1           0.152026  0.149489  0.150000  0.163065  0.1537\n",
      "2           0.213398  0.218725  0.231818  0.225540  0.2223\n",
      "3           0.227437  0.208891  0.228099  0.220825  0.2212\n",
      "4           0.184116  0.177026  0.155372  0.165029  0.1705\n",
      "5           0.087445  0.115657  0.097107  0.095874  0.0991\n",
      "6           0.053349  0.057042  0.043802  0.051866  0.0516\n",
      "7           0.021661  0.020063  0.018595  0.020432  0.0202\n",
      "8           0.008022  0.007868  0.011570  0.007073  0.0086\n",
      "9           0.001604  0.001967  0.002479  0.002358  0.0021\n",
      "10          0.001203  0.001180  0.001653  0.000000  0.0010\n",
      "11          0.000401  0.000393  0.000413  0.000000  0.0003\n",
      "\n",
      "Table 5:\n",
      "region         1         2         3     All\n",
      "room                                        \n",
      "1       0.468437  0.196516  0.176495  0.2493\n",
      "2       0.110579  0.409059  0.230499  0.2542\n",
      "3       0.052242  0.095122  0.419408  0.2420\n",
      "4       0.368742  0.299303  0.173598  0.2545\n"
     ]
    }
   ],
   "source": [
    "# Distribution of years, given the number of rooms -case independence-\n",
    "table4 = pd.crosstab(index=data[\"exactyears\"], columns=data[\"room\"],margins=True,normalize=\"columns\") \n",
    "print(\"Table 4:\")\n",
    "print(table4) \n",
    "\n",
    "# Distribution of the rooms, given the region -dependence case-\n",
    "table5 = pd.crosstab(index=data[\"room\"], columns=data[\"region\"],margins=True,normalize=\"columns\") \n",
    "print(\"\\nTable 5:\")\n",
    "print(table5)"
   ]
  },
  {
   "cell_type": "markdown",
   "metadata": {},
   "source": [
    "### Independence between discrete quantitative or continuous quantitative variables with several categories\n",
    "\n",
    "One way to analyze the relationship between two continuous variables is to create a scatter plot. In this way, it is possible to determine if there is a pattern of dependence or association between variables. It is also very common to determine the covariance/correlation between variables, although this only indicates if there is a linear relationship between them.\n",
    "\n",
    "#### Dispersion chart"
   ]
  },
  {
   "cell_type": "code",
   "execution_count": 13,
   "metadata": {},
   "outputs": [
    {
     "data": {
      "image/png": "[encoded data removed]",
      "text/plain": [
       "<matplotlib.figure.Figure at 0x7fbf7097b860>"
      ]
     },
     "metadata": {},
     "output_type": "display_data"
    },
    {
     "data": {
      "image/png": "[encoded data removed]",
      "text/plain": [
       "<matplotlib.figure.Figure at 0x7fbf7092b550>"
      ]
     },
     "metadata": {},
     "output_type": "display_data"
    },
    {
     "data": {
      "text/plain": [
       "<seaborn.axisgrid.PairGrid at 0x7fbf702e2048>"
      ]
     },
     "execution_count": 13,
     "metadata": {},
     "output_type": "execute_result"
    },
    {
     "data": {
      "image/png": "[encoded data removed]",
      "text/plain": [
       "<matplotlib.figure.Figure at 0x7fbf702e8278>"
      ]
     },
     "metadata": {},
     "output_type": "display_data"
    }
   ],
   "source": [
    "# Price vrs meters dispersion chart\n",
    "plt.scatter(data[\"meters\"], data[\"price\"]) \n",
    "plt.xlabel('Meters')  \n",
    "plt.ylabel('Price')\n",
    "plt.title('Price vrs meters dispersion') \n",
    "plt.show()\n",
    "\n",
    "# Price vrs years dispersion graph \n",
    "plt.scatter(data[\"exactyears\"], data[\"price\"]) \n",
    "plt.xlabel('Years')  \n",
    "plt.ylabel('Price')\n",
    "plt.title('Price vrs years dispersion') \n",
    "plt.show()\n",
    "\n",
    "# Dispersion graph between all the variables \n",
    "import seaborn as sns   \n",
    "sns.pairplot(data, hue='region')"
   ]
  },
  {
   "cell_type": "markdown",
   "metadata": {},
   "source": [
    "#### Covariance\n",
    "Measure the strength of the linear relationship between two variables.\n",
    "\n",
    "If $σxy> 0$ the correlation is direct.\n",
    "If $σxy <0$ the correlation is inverse.\n",
    "The higher the value, the higher the ratio.\n",
    "\n",
    "The formula is:\n",
    "\n",
    "$$\\sigma_{xy}=\\frac{\\sum f_{i}\\left(x_{i}-\\overline{x}\\right)\\left(y_{i}-\\overline{y}\\right)}{N}$$"
   ]
  },
  {
   "cell_type": "code",
   "execution_count": 14,
   "metadata": {},
   "outputs": [
    {
     "data": {
      "text/plain": [
       "array([[2.73198702e+03, 1.28661153e+06],\n",
       "       [1.28661153e+06, 6.18170045e+08]])"
      ]
     },
     "execution_count": 14,
     "metadata": {},
     "output_type": "execute_result"
    }
   ],
   "source": [
    "# Covariance\n",
    "np.cov(data['meters'], data['price'])"
   ]
  },
  {
   "cell_type": "markdown",
   "metadata": {},
   "source": [
    "#### Correlation\n",
    "\n",
    "It measures the strength of the linear relationship between two variables, in a range between $-1$ and $1$. The closer to $1$ or $-1$ the greater the linear association, and the closer to $0$ the smaller the association. The formula is:\n",
    "\n",
    "$$r_{xy}=\\frac{\\sum x_{i}y_{i}-n\\overline{x}\\overline{y}}{n\\sigma_{x}\\sigma_{y}}$$"
   ]
  },
  {
   "cell_type": "code",
   "execution_count": 15,
   "metadata": {},
   "outputs": [
    {
     "name": "stdout",
     "output_type": "stream",
     "text": [
      "Meters and Price\n",
      " [[1.        0.9900432]\n",
      " [0.9900432 1.       ]]\n",
      "\n",
      "Years and Price\n",
      " [[ 1.         -0.01454717]\n",
      " [-0.01454717  1.        ]]\n"
     ]
    }
   ],
   "source": [
    "# Correlation\n",
    "print(\"Meters and Price\\n\", np.corrcoef(data['meters'], data['price']))\n",
    "print(\"\\nYears and Price\\n\",np.corrcoef(data['exactyears'], data['price']))"
   ]
  },
  {
   "cell_type": "markdown",
   "metadata": {},
   "source": [
    "### Independence between quantitative and qualitative variable"
   ]
  },
  {
   "cell_type": "code",
   "execution_count": 16,
   "metadata": {},
   "outputs": [
    {
     "name": "stdout",
     "output_type": "stream",
     "text": [
      "region\n",
      "1    136164.681613\n",
      "2    149947.167275\n",
      "3    156280.696590\n",
      "Name: price, dtype: float64\n",
      "\n",
      " region\n",
      "1    133906.18270\n",
      "2    140918.76215\n",
      "3    152780.77260\n",
      "Name: price, dtype: float64\n"
     ]
    },
    {
     "data": {
      "text/plain": [
       "region  room\n",
       "1       1       107088.520911\n",
       "        2       134299.463769\n",
       "        3       165730.147954\n",
       "        4       169472.660701\n",
       "2       1       122468.958292\n",
       "        2       139121.806288\n",
       "        3       164188.236523\n",
       "        4       178257.844529\n",
       "3       1       129779.287329\n",
       "        2       146504.871861\n",
       "        3       156403.141252\n",
       "        4       195908.557756\n",
       "Name: price, dtype: float64"
      ]
     },
     "execution_count": 16,
     "metadata": {},
     "output_type": "execute_result"
    }
   ],
   "source": [
    "# Average price by region\n",
    "print(data.groupby('region')['price'].mean())\n",
    "\n",
    "# Median price by region\n",
    "print(\"\\n\",data.groupby('region')['price'].median())\n",
    "\n",
    "# Average price per region and room\n",
    "data.groupby(['region', 'room'])['price'].mean() "
   ]
  },
  {
   "cell_type": "markdown",
   "metadata": {},
   "source": [
    "# Multiple linear regression\n",
    "\n",
    "A mathematical algorithm that allows evaluating the effect of a variable or a set of variables on a quantitative variable. Indicates the strength of the linear relationship between a quantitative or qualitative variable over a quantitative variable. It is used as an algorithm to make predictions."
   ]
  },
  {
   "cell_type": "code",
   "execution_count": 17,
   "metadata": {},
   "outputs": [
    {
     "data": {
      "text/html": [
       "<div>\n",
       "<style scoped>\n",
       "    .dataframe tbody tr th:only-of-type {\n",
       "        vertical-align: middle;\n",
       "    }\n",
       "\n",
       "    .dataframe tbody tr th {\n",
       "        vertical-align: top;\n",
       "    }\n",
       "\n",
       "    .dataframe thead th {\n",
       "        text-align: right;\n",
       "    }\n",
       "</style>\n",
       "<table border=\"1\" class=\"dataframe\">\n",
       "  <thead>\n",
       "    <tr style=\"text-align: right;\">\n",
       "      <th></th>\n",
       "      <th>precio</th>\n",
       "      <th>cl</th>\n",
       "      <th>estilo</th>\n",
       "      <th>trans</th>\n",
       "      <th>km</th>\n",
       "      <th>mod</th>\n",
       "      <th>extras</th>\n",
       "      <th>alarm</th>\n",
       "    </tr>\n",
       "  </thead>\n",
       "  <tbody>\n",
       "    <tr>\n",
       "      <th>count</th>\n",
       "      <td>3.260000e+02</td>\n",
       "      <td>326.000000</td>\n",
       "      <td>325.000000</td>\n",
       "      <td>326.000000</td>\n",
       "      <td>326.000000</td>\n",
       "      <td>326.000000</td>\n",
       "      <td>326.000000</td>\n",
       "      <td>326.000000</td>\n",
       "    </tr>\n",
       "    <tr>\n",
       "      <th>mean</th>\n",
       "      <td>6.908702e+06</td>\n",
       "      <td>1488.619632</td>\n",
       "      <td>0.270769</td>\n",
       "      <td>0.588957</td>\n",
       "      <td>83171.392638</td>\n",
       "      <td>2011.920245</td>\n",
       "      <td>14.251534</td>\n",
       "      <td>0.533742</td>\n",
       "    </tr>\n",
       "    <tr>\n",
       "      <th>std</th>\n",
       "      <td>1.602871e+06</td>\n",
       "      <td>72.930206</td>\n",
       "      <td>0.445042</td>\n",
       "      <td>0.492779</td>\n",
       "      <td>61726.496904</td>\n",
       "      <td>2.320429</td>\n",
       "      <td>4.393483</td>\n",
       "      <td>0.499627</td>\n",
       "    </tr>\n",
       "    <tr>\n",
       "      <th>min</th>\n",
       "      <td>3.000000e+06</td>\n",
       "      <td>1298.000000</td>\n",
       "      <td>0.000000</td>\n",
       "      <td>0.000000</td>\n",
       "      <td>74.000000</td>\n",
       "      <td>2008.000000</td>\n",
       "      <td>0.000000</td>\n",
       "      <td>0.000000</td>\n",
       "    </tr>\n",
       "    <tr>\n",
       "      <th>25%</th>\n",
       "      <td>5.750000e+06</td>\n",
       "      <td>1500.000000</td>\n",
       "      <td>0.000000</td>\n",
       "      <td>0.000000</td>\n",
       "      <td>53000.000000</td>\n",
       "      <td>2010.000000</td>\n",
       "      <td>11.250000</td>\n",
       "      <td>0.000000</td>\n",
       "    </tr>\n",
       "    <tr>\n",
       "      <th>50%</th>\n",
       "      <td>6.400000e+06</td>\n",
       "      <td>1500.000000</td>\n",
       "      <td>0.000000</td>\n",
       "      <td>1.000000</td>\n",
       "      <td>78000.000000</td>\n",
       "      <td>2012.000000</td>\n",
       "      <td>14.000000</td>\n",
       "      <td>1.000000</td>\n",
       "    </tr>\n",
       "    <tr>\n",
       "      <th>75%</th>\n",
       "      <td>8.150000e+06</td>\n",
       "      <td>1500.000000</td>\n",
       "      <td>1.000000</td>\n",
       "      <td>1.000000</td>\n",
       "      <td>106525.000000</td>\n",
       "      <td>2014.000000</td>\n",
       "      <td>17.000000</td>\n",
       "      <td>1.000000</td>\n",
       "    </tr>\n",
       "    <tr>\n",
       "      <th>max</th>\n",
       "      <td>1.350000e+07</td>\n",
       "      <td>2000.000000</td>\n",
       "      <td>1.000000</td>\n",
       "      <td>1.000000</td>\n",
       "      <td>740000.000000</td>\n",
       "      <td>2017.000000</td>\n",
       "      <td>27.000000</td>\n",
       "      <td>1.000000</td>\n",
       "    </tr>\n",
       "  </tbody>\n",
       "</table>\n",
       "</div>"
      ],
      "text/plain": [
       "             precio           cl      estilo       trans             km  \\\n",
       "count  3.260000e+02   326.000000  325.000000  326.000000     326.000000   \n",
       "mean   6.908702e+06  1488.619632    0.270769    0.588957   83171.392638   \n",
       "std    1.602871e+06    72.930206    0.445042    0.492779   61726.496904   \n",
       "min    3.000000e+06  1298.000000    0.000000    0.000000      74.000000   \n",
       "25%    5.750000e+06  1500.000000    0.000000    0.000000   53000.000000   \n",
       "50%    6.400000e+06  1500.000000    0.000000    1.000000   78000.000000   \n",
       "75%    8.150000e+06  1500.000000    1.000000    1.000000  106525.000000   \n",
       "max    1.350000e+07  2000.000000    1.000000    1.000000  740000.000000   \n",
       "\n",
       "               mod      extras       alarm  \n",
       "count   326.000000  326.000000  326.000000  \n",
       "mean   2011.920245   14.251534    0.533742  \n",
       "std       2.320429    4.393483    0.499627  \n",
       "min    2008.000000    0.000000    0.000000  \n",
       "25%    2010.000000   11.250000    0.000000  \n",
       "50%    2012.000000   14.000000    1.000000  \n",
       "75%    2014.000000   17.000000    1.000000  \n",
       "max    2017.000000   27.000000    1.000000  "
      ]
     },
     "execution_count": 17,
     "metadata": {},
     "output_type": "execute_result"
    }
   ],
   "source": [
    "# Upload data file \n",
    "car = pd.read_csv(\"car2.csv\") \n",
    "car.describe()"
   ]
  },
  {
   "cell_type": "markdown",
   "metadata": {},
   "source": [
    "Suppose that with this data you want to use a multiple linear regression model to predict the price of a vehicle based on the mileage traveled, the number of extras, and the transmission (1 = Automatic, 0 = Manual) that the vehicle has. In this way the regression model would be represented by the following equation:\n",
    "\n",
    "$$Price = b_{0} + b_{1} km + b_{2} extras + b_{3}trans + e$$\n",
    "\n",
    "\n",
    "- $b_{0} =$ Constant, value assumed by Y when the Xs are zero\n",
    "\n",
    "- $b_{1} =$ Coefficient or weight of mileage, indicates the relationship between mileage and price\n",
    "\n",
    "- $b_{2} =$ Coefficient or extra weight, indicates the relationship between extras and price\n",
    "\n",
    "- $b_{3} =$ Coefficient or transmission weight, indicates the relationship between transmission and price\n",
    "\n",
    "- $e =$ Residue. Quantity not explained by independent or explanatory variables\n",
    "\n",
    "## Algorithm estimation"
   ]
  },
  {
   "cell_type": "code",
   "execution_count": 18,
   "metadata": {},
   "outputs": [
    {
     "name": "stdout",
     "output_type": "stream",
     "text": [
      "[-9.37990143e+00  1.01203827e+05 -5.20863588e+05]\n",
      "6553298.012660276\n"
     ]
    }
   ],
   "source": [
    "# Selecting dependent variable (prediction) and independent (explanatory)\n",
    "y = car[\"precio\"] \n",
    "x = car[[\"km\",\"extras\",\"trans\"]] \n",
    "\n",
    "# Uploading module  \n",
    "from sklearn import datasets, linear_model \n",
    "\n",
    "# Creating object of linear regression\n",
    "rl = linear_model.LinearRegression() \n",
    "\n",
    "# Estimating algorithm (equation of the line)\n",
    "rl.fit(x,y) \n",
    "\n",
    "# Printing constant and coefficients\n",
    "print(rl.coef_)\n",
    "print(rl.intercept_)"
   ]
  },
  {
   "cell_type": "markdown",
   "metadata": {},
   "source": [
    "## Interpretation of the algorithm\n",
    "\n",
    "Given the above results, the equation of the line would be:\n",
    "\n",
    "$$Price = 6553298-9.37km + 101203 extras - 520863 trans$$\n",
    "\n",
    "The coefficients are interpreted as follows\n",
    "\n",
    "1. By increasing the number of kilometers traveled by one unit, the price decreases by $9.37$, keeping the other variables of the model constant.\n",
    "\n",
    "2. By increasing the number of extras by one unit, the price increases by $101203$ colones, keeping the other variables of the model constant.\n",
    "\n",
    "3. By increasing the transmission variable by one unit, that is, passing from Manual to Automatic transmission, the price decreases by $520863$ colones, keeping the other variables of the model constant.\n",
    "\n",
    "\n",
    "\n",
    "> Note 1. The coefficients may vary if other variables are added to the model. They would change if the new variable is significantly related to the independent variable and the dependent variable. This happens because the model allows analyzing the effect of each variable contained in the model, keeping the others constant\n",
    "\n",
    "\n",
    "\n",
    "> Note 2. If you want to add a qualitative variable with $n$ categories, dichotomized variables (variables with two categories) must be decomposed into $n-1$. For example: type of vehicle (Toyota, Nissan, Hyundai), should be broken down into two variables that would have only two categories:\n",
    "\n",
    "> Variable1. 1 = Toyota, 0 = Other\n",
    "\n",
    "> Variable2. 1 = Nissan, 0 = Other\n",
    "\n",
    "> In this way, the coefficient of variable 1 would be reflecting how much Toyota's price increases with respect to Hyundai. On the other hand, variable 2 would be reflecting how much the price of Nissan increases with respect to Hyundai.\n",
    "\n",
    "## Prediction with the algorithm\n"
   ]
  },
  {
   "cell_type": "code",
   "execution_count": null,
   "metadata": {},
   "outputs": [],
   "source": [
    "# Prediction of values from 0 to 5\n",
    "pred = rl.predict(x)[0: 5]\n",
    "\n",
    "# Comparing prediction with real values\n",
    "ypred = pd.DataFrame(pred)\n",
    "print(y[0: 5])\n",
    "print(ypred)"
   ]
  },
  {
   "cell_type": "markdown",
   "metadata": {},
   "source": [
    "### Coefficient of determination\n",
    "\n",
    "This coefficient reflects how much Price variability is explained by the three variables added to the model\n",
    "\n",
    "$$R^{2}=\\frac{\\sum\\hat{Y_{i}}-\\bar{Y}}{\\sum Y_{i}-\\overline{Y}}$$"
   ]
  },
  {
   "cell_type": "code",
   "execution_count": 19,
   "metadata": {},
   "outputs": [
    {
     "data": {
      "text/plain": [
       "0.2663284205435644"
      ]
     },
     "execution_count": 19,
     "metadata": {},
     "output_type": "execute_result"
    }
   ],
   "source": [
    "rl.score(x, y)"
   ]
  },
  {
   "cell_type": "markdown",
   "metadata": {},
   "source": [
    "### Practice: \n",
    "\n",
    "Add the vehicle model to the equation and observe how much the coefficient of determination changes. Also observe if the coefficients change."
   ]
  },
  {
   "cell_type": "code",
   "execution_count": null,
   "metadata": {},
   "outputs": [],
   "source": [
    "#Exercise here\n",
    "\n"
   ]
  },
  {
   "cell_type": "markdown",
   "metadata": {},
   "source": [
    "## Algorithm testing\n",
    "\n",
    "The evaluation of the predictive capacity of the model should not be performed on the same data with which the model was built. The sample must be divided into two parts, one for training and the other for testing. Let's see:\n",
    "\n",
    "### Preparation and training"
   ]
  },
  {
   "cell_type": "code",
   "execution_count": 20,
   "metadata": {},
   "outputs": [
    {
     "name": "stdout",
     "output_type": "stream",
     "text": [
      "Training:\n",
      "\n",
      "         km  extras  trans\n",
      "112   61000      20      1\n",
      "242  105000      19      1\n",
      "11    13590      20      1\n",
      "40    31000      20      0\n",
      "275  120000      10      1\n",
      "178   81000      17      1\n",
      "23    21000      18      1\n",
      "209   90000      13      1\n",
      "194   85000      13      0\n",
      "280  123463      14      1\n",
      "69    49000       9      1\n",
      "215   90000      15      0\n",
      "149   73000      17      1\n",
      "245  107940      13      0\n",
      "157   75000      17      0\n",
      "115   62000      14      0\n",
      "118   64000      16      1\n",
      "67    47000      18      1\n",
      "82    53000      22      1\n",
      "213   90000       6      0\n",
      "234  100000      12      1\n",
      "284  127000      11      0\n",
      "323  312103      11      1\n",
      "97    57382      13      0\n",
      "35    30000      21      0\n",
      "110   60987      15      1\n",
      "152   74520      20      1\n",
      "79    53000      15      0\n",
      "292  135000      12      0\n",
      "203   88000      19      1\n",
      "..      ...     ...    ...\n",
      "216   91000      16      0\n",
      "72    50000       9      0\n",
      "2      1500      12      0\n",
      "33    30000      23      1\n",
      "86    55000      11      1\n",
      "133   69000      15      1\n",
      "22    20000      21      1\n",
      "312  160000      19      1\n",
      "325  740000      19      0\n",
      "236  100000      22      0\n",
      "58    41500      16      0\n",
      "129   68000       8      1\n",
      "16    16000      18      0\n",
      "62    43000      18      0\n",
      "165   78000       9      1\n",
      "186   83000      13      0\n",
      "199   86000      14      1\n",
      "201   86072      22      1\n",
      "300  140000      11      0\n",
      "93    57000      20      0\n",
      "17    16500      21      0\n",
      "24    22000      20      1\n",
      "160   77183      19      1\n",
      "278  121000      16      0\n",
      "83    53000      17      0\n",
      "56    41200      18      0\n",
      "147   72549      18      1\n",
      "29    27600      15      1\n",
      "26    22800      17      1\n",
      "4      3500      16      0\n",
      "\n",
      "[228 rows x 3 columns] \n",
      " 112     8800000\n",
      "242     6150000\n",
      "11      5900000\n",
      "40      9195000\n",
      "275     4150000\n",
      "178     5450000\n",
      "23      8300000\n",
      "209     5000000\n",
      "194     6000000\n",
      "280     6700000\n",
      "69      6000000\n",
      "215     6600000\n",
      "149     9250000\n",
      "245     6490000\n",
      "157     8600000\n",
      "115     6350000\n",
      "118     5449000\n",
      "67     10000000\n",
      "82      9300000\n",
      "213     6200000\n",
      "234     5300000\n",
      "284     6800000\n",
      "323     5800000\n",
      "97      6500000\n",
      "35      8900000\n",
      "110     6150000\n",
      "152     5650000\n",
      "79      6300000\n",
      "292     6300000\n",
      "203     5500000\n",
      "         ...   \n",
      "216     6500000\n",
      "72      6200000\n",
      "2       9900000\n",
      "33      8100000\n",
      "86      6195000\n",
      "133    10500000\n",
      "22      9200000\n",
      "312     5990000\n",
      "325     6150000\n",
      "236     6900000\n",
      "58      8500000\n",
      "129     8569930\n",
      "16      9000000\n",
      "62      6900000\n",
      "165     6500000\n",
      "186     9000000\n",
      "199     6450000\n",
      "201     7950000\n",
      "300     4500000\n",
      "93      8150000\n",
      "17      9700000\n",
      "24      8200000\n",
      "160     5950000\n",
      "278     5800000\n",
      "83      8350000\n",
      "56      7900000\n",
      "147     5600000\n",
      "29     10000000\n",
      "26      8500000\n",
      "4       7450000\n",
      "Name: precio, Length: 228, dtype: int64\n",
      "\n",
      "Testing:\n",
      "\n",
      "         km  extras  trans\n",
      "192   85000      11      1\n",
      "21    20000      19      0\n",
      "34    30000      14      0\n",
      "188   84000      19      0\n",
      "260  115000       7      0\n",
      "257  114000      13      1\n",
      "283  125000      16      1\n",
      "217   91700      15      1\n",
      "190   85000      11      1\n",
      "185   83000      15      1\n",
      "32    29746      18      1\n",
      "12    15500      20      1\n",
      "319  180000      18      1\n",
      "277  120000      15      0\n",
      "107   60000      20      0\n",
      "255  112336      14      1\n",
      "182   82000      18      1\n",
      "298  138500       7      0\n",
      "89    56500      12      1\n",
      "128   68000       8      1\n",
      "75    51206      17      1\n",
      "54    40900      12      1\n",
      "102   59000      15      0\n",
      "60    42000      15      0\n",
      "64    45000      18      1\n",
      "299  138740       2      0\n",
      "66    47000      18      1\n",
      "297  137508       9      1\n",
      "198   86000      13      1\n",
      "309  150000      11      1\n",
      "..      ...     ...    ...\n",
      "231   99200       4      1\n",
      "150   73650       4      1\n",
      "131   69000      11      1\n",
      "271  118967      23      1\n",
      "38    30700       9      1\n",
      "248  110000      13      0\n",
      "286  128000      13      1\n",
      "211   90000      10      1\n",
      "276  120000      14      0\n",
      "6      8200      27      1\n",
      "13    15500      20      1\n",
      "135   70000      12      1\n",
      "244  106700      13      1\n",
      "127   67994      17      1\n",
      "142   72000      17      0\n",
      "205   89000      14      1\n",
      "269  117000      11      0\n",
      "252  110000      13      0\n",
      "168   79000      15      1\n",
      "226   96000       7      0\n",
      "106   60000      18      0\n",
      "193   85000      17      1\n",
      "254  112000      13      1\n",
      "187   83500      15      1\n",
      "317  175000      10      1\n",
      "98    57599      13      1\n",
      "108   60000      23      1\n",
      "37    30588      14      0\n",
      "122   65000      18      1\n",
      "46    36000      16      1\n",
      "\n",
      "[98 rows x 3 columns] \n",
      " 192     5600000\n",
      "21      8100000\n",
      "34      7900000\n",
      "188     8750000\n",
      "260     6450000\n",
      "257     6100000\n",
      "283     5500000\n",
      "217     5500000\n",
      "190     4400000\n",
      "185     6500000\n",
      "32      9000000\n",
      "12      9900000\n",
      "319     6000000\n",
      "277     5790000\n",
      "107     7900000\n",
      "255     5750000\n",
      "182     6300000\n",
      "298     7500000\n",
      "89      6300000\n",
      "128     8569930\n",
      "75      6500000\n",
      "54      6250000\n",
      "102     5800000\n",
      "60      7200000\n",
      "64      9600000\n",
      "299     6500000\n",
      "66     10000000\n",
      "297     3000000\n",
      "198     5650000\n",
      "309     5350000\n",
      "         ...   \n",
      "231     7200000\n",
      "150     9000000\n",
      "131     4850000\n",
      "271     5200000\n",
      "38      9200000\n",
      "248     5200000\n",
      "286     5200000\n",
      "211     5900000\n",
      "276     5200000\n",
      "6      11000000\n",
      "13      9900000\n",
      "135     6100000\n",
      "244     5800000\n",
      "127     5700000\n",
      "142     5200000\n",
      "205     5650000\n",
      "269     7500000\n",
      "252     8300000\n",
      "168     5250000\n",
      "226     5950000\n",
      "106     9100000\n",
      "193     5700000\n",
      "254     6350000\n",
      "187     6500000\n",
      "317     5300000\n",
      "98      6350000\n",
      "108     8975000\n",
      "37      9300000\n",
      "122     6300000\n",
      "46      7500000\n",
      "Name: precio, Length: 98, dtype: int64\n"
     ]
    },
    {
     "name": "stderr",
     "output_type": "stream",
     "text": [
      "/usr/local/lib/python3.6/site-packages/sklearn/cross_validation.py:41: DeprecationWarning: This module was deprecated in version 0.18 in favor of the model_selection module into which all the refactored classes and functions are moved. Also note that the interface of the new CV iterators are different from that of this module. This module will be removed in 0.20.\n",
      "  \"This module will be removed in 0.20.\", DeprecationWarning)\n"
     ]
    }
   ],
   "source": [
    "# Uploading modules\n",
    "from sklearn import cross_validation \n",
    "\n",
    "# Dividing the sample into two parts, one training and one testing\n",
    "xtrain, xtest, ytrain, ytest = cross_validation.train_test_split(x,y,test_size=0.30)\n",
    "print(\"Training:\\n\")\n",
    "print(xtrain,\"\\n\", ytrain) \n",
    "print(\"\\nTesting:\\n\")\n",
    "print(xtest,\"\\n\", ytest)\n",
    "\n",
    "# Training the model\n",
    "model = rl.fit(xtrain, ytrain)\n",
    "\n",
    "# Generating the prediction with the test data\n",
    "pred = rl.predict(xtest) "
   ]
  },
  {
   "cell_type": "markdown",
   "metadata": {},
   "source": [
    "### Evaluating the algorithm"
   ]
  },
  {
   "cell_type": "code",
   "execution_count": 21,
   "metadata": {},
   "outputs": [
    {
     "name": "stdout",
     "output_type": "stream",
     "text": [
      "Variance score: 0.25\n"
     ]
    }
   ],
   "source": [
    "# Uploading modules\n",
    "from sklearn.metrics import mean_squared_error, r2_score \n",
    "\n",
    "# To generate R squared  \n",
    "print('Variance score: %.2f' % r2_score(ytest, pred)) "
   ]
  },
  {
   "cell_type": "markdown",
   "metadata": {},
   "source": [
    "#### To generate mean square error\n",
    "\n",
    "$RMSE=\\frac{\\sum\\left(Y_{i}-\\hat{Y}\\right)^{2}}{n}$"
   ]
  },
  {
   "cell_type": "code",
   "execution_count": 22,
   "metadata": {},
   "outputs": [
    {
     "name": "stdout",
     "output_type": "stream",
     "text": [
      "Mean squared error: 1862886712995.63\n"
     ]
    }
   ],
   "source": [
    "print(\"Mean squared error: %.2f\" % mean_squared_error(ytest, pred))"
   ]
  },
  {
   "cell_type": "markdown",
   "metadata": {},
   "source": [
    "## Modeling an exponential relationship\n",
    "\n",
    "Linear regression adequately models the linear relationship between variables. If the relationship of X with Y is exponential, the relationship can be linearized by applying natural logarithm to Y, in this way the algorithm would achieve a better predictive performance. Let's see an example:"
   ]
  },
  {
   "cell_type": "code",
   "execution_count": 23,
   "metadata": {},
   "outputs": [
    {
     "data": {
      "text/html": [
       "<div>\n",
       "<style scoped>\n",
       "    .dataframe tbody tr th:only-of-type {\n",
       "        vertical-align: middle;\n",
       "    }\n",
       "\n",
       "    .dataframe tbody tr th {\n",
       "        vertical-align: top;\n",
       "    }\n",
       "\n",
       "    .dataframe thead th {\n",
       "        text-align: right;\n",
       "    }\n",
       "</style>\n",
       "<table border=\"1\" class=\"dataframe\">\n",
       "  <thead>\n",
       "    <tr style=\"text-align: right;\">\n",
       "      <th></th>\n",
       "      <th>X</th>\n",
       "      <th>Y</th>\n",
       "    </tr>\n",
       "  </thead>\n",
       "  <tbody>\n",
       "    <tr>\n",
       "      <th>count</th>\n",
       "      <td>16.000000</td>\n",
       "      <td>16.000000</td>\n",
       "    </tr>\n",
       "    <tr>\n",
       "      <th>mean</th>\n",
       "      <td>8.500000</td>\n",
       "      <td>63.056250</td>\n",
       "    </tr>\n",
       "    <tr>\n",
       "      <th>std</th>\n",
       "      <td>4.760952</td>\n",
       "      <td>79.496784</td>\n",
       "    </tr>\n",
       "    <tr>\n",
       "      <th>min</th>\n",
       "      <td>1.000000</td>\n",
       "      <td>3.200000</td>\n",
       "    </tr>\n",
       "    <tr>\n",
       "      <th>25%</th>\n",
       "      <td>4.750000</td>\n",
       "      <td>7.100000</td>\n",
       "    </tr>\n",
       "    <tr>\n",
       "      <th>50%</th>\n",
       "      <td>8.500000</td>\n",
       "      <td>24.000000</td>\n",
       "    </tr>\n",
       "    <tr>\n",
       "      <th>75%</th>\n",
       "      <td>12.250000</td>\n",
       "      <td>92.000000</td>\n",
       "    </tr>\n",
       "    <tr>\n",
       "      <th>max</th>\n",
       "      <td>16.000000</td>\n",
       "      <td>260.000000</td>\n",
       "    </tr>\n",
       "  </tbody>\n",
       "</table>\n",
       "</div>"
      ],
      "text/plain": [
       "               X           Y\n",
       "count  16.000000   16.000000\n",
       "mean    8.500000   63.056250\n",
       "std     4.760952   79.496784\n",
       "min     1.000000    3.200000\n",
       "25%     4.750000    7.100000\n",
       "50%     8.500000   24.000000\n",
       "75%    12.250000   92.000000\n",
       "max    16.000000  260.000000"
      ]
     },
     "execution_count": 23,
     "metadata": {},
     "output_type": "execute_result"
    }
   ],
   "source": [
    "# Uploading data file \n",
    "expdata = pd.read_csv(\"exp.csv\")\n",
    "expdata.describe()"
   ]
  },
  {
   "cell_type": "code",
   "execution_count": 24,
   "metadata": {},
   "outputs": [
    {
     "data": {
      "image/png": "[encoded data removed]",
      "text/plain": [
       "<matplotlib.figure.Figure at 0x7fbf64ccd748>"
      ]
     },
     "metadata": {},
     "output_type": "display_data"
    }
   ],
   "source": [
    "# Relation chart between X and Y \n",
    "plt.scatter(expdata[\"X\"], expdata[\"Y\"])\n",
    "plt.xlabel('X') \n",
    "plt.ylabel('Y')\n",
    "plt.show()\n",
    "\n",
    "# Preparing the data. The variable X has been transformed into a panda dataframe, \n",
    "# because sklearn only accepts input variables that are panda DataFrame type.\n",
    "Y2 = expdata[\"Y\"]\n",
    "X2 = pd.DataFrame(expdata[\"X\"])"
   ]
  },
  {
   "cell_type": "code",
   "execution_count": 25,
   "metadata": {},
   "outputs": [
    {
     "data": {
      "text/plain": [
       "0.7599928221156549"
      ]
     },
     "execution_count": 25,
     "metadata": {},
     "output_type": "execute_result"
    }
   ],
   "source": [
    "# Generating algorithm and estimating R squared\n",
    "mod1 = rl.fit(X2,Y2)\n",
    "mod1.score(X2,Y2)"
   ]
  },
  {
   "cell_type": "code",
   "execution_count": 26,
   "metadata": {},
   "outputs": [
    {
     "data": {
      "text/plain": [
       "0.9920798195662328"
      ]
     },
     "execution_count": 26,
     "metadata": {},
     "output_type": "execute_result"
    }
   ],
   "source": [
    "# Applying natural logarithm to Y to linearize the relationship\n",
    "lnY2 = np.log(expdata.Y)\n",
    "mod2 = rl.fit(X2,lnY2)\n",
    "mod2.score(X2,lnY2)"
   ]
  },
  {
   "cell_type": "markdown",
   "metadata": {},
   "source": [
    "Authors: *Saul Calderon, Žiga Emeršič, Angel García, Blaž Meden, Felipe Meza, Martín Solís, Juan Esquivel, Alcides Ramirez, Mauro Mendez, Manuel Zumbado*"
   ]
  },
  {
   "cell_type": "code",
   "execution_count": null,
   "metadata": {},
   "outputs": [],
   "source": []
  }
 ],
 "metadata": {
  "colab": {
   "default_view": {},
   "name": "ejemplo_latex.ipynb",
   "provenance": [],
   "version": "0.3.2",
   "views": {}
  },
  "kernelspec": {
   "display_name": "Python 3",
   "language": "python",
   "name": "python3"
  },
  "language_info": {
   "codemirror_mode": {
    "name": "ipython",
    "version": 3
   },
   "file_extension": ".py",
   "mimetype": "text/x-python",
   "name": "python",
   "nbconvert_exporter": "python",
   "pygments_lexer": "ipython3",
   "version": "3.6.0"
  }
 },
 "nbformat": 4,
 "nbformat_minor": 1
}
