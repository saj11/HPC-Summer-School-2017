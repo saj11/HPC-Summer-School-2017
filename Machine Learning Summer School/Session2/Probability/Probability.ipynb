{
 "cells": [
  {
   "cell_type": "markdown",
   "metadata": {
    "colab_type": "text",
    "id": "NqjrMNJharTF"
   },
   "source": [
    "# EVeMa 2018\n",
    "\n",
    "![logo](assets/logo.jpg \"Logo\")\n",
    "\n",
    "- Instructor: PhD. Martín Solís.\n",
    "\n",
    "- Authors: \n",
    "    - Saúl Calderón, Žiga Emeršič, Ángel García, Blaž Meden, Felipe Meza, Juan Esquivel\n",
    "    - Mauro Méndez, Manuel Zumbado. "
   ]
  },
  {
   "cell_type": "markdown",
   "metadata": {
    "colab_type": "text",
    "id": "ZliWtu1SBQc_"
   },
   "source": [
    "# Probability Distribution and Multiple Linear Regression\n",
    "\n",
    "\n",
    "\n",
    "## Probability Distribution\n",
    "\n",
    "A relation between every event (outcome) of a random variable with their probability of occurrence. There are functions that allow us to estimate the probability distribution of a random variable. Therefore, if we know the variable distribution we can estimate the events' probability of occurrence.\n",
    "\n",
    "### Upload data files and modules\n",
    "\n",
    "#### Modules needed:"
   ]
  },
  {
   "cell_type": "code",
   "execution_count": null,
   "metadata": {
    "colab": {
     "autoexec": {
      "startup": false,
      "wait_interval": 0
     }
    },
    "colab_type": "code",
    "id": "6wgoneJuarTI"
   },
   "outputs": [],
   "source": [
    "import numpy as np\n",
    "import pandas as pd\n",
    "import matplotlib.pyplot as plt "
   ]
  },
  {
   "cell_type": "markdown",
   "metadata": {
    "colab_type": "text",
    "id": "8LQfkDG9arTK"
   },
   "source": [
    "#### Read csv files:"
   ]
  },
  {
   "cell_type": "code",
   "execution_count": null,
   "metadata": {
    "colab": {
     "autoexec": {
      "startup": false,
      "wait_interval": 0
     }
    },
    "colab_type": "code",
    "id": "G1U7YtZ2arTL",
    "outputId": "3a132fdc-7ac4-43a4-b6db-9b0c1e2d5f92"
   },
   "outputs": [],
   "source": [
    "data = pd.read_csv(\"assets/house.csv\") \n",
    "data.describe()"
   ]
  },
  {
   "cell_type": "markdown",
   "metadata": {
    "colab_type": "text",
    "id": "KXDVJaefarTR"
   },
   "source": [
    "## Discrete variable's probability distribution (integer values)\n",
    "\n",
    "There are several discrete probability distributions (e.g., Binomial, Negative Binomial, Geometric, Poisson). However, we will focus on the house's number of years variable (exactyears column) distribution function, for understanding purposes. This variable follows a Poisson distribution, we will cover this topic further, by now we introduce Probability Distribution concept.\n",
    "\n",
    "### Generating a probability distribution"
   ]
  },
  {
   "cell_type": "code",
   "execution_count": null,
   "metadata": {
    "colab": {
     "autoexec": {
      "startup": false,
      "wait_interval": 0
     }
    },
    "colab_type": "code",
    "id": "DvrZvel4arTS",
    "outputId": "2f06fe9e-304a-4892-a255-25da6b5fdfa6"
   },
   "outputs": [],
   "source": [
    "# Absolute frequency distribution of house's number of years \n",
    "tabyear = pd.crosstab(index=data[\"exactyears\"],columns=\"count\") \n",
    "print(tabyear)\n",
    "\n",
    "print(\"\\n\")\n",
    "\n",
    "# Probability distribution (relative frequency distribution) \n",
    "tabyear2=tabyear/tabyear.sum()\n",
    "print(tabyear2)\n",
    "\n",
    "\n",
    "# Probability distribution chart with histogram (relative frequency distribution)  \n",
    "plt.hist(data.exactyears, bins=12,normed=1, facecolor='green', edgecolor='none')\n",
    "plt.xlabel('Years') \n",
    "plt.ylabel('Probability') \n",
    "plt.title('Number of years histogram') \n",
    "plt.axis([0, 12, 0, 0.3]) \n",
    "plt.grid(True) \n",
    "plt.show()\n",
    "\n",
    "# Cumulative distribution chart with Ojiva\n",
    "plt.hist(data.exactyears, cumulative=True, bins=12, normed=1, color='steelblue', edgecolor='none') \n",
    "plt.xlabel('Years') \n",
    "plt.ylabel('Probability') \n",
    "plt.title('Years cumulative distribution (density)') \n",
    "plt.axis([0, 12, 0, 1]) \n",
    "plt.grid(True) \n",
    "plt.show()"
   ]
  },
  {
   "cell_type": "markdown",
   "metadata": {
    "colab_type": "text",
    "id": "_7czX_y6arTV"
   },
   "source": [
    "### Function for a Poisson Distribution Probability\n",
    "\n",
    "The house's number of years variable follows the Poisson distribution with mean = 3. With Poisson function can be applied behavior simulations of the variable and estimate the occurrence probability of a single event (single value occurrence, e.g. $P(x=3)$) or compound event (set of events occurrence, e.g. $P(x>3)$). The Poisson distribution function is as follows:\n",
    "\n",
    "$$P(X/\\lambda)\\text{=}\\frac{e^{-\\lambda}\\lambda^{x}}{x!}, $$ \n",
    "\n",
    "where\n",
    "\n",
    "$X = \\text{number of event occurrence.}$\n",
    "\n",
    "$\\lambda = \\text{occurrences average.}$\n",
    "\n",
    "\n",
    "#### Simulating Poisson probability distribution with mean = 3."
   ]
  },
  {
   "cell_type": "code",
   "execution_count": null,
   "metadata": {
    "colab": {
     "autoexec": {
      "startup": false,
      "wait_interval": 0
     }
    },
    "colab_type": "code",
    "id": "eBdE3mo8arTW",
    "outputId": "51347d66-ac3d-421b-c81f-ee6b2695e430"
   },
   "outputs": [],
   "source": [
    "# Importing module for distribution simulations \n",
    "from scipy.stats import poisson \n",
    "\n",
    "# Generating a 10 000 values simulation \n",
    "data_poisson = poisson.rvs(mu=3, size=10000) \n",
    "\n",
    "# Simulated variable chart \n",
    "plt.hist(data_poisson, bins=12, normed=1, facecolor='green', edgecolor='none') \n",
    "plt.xlabel('Years') \n",
    "plt.ylabel('Probability') \n",
    "plt.title('Number of years histogram') \n",
    "plt.axis([0, 12,0,0.3]) \n",
    "plt.grid(True) \n",
    "plt.show() \n",
    "\n",
    "\n",
    "\n"
   ]
  },
  {
   "cell_type": "markdown",
   "metadata": {
    "colab_type": "text",
    "id": "HIjWOqlxarTa"
   },
   "source": [
    "#### Estimating occurrence probability of a single event and Poisson cumulate distribution with mean = 3"
   ]
  },
  {
   "cell_type": "code",
   "execution_count": null,
   "metadata": {
    "colab": {
     "autoexec": {
      "startup": false,
      "wait_interval": 0
     }
    },
    "colab_type": "code",
    "id": "PiCfAHsfarTb",
    "outputId": "7c077e0a-3e20-46f7-ff3e-7c69a85d04a0"
   },
   "outputs": [],
   "source": [
    "# Estimating single probability P(X=1) \n",
    "print(poisson.pmf(1, 3))\n",
    "\n",
    "# Estimating cumulate probability P(X<=1 )\n",
    "poisson.cdf(1, 3)"
   ]
  },
  {
   "cell_type": "markdown",
   "metadata": {
    "colab_type": "text",
    "id": "Ddxso8BzarTe"
   },
   "source": [
    "## Continuos variable's probability distribution (floating point)\n",
    "\n",
    "As discrete variables, there are several continuos distributions (e.g., Gama, Beta, Cauchy, Weibull). However, we will focus on Normal or Gaussian distribution. In the Normal, the data is distributed in an inverted bell shape, which implies that it is symmetric with respect to the mean, that is, half of the data are below the average and the other half are above. The area under the curve (bell) is equal to 1. To understand the normal distribution we will graph the price variable that is distributed in this way. The function of a normal distribution is as follows:\n",
    "        \n",
    "$$f(x)\\frac{1}{\\sigma\\sqrt{2\\pi}}e^{\\frac{-1}{2}\\left(\\frac{x-\\mu}{\\sigma}\\right)^{2}}, $$\n",
    "\n",
    "where\n",
    "\n",
    "$$e=2.7183$$\n",
    "\n",
    "$$\\pi=3.1416$$\n",
    "\n",
    "$$\\mu= \\text{mean}$$\n",
    "\n",
    "$$\\sigma= \\text{standard deviation}$$\n",
    "\n",
    "$$x= \\text{random variable}$$"
   ]
  },
  {
   "cell_type": "code",
   "execution_count": null,
   "metadata": {
    "colab": {
     "autoexec": {
      "startup": false,
      "wait_interval": 0
     }
    },
    "colab_type": "code",
    "id": "8R3d_hKiarTe",
    "outputId": "a6eec56c-70d3-4bbe-9e9f-8b104fa4b388"
   },
   "outputs": [],
   "source": [
    "# Normal variable histogram chart (price)\n",
    "plt.hist(data.price, bins=12, facecolor='green', edgecolor='none') \n",
    "plt.xlabel('Price') \n",
    "plt.ylabel('Probability') \n",
    "plt.title('Price histogram') \n",
    "plt.grid(True) \n",
    "plt.show()"
   ]
  },
  {
   "cell_type": "markdown",
   "metadata": {
    "colab_type": "text",
    "id": "PXQiDNgrarTi"
   },
   "source": [
    "#### Simulating Normal probability distribution, mean = 20 and deviation = 10"
   ]
  },
  {
   "cell_type": "code",
   "execution_count": null,
   "metadata": {
    "colab": {
     "autoexec": {
      "startup": false,
      "wait_interval": 0
     }
    },
    "colab_type": "code",
    "id": "szLHaiCLarTi",
    "outputId": "5e09c9c9-1b18-44f0-c1d9-acb9cffa7757"
   },
   "outputs": [],
   "source": [
    "# Importing module for distribution simulations \n",
    "from scipy.stats import norm \n",
    "\n",
    "data_normal = norm.rvs(size=10000,loc=20,scale=10)\n",
    "data_normal"
   ]
  },
  {
   "cell_type": "markdown",
   "metadata": {
    "colab_type": "text",
    "id": "Xpop5IlbarTn"
   },
   "source": [
    "#### Estimating Normal probability of occurrence, for instance $P(X<12)$, $X$ follows Normal distribution (mean = 20, deviation = 10)"
   ]
  },
  {
   "cell_type": "code",
   "execution_count": null,
   "metadata": {
    "colab": {
     "autoexec": {
      "startup": false,
      "wait_interval": 0
     }
    },
    "colab_type": "code",
    "id": "fiDZHXF8arTo",
    "outputId": "a080b3ea-455d-48cd-f3e7-9b2b1217669f"
   },
   "outputs": [],
   "source": [
    "prob = norm.cdf(12, loc=20, scale=10)\n",
    "prob"
   ]
  },
  {
   "cell_type": "markdown",
   "metadata": {
    "colab_type": "text",
    "id": "bg7KwsnMarTr"
   },
   "source": [
    "## Conditional probability and conditional probability distribution\n",
    "\n",
    "Given the variables X and Y, we can obtain the probability distribution of Y for a given value of X or for each of the values assumed by X. Each of these distributions is a conditional probability distribution. Let's see an example:"
   ]
  },
  {
   "cell_type": "code",
   "execution_count": null,
   "metadata": {
    "colab": {
     "autoexec": {
      "startup": false,
      "wait_interval": 0
     }
    },
    "colab_type": "code",
    "id": "9Rb_q4D0arTs",
    "outputId": "ffb961a9-22d8-497a-8982-97fafb05ab05"
   },
   "outputs": [],
   "source": [
    "# Two-way frequency table with absolute data (contingency table)\n",
    "table = pd.crosstab(index=data[\"exactyears\"], columns=data[\"room\"],margins=True,normalize=False) \n",
    "print(\"Table 1:\")\n",
    "print(table)\n",
    "\n",
    "# Conditional probability distribution of the years given the number of rooms (contingency table, with percentages per column) \n",
    "table2 = pd.crosstab(index=data[\"exactyears\"], columns=data[\"room\"],margins=True,normalize=\"columns\") \n",
    "print(\"\\nTable 2:\")\n",
    "print(table2)\n",
    "\n",
    "# Conditional probability distribution of the number of rooms given the years (contingency table, with percentages per row)\n",
    "table3 = pd.crosstab(index=data[\"exactyears\"],columns=data[\"room\"],margins=True,normalize=\"index\")\n",
    "print(\"\\nTable 3:\")\n",
    "print(table3)"
   ]
  },
  {
   "cell_type": "markdown",
   "metadata": {
    "colab_type": "text",
    "id": "zS3pt6gwarTw"
   },
   "source": [
    "## Independence / dependence between variables\n",
    "\n",
    "Two random variables $X$, $Y$ are independent if the conditional distribution of $Y$ given $X$ is equal to the probability distribution of $Y$, for all values assumed by $X$. \n",
    "\n",
    "$$P (Y = y | X = x) = P (Y = y )$$\n",
    "\n",
    ". This topic will serve to explore relations between variables, before applying pattern recognition algorithms, let's see examples:\n",
    "\n",
    "### Independence between qualitative or discrete variables with few categories"
   ]
  },
  {
   "cell_type": "code",
   "execution_count": null,
   "metadata": {
    "colab": {
     "autoexec": {
      "startup": false,
      "wait_interval": 0
     }
    },
    "colab_type": "code",
    "id": "Mj4wKyQharTy",
    "outputId": "8f5c3e65-3748-4a02-bbf0-3173f3952518"
   },
   "outputs": [],
   "source": [
    "# Distribution of years, given the number of rooms -case independence-\n",
    "table4 = pd.crosstab(index=data[\"exactyears\"], columns=data[\"room\"],margins=True,normalize=\"columns\") \n",
    "print(\"Table 4:\")\n",
    "print(table4) \n",
    "\n",
    "# Distribution of the rooms, given the region -dependence case-\n",
    "table5 = pd.crosstab(index=data[\"room\"], columns=data[\"region\"],margins=True,normalize=\"columns\") \n",
    "print(\"\\nTable 5:\")\n",
    "print(table5)"
   ]
  },
  {
   "cell_type": "markdown",
   "metadata": {
    "colab_type": "text",
    "id": "ZrZPnuRdarT0"
   },
   "source": [
    "### Independence between discrete quantitative or continuous quantitative variables with several categories\n",
    "\n",
    "One way to analyze the relationship between two continuous variables is to create a scatter plot. In this way, it is possible to determine if there is a pattern of dependence or association between variables. It is also very common to determine the covariance/correlation between variables, although this only indicates if there is a linear relationship between them.\n",
    "\n",
    "#### Dispersion chart"
   ]
  },
  {
   "cell_type": "code",
   "execution_count": null,
   "metadata": {
    "colab": {
     "autoexec": {
      "startup": false,
      "wait_interval": 0
     }
    },
    "colab_type": "code",
    "id": "ah8z5_bdarT1",
    "outputId": "8df6425b-cb96-4283-d952-4bd42f4ca50c"
   },
   "outputs": [],
   "source": [
    "# Price vrs meters dispersion chart\n",
    "plt.scatter(data[\"meters\"], data[\"price\"]) \n",
    "plt.xlabel('Meters')  \n",
    "plt.ylabel('Price')\n",
    "plt.title('Price vrs meters dispersion') \n",
    "plt.show()\n",
    "\n",
    "# Price vrs years dispersion graph \n",
    "plt.scatter(data[\"exactyears\"], data[\"price\"]) \n",
    "plt.xlabel('Years')  \n",
    "plt.ylabel('Price')\n",
    "plt.title('Price vrs years dispersion') \n",
    "plt.show()\n",
    "\n",
    "# Dispersion graph between all the variables \n",
    "import seaborn as sns   \n",
    "sns.pairplot(data, hue='region')"
   ]
  },
  {
   "cell_type": "markdown",
   "metadata": {
    "colab_type": "text",
    "id": "vAMW7TknarT4"
   },
   "source": [
    "#### Covariance\n",
    "Measure the strength of the linear relationship between two variables.\n",
    "\n",
    "If $σxy> 0$ the correlation is direct.\n",
    "If $σxy <0$ the correlation is inverse.\n",
    "The higher the value, the higher the ratio.\n",
    "\n",
    "The formula is:\n",
    "\n",
    "$$\\sigma_{xy}=\\frac{\\sum f_{i}\\left(x_{i}-\\overline{x}\\right)\\left(y_{i}-\\overline{y}\\right)}{N}$$"
   ]
  },
  {
   "cell_type": "code",
   "execution_count": null,
   "metadata": {
    "colab": {
     "autoexec": {
      "startup": false,
      "wait_interval": 0
     }
    },
    "colab_type": "code",
    "id": "QbxYgmx_arT5",
    "outputId": "f550b2ef-d9f2-4ed5-b265-ed71a195835f"
   },
   "outputs": [],
   "source": [
    "# Covariance\n",
    "np.cov(data['meters'], data['price'])"
   ]
  },
  {
   "cell_type": "markdown",
   "metadata": {
    "colab_type": "text",
    "id": "1xFEL1EoarT8"
   },
   "source": [
    "#### Correlation\n",
    "\n",
    "It measures the strength of the linear relationship between two variables, in a range between $-1$ and $1$. The closer to $1$ or $-1$ the greater the linear association, and the closer to $0$ the smaller the association. The formula is:\n",
    "\n",
    "$$r_{xy}=\\frac{\\sum x_{i}y_{i}-n\\overline{x}\\overline{y}}{n\\sigma_{x}\\sigma_{y}}$$"
   ]
  },
  {
   "cell_type": "code",
   "execution_count": null,
   "metadata": {
    "colab": {
     "autoexec": {
      "startup": false,
      "wait_interval": 0
     }
    },
    "colab_type": "code",
    "id": "lj4phmesarT-",
    "outputId": "fa92475a-2e60-434d-aaa0-6c6b7d278921"
   },
   "outputs": [],
   "source": [
    "# Correlation\n",
    "print(\"Meters and Price\\n\", np.corrcoef(data['meters'], data['price']))\n",
    "print(\"\\nYears and Price\\n\",np.corrcoef(data['exactyears'], data['price']))"
   ]
  },
  {
   "cell_type": "markdown",
   "metadata": {
    "colab_type": "text",
    "id": "HMOuDxL7arUB"
   },
   "source": [
    "### Independence between quantitative and qualitative variable"
   ]
  },
  {
   "cell_type": "code",
   "execution_count": null,
   "metadata": {
    "colab": {
     "autoexec": {
      "startup": false,
      "wait_interval": 0
     }
    },
    "colab_type": "code",
    "id": "vcv_b3xQarUB",
    "outputId": "56853241-142d-41ef-a656-6d5958e0726a"
   },
   "outputs": [],
   "source": [
    "# Average price by region\n",
    "print(data.groupby('region')['price'].mean())\n",
    "\n",
    "# Median price by region\n",
    "print(\"\\n\",data.groupby('region')['price'].median())\n",
    "\n",
    "# Average price per region and room\n",
    "data.groupby(['region', 'room'])['price'].mean() "
   ]
  },
  {
   "cell_type": "markdown",
   "metadata": {
    "colab_type": "text",
    "id": "yRKXIMXFarUE"
   },
   "source": [
    "# Multiple linear regression\n",
    "\n",
    "A mathematical algorithm that allows evaluating the effect of a variable or a set of variables on a quantitative variable. Indicates the strength of the linear relationship between a quantitative or qualitative variable over a quantitative variable. It is used as an algorithm to make predictions."
   ]
  },
  {
   "cell_type": "code",
   "execution_count": null,
   "metadata": {
    "colab": {
     "autoexec": {
      "startup": false,
      "wait_interval": 0
     }
    },
    "colab_type": "code",
    "id": "qH0sPoUBarUE",
    "outputId": "9ac1b501-2162-437e-f6d7-9c20290c2c6b"
   },
   "outputs": [],
   "source": [
    "# Upload data file \n",
    "car = pd.read_csv(\"assets/car2.csv\") \n",
    "car.describe()"
   ]
  },
  {
   "cell_type": "markdown",
   "metadata": {
    "colab_type": "text",
    "id": "uDElA0t-arUI"
   },
   "source": [
    "Suppose that with this data you want to use a multiple linear regression model to predict the price of a vehicle based on the mileage traveled, the number of extras, and the transmission (1 = Automatic, 0 = Manual) that the vehicle has. In this way the regression model would be represented by the following equation:\n",
    "\n",
    "$$Price = b_{0} + b_{1} km + b_{2} extras + b_{3}trans + e$$\n",
    "\n",
    "* $b_{0} = \\text{Constant, value assumed by Y when the Xs are zero}$\n",
    "\n",
    "* $b_{1} = \\text{Coefficient or weight of mileage, indicates the relationship between mileage and price}$\n",
    "\n",
    "* $b_{2} = \\text{Coefficient or extra weight, indicates the relationship between extras and price}$\n",
    "\n",
    "* $b_{3} = \\text{Coefficient or transmission weight, indicates the relationship between transmission and price}$\n",
    "\n",
    "* $e = \\text{Residue. Quantity not explained by independent or explanatory variables}$\n",
    "\n",
    "## Algorithm estimation"
   ]
  },
  {
   "cell_type": "code",
   "execution_count": null,
   "metadata": {
    "colab": {
     "autoexec": {
      "startup": false,
      "wait_interval": 0
     }
    },
    "colab_type": "code",
    "id": "nc5o-iQBarUJ",
    "outputId": "522a9910-0781-4daf-8570-bd2c0f17b93d"
   },
   "outputs": [],
   "source": [
    "# Selecting dependent variable (prediction) and independent (explanatory)\n",
    "y = car[\"precio\"] \n",
    "x = car[[\"km\",\"extras\",\"trans\"]] \n",
    "\n",
    "# Uploading module  \n",
    "from sklearn import datasets, linear_model \n",
    "\n",
    "# Creating object of linear regression\n",
    "rl = linear_model.LinearRegression() \n",
    "\n",
    "# Estimating algorithm (equation of the line)\n",
    "rl.fit(x,y) \n",
    "\n",
    "# Printing constant and coefficients\n",
    "print(rl.coef_)\n",
    "print(rl.intercept_)"
   ]
  },
  {
   "cell_type": "markdown",
   "metadata": {
    "colab_type": "text",
    "id": "k9Y0Rn-SarUM"
   },
   "source": [
    "## Interpretación del algoritmo\n",
    "\n",
    "Given the above results, the equation of the line would be:\n",
    "\n",
    "$$Price = 6553298-9.37km + 101203 extras - 520863 trans$$\n",
    "\n",
    "The coefficients are interpreted as follows\n",
    "\n",
    "1. By increasing the number of kilometers traveled by one unit, the price decreases by $9.37$, keeping the other variables of the model constant.\n",
    "\n",
    "2. By increasing the number of extras by one unit, the price increases by $101203$ colones, keeping the other variables of the model constant.\n",
    "\n",
    "3. By increasing the transmission variable by one unit, that is, passing from Manual to Automatic transmission, the price decreases by $520863$ colones, keeping the other variables of the model constant.\n",
    "\n",
    "\n",
    "\n",
    "> Note 1. The coefficients may vary if other variables are added to the model. They would change if the new variable is significantly related to the independent variable and the dependent variable. This happens because the model allows analyzing the effect of each variable contained in the model, keeping the others constant\n",
    "\n",
    "\n",
    "\n",
    "> Note 2. If you want to add a qualitative variable with $n$ categories, dichotomized variables (variables with two categories) must be decomposed into $n-1$. For example: type of vehicle (Toyota, Nissan, Hyundai), should be broken down into two variables that would have only two categories:\n",
    "\n",
    "> Variable1. 1 = Toyota, 0 = Other\n",
    "\n",
    "> Variable2. 1 = Nissan, 0 = Other\n",
    "\n",
    "> In this way, the coefficient of variable 1 would be reflecting how much Toyota's price increases with respect to Hyundai. On the other hand, variable 2 would be reflecting how much the price of Nissan increases with respect to Hyundai.\n",
    "\n",
    "## Prediction with the algorithm\n"
   ]
  },
  {
   "cell_type": "code",
   "execution_count": null,
   "metadata": {
    "colab": {
     "autoexec": {
      "startup": false,
      "wait_interval": 0
     }
    },
    "colab_type": "code",
    "id": "4Jrz-0r4arUM",
    "outputId": "31b6a412-8993-4552-b0f9-25cdcbd01661"
   },
   "outputs": [],
   "source": [
    "# Prediction of values from 0 to 5\n",
    "pred = rl.predict(x)[0: 5]\n",
    "\n",
    "# Comparing prediction with real values\n",
    "ypred = pd.DataFrame(pred)\n",
    "print(y[0: 5])\n",
    "print(ypred)"
   ]
  },
  {
   "cell_type": "markdown",
   "metadata": {
    "colab_type": "text",
    "id": "SHxPIMmearUR"
   },
   "source": [
    "### Coefficient of determination\n",
    "\n",
    "This coefficient reflects how much Price variability is explained by the three variables added to the model\n",
    "\n",
    "$$R^{2}=\\frac{\\sum\\hat{Y_{i}}-\\bar{Y}}{\\sum Y_{i}-\\overline{Y}}$$"
   ]
  },
  {
   "cell_type": "code",
   "execution_count": null,
   "metadata": {
    "colab": {
     "autoexec": {
      "startup": false,
      "wait_interval": 0
     }
    },
    "colab_type": "code",
    "id": "ApwCu4xCarUR",
    "outputId": "1c19c3e5-2cd9-4850-e8fa-825d47bdfacb"
   },
   "outputs": [],
   "source": [
    "rl.score(x, y)"
   ]
  },
  {
   "cell_type": "markdown",
   "metadata": {
    "colab_type": "text",
    "id": "WT_4_IKnarUU"
   },
   "source": [
    "### Practice: \n",
    "\n",
    "Add the vehicle model to the equation and observe how much the coefficient of determination changes. Also observe if the coefficients change."
   ]
  },
  {
   "cell_type": "markdown",
   "metadata": {
    "colab_type": "text",
    "id": "zWKPjw4DarUW"
   },
   "source": [
    "## Algorithm testing\n",
    "\n",
    "The evaluation of the predictive capacity of the model should not be performed on the same data with which the model was built. The sample must be divided into two parts, one for training and the other for testing. Let's see:\n",
    "\n",
    "### Preparation and training"
   ]
  },
  {
   "cell_type": "code",
   "execution_count": null,
   "metadata": {
    "colab": {
     "autoexec": {
      "startup": false,
      "wait_interval": 0
     }
    },
    "colab_type": "code",
    "id": "DKkopSVGarUW",
    "outputId": "447d5dba-009d-4de4-e470-8e3612670a24"
   },
   "outputs": [],
   "source": [
    "# Uploading modules\n",
    "from sklearn import cross_validation \n",
    "\n",
    "# Dividing the sample into two parts, one training and one testing\n",
    "xtrain, xtest, ytrain, ytest = cross_validation.train_test_split(x,y,test_size=0.30)\n",
    "print(\"Training:\\n\")\n",
    "print(xtrain,\"\\n\", ytrain) \n",
    "print(\"\\nTesting:\\n\")\n",
    "print(xtest,\"\\n\", ytest)\n",
    "\n",
    "# Training the model\n",
    "model = rl.fit(xtrain, ytrain)\n",
    "\n",
    "# Generating the prediction with the test data\n",
    "pred = rl.predict(xtest) "
   ]
  },
  {
   "cell_type": "markdown",
   "metadata": {
    "colab_type": "text",
    "id": "7vzxA9e9arUZ"
   },
   "source": [
    "### Evaluating the algorithm"
   ]
  },
  {
   "cell_type": "code",
   "execution_count": null,
   "metadata": {
    "colab": {
     "autoexec": {
      "startup": false,
      "wait_interval": 0
     }
    },
    "colab_type": "code",
    "id": "_8YrYusTarUa",
    "outputId": "6b8e2dd1-3a3b-4dd4-e0d6-4e2c5f80d6a4"
   },
   "outputs": [],
   "source": [
    "# Uploading modules\n",
    "from sklearn.metrics import mean_squared_error, r2_score \n",
    "\n",
    "# To generate R squared  \n",
    "print('Variance score: %.2f' % r2_score(ytest, pred)) "
   ]
  },
  {
   "cell_type": "markdown",
   "metadata": {
    "colab_type": "text",
    "id": "cZ7jNO23arUd"
   },
   "source": [
    "#### To generate mean square error\n",
    "\n",
    "$$RMSE=\\frac{\\sum\\left(Y_{i}-\\hat{Y}\\right)^{2}}{n}$$"
   ]
  },
  {
   "cell_type": "code",
   "execution_count": null,
   "metadata": {
    "colab": {
     "autoexec": {
      "startup": false,
      "wait_interval": 0
     }
    },
    "colab_type": "code",
    "id": "LRmL4wQVarUd",
    "outputId": "92a158ee-ed60-4a1d-cd45-39ea99e3e71c"
   },
   "outputs": [],
   "source": [
    "print(\"Mean squared error: %.2f\" % mean_squared_error(ytest, pred))"
   ]
  },
  {
   "cell_type": "markdown",
   "metadata": {
    "colab_type": "text",
    "id": "ycmWnD--arUh"
   },
   "source": [
    "## Modeling an exponential relationship\n",
    "\n",
    "Linear regression adequately models the linear relationship between variables. If the relationship of X with Y is exponential, the relationship can be linearized by applying natural logarithm to Y, in this way the algorithm would achieve a better predictive performance. Let's see an example:"
   ]
  },
  {
   "cell_type": "code",
   "execution_count": null,
   "metadata": {
    "colab": {
     "autoexec": {
      "startup": false,
      "wait_interval": 0
     }
    },
    "colab_type": "code",
    "id": "mTv7Xu3JarUh",
    "outputId": "b28a5f89-bc35-44e6-aa80-58ab8e71770d"
   },
   "outputs": [],
   "source": [
    "# Uploading data file \n",
    "expdata = pd.read_csv(\"assets/exp.csv\")\n",
    "expdata.describe()"
   ]
  },
  {
   "cell_type": "code",
   "execution_count": null,
   "metadata": {
    "colab": {
     "autoexec": {
      "startup": false,
      "wait_interval": 0
     }
    },
    "colab_type": "code",
    "id": "a2mpXJLNarUm",
    "outputId": "80d7addc-6594-4de7-b389-eca9e9eecb9c"
   },
   "outputs": [],
   "source": [
    "# Relation chart between X and Y \n",
    "plt.scatter(expdata[\"X\"], expdata[\"Y\"])\n",
    "plt.xlabel('X') \n",
    "plt.ylabel('Y')\n",
    "plt.show()\n",
    "\n",
    "# Preparing the data. The variable X has been transformed into a panda dataframe, \n",
    "# because sklearn only accepts input variables that are panda DataFrame type.\n",
    "Y2 = expdata[\"Y\"]\n",
    "X2 = pd.DataFrame(expdata[\"X\"])"
   ]
  },
  {
   "cell_type": "code",
   "execution_count": null,
   "metadata": {
    "colab": {
     "autoexec": {
      "startup": false,
      "wait_interval": 0
     }
    },
    "colab_type": "code",
    "id": "2zN-4ydDarUr",
    "outputId": "cc7e8049-3db1-4485-92d4-d7b33fbfd71c"
   },
   "outputs": [],
   "source": [
    "# Generating algorithm and estimating R squared\n",
    "mod1 = rl.fit(X2,Y2)\n",
    "mod1.score(X2,Y2)"
   ]
  },
  {
   "cell_type": "code",
   "execution_count": null,
   "metadata": {
    "colab": {
     "autoexec": {
      "startup": false,
      "wait_interval": 0
     }
    },
    "colab_type": "code",
    "id": "6O1EtTRsarUw",
    "outputId": "8f58901d-0545-4637-b525-2d6deecaab9f"
   },
   "outputs": [],
   "source": [
    "# Applying natural logarithm to Y to linearize the relationship\n",
    "lnY2 = np.log(expdata.Y)\n",
    "mod2 = rl.fit(X2,lnY2)\n",
    "mod2.score(X2,lnY2)"
   ]
  },
  {
   "cell_type": "markdown",
   "metadata": {
    "colab_type": "text",
    "id": "OczvuG09arUz"
   },
   "source": [
    "Authors: *Saul Calderon, Angel García, Blaz Meden, Felipe Meza, Juan Esquivel, Martín Solís, Ziga Emersic, Mauro Mendez, Manuel Zumbado*"
   ]
  }
 ],
 "metadata": {
  "colab": {
   "default_view": {},
   "name": "Probability.ipynb",
   "provenance": [],
   "version": "0.3.2",
   "views": {}
  },
  "kernelspec": {
   "display_name": "Python 3",
   "language": "python",
   "name": "python3"
  },
  "language_info": {
   "codemirror_mode": {
    "name": "ipython",
    "version": 3
   },
   "file_extension": ".py",
   "mimetype": "text/x-python",
   "name": "python",
   "nbconvert_exporter": "python",
   "pygments_lexer": "ipython3",
   "version": "3.6.0"
  }
 },
 "nbformat": 4,
 "nbformat_minor": 1
}
