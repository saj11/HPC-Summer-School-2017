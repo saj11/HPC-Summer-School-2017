{
 "cells": [
  {
   "cell_type": "markdown",
   "metadata": {},
   "source": [
    "# EVeMa 2018\n",
    "\n",
    "![title](imgs/logo.jpg)\n",
    "\n",
    "-Instructor: M.Sc. Saúl Calderón.\n",
    "\n",
    "- Authors: \n",
    "    - Saúl Calderón, Žiga Emeršič, Ángel García, Blaž Meden, Felipe Meza, Martín Solís, Juan Esquivel\n",
    "    - Mauro Méndez, Manuel Zumbado, Arnoldo Ramírez. "
   ]
  },
  {
   "cell_type": "markdown",
   "metadata": {},
   "source": [
    "# Curve fitting"
   ]
  },
  {
   "cell_type": "markdown",
   "metadata": {},
   "source": [
    "The problem of curve adjustment refers to the construction of a model that allows predicting the behavior of a phenomenon to be studied. This phenomenon can be characterized by a series of values at its entrance, with which it is possible to measure its behavior at the \"exit\" of the phenomenon.\n",
    "\n",
    "![ajuste](imgs/ajusteCurvas.png)\n",
    "\n",
    "Suppose then that $x$ constitutes the continuous series of values at the entrance of the phenomenon, whereby $y'$ defined by \n",
    "$$\n",
    "y'=\\sin(2\\pi x) \\enspace ,\n",
    "\\label{eq:funcSinRuido}\n",
    "\\tag{1}\n",
    "$$\n",
    "is continuous."
   ]
  },
  {
   "cell_type": "markdown",
   "metadata": {},
   "source": [
    "The function $y'$ corresponds to the function that characterizes the data of the phenomenon to be studied (without noise).\n",
    "\n",
    "If we have a finite arrangement of $N$ observations $\\vec{x}=\\left[x_{1},...,.x_{N}\\right]^{T}$ of the input to the phenomenon under study, the set of observations of the output sampled values of the functional under study is given by: $\\vec{t}=\\left[t_{1},...,.t_{N}\\right]^{T}$.\n",
    "\n",
    "Note that we will use the notation  $\\vec{x},\\vec{t}\\in\\mathbb{R}^{N}$  to denote a set of ordered elements, and we will not use the vector notation, since the concepts of address and magnitude are not necessary for such data. The outputs sampled in this case present **artificial Gaussian noise** $\\epsilon(x)$, with $\\mu=0$ and a standard deviation $\\sigma$ (and precision $\\beta=1/\\sigma$) on $y'$:\n",
    "\n",
    "$$\n",
    "t=\\sin\\left(2\\pi x\\right)+\\epsilon(x) \\enspace .\n",
    "\\label{eq:funcConRuido}\n",
    "\\tag{2}\n",
    "$$"
   ]
  },
  {
   "cell_type": "markdown",
   "metadata": {},
   "source": [
    "\n",
    "The objective of curve fitting is to find a model that fits the set of observations $\\mathcal{D}=\\left\\{ \\vec{x},\\vec{t}\\right\\}$, and that allows the prediction of the output $t$ for a new sample $x$.\n",
    "\n",
    "In this case we will study a model with linear weights with respect to the vector of weights or parameters of the model $\\vec{w}$ with polynomial base functions, of the form:\n",
    "\n",
    "$$\n",
    "y(x,\\vec{w})=w_{0}+w_{1}x+w_{2}x^{2}+\\ldots+w_{M}x^{M}=\\sum_{j=0}^{M}w_{j}x^{j} \\enspace ,\n",
    "\\label{eq:modeloPoli}\n",
    "\\tag{3}\n",
    "$$\n",
    "\n",
    "so $\\vec{w}\\in\\mathbb{R}^{M+1}$, defining $M + 1$ the dimensionality of the model, and constituting the number of unknown parameters to be estimated."
   ]
  },
  {
   "cell_type": "markdown",
   "metadata": {},
   "source": [
    "In general, if other base functions other than $\\phi_{j}(x)=x^{j}$ are used, the expression of the model is given by:\n",
    "\n",
    "$$\n",
    "y(x,\\vec{w})=\\sum_{j=0}^{M}w_{j}\\phi_{j}(x) \\enspace ,\n",
    "\\label{eq:ModeloGeneral}\n",
    "\\tag{4}\n",
    "$$ \n",
    "\n",
    "$$\n",
    "\\Rightarrow y(x,\\vec{w})=\\vec{w}\\cdot\\vec{\\phi}(x) \\enspace ,\n",
    "\\label{eq:ModeloGeneral-1}\n",
    "\\tag{5}\n",
    "$$\n",
    "\n",
    "where the set of functionals $\\{\\phi_{1}(x),\\phi_{2}(x),\\ldots,\\phi_{M}(x)\\}$ is called base set, or set of base functions."
   ]
  },
  {
   "cell_type": "markdown",
   "metadata": {},
   "source": [
    "In linear models, the order is given by the number of terms in the linear combination $M$, which defines the complexity of the model. Once the model to be implemented has been defined (linear or non-linear, set of base functions), the general problem of model adjustment to the set of observations $\\mathcal{D}=\\left\\{ \\vec{x},\\vec{t}\\right\\}$ is reduced to determining the value of the weights $\\vec{w}$. A straightforward approach to calculate the values of $\\vec{w}$  is optimal least squares, which proposes the expression of the error function as follows:\n",
    "\n",
    "$$\n",
    "\\label{eq:Error}\n",
    "\\tag{6}\n",
    "E(\\vec{w})=\\frac{1}{2}\\sum_{n=0}^{N}\\left\\{ y\\left(x_{n},\\vec{w}\\right)-t_{n}\\right\\} ^{2}=\\frac{1}{2}\\sum_{n=1}^{N}\\left\\{ \\sum_{j=0}^{M}w_{j}x_{n}^{j}-t_{n}\\right\\} ^{2}\n",
    "$$\n",
    "\n",
    "For this the equation \\ref{eq:Error} is derived partially with respect to $w_ {i}$ and equaled to zero:\n",
    "\n",
    "$$\n",
    "\\frac{\\partial E\\left(\\vec{w}\\right)}{w_{i}}=\\sum_{n=1}^{N}\\left\\{ \\sum_{j=0}^{M}w_{j}x_{n}^{j}-t_{n}\\right\\} x_{n}^{i}=0\n",
    "\\label{eq:error2}\n",
    "\\tag{7}\n",
    "$$\n"
   ]
  },
  {
   "cell_type": "markdown",
   "metadata": {},
   "source": [
    "Clearing then the previous equation \\ref{eq:error2}, we obtain a set of $M + 1$ equations $(i = 0,1,2,3, \\ ldots, M)$x where the values $w_ {j}$ are unknown, so that for an equation $i$ we have:\n",
    "\n",
    "$$\n",
    "\\sum_{n=1}^{N}\\sum_{j=0}^{M}w_{j}x_{n}^{j+i}=\\sum_{n=0}^{N}t_{n}x_{n}^{i}\\enspace ,\n",
    "\\label{eq:DerError}\n",
    "\\tag{8}\n",
    "$$\n",
    "\n",
    "and changing the order to the summations we get:\n",
    "\n",
    "$$\n",
    "\\sum_{j=0}^{M}\\sum_{n=1}^{N}w_{j}x_{n}^{j+i}=\\sum_{n=0}^{N}t_{n}x_{n}^{i}\n",
    "\\label{eq:error3}\n",
    "\\tag{9}\n",
    "$$\n",
    "\n",
    "Developing the previous matrix system in \\ref{eq:error3}, we obtain the following expression:\n",
    "\n",
    "$$\n",
    "\\begin{array}[t]{c}\n",
    "\\left(i=0\\right)\\qquad w_{0}\\sum_{n=1}^{N}1+w_{1}\\sum_{n=1}^{N}x_{n}+w_{2}\\sum_{n=1}^{N}x_{n}^{2}+\\ldots+w_{M}\\sum_{n=1}^{N}x_{n}^{M}=\\sum_{n=1}^{N}t_{n}\\\\\n",
    "\\left(i=1\\right)\\qquad w_{0}\\sum_{n=1}^{N}x_{n}+w_{1}\\sum_{n=1}^{N}x_{n}^{2}+w_{2}\\sum_{n=1}^{N}x_{n}^{3}+\\ldots+w_{M}\\sum_{n=1}^{N}x_{n}^{M+1}=\\sum_{n=1}^{N}x_{n}t_{n}\\\\\n",
    "\\left(i=2\\right)\\qquad w_{0}\\sum_{n=1}^{N}x_{n}^{2}+w_{1}\\sum_{n=1}^{N}x_{n}^{3}+w_{2}\\sum_{n=1}^{N}x_{n}^{4}+\\ldots+w_{M}\\sum_{n=1}^{N}x_{n}^{M+2}=\\sum_{n=1}^{N}x_{n}^{2}t_{n}\\\\\n",
    "\\vdots\\\\\n",
    "\\left(i=M\\right)\\qquad w_{0}\\sum_{n=1}^{N}x_{n}^{M}+w_{1}\\sum_{n=1}^{N}x_{n}^{M+1}+w_{2}\\sum_{n=1}^{N}x_{n}^{M+2}+\\ldots+w_{M}\\sum_{n=1}^{N}x_{n}^{2M}=\\sum_{n=1}^{N}x_{n}^{M}t_{n}\n",
    "\\end{array}\n",
    "\\label{eq:DerErrorAll}\n",
    "\\tag{10}\n",
    "$$\n",
    "\n",
    "The values $w_ {j}$ obtained by solving this system of equations above are represented in the optimal vector weight $\\vec{w}_{\\textrm{opt}}$.\n",
    "\n",
    "In matrix terms, the above is developed as:\n",
    "\n",
    "$$\n",
    "\\begin{bmatrix}\\sum_{n=1}^{N}1 & \\sum_{n=1}^{N}x_{n} & \\sum_{n=1}^{N}x_{n}^{2} & \\ldots & \\sum_{n=1}^{N}x_{n}^{M}\\\\\n",
    "\\sum_{n=1}^{N}x_{n} & \\sum_{n=1}^{N}x_{n}^{2} & \\sum_{n=1}^{N}x_{n}^{3} &  & \\sum_{n=1}^{N}x_{n}^{M+1}\\\\\n",
    "\\sum_{n=1}^{N}x_{n}^{2} & \\sum_{n=1}^{N}x_{n}^{3} & \\sum_{n=1}^{N}x_{n}^{4} &  & \\sum_{n=1}^{N}x_{n}^{M+2}\\\\\n",
    " &  & \\vdots\\\\\n",
    "\\sum_{n=1}^{N}x_{n}^{M} & \\sum_{n=1}^{N}x_{n}^{M+1} & \\sum_{n=1}^{N}x_{n}^{M+2} &  & \\sum_{n=1}^{N}x_{n}^{2M}\n",
    "\\end{bmatrix}\\:\\vec{w}=\\begin{bmatrix}\\sum_{n=1}^{N}t_{n}\\\\\n",
    "\\sum_{n=1}^{N}x_{n}t_{n}\\\\\n",
    "\\sum_{n=1}^{N}x_{n}^{2}t_{n}\\\\\n",
    "\\vdots\\\\\n",
    "\\sum_{n=1}^{N}x_{n}^{M}t_{n}\n",
    "\\end{bmatrix} \\enspace .\n",
    "$$\n",
    "\n",
    "If $A$ is the first matrix from left to right, and $B$ the matrix to the right side of equality, we have to:\n",
    "\n",
    "$$\\vec{w}_{\\textrm{opt}}=A^{-1}\\:B \\enspace .$$\n",
    "\n",
    "To evaluate the error resulting from fitting a model of dimension $M$ with weights $\\vec{w}$, the standard error or **RMS error** is used, expressed as follows:\n",
    "\n",
    "$$\n",
    "E\\left(\\vec{w}_{\\textrm{opt}}\\right)_{\\textrm{RMS}}=\\sqrt{2E\\left(\\vec{w}_{\\textrm{opt}}\\right)/N} \\enspace .\n",
    "\\label{eq:errorRMS}\n",
    "\\tag{11}\n",
    "$$"
   ]
  },
  {
   "cell_type": "markdown",
   "metadata": {},
   "source": [
    "A more complex model, that is, with a higher $M$ dimensionality, minimizes the error compared to the training data set $\\vec{t}$, as Figure below shows the adjustment of the curve with different M.\n",
    "\n",
    "![ajuste1](imgs/Mdistintos.png)"
   ]
  },
  {
   "cell_type": "markdown",
   "metadata": {},
   "source": [
    "The adjustment to the data depends on the number of parameters $M$ and the amount of data $N$, as also shown in figure below, since a high number of parameters versus a low number of samples, will produce a greater overfitting.\n",
    "\n",
    "![ajuste2](imgs/reg2.png)\n",
    "\n",
    "\n",
    "Figure above also shows that of over-adjusting to a large amount of data with biases or noise, the model will not make an adequate estimate against new data. That is why it is advisable not to over-fitting the model to data, choosing a number of appropriate parameters $M$. To eliminate the relationship between the amount of data and the number of parameters, regularized models are used."
   ]
  },
  {
   "cell_type": "markdown",
   "metadata": {
    "collapsed": true
   },
   "source": [
    "# Regularized least squares"
   ]
  },
  {
   "cell_type": "markdown",
   "metadata": {},
   "source": [
    "The regularized error expression adds a term $\\frac{\\lambda}{2}\\left\\Vert \\vec{w}\\right\\Vert ^{2}$ to control the magnitude of the vector of weights $\\vec{w}$ and its dimensionality , in a simpler way:\n",
    "$$\n",
    "E(\\vec{w})=\\frac{1}{2}\\sum_{n=1}^{N}\\left\\{ y\\left(x_{n},\\vec{w}\\right)-t_{n}\\right\\} ^{2}+\\frac{\\lambda}{2}\\left\\Vert \\vec{w}\\right\\Vert ^{2} \\enspace ,\n",
    "\\label{eq:minCuadReg-1}\n",
    "\\tag{12}\n",
    "$$\n",
    "$$\n",
    "E(\\vec{w})=\\frac{1}{2}\\sum_{n=1}^{N}\\left\\{ \\sum_{j=0}^{M}w_{j}x_{n}^{j}-t_{n}\\right\\} ^{2}+\\frac{\\lambda}{2}\\left\\Vert \\vec{w}\\right\\Vert ^{2} \\enspace .\n",
    "\\label{eq:Error-1}\n",
    "\\tag{13}\n",
    "$$\n",
    "\n",
    "In matrix terms, it is defined: \n",
    "\n",
    "$$\n",
    "X=\\begin{bmatrix}1 & x_{1} & x_{1}^{2} & x_{1}^{3} & \\ldots & x_{1}^{M}\\\\\n",
    "1 & x_{2} & x_{2}^{2} & x_{2}^{3} & \\ldots & x_{2}^{M}\\\\\n",
    "1 & x_{3} & x_{3}^{2} & x_{3}^{3} & \\cdots & x_{3}^{M}\\\\\n",
    "\\vdots & \\vdots & \\vdots & \\vdots & \\ddots & \\vdots\\\\\n",
    "1 & x_{N} & x_{N}^{2} & x_{N}^{3} & \\ldots & x_{N}^{M}\n",
    "\\end{bmatrix} ,\n",
    "$$\n",
    "\n",
    "for the case of the polynomial model, so X has a dimensionality of $\\mathbb{R}^{N\\times M}$, $\\vec{t}$ has $\\mathbb{R}^{N\\times1}$ dimensions and $\\vec{w}\\in\\mathbb{R}^{M\\times1}$. Recalling also the squared norm of a vector as $\\left\\Vert \\vec{w}\\right\\Vert ^{2}=\\vec{w}^{T}\\,\\vec{w}$. The output of the model defined in the equation \\ref{eq:modeloPoli} can be rewritten as:\n",
    "\n",
    "$$\n",
    "y(X,\\vec{w})=X\\,\\vec{w}=\\begin{bmatrix}1 & x_{1} & x_{1}^{2} & x_{1}^{3} & \\ldots & x_{1}^{M}\\\\\n",
    "1 & x_{2} & x_{2}^{2} & x_{2}^{3} & \\ldots & x_{2}^{M}\\\\\n",
    "1 & x_{3} & x_{3}^{2} & x_{3}^{3} & \\cdots & x_{3}^{M}\\\\\n",
    "\\vdots & \\vdots & \\vdots & \\vdots & \\ddots & \\vdots\\\\\n",
    "1 & x_{N} & x_{N}^{2} & x_{N}^{3} & \\ldots & x_{N}^{M}\n",
    "\\end{bmatrix}\\,\\begin{bmatrix}w_{0}\\\\\n",
    "w_{1}\\\\\n",
    "\\vdots\\\\\n",
    "w_{M}\n",
    "\\end{bmatrix}=\\begin{bmatrix}\\sum_{m=0}^{M}w_{m}\\:x_{1}^{m}\\\\\n",
    "\\sum_{m=0}^{M}w_{m}\\:x_{2}^{m}\\\\\n",
    "\\sum_{m=0}^{M}w_{m}\\:x_{3}^{m}\\\\\n",
    "\\vdots\\\\\n",
    "\\sum_{m=0}^{M}w_{m}\\:x_{N}^{m}\n",
    "\\end{bmatrix} ,\n",
    "$$\n",
    "\n",
    "and the equation \\ref{eq:minCuadReg-1} is rewritten in matrix terms as:\n",
    "\n",
    "$$\n",
    "E\\left(\\vec{w}\\right)=\\frac{1}{2}\\left\\Vert X\\,\\vec{w}-\\vec{t}\\right\\Vert ^{2}+\\frac{\\lambda}{2}\\left\\Vert \\vec{w}\\right\\Vert ^{2}=\\frac{1}{2}\\left(X\\,\\vec{w}-\\vec{t}\\right)^{T}\\left(X\\,\\vec{w}-\\vec{t}\\right)+\\frac{\\lambda}{2}\\vec{w}^{T}\\,\\vec{w},\n",
    "\\label{eq:ErrorMat-1}\n",
    "\\tag{14}\n",
    "$$\n",
    "$$\n",
    "\\Rightarrow E\\left(\\vec{w}\\right)=\\frac{1}{2}\\left(\\vec{w}^{T}X^{T}-\\vec{t}^{T}\\right)\\left(X\\,\\vec{w}-\\vec{t}\\right)+\\frac{\\lambda}{2}\\vec{w}^{T}\\,\\vec{w},\n",
    "\\label{eq:ErrorMat-1-1}\n",
    "\\tag{15}\n",
    "$$\n",
    "$$\n",
    "\\Rightarrow E\\left(\\vec{w}\\right)=\\frac{1}{2}\\vec{w}^{T}X^{T}X\\,\\vec{w}-\\frac{1}{2}\\vec{w}^{T}X^{T}\\vec{t}-\\frac{1}{2}\\vec{t}^{T}X\\,\\vec{w}+\\frac{1}{2}\\vec{t}^{T}\\,\\vec{t}+\\frac{\\lambda}{2}\\vec{w}^{T}\\,\\vec{w},\n",
    "\\label{eq:ErrorMat-1-1-1}\n",
    "\\tag{16}\n",
    "$$"
   ]
  },
  {
   "cell_type": "markdown",
   "metadata": {},
   "source": [
    "Calculating the gradient of $\\vec{w}$ and equaling to zero, to find the minimum error, for which we remember the basic rules of matrix calculation:\n",
    "\n",
    "* $\\nabla\\left(\\vec{x}^{T}\\vec{x}\\right)=2\\,\\vec{x}$\n",
    "\n",
    "* $\\nabla\\left(\\left(A\\,\\vec{x}\\right)^{T}\\left(A\\,\\vec{x}\\right)\\right)=2\\,A\\,\\vec{x}$\n",
    "\n",
    "* $\\nabla_{\\vec{x}}\\left(\\vec{b}^{T}\\vec{x}\\right)=\\vec{b}$\n",
    "\n",
    "* $\\nabla_{\\vec{x}}\\left(\\vec{x}^{T}\\vec{b}^{T}\\right)=\\nabla_{\\vec{x}}\\left(\\vec{b}\\,\\vec{x}\\right)^{T}=\\vec{b}^{T}$\n",
    "\n",
    "* $\\nabla_{\\vec{x}}\\left(\\vec{x}^{T}\\,A\\,\\vec{x}\\right)=2\\,A\\,\\vec{x}$"
   ]
  },
  {
   "cell_type": "markdown",
   "metadata": {},
   "source": [
    "Thus, equation \\ref{eq:ErrorMat-1}:\n",
    "\n",
    "$\\require{cancel}$\n",
    "\n",
    "$$\n",
    "\\nabla_{\\vec{w}}\\left(E\\left(\\vec{w}\\right)\\right)=0\\Rightarrow\\nabla_{\\vec{w}}\\left(\\frac{1}{2}\\vec{w}^{T}X^{T}X\\,\\vec{w}-\\frac{1}{2}\\vec{w}^{T}X^{T}\\vec{t}-\\frac{1}{2}\\vec{t}^{T}X\\,\\vec{w}+\\frac{1}{2}\\cancelto{0}{\\vec{t}^{T}\\,\\vec{t}}+\\frac{\\lambda}{2}\\vec{w}^{T}\\,\\vec{w},\\right)=0,\n",
    "$$\n",
    "\n",
    "and evaluating gradient:\n",
    "$$\n",
    "X^{T}X\\,\\vec{w}-\\frac{1}{2}X^{T}\\vec{t}-\\frac{1}{2}X^{T}\\vec{t}+\\lambda\\vec{w}=0,\n",
    "$$\n",
    "$$\n",
    "\\nabla_{\\vec{w}}\\left(E\\left(\\vec{w}\\right)\\right)=X^{T}X\\,\\vec{w}-X^{T}\\vec{t}+\\lambda\\vec{w}=0,\n",
    "$$\n",
    "\n",
    "which is equivalent to:\n",
    "\n",
    "$$\n",
    "\\left(X^{T}X+\\lambda I\\right)\\vec{w}=X^{T}\\vec{t},\n",
    "$$\n",
    "\n",
    "to finally get the expression of $\\vec{w}$:\n",
    "\n",
    "$$\n",
    "\\vec{w}=\\left(X^{T}X+\\lambda I\\right)^{-1}X^{T}\\vec{t}.\n",
    "$$"
   ]
  },
  {
   "cell_type": "markdown",
   "metadata": {},
   "source": [
    "![Regularized Model](imgs/reg3.png)"
   ]
  },
  {
   "cell_type": "markdown",
   "metadata": {},
   "source": [
    "# Example"
   ]
  },
  {
   "cell_type": "code",
   "execution_count": 5,
   "metadata": {},
   "outputs": [],
   "source": [
    "%matplotlib inline\n",
    "from mpl_toolkits.mplot3d import Axes3D\n",
    "import matplotlib.pyplot as plt\n",
    "from matplotlib import cm\n",
    "from matplotlib.ticker import LinearLocator, FormatStrFormatter\n",
    "import numpy as np\n",
    "from numpy.linalg import inv"
   ]
  },
  {
   "cell_type": "code",
   "execution_count": 20,
   "metadata": {},
   "outputs": [],
   "source": [
    "def runCurveFittingExample():\n",
    "    #print all!\n",
    "    np.set_printoptions(threshold=np.inf)\n",
    "    #Upper bound\n",
    "    Max = 1;\n",
    "    #??\n",
    "    N = 15;\n",
    "    stdNoise = 0.001;\n",
    "    M = 100;\n",
    "    lambdaF = 0;\n",
    "    #independent variable array\n",
    "    x = np.arange(0, Max, 1/(N/Max));\n",
    "                 \n",
    "    x = np.concatenate((x, np.array([Max])));\n",
    "                 \n",
    "    #observed values and real values    \n",
    "    (t, yReal) = getObservationArray(x, stdNoise);\n",
    "    #scatter of the noisy signal\n",
    "    plt.scatter(x, t);\n",
    "    plt.show()\n",
    "    #error from observed and ideal signal\n",
    "    (e, eRMS) = getError(yReal, t);\n",
    "    print(\"Error from the observed and the ideal signal\")\n",
    "    print(eRMS);\n",
    "         \n",
    "    #calculate the weights for the polynomial model     \n",
    "    w = getOptimumWReg(x, t, M, lambdaF);\n",
    "    yApprox = np.zeros(np.shape(x));\n",
    "    \n",
    "    #evaluate the model\n",
    "    for i in range(0, np.size(x)):\n",
    "        yApprox[i] = getY(x[i] , w);\n",
    "        \n",
    "    #plot the model response for the given x values\n",
    "    plt.plot(x, yApprox);\n",
    "    plt.show();\n",
    "    \n",
    "\"\"\"\n",
    "Main function\n",
    "\"\"\"\n",
    "\n",
    "\"\"\"\n",
    "According to the weights w, evaluates the polynomial model\n",
    "@param xScalar, x value to evaluate... i.e. y(xScalar)\n",
    "@param w, array of weights for the polynomial model\n",
    "@return y\n",
    "\"\"\" \n",
    "def getY(xScalar, w):\n",
    "    y = 0;\n",
    "    for i in range(0, np.size(w)):\n",
    "        y = y + w[i] * xScalar ** i;\n",
    "    return y;\n",
    "\n",
    "\"\"\"\n",
    "Creates the observation array t, from a sinusoidal wave\n",
    "@param x, the x values \n",
    "@param stdNoise, standard deviation of noise, hihger, lower signal to noise ratio\n",
    "@return (t, yReal), the observed values and the original signal without noise\n",
    "\"\"\"                 \n",
    "def getObservationArray(x, stdNoise):\n",
    "    snr = 8;\n",
    "    yReal = np.sin(2* np.pi * x);\n",
    "    #create noise\n",
    "    noise = np.random.normal(0, stdNoise, yReal.shape);\n",
    "    #additive gaussian noise                        \n",
    "    t = yReal + noise;\n",
    "    return (t, yReal);\n",
    "\"\"\"\n",
    "Returns the error from arrays y and t\n",
    "@param y, array with the real values (without noise)\n",
    "@param t, array with observed values, with noise\n",
    "@return (e, eRMS)\n",
    "\"\"\"\n",
    "def getError(y, t):\n",
    "    e = 0.5 * np.sum(np.square(y - t));\n",
    "    eRMS = np.sqrt((2*e)/y.size);\n",
    "    return (e, eRMS)\n",
    "\n",
    "\"\"\"\n",
    "Calculate the w weights \n",
    "@param x, array of x values\n",
    "@param t, array of target or observed values\n",
    "@param M, number of polynomial bases used\n",
    "@param lambdaF, regularization parameter\n",
    "\"\"\"\n",
    "def getOptimumWReg(x, t, M, lambdaF):\n",
    "    M += 1;\n",
    "    #init matrix with replicated x per column\n",
    "    X = np.zeros((x.size, M));\n",
    "    for i in range(0, X.shape[0]):\n",
    "        for j in range(0, X.shape[1]):\n",
    "            #definition of matrix X\n",
    "            X[i, j] = x[i] ** j;\n",
    "    # X * X^t        \n",
    "    term1 = np.matmul(np.transpose(X), X);\n",
    "    # lambda * I;                  \n",
    "    lambdaI = lambdaF  * np.identity(np.shape(term1)[0]);\n",
    "    #(X * X^t + lambda *I)\n",
    "    fac1 = term1 ;\n",
    "    #X^t * t\n",
    "    fac2 = np.matmul(np.transpose(X), t);\n",
    "    fac1Inv =  inv(fac1);               \n",
    "                    \n",
    "    w = np.matmul(fac1Inv, fac2);\n",
    "    return w;    "
   ]
  },
  {
   "cell_type": "code",
   "execution_count": 21,
   "metadata": {},
   "outputs": [
    {
     "data": {
      "image/png": "[encoded data removed]",
      "text/plain": [
       "<matplotlib.figure.Figure at 0x7fd4df03de48>"
      ]
     },
     "metadata": {},
     "output_type": "display_data"
    },
    {
     "name": "stdout",
     "output_type": "stream",
     "text": [
      "Error from the observed and the ideal signal\n",
      "0.0012880183232691531\n"
     ]
    },
    {
     "data": {
      "image/png": "[encoded data removed]",
      "text/plain": [
       "<matplotlib.figure.Figure at 0x7fd4ded7c128>"
      ]
     },
     "metadata": {},
     "output_type": "display_data"
    }
   ],
   "source": [
    "                 \n",
    "runCurveFittingExample();     "
   ]
  },
  {
   "cell_type": "markdown",
   "metadata": {},
   "source": [
    "Authors: *Saul Calderon, Žiga Emeršič, Angel García, Blaž Meden, Felipe Meza, Martín Solís, Juan Esquivel, Mauro Mendez, Manuel Zumbado*"
   ]
  }
 ],
 "metadata": {
  "kernelspec": {
   "display_name": "Python 3",
   "language": "python",
   "name": "python3"
  }
 },
 "nbformat": 4,
 "nbformat_minor": 2
}
